{
 "cells": [
  {
   "cell_type": "code",
   "execution_count": 1,
   "metadata": {},
   "outputs": [],
   "source": [
    "# Importing the libraries\n",
    "import pandas as pd\n",
    "import numpy as np\n",
    "\n",
    "import matplotlib.pyplot as plt\n",
    "%matplotlib inline\n",
    "import seaborn as sns\n",
    "\n",
    "import warnings\n",
    "warnings.filterwarnings('ignore')"
   ]
  },
  {
   "cell_type": "markdown",
   "metadata": {},
   "source": [
    "# Reading and understanding the data"
   ]
  },
  {
   "cell_type": "code",
   "execution_count": 2,
   "metadata": {},
   "outputs": [
    {
     "data": {
      "text/html": [
       "<div>\n",
       "<style scoped>\n",
       "    .dataframe tbody tr th:only-of-type {\n",
       "        vertical-align: middle;\n",
       "    }\n",
       "\n",
       "    .dataframe tbody tr th {\n",
       "        vertical-align: top;\n",
       "    }\n",
       "\n",
       "    .dataframe thead th {\n",
       "        text-align: right;\n",
       "    }\n",
       "</style>\n",
       "<table border=\"1\" class=\"dataframe\">\n",
       "  <thead>\n",
       "    <tr style=\"text-align: right;\">\n",
       "      <th></th>\n",
       "      <th>mobile_number</th>\n",
       "      <th>circle_id</th>\n",
       "      <th>loc_og_t2o_mou</th>\n",
       "      <th>std_og_t2o_mou</th>\n",
       "      <th>loc_ic_t2o_mou</th>\n",
       "      <th>last_date_of_month_6</th>\n",
       "      <th>last_date_of_month_7</th>\n",
       "      <th>last_date_of_month_8</th>\n",
       "      <th>last_date_of_month_9</th>\n",
       "      <th>arpu_6</th>\n",
       "      <th>...</th>\n",
       "      <th>sachet_3g_9</th>\n",
       "      <th>fb_user_6</th>\n",
       "      <th>fb_user_7</th>\n",
       "      <th>fb_user_8</th>\n",
       "      <th>fb_user_9</th>\n",
       "      <th>aon</th>\n",
       "      <th>aug_vbc_3g</th>\n",
       "      <th>jul_vbc_3g</th>\n",
       "      <th>jun_vbc_3g</th>\n",
       "      <th>sep_vbc_3g</th>\n",
       "    </tr>\n",
       "  </thead>\n",
       "  <tbody>\n",
       "    <tr>\n",
       "      <th>0</th>\n",
       "      <td>7000842753</td>\n",
       "      <td>109</td>\n",
       "      <td>0.0</td>\n",
       "      <td>0.0</td>\n",
       "      <td>0.0</td>\n",
       "      <td>6/30/2014</td>\n",
       "      <td>7/31/2014</td>\n",
       "      <td>8/31/2014</td>\n",
       "      <td>9/30/2014</td>\n",
       "      <td>197.385</td>\n",
       "      <td>...</td>\n",
       "      <td>0</td>\n",
       "      <td>1.0</td>\n",
       "      <td>1.0</td>\n",
       "      <td>1.0</td>\n",
       "      <td>NaN</td>\n",
       "      <td>968</td>\n",
       "      <td>30.4</td>\n",
       "      <td>0.0</td>\n",
       "      <td>101.20</td>\n",
       "      <td>3.58</td>\n",
       "    </tr>\n",
       "    <tr>\n",
       "      <th>1</th>\n",
       "      <td>7001865778</td>\n",
       "      <td>109</td>\n",
       "      <td>0.0</td>\n",
       "      <td>0.0</td>\n",
       "      <td>0.0</td>\n",
       "      <td>6/30/2014</td>\n",
       "      <td>7/31/2014</td>\n",
       "      <td>8/31/2014</td>\n",
       "      <td>9/30/2014</td>\n",
       "      <td>34.047</td>\n",
       "      <td>...</td>\n",
       "      <td>0</td>\n",
       "      <td>NaN</td>\n",
       "      <td>1.0</td>\n",
       "      <td>1.0</td>\n",
       "      <td>NaN</td>\n",
       "      <td>1006</td>\n",
       "      <td>0.0</td>\n",
       "      <td>0.0</td>\n",
       "      <td>0.00</td>\n",
       "      <td>0.00</td>\n",
       "    </tr>\n",
       "    <tr>\n",
       "      <th>2</th>\n",
       "      <td>7001625959</td>\n",
       "      <td>109</td>\n",
       "      <td>0.0</td>\n",
       "      <td>0.0</td>\n",
       "      <td>0.0</td>\n",
       "      <td>6/30/2014</td>\n",
       "      <td>7/31/2014</td>\n",
       "      <td>8/31/2014</td>\n",
       "      <td>9/30/2014</td>\n",
       "      <td>167.690</td>\n",
       "      <td>...</td>\n",
       "      <td>0</td>\n",
       "      <td>NaN</td>\n",
       "      <td>NaN</td>\n",
       "      <td>NaN</td>\n",
       "      <td>1.0</td>\n",
       "      <td>1103</td>\n",
       "      <td>0.0</td>\n",
       "      <td>0.0</td>\n",
       "      <td>4.17</td>\n",
       "      <td>0.00</td>\n",
       "    </tr>\n",
       "    <tr>\n",
       "      <th>3</th>\n",
       "      <td>7001204172</td>\n",
       "      <td>109</td>\n",
       "      <td>0.0</td>\n",
       "      <td>0.0</td>\n",
       "      <td>0.0</td>\n",
       "      <td>6/30/2014</td>\n",
       "      <td>7/31/2014</td>\n",
       "      <td>8/31/2014</td>\n",
       "      <td>9/30/2014</td>\n",
       "      <td>221.338</td>\n",
       "      <td>...</td>\n",
       "      <td>0</td>\n",
       "      <td>NaN</td>\n",
       "      <td>NaN</td>\n",
       "      <td>NaN</td>\n",
       "      <td>NaN</td>\n",
       "      <td>2491</td>\n",
       "      <td>0.0</td>\n",
       "      <td>0.0</td>\n",
       "      <td>0.00</td>\n",
       "      <td>0.00</td>\n",
       "    </tr>\n",
       "    <tr>\n",
       "      <th>4</th>\n",
       "      <td>7000142493</td>\n",
       "      <td>109</td>\n",
       "      <td>0.0</td>\n",
       "      <td>0.0</td>\n",
       "      <td>0.0</td>\n",
       "      <td>6/30/2014</td>\n",
       "      <td>7/31/2014</td>\n",
       "      <td>8/31/2014</td>\n",
       "      <td>9/30/2014</td>\n",
       "      <td>261.636</td>\n",
       "      <td>...</td>\n",
       "      <td>0</td>\n",
       "      <td>0.0</td>\n",
       "      <td>NaN</td>\n",
       "      <td>NaN</td>\n",
       "      <td>NaN</td>\n",
       "      <td>1526</td>\n",
       "      <td>0.0</td>\n",
       "      <td>0.0</td>\n",
       "      <td>0.00</td>\n",
       "      <td>0.00</td>\n",
       "    </tr>\n",
       "  </tbody>\n",
       "</table>\n",
       "<p>5 rows × 226 columns</p>\n",
       "</div>"
      ],
      "text/plain": [
       "   mobile_number  circle_id  loc_og_t2o_mou  std_og_t2o_mou  loc_ic_t2o_mou  \\\n",
       "0     7000842753        109             0.0             0.0             0.0   \n",
       "1     7001865778        109             0.0             0.0             0.0   \n",
       "2     7001625959        109             0.0             0.0             0.0   \n",
       "3     7001204172        109             0.0             0.0             0.0   \n",
       "4     7000142493        109             0.0             0.0             0.0   \n",
       "\n",
       "  last_date_of_month_6 last_date_of_month_7 last_date_of_month_8  \\\n",
       "0            6/30/2014            7/31/2014            8/31/2014   \n",
       "1            6/30/2014            7/31/2014            8/31/2014   \n",
       "2            6/30/2014            7/31/2014            8/31/2014   \n",
       "3            6/30/2014            7/31/2014            8/31/2014   \n",
       "4            6/30/2014            7/31/2014            8/31/2014   \n",
       "\n",
       "  last_date_of_month_9   arpu_6  ...  sachet_3g_9  fb_user_6  fb_user_7  \\\n",
       "0            9/30/2014  197.385  ...            0        1.0        1.0   \n",
       "1            9/30/2014   34.047  ...            0        NaN        1.0   \n",
       "2            9/30/2014  167.690  ...            0        NaN        NaN   \n",
       "3            9/30/2014  221.338  ...            0        NaN        NaN   \n",
       "4            9/30/2014  261.636  ...            0        0.0        NaN   \n",
       "\n",
       "   fb_user_8  fb_user_9   aon  aug_vbc_3g  jul_vbc_3g  jun_vbc_3g  sep_vbc_3g  \n",
       "0        1.0        NaN   968        30.4         0.0      101.20        3.58  \n",
       "1        1.0        NaN  1006         0.0         0.0        0.00        0.00  \n",
       "2        NaN        1.0  1103         0.0         0.0        4.17        0.00  \n",
       "3        NaN        NaN  2491         0.0         0.0        0.00        0.00  \n",
       "4        NaN        NaN  1526         0.0         0.0        0.00        0.00  \n",
       "\n",
       "[5 rows x 226 columns]"
      ]
     },
     "execution_count": 2,
     "metadata": {},
     "output_type": "execute_result"
    }
   ],
   "source": [
    "# Reading the dataset\n",
    "df = pd.read_csv(\"telecom_churn_data.csv\")\n",
    "df.head()"
   ]
  },
  {
   "cell_type": "code",
   "execution_count": 3,
   "metadata": {},
   "outputs": [
    {
     "data": {
      "text/plain": [
       "(99999, 226)"
      ]
     },
     "execution_count": 3,
     "metadata": {},
     "output_type": "execute_result"
    }
   ],
   "source": [
    "df.shape"
   ]
  },
  {
   "cell_type": "code",
   "execution_count": 4,
   "metadata": {},
   "outputs": [
    {
     "name": "stdout",
     "output_type": "stream",
     "text": [
      "<class 'pandas.core.frame.DataFrame'>\n",
      "RangeIndex: 99999 entries, 0 to 99998\n",
      "Columns: 226 entries, mobile_number to sep_vbc_3g\n",
      "dtypes: float64(179), int64(35), object(12)\n",
      "memory usage: 172.4+ MB\n"
     ]
    }
   ],
   "source": [
    "df.info()"
   ]
  },
  {
   "cell_type": "code",
   "execution_count": 5,
   "metadata": {},
   "outputs": [
    {
     "data": {
      "text/html": [
       "<div>\n",
       "<style scoped>\n",
       "    .dataframe tbody tr th:only-of-type {\n",
       "        vertical-align: middle;\n",
       "    }\n",
       "\n",
       "    .dataframe tbody tr th {\n",
       "        vertical-align: top;\n",
       "    }\n",
       "\n",
       "    .dataframe thead th {\n",
       "        text-align: right;\n",
       "    }\n",
       "</style>\n",
       "<table border=\"1\" class=\"dataframe\">\n",
       "  <thead>\n",
       "    <tr style=\"text-align: right;\">\n",
       "      <th></th>\n",
       "      <th>mobile_number</th>\n",
       "      <th>circle_id</th>\n",
       "      <th>loc_og_t2o_mou</th>\n",
       "      <th>std_og_t2o_mou</th>\n",
       "      <th>loc_ic_t2o_mou</th>\n",
       "      <th>arpu_6</th>\n",
       "      <th>arpu_7</th>\n",
       "      <th>arpu_8</th>\n",
       "      <th>arpu_9</th>\n",
       "      <th>onnet_mou_6</th>\n",
       "      <th>...</th>\n",
       "      <th>sachet_3g_9</th>\n",
       "      <th>fb_user_6</th>\n",
       "      <th>fb_user_7</th>\n",
       "      <th>fb_user_8</th>\n",
       "      <th>fb_user_9</th>\n",
       "      <th>aon</th>\n",
       "      <th>aug_vbc_3g</th>\n",
       "      <th>jul_vbc_3g</th>\n",
       "      <th>jun_vbc_3g</th>\n",
       "      <th>sep_vbc_3g</th>\n",
       "    </tr>\n",
       "  </thead>\n",
       "  <tbody>\n",
       "    <tr>\n",
       "      <th>count</th>\n",
       "      <td>9.999900e+04</td>\n",
       "      <td>99999.0</td>\n",
       "      <td>98981.0</td>\n",
       "      <td>98981.0</td>\n",
       "      <td>98981.0</td>\n",
       "      <td>99999.000000</td>\n",
       "      <td>99999.000000</td>\n",
       "      <td>99999.000000</td>\n",
       "      <td>99999.000000</td>\n",
       "      <td>96062.000000</td>\n",
       "      <td>...</td>\n",
       "      <td>99999.000000</td>\n",
       "      <td>25153.000000</td>\n",
       "      <td>25571.000000</td>\n",
       "      <td>26339.000000</td>\n",
       "      <td>25922.000000</td>\n",
       "      <td>99999.000000</td>\n",
       "      <td>99999.000000</td>\n",
       "      <td>99999.000000</td>\n",
       "      <td>99999.000000</td>\n",
       "      <td>99999.000000</td>\n",
       "    </tr>\n",
       "    <tr>\n",
       "      <th>mean</th>\n",
       "      <td>7.001207e+09</td>\n",
       "      <td>109.0</td>\n",
       "      <td>0.0</td>\n",
       "      <td>0.0</td>\n",
       "      <td>0.0</td>\n",
       "      <td>282.987358</td>\n",
       "      <td>278.536648</td>\n",
       "      <td>279.154731</td>\n",
       "      <td>261.645069</td>\n",
       "      <td>132.395875</td>\n",
       "      <td>...</td>\n",
       "      <td>0.084581</td>\n",
       "      <td>0.914404</td>\n",
       "      <td>0.908764</td>\n",
       "      <td>0.890808</td>\n",
       "      <td>0.860968</td>\n",
       "      <td>1219.854749</td>\n",
       "      <td>68.170248</td>\n",
       "      <td>66.839062</td>\n",
       "      <td>60.021204</td>\n",
       "      <td>3.299373</td>\n",
       "    </tr>\n",
       "    <tr>\n",
       "      <th>std</th>\n",
       "      <td>6.956694e+05</td>\n",
       "      <td>0.0</td>\n",
       "      <td>0.0</td>\n",
       "      <td>0.0</td>\n",
       "      <td>0.0</td>\n",
       "      <td>328.439770</td>\n",
       "      <td>338.156291</td>\n",
       "      <td>344.474791</td>\n",
       "      <td>341.998630</td>\n",
       "      <td>297.207406</td>\n",
       "      <td>...</td>\n",
       "      <td>0.650457</td>\n",
       "      <td>0.279772</td>\n",
       "      <td>0.287950</td>\n",
       "      <td>0.311885</td>\n",
       "      <td>0.345987</td>\n",
       "      <td>954.733842</td>\n",
       "      <td>267.580450</td>\n",
       "      <td>271.201856</td>\n",
       "      <td>253.938223</td>\n",
       "      <td>32.408353</td>\n",
       "    </tr>\n",
       "    <tr>\n",
       "      <th>min</th>\n",
       "      <td>7.000000e+09</td>\n",
       "      <td>109.0</td>\n",
       "      <td>0.0</td>\n",
       "      <td>0.0</td>\n",
       "      <td>0.0</td>\n",
       "      <td>-2258.709000</td>\n",
       "      <td>-2014.045000</td>\n",
       "      <td>-945.808000</td>\n",
       "      <td>-1899.505000</td>\n",
       "      <td>0.000000</td>\n",
       "      <td>...</td>\n",
       "      <td>0.000000</td>\n",
       "      <td>0.000000</td>\n",
       "      <td>0.000000</td>\n",
       "      <td>0.000000</td>\n",
       "      <td>0.000000</td>\n",
       "      <td>180.000000</td>\n",
       "      <td>0.000000</td>\n",
       "      <td>0.000000</td>\n",
       "      <td>0.000000</td>\n",
       "      <td>0.000000</td>\n",
       "    </tr>\n",
       "    <tr>\n",
       "      <th>25%</th>\n",
       "      <td>7.000606e+09</td>\n",
       "      <td>109.0</td>\n",
       "      <td>0.0</td>\n",
       "      <td>0.0</td>\n",
       "      <td>0.0</td>\n",
       "      <td>93.411500</td>\n",
       "      <td>86.980500</td>\n",
       "      <td>84.126000</td>\n",
       "      <td>62.685000</td>\n",
       "      <td>7.380000</td>\n",
       "      <td>...</td>\n",
       "      <td>0.000000</td>\n",
       "      <td>1.000000</td>\n",
       "      <td>1.000000</td>\n",
       "      <td>1.000000</td>\n",
       "      <td>1.000000</td>\n",
       "      <td>467.000000</td>\n",
       "      <td>0.000000</td>\n",
       "      <td>0.000000</td>\n",
       "      <td>0.000000</td>\n",
       "      <td>0.000000</td>\n",
       "    </tr>\n",
       "    <tr>\n",
       "      <th>50%</th>\n",
       "      <td>7.001205e+09</td>\n",
       "      <td>109.0</td>\n",
       "      <td>0.0</td>\n",
       "      <td>0.0</td>\n",
       "      <td>0.0</td>\n",
       "      <td>197.704000</td>\n",
       "      <td>191.640000</td>\n",
       "      <td>192.080000</td>\n",
       "      <td>176.849000</td>\n",
       "      <td>34.310000</td>\n",
       "      <td>...</td>\n",
       "      <td>0.000000</td>\n",
       "      <td>1.000000</td>\n",
       "      <td>1.000000</td>\n",
       "      <td>1.000000</td>\n",
       "      <td>1.000000</td>\n",
       "      <td>863.000000</td>\n",
       "      <td>0.000000</td>\n",
       "      <td>0.000000</td>\n",
       "      <td>0.000000</td>\n",
       "      <td>0.000000</td>\n",
       "    </tr>\n",
       "    <tr>\n",
       "      <th>75%</th>\n",
       "      <td>7.001812e+09</td>\n",
       "      <td>109.0</td>\n",
       "      <td>0.0</td>\n",
       "      <td>0.0</td>\n",
       "      <td>0.0</td>\n",
       "      <td>371.060000</td>\n",
       "      <td>365.344500</td>\n",
       "      <td>369.370500</td>\n",
       "      <td>353.466500</td>\n",
       "      <td>118.740000</td>\n",
       "      <td>...</td>\n",
       "      <td>0.000000</td>\n",
       "      <td>1.000000</td>\n",
       "      <td>1.000000</td>\n",
       "      <td>1.000000</td>\n",
       "      <td>1.000000</td>\n",
       "      <td>1807.500000</td>\n",
       "      <td>0.000000</td>\n",
       "      <td>0.000000</td>\n",
       "      <td>0.000000</td>\n",
       "      <td>0.000000</td>\n",
       "    </tr>\n",
       "    <tr>\n",
       "      <th>max</th>\n",
       "      <td>7.002411e+09</td>\n",
       "      <td>109.0</td>\n",
       "      <td>0.0</td>\n",
       "      <td>0.0</td>\n",
       "      <td>0.0</td>\n",
       "      <td>27731.088000</td>\n",
       "      <td>35145.834000</td>\n",
       "      <td>33543.624000</td>\n",
       "      <td>38805.617000</td>\n",
       "      <td>7376.710000</td>\n",
       "      <td>...</td>\n",
       "      <td>49.000000</td>\n",
       "      <td>1.000000</td>\n",
       "      <td>1.000000</td>\n",
       "      <td>1.000000</td>\n",
       "      <td>1.000000</td>\n",
       "      <td>4337.000000</td>\n",
       "      <td>12916.220000</td>\n",
       "      <td>9165.600000</td>\n",
       "      <td>11166.210000</td>\n",
       "      <td>2618.570000</td>\n",
       "    </tr>\n",
       "  </tbody>\n",
       "</table>\n",
       "<p>8 rows × 214 columns</p>\n",
       "</div>"
      ],
      "text/plain": [
       "       mobile_number  circle_id  loc_og_t2o_mou  std_og_t2o_mou  \\\n",
       "count   9.999900e+04    99999.0         98981.0         98981.0   \n",
       "mean    7.001207e+09      109.0             0.0             0.0   \n",
       "std     6.956694e+05        0.0             0.0             0.0   \n",
       "min     7.000000e+09      109.0             0.0             0.0   \n",
       "25%     7.000606e+09      109.0             0.0             0.0   \n",
       "50%     7.001205e+09      109.0             0.0             0.0   \n",
       "75%     7.001812e+09      109.0             0.0             0.0   \n",
       "max     7.002411e+09      109.0             0.0             0.0   \n",
       "\n",
       "       loc_ic_t2o_mou        arpu_6        arpu_7        arpu_8        arpu_9  \\\n",
       "count         98981.0  99999.000000  99999.000000  99999.000000  99999.000000   \n",
       "mean              0.0    282.987358    278.536648    279.154731    261.645069   \n",
       "std               0.0    328.439770    338.156291    344.474791    341.998630   \n",
       "min               0.0  -2258.709000  -2014.045000   -945.808000  -1899.505000   \n",
       "25%               0.0     93.411500     86.980500     84.126000     62.685000   \n",
       "50%               0.0    197.704000    191.640000    192.080000    176.849000   \n",
       "75%               0.0    371.060000    365.344500    369.370500    353.466500   \n",
       "max               0.0  27731.088000  35145.834000  33543.624000  38805.617000   \n",
       "\n",
       "        onnet_mou_6  ...   sachet_3g_9     fb_user_6     fb_user_7  \\\n",
       "count  96062.000000  ...  99999.000000  25153.000000  25571.000000   \n",
       "mean     132.395875  ...      0.084581      0.914404      0.908764   \n",
       "std      297.207406  ...      0.650457      0.279772      0.287950   \n",
       "min        0.000000  ...      0.000000      0.000000      0.000000   \n",
       "25%        7.380000  ...      0.000000      1.000000      1.000000   \n",
       "50%       34.310000  ...      0.000000      1.000000      1.000000   \n",
       "75%      118.740000  ...      0.000000      1.000000      1.000000   \n",
       "max     7376.710000  ...     49.000000      1.000000      1.000000   \n",
       "\n",
       "          fb_user_8     fb_user_9           aon    aug_vbc_3g    jul_vbc_3g  \\\n",
       "count  26339.000000  25922.000000  99999.000000  99999.000000  99999.000000   \n",
       "mean       0.890808      0.860968   1219.854749     68.170248     66.839062   \n",
       "std        0.311885      0.345987    954.733842    267.580450    271.201856   \n",
       "min        0.000000      0.000000    180.000000      0.000000      0.000000   \n",
       "25%        1.000000      1.000000    467.000000      0.000000      0.000000   \n",
       "50%        1.000000      1.000000    863.000000      0.000000      0.000000   \n",
       "75%        1.000000      1.000000   1807.500000      0.000000      0.000000   \n",
       "max        1.000000      1.000000   4337.000000  12916.220000   9165.600000   \n",
       "\n",
       "         jun_vbc_3g    sep_vbc_3g  \n",
       "count  99999.000000  99999.000000  \n",
       "mean      60.021204      3.299373  \n",
       "std      253.938223     32.408353  \n",
       "min        0.000000      0.000000  \n",
       "25%        0.000000      0.000000  \n",
       "50%        0.000000      0.000000  \n",
       "75%        0.000000      0.000000  \n",
       "max    11166.210000   2618.570000  \n",
       "\n",
       "[8 rows x 214 columns]"
      ]
     },
     "execution_count": 5,
     "metadata": {},
     "output_type": "execute_result"
    }
   ],
   "source": [
    "df.describe()"
   ]
  },
  {
   "cell_type": "markdown",
   "metadata": {},
   "source": [
    "## Handling missing values"
   ]
  },
  {
   "cell_type": "markdown",
   "metadata": {},
   "source": [
    "#### Handling missing values in columns"
   ]
  },
  {
   "cell_type": "code",
   "execution_count": 6,
   "metadata": {
    "scrolled": true
   },
   "outputs": [
    {
     "data": {
      "text/html": [
       "<div>\n",
       "<style scoped>\n",
       "    .dataframe tbody tr th:only-of-type {\n",
       "        vertical-align: middle;\n",
       "    }\n",
       "\n",
       "    .dataframe tbody tr th {\n",
       "        vertical-align: top;\n",
       "    }\n",
       "\n",
       "    .dataframe thead th {\n",
       "        text-align: right;\n",
       "    }\n",
       "</style>\n",
       "<table border=\"1\" class=\"dataframe\">\n",
       "  <thead>\n",
       "    <tr style=\"text-align: right;\">\n",
       "      <th></th>\n",
       "      <th>Column</th>\n",
       "      <th>Missing Percentage</th>\n",
       "    </tr>\n",
       "  </thead>\n",
       "  <tbody>\n",
       "    <tr>\n",
       "      <th>189</th>\n",
       "      <td>arpu_3g_6</td>\n",
       "      <td>74.846748</td>\n",
       "    </tr>\n",
       "    <tr>\n",
       "      <th>197</th>\n",
       "      <td>night_pck_user_6</td>\n",
       "      <td>74.846748</td>\n",
       "    </tr>\n",
       "  </tbody>\n",
       "</table>\n",
       "</div>"
      ],
      "text/plain": [
       "               Column  Missing Percentage\n",
       "189         arpu_3g_6           74.846748\n",
       "197  night_pck_user_6           74.846748"
      ]
     },
     "execution_count": 6,
     "metadata": {},
     "output_type": "execute_result"
    }
   ],
   "source": [
    "# Calculate the percentage of missing values in each column\n",
    "missing_percentages = (df.isnull().sum() / len(df)) * 100\n",
    "\n",
    "# Create a DataFrame with column names and corresponding missing percentages\n",
    "df_missing_columns = pd.DataFrame({'Column': missing_percentages.index, 'Missing Percentage': missing_percentages.values})\n",
    "\n",
    "# Sort the DataFrame in descending order based on the missing percentages\n",
    "df_missing_columns = df_missing_columns.sort_values('Missing Percentage', ascending=False)\n",
    "\n",
    "# Display the DataFrame\n",
    "df_missing_columns.head(2)"
   ]
  },
  {
   "cell_type": "code",
   "execution_count": 7,
   "metadata": {},
   "outputs": [
    {
     "name": "stdout",
     "output_type": "stream",
     "text": [
      "['arpu_3g_6', 'night_pck_user_6', 'total_rech_data_6', 'arpu_2g_6', 'max_rech_data_6', 'fb_user_6', 'av_rech_amt_data_6', 'date_of_last_rech_data_6', 'count_rech_2g_6', 'count_rech_3g_6', 'date_of_last_rech_data_7', 'total_rech_data_7', 'fb_user_7', 'max_rech_data_7', 'night_pck_user_7', 'count_rech_2g_7', 'av_rech_amt_data_7', 'arpu_2g_7', 'count_rech_3g_7', 'arpu_3g_7', 'total_rech_data_9', 'count_rech_3g_9', 'fb_user_9', 'max_rech_data_9', 'arpu_3g_9', 'date_of_last_rech_data_9', 'night_pck_user_9', 'arpu_2g_9', 'count_rech_2g_9', 'av_rech_amt_data_9', 'total_rech_data_8', 'arpu_3g_8', 'fb_user_8', 'night_pck_user_8', 'av_rech_amt_data_8', 'max_rech_data_8', 'count_rech_3g_8', 'arpu_2g_8', 'count_rech_2g_8', 'date_of_last_rech_data_8']\n"
     ]
    }
   ],
   "source": [
    "# Find columns with missing percentages greater than 30%\n",
    "col_list_missing_30 = df_missing_columns[df_missing_columns['Missing Percentage'] > 30]['Column'].tolist()\n",
    "\n",
    "# Print the list of columns\n",
    "print(col_list_missing_30)"
   ]
  },
  {
   "cell_type": "code",
   "execution_count": 8,
   "metadata": {},
   "outputs": [],
   "source": [
    "# Delete the columns having more than 30% missing values\n",
    "df = df.drop(col_list_missing_30, axis=1)"
   ]
  },
  {
   "cell_type": "code",
   "execution_count": 9,
   "metadata": {
    "scrolled": true
   },
   "outputs": [
    {
     "data": {
      "text/plain": [
       "(99999, 186)"
      ]
     },
     "execution_count": 9,
     "metadata": {},
     "output_type": "execute_result"
    }
   ],
   "source": [
    "df.shape"
   ]
  },
  {
   "cell_type": "markdown",
   "metadata": {},
   "source": [
    "##### Deleting the date columns as the date columns are not required in our analysis"
   ]
  },
  {
   "cell_type": "code",
   "execution_count": 10,
   "metadata": {},
   "outputs": [
    {
     "name": "stdout",
     "output_type": "stream",
     "text": [
      "['last_date_of_month_6', 'last_date_of_month_7', 'last_date_of_month_8', 'last_date_of_month_9', 'date_of_last_rech_6', 'date_of_last_rech_7', 'date_of_last_rech_8', 'date_of_last_rech_9']\n"
     ]
    }
   ],
   "source": [
    "# Find columns that contain the string 'date'\n",
    "date_cols = [col for col in df.columns if 'date' in col.lower()]\n",
    "\n",
    "# Print the list of date columns\n",
    "print(date_cols)"
   ]
  },
  {
   "cell_type": "code",
   "execution_count": 11,
   "metadata": {},
   "outputs": [],
   "source": [
    "# Dropping date columns\n",
    "df = df.drop(date_cols, axis=1)"
   ]
  },
  {
   "cell_type": "code",
   "execution_count": 12,
   "metadata": {},
   "outputs": [],
   "source": [
    "# Drop circle_id column\n",
    "df = df.drop('circle_id', axis=1)"
   ]
  },
  {
   "cell_type": "code",
   "execution_count": 13,
   "metadata": {},
   "outputs": [
    {
     "data": {
      "text/plain": [
       "(99999, 177)"
      ]
     },
     "execution_count": 13,
     "metadata": {},
     "output_type": "execute_result"
    }
   ],
   "source": [
    "df.shape"
   ]
  },
  {
   "cell_type": "markdown",
   "metadata": {},
   "source": [
    "### Filter high-value customers"
   ]
  },
  {
   "cell_type": "code",
   "execution_count": 14,
   "metadata": {},
   "outputs": [],
   "source": [
    "# Calculate the average recharge amount\n",
    "df['avg_rech_amt_6_7'] = np.mean(df[['total_rech_amt_6', 'total_rech_amt_7']], axis=1)"
   ]
  },
  {
   "cell_type": "code",
   "execution_count": 15,
   "metadata": {},
   "outputs": [
    {
     "data": {
      "text/plain": [
       "368.5"
      ]
     },
     "execution_count": 15,
     "metadata": {},
     "output_type": "execute_result"
    }
   ],
   "source": [
    "X = df['avg_rech_amt_6_7'].quantile(0.7)\n",
    "X"
   ]
  },
  {
   "cell_type": "code",
   "execution_count": 16,
   "metadata": {},
   "outputs": [
    {
     "data": {
      "text/html": [
       "<div>\n",
       "<style scoped>\n",
       "    .dataframe tbody tr th:only-of-type {\n",
       "        vertical-align: middle;\n",
       "    }\n",
       "\n",
       "    .dataframe tbody tr th {\n",
       "        vertical-align: top;\n",
       "    }\n",
       "\n",
       "    .dataframe thead th {\n",
       "        text-align: right;\n",
       "    }\n",
       "</style>\n",
       "<table border=\"1\" class=\"dataframe\">\n",
       "  <thead>\n",
       "    <tr style=\"text-align: right;\">\n",
       "      <th></th>\n",
       "      <th>mobile_number</th>\n",
       "      <th>loc_og_t2o_mou</th>\n",
       "      <th>std_og_t2o_mou</th>\n",
       "      <th>loc_ic_t2o_mou</th>\n",
       "      <th>arpu_6</th>\n",
       "      <th>arpu_7</th>\n",
       "      <th>arpu_8</th>\n",
       "      <th>arpu_9</th>\n",
       "      <th>onnet_mou_6</th>\n",
       "      <th>onnet_mou_7</th>\n",
       "      <th>...</th>\n",
       "      <th>sachet_3g_6</th>\n",
       "      <th>sachet_3g_7</th>\n",
       "      <th>sachet_3g_8</th>\n",
       "      <th>sachet_3g_9</th>\n",
       "      <th>aon</th>\n",
       "      <th>aug_vbc_3g</th>\n",
       "      <th>jul_vbc_3g</th>\n",
       "      <th>jun_vbc_3g</th>\n",
       "      <th>sep_vbc_3g</th>\n",
       "      <th>avg_rech_amt_6_7</th>\n",
       "    </tr>\n",
       "  </thead>\n",
       "  <tbody>\n",
       "    <tr>\n",
       "      <th>7</th>\n",
       "      <td>7000701601</td>\n",
       "      <td>0.0</td>\n",
       "      <td>0.0</td>\n",
       "      <td>0.0</td>\n",
       "      <td>1069.180</td>\n",
       "      <td>1349.850</td>\n",
       "      <td>3171.480</td>\n",
       "      <td>500.000</td>\n",
       "      <td>57.84</td>\n",
       "      <td>54.68</td>\n",
       "      <td>...</td>\n",
       "      <td>0</td>\n",
       "      <td>0</td>\n",
       "      <td>0</td>\n",
       "      <td>0</td>\n",
       "      <td>802</td>\n",
       "      <td>57.74</td>\n",
       "      <td>19.38</td>\n",
       "      <td>18.74</td>\n",
       "      <td>0.0</td>\n",
       "      <td>1185.0</td>\n",
       "    </tr>\n",
       "    <tr>\n",
       "      <th>8</th>\n",
       "      <td>7001524846</td>\n",
       "      <td>0.0</td>\n",
       "      <td>0.0</td>\n",
       "      <td>0.0</td>\n",
       "      <td>378.721</td>\n",
       "      <td>492.223</td>\n",
       "      <td>137.362</td>\n",
       "      <td>166.787</td>\n",
       "      <td>413.69</td>\n",
       "      <td>351.03</td>\n",
       "      <td>...</td>\n",
       "      <td>0</td>\n",
       "      <td>0</td>\n",
       "      <td>0</td>\n",
       "      <td>0</td>\n",
       "      <td>315</td>\n",
       "      <td>21.03</td>\n",
       "      <td>910.65</td>\n",
       "      <td>122.16</td>\n",
       "      <td>0.0</td>\n",
       "      <td>519.0</td>\n",
       "    </tr>\n",
       "    <tr>\n",
       "      <th>13</th>\n",
       "      <td>7002191713</td>\n",
       "      <td>0.0</td>\n",
       "      <td>0.0</td>\n",
       "      <td>0.0</td>\n",
       "      <td>492.846</td>\n",
       "      <td>205.671</td>\n",
       "      <td>593.260</td>\n",
       "      <td>322.732</td>\n",
       "      <td>501.76</td>\n",
       "      <td>108.39</td>\n",
       "      <td>...</td>\n",
       "      <td>0</td>\n",
       "      <td>0</td>\n",
       "      <td>0</td>\n",
       "      <td>0</td>\n",
       "      <td>2607</td>\n",
       "      <td>0.00</td>\n",
       "      <td>0.00</td>\n",
       "      <td>0.00</td>\n",
       "      <td>0.0</td>\n",
       "      <td>380.0</td>\n",
       "    </tr>\n",
       "    <tr>\n",
       "      <th>16</th>\n",
       "      <td>7000875565</td>\n",
       "      <td>0.0</td>\n",
       "      <td>0.0</td>\n",
       "      <td>0.0</td>\n",
       "      <td>430.975</td>\n",
       "      <td>299.869</td>\n",
       "      <td>187.894</td>\n",
       "      <td>206.490</td>\n",
       "      <td>50.51</td>\n",
       "      <td>74.01</td>\n",
       "      <td>...</td>\n",
       "      <td>0</td>\n",
       "      <td>0</td>\n",
       "      <td>0</td>\n",
       "      <td>0</td>\n",
       "      <td>511</td>\n",
       "      <td>0.00</td>\n",
       "      <td>2.45</td>\n",
       "      <td>21.89</td>\n",
       "      <td>0.0</td>\n",
       "      <td>459.0</td>\n",
       "    </tr>\n",
       "    <tr>\n",
       "      <th>17</th>\n",
       "      <td>7000187447</td>\n",
       "      <td>0.0</td>\n",
       "      <td>0.0</td>\n",
       "      <td>0.0</td>\n",
       "      <td>690.008</td>\n",
       "      <td>18.980</td>\n",
       "      <td>25.499</td>\n",
       "      <td>257.583</td>\n",
       "      <td>1185.91</td>\n",
       "      <td>9.28</td>\n",
       "      <td>...</td>\n",
       "      <td>0</td>\n",
       "      <td>0</td>\n",
       "      <td>0</td>\n",
       "      <td>0</td>\n",
       "      <td>667</td>\n",
       "      <td>0.00</td>\n",
       "      <td>0.00</td>\n",
       "      <td>0.00</td>\n",
       "      <td>0.0</td>\n",
       "      <td>408.0</td>\n",
       "    </tr>\n",
       "  </tbody>\n",
       "</table>\n",
       "<p>5 rows × 178 columns</p>\n",
       "</div>"
      ],
      "text/plain": [
       "    mobile_number  loc_og_t2o_mou  std_og_t2o_mou  loc_ic_t2o_mou    arpu_6  \\\n",
       "7      7000701601             0.0             0.0             0.0  1069.180   \n",
       "8      7001524846             0.0             0.0             0.0   378.721   \n",
       "13     7002191713             0.0             0.0             0.0   492.846   \n",
       "16     7000875565             0.0             0.0             0.0   430.975   \n",
       "17     7000187447             0.0             0.0             0.0   690.008   \n",
       "\n",
       "      arpu_7    arpu_8   arpu_9  onnet_mou_6  onnet_mou_7  ...  sachet_3g_6  \\\n",
       "7   1349.850  3171.480  500.000        57.84        54.68  ...            0   \n",
       "8    492.223   137.362  166.787       413.69       351.03  ...            0   \n",
       "13   205.671   593.260  322.732       501.76       108.39  ...            0   \n",
       "16   299.869   187.894  206.490        50.51        74.01  ...            0   \n",
       "17    18.980    25.499  257.583      1185.91         9.28  ...            0   \n",
       "\n",
       "    sachet_3g_7  sachet_3g_8  sachet_3g_9   aon  aug_vbc_3g  jul_vbc_3g  \\\n",
       "7             0            0            0   802       57.74       19.38   \n",
       "8             0            0            0   315       21.03      910.65   \n",
       "13            0            0            0  2607        0.00        0.00   \n",
       "16            0            0            0   511        0.00        2.45   \n",
       "17            0            0            0   667        0.00        0.00   \n",
       "\n",
       "    jun_vbc_3g  sep_vbc_3g  avg_rech_amt_6_7  \n",
       "7        18.74         0.0            1185.0  \n",
       "8       122.16         0.0             519.0  \n",
       "13        0.00         0.0             380.0  \n",
       "16       21.89         0.0             459.0  \n",
       "17        0.00         0.0             408.0  \n",
       "\n",
       "[5 rows x 178 columns]"
      ]
     },
     "execution_count": 16,
     "metadata": {},
     "output_type": "execute_result"
    }
   ],
   "source": [
    "df = df[df['avg_rech_amt_6_7'] >= X]\n",
    "df.head()"
   ]
  },
  {
   "cell_type": "code",
   "execution_count": 17,
   "metadata": {},
   "outputs": [
    {
     "data": {
      "text/plain": [
       "(30011, 178)"
      ]
     },
     "execution_count": 17,
     "metadata": {},
     "output_type": "execute_result"
    }
   ],
   "source": [
    "df.shape"
   ]
  },
  {
   "cell_type": "markdown",
   "metadata": {},
   "source": [
    "#### Handling missing values in rows"
   ]
  },
  {
   "cell_type": "code",
   "execution_count": 18,
   "metadata": {},
   "outputs": [
    {
     "name": "stdout",
     "output_type": "stream",
     "text": [
      "114\n"
     ]
    }
   ],
   "source": [
    "# Count the rows with more than 50% missing values\n",
    "num_rows_missing_50 = len(df.columns) - df.count(axis=1)\n",
    "\n",
    "# Filter the DataFrame for rows with more than 50% missing values\n",
    "df_missing_rows_50 = df[num_rows_missing_50 > (len(df.columns) / 2)]\n",
    "\n",
    "# Get the shape of the filtered DataFrame\n",
    "num_rows = df_missing_rows_50.shape[0]\n",
    "\n",
    "# Print the count of rows\n",
    "print(num_rows)"
   ]
  },
  {
   "cell_type": "code",
   "execution_count": 19,
   "metadata": {},
   "outputs": [
    {
     "data": {
      "text/plain": [
       "(29897, 178)"
      ]
     },
     "execution_count": 19,
     "metadata": {},
     "output_type": "execute_result"
    }
   ],
   "source": [
    "# Deleting the rows having more than 50% missing values\n",
    "df = df.drop(df_missing_rows_50.index)\n",
    "df.shape"
   ]
  },
  {
   "cell_type": "code",
   "execution_count": 20,
   "metadata": {
    "scrolled": true
   },
   "outputs": [
    {
     "data": {
      "text/html": [
       "<div>\n",
       "<style scoped>\n",
       "    .dataframe tbody tr th:only-of-type {\n",
       "        vertical-align: middle;\n",
       "    }\n",
       "\n",
       "    .dataframe tbody tr th {\n",
       "        vertical-align: top;\n",
       "    }\n",
       "\n",
       "    .dataframe thead th {\n",
       "        text-align: right;\n",
       "    }\n",
       "</style>\n",
       "<table border=\"1\" class=\"dataframe\">\n",
       "  <thead>\n",
       "    <tr style=\"text-align: right;\">\n",
       "      <th></th>\n",
       "      <th>null</th>\n",
       "    </tr>\n",
       "  </thead>\n",
       "  <tbody>\n",
       "    <tr>\n",
       "      <th>loc_ic_mou_9</th>\n",
       "      <td>5.32</td>\n",
       "    </tr>\n",
       "    <tr>\n",
       "      <th>og_others_9</th>\n",
       "      <td>5.32</td>\n",
       "    </tr>\n",
       "    <tr>\n",
       "      <th>loc_og_t2t_mou_9</th>\n",
       "      <td>5.32</td>\n",
       "    </tr>\n",
       "    <tr>\n",
       "      <th>loc_ic_t2t_mou_9</th>\n",
       "      <td>5.32</td>\n",
       "    </tr>\n",
       "    <tr>\n",
       "      <th>loc_og_t2m_mou_9</th>\n",
       "      <td>5.32</td>\n",
       "    </tr>\n",
       "  </tbody>\n",
       "</table>\n",
       "</div>"
      ],
      "text/plain": [
       "                  null\n",
       "loc_ic_mou_9      5.32\n",
       "og_others_9       5.32\n",
       "loc_og_t2t_mou_9  5.32\n",
       "loc_ic_t2t_mou_9  5.32\n",
       "loc_og_t2m_mou_9  5.32"
      ]
     },
     "execution_count": 20,
     "metadata": {},
     "output_type": "execute_result"
    }
   ],
   "source": [
    "df_missing_columns = (round(((df.isnull().sum()/len(df.index))*100), 2)\n",
    "                      .to_frame('null')\n",
    "                      .sort_values('null', ascending=False))\n",
    "df_missing_columns.head()"
   ]
  },
  {
   "cell_type": "code",
   "execution_count": 21,
   "metadata": {
    "scrolled": true
   },
   "outputs": [
    {
     "name": "stdout",
     "output_type": "stream",
     "text": [
      "['loc_ic_mou_9', 'og_others_9', 'loc_og_t2t_mou_9', 'loc_ic_t2t_mou_9', 'loc_og_t2m_mou_9', 'loc_og_t2f_mou_9', 'loc_og_t2c_mou_9', 'std_ic_t2m_mou_9', 'loc_og_mou_9', 'std_og_t2t_mou_9', 'roam_og_mou_9', 'std_ic_t2o_mou_9', 'std_og_t2m_mou_9', 'std_og_t2f_mou_9', 'spl_og_mou_9', 'std_og_t2c_mou_9', 'std_og_mou_9', 'isd_og_mou_9', 'std_ic_t2t_mou_9', 'std_ic_mou_9', 'onnet_mou_9', 'spl_ic_mou_9', 'ic_others_9', 'isd_ic_mou_9', 'loc_ic_t2f_mou_9', 'offnet_mou_9', 'loc_ic_t2m_mou_9', 'std_ic_t2f_mou_9', 'roam_ic_mou_9']\n"
     ]
    }
   ],
   "source": [
    "mou_sep_9_cols = df_missing_columns[df_missing_columns['null'] == 5.32].index.to_list()\n",
    "print(mou_sep_9_cols)"
   ]
  },
  {
   "cell_type": "code",
   "execution_count": 22,
   "metadata": {},
   "outputs": [
    {
     "data": {
      "text/html": [
       "<div>\n",
       "<style scoped>\n",
       "    .dataframe tbody tr th:only-of-type {\n",
       "        vertical-align: middle;\n",
       "    }\n",
       "\n",
       "    .dataframe tbody tr th {\n",
       "        vertical-align: top;\n",
       "    }\n",
       "\n",
       "    .dataframe thead th {\n",
       "        text-align: right;\n",
       "    }\n",
       "</style>\n",
       "<table border=\"1\" class=\"dataframe\">\n",
       "  <thead>\n",
       "    <tr style=\"text-align: right;\">\n",
       "      <th></th>\n",
       "      <th>mobile_number</th>\n",
       "      <th>loc_og_t2o_mou</th>\n",
       "      <th>std_og_t2o_mou</th>\n",
       "      <th>loc_ic_t2o_mou</th>\n",
       "      <th>arpu_6</th>\n",
       "      <th>arpu_7</th>\n",
       "      <th>arpu_8</th>\n",
       "      <th>arpu_9</th>\n",
       "      <th>onnet_mou_6</th>\n",
       "      <th>onnet_mou_7</th>\n",
       "      <th>...</th>\n",
       "      <th>sachet_3g_6</th>\n",
       "      <th>sachet_3g_7</th>\n",
       "      <th>sachet_3g_8</th>\n",
       "      <th>sachet_3g_9</th>\n",
       "      <th>aon</th>\n",
       "      <th>aug_vbc_3g</th>\n",
       "      <th>jul_vbc_3g</th>\n",
       "      <th>jun_vbc_3g</th>\n",
       "      <th>sep_vbc_3g</th>\n",
       "      <th>avg_rech_amt_6_7</th>\n",
       "    </tr>\n",
       "  </thead>\n",
       "  <tbody>\n",
       "    <tr>\n",
       "      <th>7</th>\n",
       "      <td>7000701601</td>\n",
       "      <td>0.0</td>\n",
       "      <td>0.0</td>\n",
       "      <td>0.0</td>\n",
       "      <td>1069.180</td>\n",
       "      <td>1349.850</td>\n",
       "      <td>3171.480</td>\n",
       "      <td>500.0</td>\n",
       "      <td>57.84</td>\n",
       "      <td>54.68</td>\n",
       "      <td>...</td>\n",
       "      <td>0</td>\n",
       "      <td>0</td>\n",
       "      <td>0</td>\n",
       "      <td>0</td>\n",
       "      <td>802</td>\n",
       "      <td>57.74</td>\n",
       "      <td>19.38</td>\n",
       "      <td>18.74</td>\n",
       "      <td>0.0</td>\n",
       "      <td>1185.0</td>\n",
       "    </tr>\n",
       "    <tr>\n",
       "      <th>97</th>\n",
       "      <td>7000589828</td>\n",
       "      <td>0.0</td>\n",
       "      <td>0.0</td>\n",
       "      <td>0.0</td>\n",
       "      <td>374.863</td>\n",
       "      <td>294.023</td>\n",
       "      <td>183.043</td>\n",
       "      <td>0.0</td>\n",
       "      <td>433.59</td>\n",
       "      <td>415.66</td>\n",
       "      <td>...</td>\n",
       "      <td>0</td>\n",
       "      <td>0</td>\n",
       "      <td>0</td>\n",
       "      <td>0</td>\n",
       "      <td>502</td>\n",
       "      <td>0.00</td>\n",
       "      <td>0.00</td>\n",
       "      <td>0.00</td>\n",
       "      <td>0.0</td>\n",
       "      <td>380.0</td>\n",
       "    </tr>\n",
       "    <tr>\n",
       "      <th>111</th>\n",
       "      <td>7001300706</td>\n",
       "      <td>0.0</td>\n",
       "      <td>0.0</td>\n",
       "      <td>0.0</td>\n",
       "      <td>596.301</td>\n",
       "      <td>146.073</td>\n",
       "      <td>0.000</td>\n",
       "      <td>0.0</td>\n",
       "      <td>55.19</td>\n",
       "      <td>3.26</td>\n",
       "      <td>...</td>\n",
       "      <td>1</td>\n",
       "      <td>0</td>\n",
       "      <td>0</td>\n",
       "      <td>0</td>\n",
       "      <td>332</td>\n",
       "      <td>0.00</td>\n",
       "      <td>0.00</td>\n",
       "      <td>0.00</td>\n",
       "      <td>0.0</td>\n",
       "      <td>441.0</td>\n",
       "    </tr>\n",
       "    <tr>\n",
       "      <th>143</th>\n",
       "      <td>7000106299</td>\n",
       "      <td>0.0</td>\n",
       "      <td>0.0</td>\n",
       "      <td>0.0</td>\n",
       "      <td>695.609</td>\n",
       "      <td>39.981</td>\n",
       "      <td>0.000</td>\n",
       "      <td>0.0</td>\n",
       "      <td>1325.91</td>\n",
       "      <td>28.61</td>\n",
       "      <td>...</td>\n",
       "      <td>0</td>\n",
       "      <td>0</td>\n",
       "      <td>0</td>\n",
       "      <td>0</td>\n",
       "      <td>264</td>\n",
       "      <td>0.00</td>\n",
       "      <td>0.00</td>\n",
       "      <td>0.00</td>\n",
       "      <td>0.0</td>\n",
       "      <td>418.0</td>\n",
       "    </tr>\n",
       "    <tr>\n",
       "      <th>188</th>\n",
       "      <td>7000340381</td>\n",
       "      <td>0.0</td>\n",
       "      <td>0.0</td>\n",
       "      <td>0.0</td>\n",
       "      <td>734.641</td>\n",
       "      <td>183.668</td>\n",
       "      <td>0.000</td>\n",
       "      <td>0.0</td>\n",
       "      <td>4.38</td>\n",
       "      <td>0.98</td>\n",
       "      <td>...</td>\n",
       "      <td>0</td>\n",
       "      <td>0</td>\n",
       "      <td>0</td>\n",
       "      <td>0</td>\n",
       "      <td>244</td>\n",
       "      <td>0.00</td>\n",
       "      <td>831.48</td>\n",
       "      <td>1223.04</td>\n",
       "      <td>0.0</td>\n",
       "      <td>492.0</td>\n",
       "    </tr>\n",
       "  </tbody>\n",
       "</table>\n",
       "<p>5 rows × 178 columns</p>\n",
       "</div>"
      ],
      "text/plain": [
       "     mobile_number  loc_og_t2o_mou  std_og_t2o_mou  loc_ic_t2o_mou    arpu_6  \\\n",
       "7       7000701601             0.0             0.0             0.0  1069.180   \n",
       "97      7000589828             0.0             0.0             0.0   374.863   \n",
       "111     7001300706             0.0             0.0             0.0   596.301   \n",
       "143     7000106299             0.0             0.0             0.0   695.609   \n",
       "188     7000340381             0.0             0.0             0.0   734.641   \n",
       "\n",
       "       arpu_7    arpu_8  arpu_9  onnet_mou_6  onnet_mou_7  ...  sachet_3g_6  \\\n",
       "7    1349.850  3171.480   500.0        57.84        54.68  ...            0   \n",
       "97    294.023   183.043     0.0       433.59       415.66  ...            0   \n",
       "111   146.073     0.000     0.0        55.19         3.26  ...            1   \n",
       "143    39.981     0.000     0.0      1325.91        28.61  ...            0   \n",
       "188   183.668     0.000     0.0         4.38         0.98  ...            0   \n",
       "\n",
       "     sachet_3g_7  sachet_3g_8  sachet_3g_9  aon  aug_vbc_3g  jul_vbc_3g  \\\n",
       "7              0            0            0  802       57.74       19.38   \n",
       "97             0            0            0  502        0.00        0.00   \n",
       "111            0            0            0  332        0.00        0.00   \n",
       "143            0            0            0  264        0.00        0.00   \n",
       "188            0            0            0  244        0.00      831.48   \n",
       "\n",
       "     jun_vbc_3g  sep_vbc_3g  avg_rech_amt_6_7  \n",
       "7         18.74         0.0            1185.0  \n",
       "97         0.00         0.0             380.0  \n",
       "111        0.00         0.0             441.0  \n",
       "143        0.00         0.0             418.0  \n",
       "188     1223.04         0.0             492.0  \n",
       "\n",
       "[5 rows x 178 columns]"
      ]
     },
     "execution_count": 22,
     "metadata": {},
     "output_type": "execute_result"
    }
   ],
   "source": [
    "# Specify the columns related to MOU Sep(9)\n",
    "mou_columns = ['loc_og_t2m_mou_9', 'loc_ic_t2f_mou_9', 'roam_og_mou_9', 'std_ic_t2m_mou_9',\n",
    "               'loc_og_t2t_mou_9', 'std_ic_t2t_mou_9', 'loc_og_t2f_mou_9', 'loc_ic_mou_9',\n",
    "               'loc_og_t2c_mou_9', 'loc_og_mou_9', 'std_og_t2t_mou_9', 'roam_ic_mou_9',\n",
    "               'loc_ic_t2m_mou_9', 'std_og_t2m_mou_9', 'loc_ic_t2t_mou_9', 'std_og_t2f_mou_9',\n",
    "               'std_og_t2c_mou_9', 'og_others_9', 'std_og_mou_9', 'spl_og_mou_9',\n",
    "               'std_ic_t2f_mou_9', 'isd_og_mou_9', 'std_ic_mou_9', 'offnet_mou_9',\n",
    "               'isd_ic_mou_9', 'ic_others_9', 'std_ic_t2o_mou_9', 'onnet_mou_9',\n",
    "               'spl_ic_mou_9']\n",
    "\n",
    "# Filter the DataFrame based on null values in MOU columns\n",
    "df_null_mou_9 = df[df[mou_columns].isnull().all(axis=1)]\n",
    "\n",
    "df_null_mou_9.head()"
   ]
  },
  {
   "cell_type": "code",
   "execution_count": 23,
   "metadata": {},
   "outputs": [
    {
     "data": {
      "text/plain": [
       "(1590, 178)"
      ]
     },
     "execution_count": 23,
     "metadata": {},
     "output_type": "execute_result"
    }
   ],
   "source": [
    "df_null_mou_9.shape"
   ]
  },
  {
   "cell_type": "code",
   "execution_count": 24,
   "metadata": {},
   "outputs": [],
   "source": [
    "# Deleting the records for which MOU for Sep(9) are null\n",
    "df = df.drop(df_null_mou_9.index)"
   ]
  },
  {
   "cell_type": "code",
   "execution_count": 25,
   "metadata": {
    "scrolled": true
   },
   "outputs": [],
   "source": [
    "df_missing_columns = (df.isnull().mean() * 100).round(2).to_frame('null').sort_values('null', ascending=False)"
   ]
  },
  {
   "cell_type": "code",
   "execution_count": 26,
   "metadata": {},
   "outputs": [
    {
     "name": "stdout",
     "output_type": "stream",
     "text": [
      "['isd_og_mou_8', 'roam_ic_mou_8', 'loc_og_mou_8', 'std_ic_t2o_mou_8', 'roam_og_mou_8', 'loc_ic_t2f_mou_8', 'loc_og_t2t_mou_8', 'std_ic_t2f_mou_8', 'std_og_t2m_mou_8', 'loc_og_t2m_mou_8', 'std_og_t2t_mou_8', 'std_ic_t2m_mou_8', 'loc_og_t2f_mou_8', 'spl_og_mou_8', 'loc_ic_mou_8', 'loc_og_t2c_mou_8', 'std_ic_t2t_mou_8', 'loc_ic_t2m_mou_8', 'std_og_t2f_mou_8', 'spl_ic_mou_8', 'std_ic_mou_8', 'offnet_mou_8', 'ic_others_8', 'og_others_8', 'loc_ic_t2t_mou_8', 'onnet_mou_8', 'isd_ic_mou_8', 'std_og_t2c_mou_8', 'std_og_mou_8']\n"
     ]
    }
   ],
   "source": [
    "# Listing the columns of MOU Aug(8)\n",
    "print(((df_missing_columns[df_missing_columns['null'] == 0.55]).index).to_list())"
   ]
  },
  {
   "cell_type": "code",
   "execution_count": 27,
   "metadata": {},
   "outputs": [
    {
     "data": {
      "text/html": [
       "<div>\n",
       "<style scoped>\n",
       "    .dataframe tbody tr th:only-of-type {\n",
       "        vertical-align: middle;\n",
       "    }\n",
       "\n",
       "    .dataframe tbody tr th {\n",
       "        vertical-align: top;\n",
       "    }\n",
       "\n",
       "    .dataframe thead th {\n",
       "        text-align: right;\n",
       "    }\n",
       "</style>\n",
       "<table border=\"1\" class=\"dataframe\">\n",
       "  <thead>\n",
       "    <tr style=\"text-align: right;\">\n",
       "      <th></th>\n",
       "      <th>mobile_number</th>\n",
       "      <th>loc_og_t2o_mou</th>\n",
       "      <th>std_og_t2o_mou</th>\n",
       "      <th>loc_ic_t2o_mou</th>\n",
       "      <th>arpu_6</th>\n",
       "      <th>arpu_7</th>\n",
       "      <th>arpu_8</th>\n",
       "      <th>arpu_9</th>\n",
       "      <th>onnet_mou_6</th>\n",
       "      <th>onnet_mou_7</th>\n",
       "      <th>...</th>\n",
       "      <th>sachet_3g_6</th>\n",
       "      <th>sachet_3g_7</th>\n",
       "      <th>sachet_3g_8</th>\n",
       "      <th>sachet_3g_9</th>\n",
       "      <th>aon</th>\n",
       "      <th>aug_vbc_3g</th>\n",
       "      <th>jul_vbc_3g</th>\n",
       "      <th>jun_vbc_3g</th>\n",
       "      <th>sep_vbc_3g</th>\n",
       "      <th>avg_rech_amt_6_7</th>\n",
       "    </tr>\n",
       "  </thead>\n",
       "  <tbody>\n",
       "    <tr>\n",
       "      <th>375</th>\n",
       "      <td>7002252754</td>\n",
       "      <td>0.0</td>\n",
       "      <td>0.0</td>\n",
       "      <td>0.0</td>\n",
       "      <td>580.477</td>\n",
       "      <td>111.878</td>\n",
       "      <td>0.0</td>\n",
       "      <td>378.881</td>\n",
       "      <td>249.43</td>\n",
       "      <td>39.64</td>\n",
       "      <td>...</td>\n",
       "      <td>0</td>\n",
       "      <td>0</td>\n",
       "      <td>0</td>\n",
       "      <td>0</td>\n",
       "      <td>1102</td>\n",
       "      <td>0.0</td>\n",
       "      <td>0.0</td>\n",
       "      <td>0.0</td>\n",
       "      <td>0.0</td>\n",
       "      <td>415.0</td>\n",
       "    </tr>\n",
       "    <tr>\n",
       "      <th>578</th>\n",
       "      <td>7000248548</td>\n",
       "      <td>0.0</td>\n",
       "      <td>0.0</td>\n",
       "      <td>0.0</td>\n",
       "      <td>569.612</td>\n",
       "      <td>237.289</td>\n",
       "      <td>0.0</td>\n",
       "      <td>4.440</td>\n",
       "      <td>718.01</td>\n",
       "      <td>212.73</td>\n",
       "      <td>...</td>\n",
       "      <td>0</td>\n",
       "      <td>0</td>\n",
       "      <td>0</td>\n",
       "      <td>0</td>\n",
       "      <td>274</td>\n",
       "      <td>0.0</td>\n",
       "      <td>0.0</td>\n",
       "      <td>0.0</td>\n",
       "      <td>0.0</td>\n",
       "      <td>468.5</td>\n",
       "    </tr>\n",
       "    <tr>\n",
       "      <th>788</th>\n",
       "      <td>7000636808</td>\n",
       "      <td>0.0</td>\n",
       "      <td>0.0</td>\n",
       "      <td>0.0</td>\n",
       "      <td>532.742</td>\n",
       "      <td>546.756</td>\n",
       "      <td>0.0</td>\n",
       "      <td>269.274</td>\n",
       "      <td>1173.39</td>\n",
       "      <td>891.83</td>\n",
       "      <td>...</td>\n",
       "      <td>0</td>\n",
       "      <td>0</td>\n",
       "      <td>0</td>\n",
       "      <td>0</td>\n",
       "      <td>936</td>\n",
       "      <td>0.0</td>\n",
       "      <td>0.0</td>\n",
       "      <td>0.0</td>\n",
       "      <td>0.0</td>\n",
       "      <td>604.0</td>\n",
       "    </tr>\n",
       "    <tr>\n",
       "      <th>1802</th>\n",
       "      <td>7000516213</td>\n",
       "      <td>0.0</td>\n",
       "      <td>0.0</td>\n",
       "      <td>0.0</td>\n",
       "      <td>810.455</td>\n",
       "      <td>0.000</td>\n",
       "      <td>0.0</td>\n",
       "      <td>0.000</td>\n",
       "      <td>91.33</td>\n",
       "      <td>NaN</td>\n",
       "      <td>...</td>\n",
       "      <td>0</td>\n",
       "      <td>0</td>\n",
       "      <td>0</td>\n",
       "      <td>0</td>\n",
       "      <td>755</td>\n",
       "      <td>0.0</td>\n",
       "      <td>0.0</td>\n",
       "      <td>0.0</td>\n",
       "      <td>0.0</td>\n",
       "      <td>477.5</td>\n",
       "    </tr>\n",
       "    <tr>\n",
       "      <th>4837</th>\n",
       "      <td>7002192662</td>\n",
       "      <td>0.0</td>\n",
       "      <td>0.0</td>\n",
       "      <td>0.0</td>\n",
       "      <td>649.150</td>\n",
       "      <td>149.572</td>\n",
       "      <td>0.0</td>\n",
       "      <td>0.250</td>\n",
       "      <td>1354.24</td>\n",
       "      <td>85.13</td>\n",
       "      <td>...</td>\n",
       "      <td>0</td>\n",
       "      <td>0</td>\n",
       "      <td>0</td>\n",
       "      <td>0</td>\n",
       "      <td>520</td>\n",
       "      <td>0.0</td>\n",
       "      <td>0.0</td>\n",
       "      <td>0.0</td>\n",
       "      <td>0.0</td>\n",
       "      <td>421.0</td>\n",
       "    </tr>\n",
       "  </tbody>\n",
       "</table>\n",
       "<p>5 rows × 178 columns</p>\n",
       "</div>"
      ],
      "text/plain": [
       "      mobile_number  loc_og_t2o_mou  std_og_t2o_mou  loc_ic_t2o_mou   arpu_6  \\\n",
       "375      7002252754             0.0             0.0             0.0  580.477   \n",
       "578      7000248548             0.0             0.0             0.0  569.612   \n",
       "788      7000636808             0.0             0.0             0.0  532.742   \n",
       "1802     7000516213             0.0             0.0             0.0  810.455   \n",
       "4837     7002192662             0.0             0.0             0.0  649.150   \n",
       "\n",
       "       arpu_7  arpu_8   arpu_9  onnet_mou_6  onnet_mou_7  ...  sachet_3g_6  \\\n",
       "375   111.878     0.0  378.881       249.43        39.64  ...            0   \n",
       "578   237.289     0.0    4.440       718.01       212.73  ...            0   \n",
       "788   546.756     0.0  269.274      1173.39       891.83  ...            0   \n",
       "1802    0.000     0.0    0.000        91.33          NaN  ...            0   \n",
       "4837  149.572     0.0    0.250      1354.24        85.13  ...            0   \n",
       "\n",
       "      sachet_3g_7  sachet_3g_8  sachet_3g_9   aon  aug_vbc_3g  jul_vbc_3g  \\\n",
       "375             0            0            0  1102         0.0         0.0   \n",
       "578             0            0            0   274         0.0         0.0   \n",
       "788             0            0            0   936         0.0         0.0   \n",
       "1802            0            0            0   755         0.0         0.0   \n",
       "4837            0            0            0   520         0.0         0.0   \n",
       "\n",
       "      jun_vbc_3g  sep_vbc_3g  avg_rech_amt_6_7  \n",
       "375          0.0         0.0             415.0  \n",
       "578          0.0         0.0             468.5  \n",
       "788          0.0         0.0             604.0  \n",
       "1802         0.0         0.0             477.5  \n",
       "4837         0.0         0.0             421.0  \n",
       "\n",
       "[5 rows x 178 columns]"
      ]
     },
     "execution_count": 27,
     "metadata": {},
     "output_type": "execute_result"
    }
   ],
   "source": [
    "# Specify the columns related to MOU Aug(8)\n",
    "mou_columns = ['loc_og_t2m_mou_8', 'loc_ic_t2f_mou_8', 'roam_og_mou_8', 'std_ic_t2m_mou_8',\n",
    "               'loc_og_t2t_mou_8', 'std_ic_t2t_mou_8', 'loc_og_t2f_mou_8', 'loc_ic_mou_8',\n",
    "               'loc_og_t2c_mou_8', 'loc_og_mou_8', 'std_og_t2t_mou_8', 'roam_ic_mou_8',\n",
    "               'loc_ic_t2m_mou_8', 'std_og_t2m_mou_8', 'loc_ic_t2t_mou_8', 'std_og_t2f_mou_8',\n",
    "               'std_og_t2c_mou_8', 'og_others_8', 'std_og_mou_8', 'spl_og_mou_8',\n",
    "               'std_ic_t2f_mou_8', 'isd_og_mou_8', 'std_ic_mou_8', 'offnet_mou_8',\n",
    "               'isd_ic_mou_8', 'ic_others_8', 'std_ic_t2o_mou_8', 'onnet_mou_8',\n",
    "               'spl_ic_mou_8']\n",
    "\n",
    "# Filter the DataFrame based on null values in MOU columns\n",
    "df_null_mou_8 = df[df[mou_columns].isnull().all(axis=1)]\n",
    "\n",
    "df_null_mou_8.head()"
   ]
  },
  {
   "cell_type": "code",
   "execution_count": 28,
   "metadata": {},
   "outputs": [],
   "source": [
    "# Deleting the records for which MOU for Aug(8) are null\n",
    "df = df.drop(df_null_mou_8.index)"
   ]
  },
  {
   "cell_type": "code",
   "execution_count": 29,
   "metadata": {
    "scrolled": true
   },
   "outputs": [],
   "source": [
    "df_missing_columns = (df.isnull().mean() * 100).round(2).to_frame('null').sort_values('null', ascending=False)"
   ]
  },
  {
   "cell_type": "code",
   "execution_count": 30,
   "metadata": {},
   "outputs": [
    {
     "name": "stdout",
     "output_type": "stream",
     "text": [
      "['roam_ic_mou_6', 'spl_og_mou_6', 'og_others_6', 'loc_ic_t2t_mou_6', 'loc_og_t2m_mou_6', 'loc_og_t2c_mou_6', 'loc_ic_t2m_mou_6', 'isd_og_mou_6', 'loc_og_t2t_mou_6', 'std_og_t2m_mou_6', 'loc_ic_t2f_mou_6', 'ic_others_6', 'roam_og_mou_6', 'loc_ic_mou_6', 'std_og_mou_6', 'loc_og_t2f_mou_6', 'isd_ic_mou_6', 'std_ic_t2t_mou_6', 'std_ic_mou_6', 'std_og_t2t_mou_6', 'std_ic_t2o_mou_6', 'std_og_t2f_mou_6', 'std_ic_t2f_mou_6', 'spl_ic_mou_6', 'onnet_mou_6', 'std_og_t2c_mou_6', 'std_ic_t2m_mou_6', 'offnet_mou_6', 'loc_og_mou_6']\n"
     ]
    }
   ],
   "source": [
    "# Listing the columns of MOU Jun(6)\n",
    "print(((df_missing_columns[df_missing_columns['null'] == 0.44]).index).to_list())"
   ]
  },
  {
   "cell_type": "code",
   "execution_count": 31,
   "metadata": {},
   "outputs": [
    {
     "data": {
      "text/html": [
       "<div>\n",
       "<style scoped>\n",
       "    .dataframe tbody tr th:only-of-type {\n",
       "        vertical-align: middle;\n",
       "    }\n",
       "\n",
       "    .dataframe tbody tr th {\n",
       "        vertical-align: top;\n",
       "    }\n",
       "\n",
       "    .dataframe thead th {\n",
       "        text-align: right;\n",
       "    }\n",
       "</style>\n",
       "<table border=\"1\" class=\"dataframe\">\n",
       "  <thead>\n",
       "    <tr style=\"text-align: right;\">\n",
       "      <th></th>\n",
       "      <th>mobile_number</th>\n",
       "      <th>loc_og_t2o_mou</th>\n",
       "      <th>std_og_t2o_mou</th>\n",
       "      <th>loc_ic_t2o_mou</th>\n",
       "      <th>arpu_6</th>\n",
       "      <th>arpu_7</th>\n",
       "      <th>arpu_8</th>\n",
       "      <th>arpu_9</th>\n",
       "      <th>onnet_mou_6</th>\n",
       "      <th>onnet_mou_7</th>\n",
       "      <th>...</th>\n",
       "      <th>sachet_3g_6</th>\n",
       "      <th>sachet_3g_7</th>\n",
       "      <th>sachet_3g_8</th>\n",
       "      <th>sachet_3g_9</th>\n",
       "      <th>aon</th>\n",
       "      <th>aug_vbc_3g</th>\n",
       "      <th>jul_vbc_3g</th>\n",
       "      <th>jun_vbc_3g</th>\n",
       "      <th>sep_vbc_3g</th>\n",
       "      <th>avg_rech_amt_6_7</th>\n",
       "    </tr>\n",
       "  </thead>\n",
       "  <tbody>\n",
       "    <tr>\n",
       "      <th>77</th>\n",
       "      <td>7001328263</td>\n",
       "      <td>0.0</td>\n",
       "      <td>0.0</td>\n",
       "      <td>0.0</td>\n",
       "      <td>30.000</td>\n",
       "      <td>82.378</td>\n",
       "      <td>674.950</td>\n",
       "      <td>158.710</td>\n",
       "      <td>NaN</td>\n",
       "      <td>34.23</td>\n",
       "      <td>...</td>\n",
       "      <td>0</td>\n",
       "      <td>0</td>\n",
       "      <td>0</td>\n",
       "      <td>0</td>\n",
       "      <td>1894</td>\n",
       "      <td>0.00</td>\n",
       "      <td>0.00</td>\n",
       "      <td>0.00</td>\n",
       "      <td>0.00</td>\n",
       "      <td>577.0</td>\n",
       "    </tr>\n",
       "    <tr>\n",
       "      <th>364</th>\n",
       "      <td>7002168045</td>\n",
       "      <td>0.0</td>\n",
       "      <td>0.0</td>\n",
       "      <td>0.0</td>\n",
       "      <td>0.000</td>\n",
       "      <td>792.112</td>\n",
       "      <td>989.368</td>\n",
       "      <td>923.040</td>\n",
       "      <td>NaN</td>\n",
       "      <td>433.49</td>\n",
       "      <td>...</td>\n",
       "      <td>0</td>\n",
       "      <td>0</td>\n",
       "      <td>1</td>\n",
       "      <td>0</td>\n",
       "      <td>424</td>\n",
       "      <td>0.00</td>\n",
       "      <td>0.00</td>\n",
       "      <td>0.00</td>\n",
       "      <td>0.00</td>\n",
       "      <td>485.0</td>\n",
       "    </tr>\n",
       "    <tr>\n",
       "      <th>423</th>\n",
       "      <td>7000635248</td>\n",
       "      <td>0.0</td>\n",
       "      <td>0.0</td>\n",
       "      <td>0.0</td>\n",
       "      <td>213.802</td>\n",
       "      <td>304.194</td>\n",
       "      <td>149.710</td>\n",
       "      <td>329.643</td>\n",
       "      <td>NaN</td>\n",
       "      <td>0.00</td>\n",
       "      <td>...</td>\n",
       "      <td>0</td>\n",
       "      <td>0</td>\n",
       "      <td>0</td>\n",
       "      <td>0</td>\n",
       "      <td>945</td>\n",
       "      <td>73.55</td>\n",
       "      <td>266.94</td>\n",
       "      <td>63.04</td>\n",
       "      <td>0.00</td>\n",
       "      <td>421.5</td>\n",
       "    </tr>\n",
       "    <tr>\n",
       "      <th>934</th>\n",
       "      <td>7002152278</td>\n",
       "      <td>0.0</td>\n",
       "      <td>0.0</td>\n",
       "      <td>0.0</td>\n",
       "      <td>48.000</td>\n",
       "      <td>764.152</td>\n",
       "      <td>500.030</td>\n",
       "      <td>194.400</td>\n",
       "      <td>NaN</td>\n",
       "      <td>14.24</td>\n",
       "      <td>...</td>\n",
       "      <td>0</td>\n",
       "      <td>0</td>\n",
       "      <td>2</td>\n",
       "      <td>1</td>\n",
       "      <td>490</td>\n",
       "      <td>188.83</td>\n",
       "      <td>215.00</td>\n",
       "      <td>0.00</td>\n",
       "      <td>24.18</td>\n",
       "      <td>651.0</td>\n",
       "    </tr>\n",
       "    <tr>\n",
       "      <th>1187</th>\n",
       "      <td>7000486275</td>\n",
       "      <td>0.0</td>\n",
       "      <td>0.0</td>\n",
       "      <td>0.0</td>\n",
       "      <td>0.000</td>\n",
       "      <td>757.170</td>\n",
       "      <td>995.719</td>\n",
       "      <td>0.000</td>\n",
       "      <td>NaN</td>\n",
       "      <td>1366.71</td>\n",
       "      <td>...</td>\n",
       "      <td>0</td>\n",
       "      <td>0</td>\n",
       "      <td>0</td>\n",
       "      <td>0</td>\n",
       "      <td>737</td>\n",
       "      <td>0.00</td>\n",
       "      <td>0.00</td>\n",
       "      <td>0.00</td>\n",
       "      <td>0.00</td>\n",
       "      <td>441.5</td>\n",
       "    </tr>\n",
       "  </tbody>\n",
       "</table>\n",
       "<p>5 rows × 178 columns</p>\n",
       "</div>"
      ],
      "text/plain": [
       "      mobile_number  loc_og_t2o_mou  std_og_t2o_mou  loc_ic_t2o_mou   arpu_6  \\\n",
       "77       7001328263             0.0             0.0             0.0   30.000   \n",
       "364      7002168045             0.0             0.0             0.0    0.000   \n",
       "423      7000635248             0.0             0.0             0.0  213.802   \n",
       "934      7002152278             0.0             0.0             0.0   48.000   \n",
       "1187     7000486275             0.0             0.0             0.0    0.000   \n",
       "\n",
       "       arpu_7   arpu_8   arpu_9  onnet_mou_6  onnet_mou_7  ...  sachet_3g_6  \\\n",
       "77     82.378  674.950  158.710          NaN        34.23  ...            0   \n",
       "364   792.112  989.368  923.040          NaN       433.49  ...            0   \n",
       "423   304.194  149.710  329.643          NaN         0.00  ...            0   \n",
       "934   764.152  500.030  194.400          NaN        14.24  ...            0   \n",
       "1187  757.170  995.719    0.000          NaN      1366.71  ...            0   \n",
       "\n",
       "      sachet_3g_7  sachet_3g_8  sachet_3g_9   aon  aug_vbc_3g  jul_vbc_3g  \\\n",
       "77              0            0            0  1894        0.00        0.00   \n",
       "364             0            1            0   424        0.00        0.00   \n",
       "423             0            0            0   945       73.55      266.94   \n",
       "934             0            2            1   490      188.83      215.00   \n",
       "1187            0            0            0   737        0.00        0.00   \n",
       "\n",
       "      jun_vbc_3g  sep_vbc_3g  avg_rech_amt_6_7  \n",
       "77          0.00        0.00             577.0  \n",
       "364         0.00        0.00             485.0  \n",
       "423        63.04        0.00             421.5  \n",
       "934         0.00       24.18             651.0  \n",
       "1187        0.00        0.00             441.5  \n",
       "\n",
       "[5 rows x 178 columns]"
      ]
     },
     "execution_count": 31,
     "metadata": {},
     "output_type": "execute_result"
    }
   ],
   "source": [
    "# Specify the columns related to MOU Jun(6)\n",
    "mou_columns = ['loc_og_t2m_mou_6', 'loc_ic_t2f_mou_6', 'roam_og_mou_6', 'std_ic_t2m_mou_6',\n",
    "               'loc_og_t2t_mou_6', 'std_ic_t2t_mou_6', 'loc_og_t2f_mou_6', 'loc_ic_mou_6',\n",
    "               'loc_og_t2c_mou_6', 'loc_og_mou_6', 'std_og_t2t_mou_6', 'roam_ic_mou_6',\n",
    "               'loc_ic_t2m_mou_6', 'std_og_t2m_mou_6', 'loc_ic_t2t_mou_6', 'std_og_t2f_mou_6',\n",
    "               'std_og_t2c_mou_6', 'og_others_6', 'std_og_mou_6', 'spl_og_mou_6',\n",
    "               'std_ic_t2f_mou_6', 'isd_og_mou_6', 'std_ic_mou_6', 'offnet_mou_6',\n",
    "               'isd_ic_mou_6', 'ic_others_6', 'std_ic_t2o_mou_6', 'onnet_mou_6',\n",
    "               'spl_ic_mou_6']\n",
    "\n",
    "# Filter the DataFrame based on null values in MOU columns\n",
    "df_null_mou_6 = df[df[mou_columns].isnull().all(axis=1)]\n",
    "\n",
    "df_null_mou_6.head()"
   ]
  },
  {
   "cell_type": "code",
   "execution_count": 32,
   "metadata": {},
   "outputs": [],
   "source": [
    "df = df.drop(df_null_mou_6.index)"
   ]
  },
  {
   "cell_type": "code",
   "execution_count": 33,
   "metadata": {
    "scrolled": true
   },
   "outputs": [
    {
     "data": {
      "text/html": [
       "<div>\n",
       "<style scoped>\n",
       "    .dataframe tbody tr th:only-of-type {\n",
       "        vertical-align: middle;\n",
       "    }\n",
       "\n",
       "    .dataframe tbody tr th {\n",
       "        vertical-align: top;\n",
       "    }\n",
       "\n",
       "    .dataframe thead th {\n",
       "        text-align: right;\n",
       "    }\n",
       "</style>\n",
       "<table border=\"1\" class=\"dataframe\">\n",
       "  <thead>\n",
       "    <tr style=\"text-align: right;\">\n",
       "      <th></th>\n",
       "      <th>null</th>\n",
       "    </tr>\n",
       "  </thead>\n",
       "  <tbody>\n",
       "    <tr>\n",
       "      <th>loc_ic_t2f_mou_7</th>\n",
       "      <td>0.12</td>\n",
       "    </tr>\n",
       "    <tr>\n",
       "      <th>isd_ic_mou_7</th>\n",
       "      <td>0.12</td>\n",
       "    </tr>\n",
       "    <tr>\n",
       "      <th>loc_og_t2f_mou_7</th>\n",
       "      <td>0.12</td>\n",
       "    </tr>\n",
       "    <tr>\n",
       "      <th>loc_og_t2c_mou_7</th>\n",
       "      <td>0.12</td>\n",
       "    </tr>\n",
       "    <tr>\n",
       "      <th>loc_og_mou_7</th>\n",
       "      <td>0.12</td>\n",
       "    </tr>\n",
       "  </tbody>\n",
       "</table>\n",
       "</div>"
      ],
      "text/plain": [
       "                  null\n",
       "loc_ic_t2f_mou_7  0.12\n",
       "isd_ic_mou_7      0.12\n",
       "loc_og_t2f_mou_7  0.12\n",
       "loc_og_t2c_mou_7  0.12\n",
       "loc_og_mou_7      0.12"
      ]
     },
     "execution_count": 33,
     "metadata": {},
     "output_type": "execute_result"
    }
   ],
   "source": [
    "df_missing_columns = (df.isnull().mean() * 100).round(2).to_frame('null').sort_values('null', ascending=False)\n",
    "df_missing_columns.head()"
   ]
  },
  {
   "cell_type": "code",
   "execution_count": 34,
   "metadata": {},
   "outputs": [
    {
     "name": "stdout",
     "output_type": "stream",
     "text": [
      "['loc_ic_t2f_mou_7', 'isd_ic_mou_7', 'loc_og_t2f_mou_7', 'loc_og_t2c_mou_7', 'loc_og_mou_7', 'std_og_t2t_mou_7', 'std_og_t2f_mou_7', 'std_og_t2c_mou_7', 'std_og_mou_7', 'ic_others_7', 'isd_og_mou_7', 'spl_og_mou_7', 'loc_og_t2t_mou_7', 'og_others_7', 'spl_ic_mou_7', 'loc_ic_t2t_mou_7', 'std_ic_mou_7', 'loc_ic_t2m_mou_7', 'std_ic_t2o_mou_7', 'std_ic_t2f_mou_7', 'loc_ic_mou_7', 'std_ic_t2t_mou_7', 'loc_og_t2m_mou_7', 'std_og_t2m_mou_7', 'std_ic_t2m_mou_7', 'roam_ic_mou_7', 'onnet_mou_7', 'roam_og_mou_7', 'offnet_mou_7']\n"
     ]
    }
   ],
   "source": [
    "# Listing the columns of MOU Jul(7)\n",
    "print(((df_missing_columns[df_missing_columns['null'] == 0.12]).index).to_list())"
   ]
  },
  {
   "cell_type": "code",
   "execution_count": 35,
   "metadata": {},
   "outputs": [
    {
     "data": {
      "text/html": [
       "<div>\n",
       "<style scoped>\n",
       "    .dataframe tbody tr th:only-of-type {\n",
       "        vertical-align: middle;\n",
       "    }\n",
       "\n",
       "    .dataframe tbody tr th {\n",
       "        vertical-align: top;\n",
       "    }\n",
       "\n",
       "    .dataframe thead th {\n",
       "        text-align: right;\n",
       "    }\n",
       "</style>\n",
       "<table border=\"1\" class=\"dataframe\">\n",
       "  <thead>\n",
       "    <tr style=\"text-align: right;\">\n",
       "      <th></th>\n",
       "      <th>mobile_number</th>\n",
       "      <th>loc_og_t2o_mou</th>\n",
       "      <th>std_og_t2o_mou</th>\n",
       "      <th>loc_ic_t2o_mou</th>\n",
       "      <th>arpu_6</th>\n",
       "      <th>arpu_7</th>\n",
       "      <th>arpu_8</th>\n",
       "      <th>arpu_9</th>\n",
       "      <th>onnet_mou_6</th>\n",
       "      <th>onnet_mou_7</th>\n",
       "      <th>...</th>\n",
       "      <th>sachet_3g_6</th>\n",
       "      <th>sachet_3g_7</th>\n",
       "      <th>sachet_3g_8</th>\n",
       "      <th>sachet_3g_9</th>\n",
       "      <th>aon</th>\n",
       "      <th>aug_vbc_3g</th>\n",
       "      <th>jul_vbc_3g</th>\n",
       "      <th>jun_vbc_3g</th>\n",
       "      <th>sep_vbc_3g</th>\n",
       "      <th>avg_rech_amt_6_7</th>\n",
       "    </tr>\n",
       "  </thead>\n",
       "  <tbody>\n",
       "    <tr>\n",
       "      <th>5616</th>\n",
       "      <td>7001238202</td>\n",
       "      <td>0.0</td>\n",
       "      <td>0.0</td>\n",
       "      <td>0.0</td>\n",
       "      <td>760.815</td>\n",
       "      <td>531.088</td>\n",
       "      <td>992.818</td>\n",
       "      <td>1144.676</td>\n",
       "      <td>324.91</td>\n",
       "      <td>NaN</td>\n",
       "      <td>...</td>\n",
       "      <td>0</td>\n",
       "      <td>0</td>\n",
       "      <td>0</td>\n",
       "      <td>0</td>\n",
       "      <td>576</td>\n",
       "      <td>63.38</td>\n",
       "      <td>0.0</td>\n",
       "      <td>0.0</td>\n",
       "      <td>163.39</td>\n",
       "      <td>778.0</td>\n",
       "    </tr>\n",
       "    <tr>\n",
       "      <th>9451</th>\n",
       "      <td>7001477649</td>\n",
       "      <td>0.0</td>\n",
       "      <td>0.0</td>\n",
       "      <td>0.0</td>\n",
       "      <td>1129.566</td>\n",
       "      <td>0.000</td>\n",
       "      <td>128.252</td>\n",
       "      <td>802.648</td>\n",
       "      <td>11.89</td>\n",
       "      <td>NaN</td>\n",
       "      <td>...</td>\n",
       "      <td>0</td>\n",
       "      <td>0</td>\n",
       "      <td>0</td>\n",
       "      <td>0</td>\n",
       "      <td>672</td>\n",
       "      <td>0.00</td>\n",
       "      <td>0.0</td>\n",
       "      <td>0.0</td>\n",
       "      <td>0.00</td>\n",
       "      <td>603.0</td>\n",
       "    </tr>\n",
       "    <tr>\n",
       "      <th>9955</th>\n",
       "      <td>7001658068</td>\n",
       "      <td>0.0</td>\n",
       "      <td>0.0</td>\n",
       "      <td>0.0</td>\n",
       "      <td>925.028</td>\n",
       "      <td>189.000</td>\n",
       "      <td>789.761</td>\n",
       "      <td>445.707</td>\n",
       "      <td>46.39</td>\n",
       "      <td>NaN</td>\n",
       "      <td>...</td>\n",
       "      <td>0</td>\n",
       "      <td>0</td>\n",
       "      <td>0</td>\n",
       "      <td>0</td>\n",
       "      <td>3107</td>\n",
       "      <td>0.00</td>\n",
       "      <td>0.0</td>\n",
       "      <td>0.0</td>\n",
       "      <td>0.00</td>\n",
       "      <td>692.5</td>\n",
       "    </tr>\n",
       "    <tr>\n",
       "      <th>10724</th>\n",
       "      <td>7001391499</td>\n",
       "      <td>0.0</td>\n",
       "      <td>0.0</td>\n",
       "      <td>0.0</td>\n",
       "      <td>894.818</td>\n",
       "      <td>85.000</td>\n",
       "      <td>207.040</td>\n",
       "      <td>363.314</td>\n",
       "      <td>117.21</td>\n",
       "      <td>NaN</td>\n",
       "      <td>...</td>\n",
       "      <td>0</td>\n",
       "      <td>0</td>\n",
       "      <td>0</td>\n",
       "      <td>0</td>\n",
       "      <td>2664</td>\n",
       "      <td>0.00</td>\n",
       "      <td>0.0</td>\n",
       "      <td>0.0</td>\n",
       "      <td>0.00</td>\n",
       "      <td>510.0</td>\n",
       "    </tr>\n",
       "    <tr>\n",
       "      <th>12107</th>\n",
       "      <td>7000131738</td>\n",
       "      <td>0.0</td>\n",
       "      <td>0.0</td>\n",
       "      <td>0.0</td>\n",
       "      <td>1803.475</td>\n",
       "      <td>0.000</td>\n",
       "      <td>0.600</td>\n",
       "      <td>25.243</td>\n",
       "      <td>1742.61</td>\n",
       "      <td>NaN</td>\n",
       "      <td>...</td>\n",
       "      <td>0</td>\n",
       "      <td>0</td>\n",
       "      <td>0</td>\n",
       "      <td>0</td>\n",
       "      <td>219</td>\n",
       "      <td>0.00</td>\n",
       "      <td>0.0</td>\n",
       "      <td>0.0</td>\n",
       "      <td>0.00</td>\n",
       "      <td>995.0</td>\n",
       "    </tr>\n",
       "  </tbody>\n",
       "</table>\n",
       "<p>5 rows × 178 columns</p>\n",
       "</div>"
      ],
      "text/plain": [
       "       mobile_number  loc_og_t2o_mou  std_og_t2o_mou  loc_ic_t2o_mou  \\\n",
       "5616      7001238202             0.0             0.0             0.0   \n",
       "9451      7001477649             0.0             0.0             0.0   \n",
       "9955      7001658068             0.0             0.0             0.0   \n",
       "10724     7001391499             0.0             0.0             0.0   \n",
       "12107     7000131738             0.0             0.0             0.0   \n",
       "\n",
       "         arpu_6   arpu_7   arpu_8    arpu_9  onnet_mou_6  onnet_mou_7  ...  \\\n",
       "5616    760.815  531.088  992.818  1144.676       324.91          NaN  ...   \n",
       "9451   1129.566    0.000  128.252   802.648        11.89          NaN  ...   \n",
       "9955    925.028  189.000  789.761   445.707        46.39          NaN  ...   \n",
       "10724   894.818   85.000  207.040   363.314       117.21          NaN  ...   \n",
       "12107  1803.475    0.000    0.600    25.243      1742.61          NaN  ...   \n",
       "\n",
       "       sachet_3g_6  sachet_3g_7  sachet_3g_8  sachet_3g_9   aon  aug_vbc_3g  \\\n",
       "5616             0            0            0            0   576       63.38   \n",
       "9451             0            0            0            0   672        0.00   \n",
       "9955             0            0            0            0  3107        0.00   \n",
       "10724            0            0            0            0  2664        0.00   \n",
       "12107            0            0            0            0   219        0.00   \n",
       "\n",
       "       jul_vbc_3g  jun_vbc_3g  sep_vbc_3g  avg_rech_amt_6_7  \n",
       "5616          0.0         0.0      163.39             778.0  \n",
       "9451          0.0         0.0        0.00             603.0  \n",
       "9955          0.0         0.0        0.00             692.5  \n",
       "10724         0.0         0.0        0.00             510.0  \n",
       "12107         0.0         0.0        0.00             995.0  \n",
       "\n",
       "[5 rows x 178 columns]"
      ]
     },
     "execution_count": 35,
     "metadata": {},
     "output_type": "execute_result"
    }
   ],
   "source": [
    "# Creating a dataframe with the condition, in which MOU for Jul(7) are null\n",
    "df_null_mou_7 = df[(df['loc_og_t2m_mou_7'].isnull()) & (df['loc_ic_t2f_mou_7'].isnull()) & (df['roam_og_mou_7'].isnull()) & (df['std_ic_t2m_mou_7'].isnull()) &\n",
    "  (df['loc_og_t2t_mou_7'].isnull()) & (df['std_ic_t2t_mou_7'].isnull()) & (df['loc_og_t2f_mou_7'].isnull()) & (df['loc_ic_mou_7'].isnull()) &\n",
    "  (df['loc_og_t2c_mou_7'].isnull()) & (df['loc_og_mou_7'].isnull()) & (df['std_og_t2t_mou_7'].isnull()) & (df['roam_ic_mou_7'].isnull()) &\n",
    "  (df['loc_ic_t2m_mou_7'].isnull()) & (df['std_og_t2m_mou_7'].isnull()) & (df['loc_ic_t2t_mou_7'].isnull()) & (df['std_og_t2f_mou_7'].isnull()) & \n",
    "  (df['std_og_t2c_mou_7'].isnull()) & (df['og_others_7'].isnull()) & (df['std_og_mou_7'].isnull()) & (df['spl_og_mou_7'].isnull()) & \n",
    "  (df['std_ic_t2f_mou_7'].isnull()) & (df['isd_og_mou_7'].isnull()) & (df['std_ic_mou_7'].isnull()) & (df['offnet_mou_7'].isnull()) & \n",
    "  (df['isd_ic_mou_7'].isnull()) & (df['ic_others_7'].isnull()) & (df['std_ic_t2o_mou_7'].isnull()) & (df['onnet_mou_7'].isnull()) & \n",
    "  (df['spl_ic_mou_7'].isnull())]\n",
    "\n",
    "df_null_mou_7.head()"
   ]
  },
  {
   "cell_type": "code",
   "execution_count": 36,
   "metadata": {},
   "outputs": [],
   "source": [
    "# Deleting the records for which MOU for Jul(7) are null\n",
    "df = df.drop(df_null_mou_7.index)"
   ]
  },
  {
   "cell_type": "code",
   "execution_count": 37,
   "metadata": {
    "scrolled": true
   },
   "outputs": [
    {
     "data": {
      "text/html": [
       "<div>\n",
       "<style scoped>\n",
       "    .dataframe tbody tr th:only-of-type {\n",
       "        vertical-align: middle;\n",
       "    }\n",
       "\n",
       "    .dataframe tbody tr th {\n",
       "        vertical-align: top;\n",
       "    }\n",
       "\n",
       "    .dataframe thead th {\n",
       "        text-align: right;\n",
       "    }\n",
       "</style>\n",
       "<table border=\"1\" class=\"dataframe\">\n",
       "  <thead>\n",
       "    <tr style=\"text-align: right;\">\n",
       "      <th></th>\n",
       "      <th>null</th>\n",
       "    </tr>\n",
       "  </thead>\n",
       "  <tbody>\n",
       "    <tr>\n",
       "      <th>mobile_number</th>\n",
       "      <td>0.0</td>\n",
       "    </tr>\n",
       "    <tr>\n",
       "      <th>total_rech_num_7</th>\n",
       "      <td>0.0</td>\n",
       "    </tr>\n",
       "    <tr>\n",
       "      <th>std_ic_mou_7</th>\n",
       "      <td>0.0</td>\n",
       "    </tr>\n",
       "    <tr>\n",
       "      <th>std_ic_mou_8</th>\n",
       "      <td>0.0</td>\n",
       "    </tr>\n",
       "    <tr>\n",
       "      <th>std_ic_mou_9</th>\n",
       "      <td>0.0</td>\n",
       "    </tr>\n",
       "    <tr>\n",
       "      <th>...</th>\n",
       "      <td>...</td>\n",
       "    </tr>\n",
       "    <tr>\n",
       "      <th>std_og_mou_7</th>\n",
       "      <td>0.0</td>\n",
       "    </tr>\n",
       "    <tr>\n",
       "      <th>std_og_mou_8</th>\n",
       "      <td>0.0</td>\n",
       "    </tr>\n",
       "    <tr>\n",
       "      <th>std_og_mou_9</th>\n",
       "      <td>0.0</td>\n",
       "    </tr>\n",
       "    <tr>\n",
       "      <th>isd_og_mou_6</th>\n",
       "      <td>0.0</td>\n",
       "    </tr>\n",
       "    <tr>\n",
       "      <th>avg_rech_amt_6_7</th>\n",
       "      <td>0.0</td>\n",
       "    </tr>\n",
       "  </tbody>\n",
       "</table>\n",
       "<p>178 rows × 1 columns</p>\n",
       "</div>"
      ],
      "text/plain": [
       "                  null\n",
       "mobile_number      0.0\n",
       "total_rech_num_7   0.0\n",
       "std_ic_mou_7       0.0\n",
       "std_ic_mou_8       0.0\n",
       "std_ic_mou_9       0.0\n",
       "...                ...\n",
       "std_og_mou_7       0.0\n",
       "std_og_mou_8       0.0\n",
       "std_og_mou_9       0.0\n",
       "isd_og_mou_6       0.0\n",
       "avg_rech_amt_6_7   0.0\n",
       "\n",
       "[178 rows x 1 columns]"
      ]
     },
     "execution_count": 37,
     "metadata": {},
     "output_type": "execute_result"
    }
   ],
   "source": [
    "# Again cheking percent of missing values in columns\n",
    "df_missing_columns = (round(((df.isnull().sum()/len(df.index))*100),2).to_frame('null')).sort_values('null', ascending=False)\n",
    "df_missing_columns"
   ]
  },
  {
   "cell_type": "code",
   "execution_count": 38,
   "metadata": {},
   "outputs": [
    {
     "data": {
      "text/plain": [
       "(27991, 178)"
      ]
     },
     "execution_count": 38,
     "metadata": {},
     "output_type": "execute_result"
    }
   ],
   "source": [
    "df.shape"
   ]
  },
  {
   "cell_type": "code",
   "execution_count": 39,
   "metadata": {
    "scrolled": true
   },
   "outputs": [
    {
     "data": {
      "text/plain": [
       "0.07"
      ]
     },
     "execution_count": 39,
     "metadata": {},
     "output_type": "execute_result"
    }
   ],
   "source": [
    "# Checking percentage of rows we have lost while handling the missing values\n",
    "round((1- (len(df.index)/30011)),2)"
   ]
  },
  {
   "cell_type": "markdown",
   "metadata": {},
   "source": [
    "### Tag churners"
   ]
  },
  {
   "cell_type": "code",
   "execution_count": 40,
   "metadata": {},
   "outputs": [],
   "source": [
    "df['churn'] = ((df['total_ic_mou_9'] == 0) & (df['total_og_mou_9'] == 0) & (df['vol_2g_mb_9'] == 0) & (df['vol_3g_mb_9'] == 0)).astype(int)"
   ]
  },
  {
   "cell_type": "code",
   "execution_count": 41,
   "metadata": {},
   "outputs": [
    {
     "data": {
      "text/html": [
       "<div>\n",
       "<style scoped>\n",
       "    .dataframe tbody tr th:only-of-type {\n",
       "        vertical-align: middle;\n",
       "    }\n",
       "\n",
       "    .dataframe tbody tr th {\n",
       "        vertical-align: top;\n",
       "    }\n",
       "\n",
       "    .dataframe thead th {\n",
       "        text-align: right;\n",
       "    }\n",
       "</style>\n",
       "<table border=\"1\" class=\"dataframe\">\n",
       "  <thead>\n",
       "    <tr style=\"text-align: right;\">\n",
       "      <th></th>\n",
       "      <th>mobile_number</th>\n",
       "      <th>loc_og_t2o_mou</th>\n",
       "      <th>std_og_t2o_mou</th>\n",
       "      <th>loc_ic_t2o_mou</th>\n",
       "      <th>arpu_6</th>\n",
       "      <th>arpu_7</th>\n",
       "      <th>arpu_8</th>\n",
       "      <th>arpu_9</th>\n",
       "      <th>onnet_mou_6</th>\n",
       "      <th>onnet_mou_7</th>\n",
       "      <th>...</th>\n",
       "      <th>sachet_3g_7</th>\n",
       "      <th>sachet_3g_8</th>\n",
       "      <th>sachet_3g_9</th>\n",
       "      <th>aon</th>\n",
       "      <th>aug_vbc_3g</th>\n",
       "      <th>jul_vbc_3g</th>\n",
       "      <th>jun_vbc_3g</th>\n",
       "      <th>sep_vbc_3g</th>\n",
       "      <th>avg_rech_amt_6_7</th>\n",
       "      <th>churn</th>\n",
       "    </tr>\n",
       "  </thead>\n",
       "  <tbody>\n",
       "    <tr>\n",
       "      <th>8</th>\n",
       "      <td>7001524846</td>\n",
       "      <td>0.0</td>\n",
       "      <td>0.0</td>\n",
       "      <td>0.0</td>\n",
       "      <td>378.721</td>\n",
       "      <td>492.223</td>\n",
       "      <td>137.362</td>\n",
       "      <td>166.787</td>\n",
       "      <td>413.69</td>\n",
       "      <td>351.03</td>\n",
       "      <td>...</td>\n",
       "      <td>0</td>\n",
       "      <td>0</td>\n",
       "      <td>0</td>\n",
       "      <td>315</td>\n",
       "      <td>21.03</td>\n",
       "      <td>910.65</td>\n",
       "      <td>122.16</td>\n",
       "      <td>0.0</td>\n",
       "      <td>519.0</td>\n",
       "      <td>0</td>\n",
       "    </tr>\n",
       "    <tr>\n",
       "      <th>13</th>\n",
       "      <td>7002191713</td>\n",
       "      <td>0.0</td>\n",
       "      <td>0.0</td>\n",
       "      <td>0.0</td>\n",
       "      <td>492.846</td>\n",
       "      <td>205.671</td>\n",
       "      <td>593.260</td>\n",
       "      <td>322.732</td>\n",
       "      <td>501.76</td>\n",
       "      <td>108.39</td>\n",
       "      <td>...</td>\n",
       "      <td>0</td>\n",
       "      <td>0</td>\n",
       "      <td>0</td>\n",
       "      <td>2607</td>\n",
       "      <td>0.00</td>\n",
       "      <td>0.00</td>\n",
       "      <td>0.00</td>\n",
       "      <td>0.0</td>\n",
       "      <td>380.0</td>\n",
       "      <td>0</td>\n",
       "    </tr>\n",
       "    <tr>\n",
       "      <th>16</th>\n",
       "      <td>7000875565</td>\n",
       "      <td>0.0</td>\n",
       "      <td>0.0</td>\n",
       "      <td>0.0</td>\n",
       "      <td>430.975</td>\n",
       "      <td>299.869</td>\n",
       "      <td>187.894</td>\n",
       "      <td>206.490</td>\n",
       "      <td>50.51</td>\n",
       "      <td>74.01</td>\n",
       "      <td>...</td>\n",
       "      <td>0</td>\n",
       "      <td>0</td>\n",
       "      <td>0</td>\n",
       "      <td>511</td>\n",
       "      <td>0.00</td>\n",
       "      <td>2.45</td>\n",
       "      <td>21.89</td>\n",
       "      <td>0.0</td>\n",
       "      <td>459.0</td>\n",
       "      <td>0</td>\n",
       "    </tr>\n",
       "    <tr>\n",
       "      <th>17</th>\n",
       "      <td>7000187447</td>\n",
       "      <td>0.0</td>\n",
       "      <td>0.0</td>\n",
       "      <td>0.0</td>\n",
       "      <td>690.008</td>\n",
       "      <td>18.980</td>\n",
       "      <td>25.499</td>\n",
       "      <td>257.583</td>\n",
       "      <td>1185.91</td>\n",
       "      <td>9.28</td>\n",
       "      <td>...</td>\n",
       "      <td>0</td>\n",
       "      <td>0</td>\n",
       "      <td>0</td>\n",
       "      <td>667</td>\n",
       "      <td>0.00</td>\n",
       "      <td>0.00</td>\n",
       "      <td>0.00</td>\n",
       "      <td>0.0</td>\n",
       "      <td>408.0</td>\n",
       "      <td>0</td>\n",
       "    </tr>\n",
       "    <tr>\n",
       "      <th>21</th>\n",
       "      <td>7002124215</td>\n",
       "      <td>0.0</td>\n",
       "      <td>0.0</td>\n",
       "      <td>0.0</td>\n",
       "      <td>514.453</td>\n",
       "      <td>597.753</td>\n",
       "      <td>637.760</td>\n",
       "      <td>578.596</td>\n",
       "      <td>102.41</td>\n",
       "      <td>132.11</td>\n",
       "      <td>...</td>\n",
       "      <td>0</td>\n",
       "      <td>0</td>\n",
       "      <td>0</td>\n",
       "      <td>720</td>\n",
       "      <td>0.00</td>\n",
       "      <td>0.00</td>\n",
       "      <td>0.00</td>\n",
       "      <td>0.0</td>\n",
       "      <td>640.0</td>\n",
       "      <td>0</td>\n",
       "    </tr>\n",
       "  </tbody>\n",
       "</table>\n",
       "<p>5 rows × 179 columns</p>\n",
       "</div>"
      ],
      "text/plain": [
       "    mobile_number  loc_og_t2o_mou  std_og_t2o_mou  loc_ic_t2o_mou   arpu_6  \\\n",
       "8      7001524846             0.0             0.0             0.0  378.721   \n",
       "13     7002191713             0.0             0.0             0.0  492.846   \n",
       "16     7000875565             0.0             0.0             0.0  430.975   \n",
       "17     7000187447             0.0             0.0             0.0  690.008   \n",
       "21     7002124215             0.0             0.0             0.0  514.453   \n",
       "\n",
       "     arpu_7   arpu_8   arpu_9  onnet_mou_6  onnet_mou_7  ...  sachet_3g_7  \\\n",
       "8   492.223  137.362  166.787       413.69       351.03  ...            0   \n",
       "13  205.671  593.260  322.732       501.76       108.39  ...            0   \n",
       "16  299.869  187.894  206.490        50.51        74.01  ...            0   \n",
       "17   18.980   25.499  257.583      1185.91         9.28  ...            0   \n",
       "21  597.753  637.760  578.596       102.41       132.11  ...            0   \n",
       "\n",
       "    sachet_3g_8  sachet_3g_9   aon  aug_vbc_3g  jul_vbc_3g  jun_vbc_3g  \\\n",
       "8             0            0   315       21.03      910.65      122.16   \n",
       "13            0            0  2607        0.00        0.00        0.00   \n",
       "16            0            0   511        0.00        2.45       21.89   \n",
       "17            0            0   667        0.00        0.00        0.00   \n",
       "21            0            0   720        0.00        0.00        0.00   \n",
       "\n",
       "    sep_vbc_3g  avg_rech_amt_6_7  churn  \n",
       "8          0.0             519.0      0  \n",
       "13         0.0             380.0      0  \n",
       "16         0.0             459.0      0  \n",
       "17         0.0             408.0      0  \n",
       "21         0.0             640.0      0  \n",
       "\n",
       "[5 rows x 179 columns]"
      ]
     },
     "execution_count": 41,
     "metadata": {},
     "output_type": "execute_result"
    }
   ],
   "source": [
    "df.head()"
   ]
  },
  {
   "cell_type": "markdown",
   "metadata": {},
   "source": [
    "#### Deleting all the attributes corresponding to the churn phase"
   ]
  },
  {
   "cell_type": "code",
   "execution_count": 42,
   "metadata": {},
   "outputs": [
    {
     "name": "stdout",
     "output_type": "stream",
     "text": [
      "['arpu_9', 'onnet_mou_9', 'offnet_mou_9', 'roam_ic_mou_9', 'roam_og_mou_9', 'loc_og_t2t_mou_9', 'loc_og_t2m_mou_9', 'loc_og_t2f_mou_9', 'loc_og_t2c_mou_9', 'loc_og_mou_9', 'std_og_t2t_mou_9', 'std_og_t2m_mou_9', 'std_og_t2f_mou_9', 'std_og_t2c_mou_9', 'std_og_mou_9', 'isd_og_mou_9', 'spl_og_mou_9', 'og_others_9', 'total_og_mou_9', 'loc_ic_t2t_mou_9', 'loc_ic_t2m_mou_9', 'loc_ic_t2f_mou_9', 'loc_ic_mou_9', 'std_ic_t2t_mou_9', 'std_ic_t2m_mou_9', 'std_ic_t2f_mou_9', 'std_ic_t2o_mou_9', 'std_ic_mou_9', 'total_ic_mou_9', 'spl_ic_mou_9', 'isd_ic_mou_9', 'ic_others_9', 'total_rech_num_9', 'total_rech_amt_9', 'max_rech_amt_9', 'last_day_rch_amt_9', 'vol_2g_mb_9', 'vol_3g_mb_9', 'monthly_2g_9', 'sachet_2g_9', 'monthly_3g_9', 'sachet_3g_9']\n"
     ]
    }
   ],
   "source": [
    "col_9 = list(filter(lambda col: '_9' in col, df.columns))\n",
    "print(col_9)"
   ]
  },
  {
   "cell_type": "code",
   "execution_count": 43,
   "metadata": {},
   "outputs": [],
   "source": [
    "# Deleting the churn month columns\n",
    "df = df.drop(col_9, axis=1)"
   ]
  },
  {
   "cell_type": "code",
   "execution_count": 44,
   "metadata": {},
   "outputs": [],
   "source": [
    "# Dropping sep_vbc_3g column\n",
    "df = df.drop('sep_vbc_3g', axis=1)"
   ]
  },
  {
   "cell_type": "markdown",
   "metadata": {},
   "source": [
    "#### Checking churn percentage"
   ]
  },
  {
   "cell_type": "code",
   "execution_count": 45,
   "metadata": {},
   "outputs": [
    {
     "data": {
      "text/plain": [
       "3.39"
      ]
     },
     "execution_count": 45,
     "metadata": {},
     "output_type": "execute_result"
    }
   ],
   "source": [
    "round(100*(df['churn'].mean()),2)"
   ]
  },
  {
   "cell_type": "markdown",
   "metadata": {},
   "source": [
    "## Outliers treatment"
   ]
  },
  {
   "cell_type": "code",
   "execution_count": 46,
   "metadata": {},
   "outputs": [],
   "source": [
    "df['mobile_number'] = df['mobile_number'].astype(object)\n",
    "df['churn'] = df['churn'].astype(object)"
   ]
  },
  {
   "cell_type": "code",
   "execution_count": 47,
   "metadata": {},
   "outputs": [
    {
     "name": "stdout",
     "output_type": "stream",
     "text": [
      "['loc_og_t2o_mou', 'std_og_t2o_mou', 'loc_ic_t2o_mou', 'arpu_6', 'arpu_7', 'arpu_8', 'onnet_mou_6', 'onnet_mou_7', 'onnet_mou_8', 'offnet_mou_6', 'offnet_mou_7', 'offnet_mou_8', 'roam_ic_mou_6', 'roam_ic_mou_7', 'roam_ic_mou_8', 'roam_og_mou_6', 'roam_og_mou_7', 'roam_og_mou_8', 'loc_og_t2t_mou_6', 'loc_og_t2t_mou_7', 'loc_og_t2t_mou_8', 'loc_og_t2m_mou_6', 'loc_og_t2m_mou_7', 'loc_og_t2m_mou_8', 'loc_og_t2f_mou_6', 'loc_og_t2f_mou_7', 'loc_og_t2f_mou_8', 'loc_og_t2c_mou_6', 'loc_og_t2c_mou_7', 'loc_og_t2c_mou_8', 'loc_og_mou_6', 'loc_og_mou_7', 'loc_og_mou_8', 'std_og_t2t_mou_6', 'std_og_t2t_mou_7', 'std_og_t2t_mou_8', 'std_og_t2m_mou_6', 'std_og_t2m_mou_7', 'std_og_t2m_mou_8', 'std_og_t2f_mou_6', 'std_og_t2f_mou_7', 'std_og_t2f_mou_8', 'std_og_t2c_mou_6', 'std_og_t2c_mou_7', 'std_og_t2c_mou_8', 'std_og_mou_6', 'std_og_mou_7', 'std_og_mou_8', 'isd_og_mou_6', 'isd_og_mou_7', 'isd_og_mou_8', 'spl_og_mou_6', 'spl_og_mou_7', 'spl_og_mou_8', 'og_others_6', 'og_others_7', 'og_others_8', 'total_og_mou_6', 'total_og_mou_7', 'total_og_mou_8', 'loc_ic_t2t_mou_6', 'loc_ic_t2t_mou_7', 'loc_ic_t2t_mou_8', 'loc_ic_t2m_mou_6', 'loc_ic_t2m_mou_7', 'loc_ic_t2m_mou_8', 'loc_ic_t2f_mou_6', 'loc_ic_t2f_mou_7', 'loc_ic_t2f_mou_8', 'loc_ic_mou_6', 'loc_ic_mou_7', 'loc_ic_mou_8', 'std_ic_t2t_mou_6', 'std_ic_t2t_mou_7', 'std_ic_t2t_mou_8', 'std_ic_t2m_mou_6', 'std_ic_t2m_mou_7', 'std_ic_t2m_mou_8', 'std_ic_t2f_mou_6', 'std_ic_t2f_mou_7', 'std_ic_t2f_mou_8', 'std_ic_t2o_mou_6', 'std_ic_t2o_mou_7', 'std_ic_t2o_mou_8', 'std_ic_mou_6', 'std_ic_mou_7', 'std_ic_mou_8', 'total_ic_mou_6', 'total_ic_mou_7', 'total_ic_mou_8', 'spl_ic_mou_6', 'spl_ic_mou_7', 'spl_ic_mou_8', 'isd_ic_mou_6', 'isd_ic_mou_7', 'isd_ic_mou_8', 'ic_others_6', 'ic_others_7', 'ic_others_8', 'total_rech_num_6', 'total_rech_num_7', 'total_rech_num_8', 'total_rech_amt_6', 'total_rech_amt_7', 'total_rech_amt_8', 'max_rech_amt_6', 'max_rech_amt_7', 'max_rech_amt_8', 'last_day_rch_amt_6', 'last_day_rch_amt_7', 'last_day_rch_amt_8', 'vol_2g_mb_6', 'vol_2g_mb_7', 'vol_2g_mb_8', 'vol_3g_mb_6', 'vol_3g_mb_7', 'vol_3g_mb_8', 'monthly_2g_6', 'monthly_2g_7', 'monthly_2g_8', 'sachet_2g_6', 'sachet_2g_7', 'sachet_2g_8', 'monthly_3g_6', 'monthly_3g_7', 'monthly_3g_8', 'sachet_3g_6', 'sachet_3g_7', 'sachet_3g_8', 'aon', 'aug_vbc_3g', 'jul_vbc_3g', 'jun_vbc_3g', 'avg_rech_amt_6_7']\n"
     ]
    }
   ],
   "source": [
    "numeric_cols = [col for col in df.columns if df[col].dtype != 'object']\n",
    "print(numeric_cols)"
   ]
  },
  {
   "cell_type": "code",
   "execution_count": 48,
   "metadata": {},
   "outputs": [
    {
     "data": {
      "text/plain": [
       "(27705, 136)"
      ]
     },
     "execution_count": 48,
     "metadata": {},
     "output_type": "execute_result"
    }
   ],
   "source": [
    "# Removing outliers below 10th and above 90th percentile\n",
    "for col in numeric_cols: \n",
    "    q1 = df[col].quantile(0.10)\n",
    "    q3 = df[col].quantile(0.90)\n",
    "    iqr = q3-q1\n",
    "    range_low  = q1-1.5*iqr\n",
    "    range_high = q3+1.5*iqr\n",
    "    # Assigning the filtered dataset into data\n",
    "    data = df.loc[(df[col] > range_low) & (df[col] < range_high)]\n",
    "\n",
    "data.shape"
   ]
  },
  {
   "cell_type": "markdown",
   "metadata": {},
   "source": [
    "### Derive new features"
   ]
  },
  {
   "cell_type": "code",
   "execution_count": 49,
   "metadata": {},
   "outputs": [
    {
     "data": {
      "text/plain": [
       "['total_og_mou_6',\n",
       " 'total_og_mou_7',\n",
       " 'total_og_mou_8',\n",
       " 'total_ic_mou_6',\n",
       " 'total_ic_mou_7',\n",
       " 'total_ic_mou_8',\n",
       " 'total_rech_num_6',\n",
       " 'total_rech_num_7',\n",
       " 'total_rech_num_8',\n",
       " 'total_rech_amt_6',\n",
       " 'total_rech_amt_7',\n",
       " 'total_rech_amt_8']"
      ]
     },
     "execution_count": 49,
     "metadata": {},
     "output_type": "execute_result"
    }
   ],
   "source": [
    "# List the columns of total mou, rech_num and rech_amt\n",
    "[total for total in data.columns.to_list() if 'total' in total]"
   ]
  },
  {
   "cell_type": "code",
   "execution_count": 50,
   "metadata": {},
   "outputs": [],
   "source": [
    "# Total mou at good phase incoming and outgoing\n",
    "data['total_mou_good'] = (data['total_og_mou_6'] + data['total_ic_mou_6'])"
   ]
  },
  {
   "cell_type": "code",
   "execution_count": 51,
   "metadata": {},
   "outputs": [],
   "source": [
    "# Avg. mou at action phase\n",
    "# We are taking average because there are two months(7 and 8) in action phase\n",
    "data['avg_mou_action'] = (data['total_og_mou_7'] + data['total_og_mou_8'] + data['total_ic_mou_7'] + data['total_ic_mou_8'])/2"
   ]
  },
  {
   "cell_type": "code",
   "execution_count": 52,
   "metadata": {},
   "outputs": [],
   "source": [
    "# Difference avg_mou_good and avg_mou_action\n",
    "data['diff_mou'] = data['avg_mou_action'] - data['total_mou_good']"
   ]
  },
  {
   "cell_type": "code",
   "execution_count": 53,
   "metadata": {},
   "outputs": [],
   "source": [
    "# Checking whether the mou has decreased in action phase\n",
    "data['decrease_mou_action'] = np.where((data['diff_mou'] < 0), 1, 0)"
   ]
  },
  {
   "cell_type": "code",
   "execution_count": 54,
   "metadata": {},
   "outputs": [
    {
     "data": {
      "text/html": [
       "<div>\n",
       "<style scoped>\n",
       "    .dataframe tbody tr th:only-of-type {\n",
       "        vertical-align: middle;\n",
       "    }\n",
       "\n",
       "    .dataframe tbody tr th {\n",
       "        vertical-align: top;\n",
       "    }\n",
       "\n",
       "    .dataframe thead th {\n",
       "        text-align: right;\n",
       "    }\n",
       "</style>\n",
       "<table border=\"1\" class=\"dataframe\">\n",
       "  <thead>\n",
       "    <tr style=\"text-align: right;\">\n",
       "      <th></th>\n",
       "      <th>mobile_number</th>\n",
       "      <th>loc_og_t2o_mou</th>\n",
       "      <th>std_og_t2o_mou</th>\n",
       "      <th>loc_ic_t2o_mou</th>\n",
       "      <th>arpu_6</th>\n",
       "      <th>arpu_7</th>\n",
       "      <th>arpu_8</th>\n",
       "      <th>onnet_mou_6</th>\n",
       "      <th>onnet_mou_7</th>\n",
       "      <th>onnet_mou_8</th>\n",
       "      <th>...</th>\n",
       "      <th>aon</th>\n",
       "      <th>aug_vbc_3g</th>\n",
       "      <th>jul_vbc_3g</th>\n",
       "      <th>jun_vbc_3g</th>\n",
       "      <th>avg_rech_amt_6_7</th>\n",
       "      <th>churn</th>\n",
       "      <th>total_mou_good</th>\n",
       "      <th>avg_mou_action</th>\n",
       "      <th>diff_mou</th>\n",
       "      <th>decrease_mou_action</th>\n",
       "    </tr>\n",
       "  </thead>\n",
       "  <tbody>\n",
       "    <tr>\n",
       "      <th>8</th>\n",
       "      <td>7001524846</td>\n",
       "      <td>0.0</td>\n",
       "      <td>0.0</td>\n",
       "      <td>0.0</td>\n",
       "      <td>378.721</td>\n",
       "      <td>492.223</td>\n",
       "      <td>137.362</td>\n",
       "      <td>413.69</td>\n",
       "      <td>351.03</td>\n",
       "      <td>35.08</td>\n",
       "      <td>...</td>\n",
       "      <td>315</td>\n",
       "      <td>21.03</td>\n",
       "      <td>910.65</td>\n",
       "      <td>122.16</td>\n",
       "      <td>519.0</td>\n",
       "      <td>0</td>\n",
       "      <td>612.22</td>\n",
       "      <td>324.125</td>\n",
       "      <td>-288.095</td>\n",
       "      <td>1</td>\n",
       "    </tr>\n",
       "    <tr>\n",
       "      <th>13</th>\n",
       "      <td>7002191713</td>\n",
       "      <td>0.0</td>\n",
       "      <td>0.0</td>\n",
       "      <td>0.0</td>\n",
       "      <td>492.846</td>\n",
       "      <td>205.671</td>\n",
       "      <td>593.260</td>\n",
       "      <td>501.76</td>\n",
       "      <td>108.39</td>\n",
       "      <td>534.24</td>\n",
       "      <td>...</td>\n",
       "      <td>2607</td>\n",
       "      <td>0.00</td>\n",
       "      <td>0.00</td>\n",
       "      <td>0.00</td>\n",
       "      <td>380.0</td>\n",
       "      <td>0</td>\n",
       "      <td>1875.70</td>\n",
       "      <td>1262.390</td>\n",
       "      <td>-613.310</td>\n",
       "      <td>1</td>\n",
       "    </tr>\n",
       "    <tr>\n",
       "      <th>16</th>\n",
       "      <td>7000875565</td>\n",
       "      <td>0.0</td>\n",
       "      <td>0.0</td>\n",
       "      <td>0.0</td>\n",
       "      <td>430.975</td>\n",
       "      <td>299.869</td>\n",
       "      <td>187.894</td>\n",
       "      <td>50.51</td>\n",
       "      <td>74.01</td>\n",
       "      <td>70.61</td>\n",
       "      <td>...</td>\n",
       "      <td>511</td>\n",
       "      <td>0.00</td>\n",
       "      <td>2.45</td>\n",
       "      <td>21.89</td>\n",
       "      <td>459.0</td>\n",
       "      <td>0</td>\n",
       "      <td>711.67</td>\n",
       "      <td>597.705</td>\n",
       "      <td>-113.965</td>\n",
       "      <td>1</td>\n",
       "    </tr>\n",
       "    <tr>\n",
       "      <th>17</th>\n",
       "      <td>7000187447</td>\n",
       "      <td>0.0</td>\n",
       "      <td>0.0</td>\n",
       "      <td>0.0</td>\n",
       "      <td>690.008</td>\n",
       "      <td>18.980</td>\n",
       "      <td>25.499</td>\n",
       "      <td>1185.91</td>\n",
       "      <td>9.28</td>\n",
       "      <td>7.79</td>\n",
       "      <td>...</td>\n",
       "      <td>667</td>\n",
       "      <td>0.00</td>\n",
       "      <td>0.00</td>\n",
       "      <td>0.00</td>\n",
       "      <td>408.0</td>\n",
       "      <td>0</td>\n",
       "      <td>1341.41</td>\n",
       "      <td>1.560</td>\n",
       "      <td>-1339.850</td>\n",
       "      <td>1</td>\n",
       "    </tr>\n",
       "    <tr>\n",
       "      <th>21</th>\n",
       "      <td>7002124215</td>\n",
       "      <td>0.0</td>\n",
       "      <td>0.0</td>\n",
       "      <td>0.0</td>\n",
       "      <td>514.453</td>\n",
       "      <td>597.753</td>\n",
       "      <td>637.760</td>\n",
       "      <td>102.41</td>\n",
       "      <td>132.11</td>\n",
       "      <td>85.14</td>\n",
       "      <td>...</td>\n",
       "      <td>720</td>\n",
       "      <td>0.00</td>\n",
       "      <td>0.00</td>\n",
       "      <td>0.00</td>\n",
       "      <td>640.0</td>\n",
       "      <td>0</td>\n",
       "      <td>1067.43</td>\n",
       "      <td>1245.130</td>\n",
       "      <td>177.700</td>\n",
       "      <td>0</td>\n",
       "    </tr>\n",
       "  </tbody>\n",
       "</table>\n",
       "<p>5 rows × 140 columns</p>\n",
       "</div>"
      ],
      "text/plain": [
       "   mobile_number  loc_og_t2o_mou  std_og_t2o_mou  loc_ic_t2o_mou   arpu_6  \\\n",
       "8     7001524846             0.0             0.0             0.0  378.721   \n",
       "13    7002191713             0.0             0.0             0.0  492.846   \n",
       "16    7000875565             0.0             0.0             0.0  430.975   \n",
       "17    7000187447             0.0             0.0             0.0  690.008   \n",
       "21    7002124215             0.0             0.0             0.0  514.453   \n",
       "\n",
       "     arpu_7   arpu_8  onnet_mou_6  onnet_mou_7  onnet_mou_8  ...   aon  \\\n",
       "8   492.223  137.362       413.69       351.03        35.08  ...   315   \n",
       "13  205.671  593.260       501.76       108.39       534.24  ...  2607   \n",
       "16  299.869  187.894        50.51        74.01        70.61  ...   511   \n",
       "17   18.980   25.499      1185.91         9.28         7.79  ...   667   \n",
       "21  597.753  637.760       102.41       132.11        85.14  ...   720   \n",
       "\n",
       "    aug_vbc_3g  jul_vbc_3g  jun_vbc_3g  avg_rech_amt_6_7  churn  \\\n",
       "8        21.03      910.65      122.16             519.0      0   \n",
       "13        0.00        0.00        0.00             380.0      0   \n",
       "16        0.00        2.45       21.89             459.0      0   \n",
       "17        0.00        0.00        0.00             408.0      0   \n",
       "21        0.00        0.00        0.00             640.0      0   \n",
       "\n",
       "    total_mou_good  avg_mou_action  diff_mou  decrease_mou_action  \n",
       "8           612.22         324.125  -288.095                    1  \n",
       "13         1875.70        1262.390  -613.310                    1  \n",
       "16          711.67         597.705  -113.965                    1  \n",
       "17         1341.41           1.560 -1339.850                    1  \n",
       "21         1067.43        1245.130   177.700                    0  \n",
       "\n",
       "[5 rows x 140 columns]"
      ]
     },
     "execution_count": 54,
     "metadata": {},
     "output_type": "execute_result"
    }
   ],
   "source": [
    "data.head()"
   ]
  },
  {
   "cell_type": "code",
   "execution_count": 55,
   "metadata": {},
   "outputs": [],
   "source": [
    "# Avg rech number at action phase\n",
    "data['avg_rech_num_action'] = (data['total_rech_num_7'] + data['total_rech_num_8'])/2"
   ]
  },
  {
   "cell_type": "code",
   "execution_count": 56,
   "metadata": {},
   "outputs": [],
   "source": [
    "# Difference total_rech_num_6 and avg_rech_action\n",
    "data['diff_rech_num'] = data['avg_rech_num_action'] - data['total_rech_num_6']"
   ]
  },
  {
   "cell_type": "code",
   "execution_count": 57,
   "metadata": {},
   "outputs": [],
   "source": [
    "# Checking if rech_num has decreased in action phase\n",
    "data['decrease_rech_num_action'] = np.where((data['diff_rech_num'] < 0), 1, 0)"
   ]
  },
  {
   "cell_type": "code",
   "execution_count": 58,
   "metadata": {},
   "outputs": [
    {
     "data": {
      "text/html": [
       "<div>\n",
       "<style scoped>\n",
       "    .dataframe tbody tr th:only-of-type {\n",
       "        vertical-align: middle;\n",
       "    }\n",
       "\n",
       "    .dataframe tbody tr th {\n",
       "        vertical-align: top;\n",
       "    }\n",
       "\n",
       "    .dataframe thead th {\n",
       "        text-align: right;\n",
       "    }\n",
       "</style>\n",
       "<table border=\"1\" class=\"dataframe\">\n",
       "  <thead>\n",
       "    <tr style=\"text-align: right;\">\n",
       "      <th></th>\n",
       "      <th>mobile_number</th>\n",
       "      <th>loc_og_t2o_mou</th>\n",
       "      <th>std_og_t2o_mou</th>\n",
       "      <th>loc_ic_t2o_mou</th>\n",
       "      <th>arpu_6</th>\n",
       "      <th>arpu_7</th>\n",
       "      <th>arpu_8</th>\n",
       "      <th>onnet_mou_6</th>\n",
       "      <th>onnet_mou_7</th>\n",
       "      <th>onnet_mou_8</th>\n",
       "      <th>...</th>\n",
       "      <th>jun_vbc_3g</th>\n",
       "      <th>avg_rech_amt_6_7</th>\n",
       "      <th>churn</th>\n",
       "      <th>total_mou_good</th>\n",
       "      <th>avg_mou_action</th>\n",
       "      <th>diff_mou</th>\n",
       "      <th>decrease_mou_action</th>\n",
       "      <th>avg_rech_num_action</th>\n",
       "      <th>diff_rech_num</th>\n",
       "      <th>decrease_rech_num_action</th>\n",
       "    </tr>\n",
       "  </thead>\n",
       "  <tbody>\n",
       "    <tr>\n",
       "      <th>8</th>\n",
       "      <td>7001524846</td>\n",
       "      <td>0.0</td>\n",
       "      <td>0.0</td>\n",
       "      <td>0.0</td>\n",
       "      <td>378.721</td>\n",
       "      <td>492.223</td>\n",
       "      <td>137.362</td>\n",
       "      <td>413.69</td>\n",
       "      <td>351.03</td>\n",
       "      <td>35.08</td>\n",
       "      <td>...</td>\n",
       "      <td>122.16</td>\n",
       "      <td>519.0</td>\n",
       "      <td>0</td>\n",
       "      <td>612.22</td>\n",
       "      <td>324.125</td>\n",
       "      <td>-288.095</td>\n",
       "      <td>1</td>\n",
       "      <td>17.5</td>\n",
       "      <td>-1.5</td>\n",
       "      <td>1</td>\n",
       "    </tr>\n",
       "    <tr>\n",
       "      <th>13</th>\n",
       "      <td>7002191713</td>\n",
       "      <td>0.0</td>\n",
       "      <td>0.0</td>\n",
       "      <td>0.0</td>\n",
       "      <td>492.846</td>\n",
       "      <td>205.671</td>\n",
       "      <td>593.260</td>\n",
       "      <td>501.76</td>\n",
       "      <td>108.39</td>\n",
       "      <td>534.24</td>\n",
       "      <td>...</td>\n",
       "      <td>0.00</td>\n",
       "      <td>380.0</td>\n",
       "      <td>0</td>\n",
       "      <td>1875.70</td>\n",
       "      <td>1262.390</td>\n",
       "      <td>-613.310</td>\n",
       "      <td>1</td>\n",
       "      <td>7.5</td>\n",
       "      <td>1.5</td>\n",
       "      <td>0</td>\n",
       "    </tr>\n",
       "    <tr>\n",
       "      <th>16</th>\n",
       "      <td>7000875565</td>\n",
       "      <td>0.0</td>\n",
       "      <td>0.0</td>\n",
       "      <td>0.0</td>\n",
       "      <td>430.975</td>\n",
       "      <td>299.869</td>\n",
       "      <td>187.894</td>\n",
       "      <td>50.51</td>\n",
       "      <td>74.01</td>\n",
       "      <td>70.61</td>\n",
       "      <td>...</td>\n",
       "      <td>21.89</td>\n",
       "      <td>459.0</td>\n",
       "      <td>0</td>\n",
       "      <td>711.67</td>\n",
       "      <td>597.705</td>\n",
       "      <td>-113.965</td>\n",
       "      <td>1</td>\n",
       "      <td>4.0</td>\n",
       "      <td>-6.0</td>\n",
       "      <td>1</td>\n",
       "    </tr>\n",
       "    <tr>\n",
       "      <th>17</th>\n",
       "      <td>7000187447</td>\n",
       "      <td>0.0</td>\n",
       "      <td>0.0</td>\n",
       "      <td>0.0</td>\n",
       "      <td>690.008</td>\n",
       "      <td>18.980</td>\n",
       "      <td>25.499</td>\n",
       "      <td>1185.91</td>\n",
       "      <td>9.28</td>\n",
       "      <td>7.79</td>\n",
       "      <td>...</td>\n",
       "      <td>0.00</td>\n",
       "      <td>408.0</td>\n",
       "      <td>0</td>\n",
       "      <td>1341.41</td>\n",
       "      <td>1.560</td>\n",
       "      <td>-1339.850</td>\n",
       "      <td>1</td>\n",
       "      <td>3.0</td>\n",
       "      <td>-16.0</td>\n",
       "      <td>1</td>\n",
       "    </tr>\n",
       "    <tr>\n",
       "      <th>21</th>\n",
       "      <td>7002124215</td>\n",
       "      <td>0.0</td>\n",
       "      <td>0.0</td>\n",
       "      <td>0.0</td>\n",
       "      <td>514.453</td>\n",
       "      <td>597.753</td>\n",
       "      <td>637.760</td>\n",
       "      <td>102.41</td>\n",
       "      <td>132.11</td>\n",
       "      <td>85.14</td>\n",
       "      <td>...</td>\n",
       "      <td>0.00</td>\n",
       "      <td>640.0</td>\n",
       "      <td>0</td>\n",
       "      <td>1067.43</td>\n",
       "      <td>1245.130</td>\n",
       "      <td>177.700</td>\n",
       "      <td>0</td>\n",
       "      <td>26.5</td>\n",
       "      <td>4.5</td>\n",
       "      <td>0</td>\n",
       "    </tr>\n",
       "  </tbody>\n",
       "</table>\n",
       "<p>5 rows × 143 columns</p>\n",
       "</div>"
      ],
      "text/plain": [
       "   mobile_number  loc_og_t2o_mou  std_og_t2o_mou  loc_ic_t2o_mou   arpu_6  \\\n",
       "8     7001524846             0.0             0.0             0.0  378.721   \n",
       "13    7002191713             0.0             0.0             0.0  492.846   \n",
       "16    7000875565             0.0             0.0             0.0  430.975   \n",
       "17    7000187447             0.0             0.0             0.0  690.008   \n",
       "21    7002124215             0.0             0.0             0.0  514.453   \n",
       "\n",
       "     arpu_7   arpu_8  onnet_mou_6  onnet_mou_7  onnet_mou_8  ...  jun_vbc_3g  \\\n",
       "8   492.223  137.362       413.69       351.03        35.08  ...      122.16   \n",
       "13  205.671  593.260       501.76       108.39       534.24  ...        0.00   \n",
       "16  299.869  187.894        50.51        74.01        70.61  ...       21.89   \n",
       "17   18.980   25.499      1185.91         9.28         7.79  ...        0.00   \n",
       "21  597.753  637.760       102.41       132.11        85.14  ...        0.00   \n",
       "\n",
       "    avg_rech_amt_6_7  churn  total_mou_good  avg_mou_action  diff_mou  \\\n",
       "8              519.0      0          612.22         324.125  -288.095   \n",
       "13             380.0      0         1875.70        1262.390  -613.310   \n",
       "16             459.0      0          711.67         597.705  -113.965   \n",
       "17             408.0      0         1341.41           1.560 -1339.850   \n",
       "21             640.0      0         1067.43        1245.130   177.700   \n",
       "\n",
       "    decrease_mou_action  avg_rech_num_action  diff_rech_num  \\\n",
       "8                     1                 17.5           -1.5   \n",
       "13                    1                  7.5            1.5   \n",
       "16                    1                  4.0           -6.0   \n",
       "17                    1                  3.0          -16.0   \n",
       "21                    0                 26.5            4.5   \n",
       "\n",
       "    decrease_rech_num_action  \n",
       "8                          1  \n",
       "13                         0  \n",
       "16                         1  \n",
       "17                         1  \n",
       "21                         0  \n",
       "\n",
       "[5 rows x 143 columns]"
      ]
     },
     "execution_count": 58,
     "metadata": {},
     "output_type": "execute_result"
    }
   ],
   "source": [
    "data.head()"
   ]
  },
  {
   "cell_type": "code",
   "execution_count": 59,
   "metadata": {},
   "outputs": [],
   "source": [
    "# Avg rech_amt in action phase\n",
    "data['avg_rech_amt_action'] = (data['total_rech_amt_7'] + data['total_rech_amt_8'])/2"
   ]
  },
  {
   "cell_type": "code",
   "execution_count": 60,
   "metadata": {},
   "outputs": [],
   "source": [
    "# Difference of action phase rech amt and good phase rech amt\n",
    "data['diff_rech_amt'] = data['avg_rech_amt_action'] - data['total_rech_amt_6']"
   ]
  },
  {
   "cell_type": "code",
   "execution_count": 61,
   "metadata": {},
   "outputs": [],
   "source": [
    "# Checking if rech_amt has decreased in action phase\n",
    "data['decrease_rech_amt_action'] = np.where((data['diff_rech_amt'] < 0), 1, 0) "
   ]
  },
  {
   "cell_type": "code",
   "execution_count": 62,
   "metadata": {},
   "outputs": [
    {
     "data": {
      "text/html": [
       "<div>\n",
       "<style scoped>\n",
       "    .dataframe tbody tr th:only-of-type {\n",
       "        vertical-align: middle;\n",
       "    }\n",
       "\n",
       "    .dataframe tbody tr th {\n",
       "        vertical-align: top;\n",
       "    }\n",
       "\n",
       "    .dataframe thead th {\n",
       "        text-align: right;\n",
       "    }\n",
       "</style>\n",
       "<table border=\"1\" class=\"dataframe\">\n",
       "  <thead>\n",
       "    <tr style=\"text-align: right;\">\n",
       "      <th></th>\n",
       "      <th>mobile_number</th>\n",
       "      <th>loc_og_t2o_mou</th>\n",
       "      <th>std_og_t2o_mou</th>\n",
       "      <th>loc_ic_t2o_mou</th>\n",
       "      <th>arpu_6</th>\n",
       "      <th>arpu_7</th>\n",
       "      <th>arpu_8</th>\n",
       "      <th>onnet_mou_6</th>\n",
       "      <th>onnet_mou_7</th>\n",
       "      <th>onnet_mou_8</th>\n",
       "      <th>...</th>\n",
       "      <th>total_mou_good</th>\n",
       "      <th>avg_mou_action</th>\n",
       "      <th>diff_mou</th>\n",
       "      <th>decrease_mou_action</th>\n",
       "      <th>avg_rech_num_action</th>\n",
       "      <th>diff_rech_num</th>\n",
       "      <th>decrease_rech_num_action</th>\n",
       "      <th>avg_rech_amt_action</th>\n",
       "      <th>diff_rech_amt</th>\n",
       "      <th>decrease_rech_amt_action</th>\n",
       "    </tr>\n",
       "  </thead>\n",
       "  <tbody>\n",
       "    <tr>\n",
       "      <th>8</th>\n",
       "      <td>7001524846</td>\n",
       "      <td>0.0</td>\n",
       "      <td>0.0</td>\n",
       "      <td>0.0</td>\n",
       "      <td>378.721</td>\n",
       "      <td>492.223</td>\n",
       "      <td>137.362</td>\n",
       "      <td>413.69</td>\n",
       "      <td>351.03</td>\n",
       "      <td>35.08</td>\n",
       "      <td>...</td>\n",
       "      <td>612.22</td>\n",
       "      <td>324.125</td>\n",
       "      <td>-288.095</td>\n",
       "      <td>1</td>\n",
       "      <td>17.5</td>\n",
       "      <td>-1.5</td>\n",
       "      <td>1</td>\n",
       "      <td>360.5</td>\n",
       "      <td>-76.5</td>\n",
       "      <td>1</td>\n",
       "    </tr>\n",
       "    <tr>\n",
       "      <th>13</th>\n",
       "      <td>7002191713</td>\n",
       "      <td>0.0</td>\n",
       "      <td>0.0</td>\n",
       "      <td>0.0</td>\n",
       "      <td>492.846</td>\n",
       "      <td>205.671</td>\n",
       "      <td>593.260</td>\n",
       "      <td>501.76</td>\n",
       "      <td>108.39</td>\n",
       "      <td>534.24</td>\n",
       "      <td>...</td>\n",
       "      <td>1875.70</td>\n",
       "      <td>1262.390</td>\n",
       "      <td>-613.310</td>\n",
       "      <td>1</td>\n",
       "      <td>7.5</td>\n",
       "      <td>1.5</td>\n",
       "      <td>0</td>\n",
       "      <td>485.0</td>\n",
       "      <td>-22.0</td>\n",
       "      <td>1</td>\n",
       "    </tr>\n",
       "    <tr>\n",
       "      <th>16</th>\n",
       "      <td>7000875565</td>\n",
       "      <td>0.0</td>\n",
       "      <td>0.0</td>\n",
       "      <td>0.0</td>\n",
       "      <td>430.975</td>\n",
       "      <td>299.869</td>\n",
       "      <td>187.894</td>\n",
       "      <td>50.51</td>\n",
       "      <td>74.01</td>\n",
       "      <td>70.61</td>\n",
       "      <td>...</td>\n",
       "      <td>711.67</td>\n",
       "      <td>597.705</td>\n",
       "      <td>-113.965</td>\n",
       "      <td>1</td>\n",
       "      <td>4.0</td>\n",
       "      <td>-6.0</td>\n",
       "      <td>1</td>\n",
       "      <td>254.0</td>\n",
       "      <td>-316.0</td>\n",
       "      <td>1</td>\n",
       "    </tr>\n",
       "    <tr>\n",
       "      <th>17</th>\n",
       "      <td>7000187447</td>\n",
       "      <td>0.0</td>\n",
       "      <td>0.0</td>\n",
       "      <td>0.0</td>\n",
       "      <td>690.008</td>\n",
       "      <td>18.980</td>\n",
       "      <td>25.499</td>\n",
       "      <td>1185.91</td>\n",
       "      <td>9.28</td>\n",
       "      <td>7.79</td>\n",
       "      <td>...</td>\n",
       "      <td>1341.41</td>\n",
       "      <td>1.560</td>\n",
       "      <td>-1339.850</td>\n",
       "      <td>1</td>\n",
       "      <td>3.0</td>\n",
       "      <td>-16.0</td>\n",
       "      <td>1</td>\n",
       "      <td>15.0</td>\n",
       "      <td>-801.0</td>\n",
       "      <td>1</td>\n",
       "    </tr>\n",
       "    <tr>\n",
       "      <th>21</th>\n",
       "      <td>7002124215</td>\n",
       "      <td>0.0</td>\n",
       "      <td>0.0</td>\n",
       "      <td>0.0</td>\n",
       "      <td>514.453</td>\n",
       "      <td>597.753</td>\n",
       "      <td>637.760</td>\n",
       "      <td>102.41</td>\n",
       "      <td>132.11</td>\n",
       "      <td>85.14</td>\n",
       "      <td>...</td>\n",
       "      <td>1067.43</td>\n",
       "      <td>1245.130</td>\n",
       "      <td>177.700</td>\n",
       "      <td>0</td>\n",
       "      <td>26.5</td>\n",
       "      <td>4.5</td>\n",
       "      <td>0</td>\n",
       "      <td>699.0</td>\n",
       "      <td>99.0</td>\n",
       "      <td>0</td>\n",
       "    </tr>\n",
       "  </tbody>\n",
       "</table>\n",
       "<p>5 rows × 146 columns</p>\n",
       "</div>"
      ],
      "text/plain": [
       "   mobile_number  loc_og_t2o_mou  std_og_t2o_mou  loc_ic_t2o_mou   arpu_6  \\\n",
       "8     7001524846             0.0             0.0             0.0  378.721   \n",
       "13    7002191713             0.0             0.0             0.0  492.846   \n",
       "16    7000875565             0.0             0.0             0.0  430.975   \n",
       "17    7000187447             0.0             0.0             0.0  690.008   \n",
       "21    7002124215             0.0             0.0             0.0  514.453   \n",
       "\n",
       "     arpu_7   arpu_8  onnet_mou_6  onnet_mou_7  onnet_mou_8  ...  \\\n",
       "8   492.223  137.362       413.69       351.03        35.08  ...   \n",
       "13  205.671  593.260       501.76       108.39       534.24  ...   \n",
       "16  299.869  187.894        50.51        74.01        70.61  ...   \n",
       "17   18.980   25.499      1185.91         9.28         7.79  ...   \n",
       "21  597.753  637.760       102.41       132.11        85.14  ...   \n",
       "\n",
       "    total_mou_good  avg_mou_action  diff_mou  decrease_mou_action  \\\n",
       "8           612.22         324.125  -288.095                    1   \n",
       "13         1875.70        1262.390  -613.310                    1   \n",
       "16          711.67         597.705  -113.965                    1   \n",
       "17         1341.41           1.560 -1339.850                    1   \n",
       "21         1067.43        1245.130   177.700                    0   \n",
       "\n",
       "    avg_rech_num_action  diff_rech_num  decrease_rech_num_action  \\\n",
       "8                  17.5           -1.5                         1   \n",
       "13                  7.5            1.5                         0   \n",
       "16                  4.0           -6.0                         1   \n",
       "17                  3.0          -16.0                         1   \n",
       "21                 26.5            4.5                         0   \n",
       "\n",
       "    avg_rech_amt_action  diff_rech_amt  decrease_rech_amt_action  \n",
       "8                 360.5          -76.5                         1  \n",
       "13                485.0          -22.0                         1  \n",
       "16                254.0         -316.0                         1  \n",
       "17                 15.0         -801.0                         1  \n",
       "21                699.0           99.0                         0  \n",
       "\n",
       "[5 rows x 146 columns]"
      ]
     },
     "execution_count": 62,
     "metadata": {},
     "output_type": "execute_result"
    }
   ],
   "source": [
    "data.head()"
   ]
  },
  {
   "cell_type": "code",
   "execution_count": 63,
   "metadata": {},
   "outputs": [],
   "source": [
    "# ARUP in action phase\n",
    "data['avg_arpu_action'] = (data['arpu_7'] + data['arpu_8'])/2"
   ]
  },
  {
   "cell_type": "code",
   "execution_count": 64,
   "metadata": {},
   "outputs": [],
   "source": [
    "# Difference of good and action phase ARPU\n",
    "data['diff_arpu'] = data['avg_arpu_action'] - data['arpu_6']"
   ]
  },
  {
   "cell_type": "code",
   "execution_count": 65,
   "metadata": {},
   "outputs": [],
   "source": [
    "# Checking whether the arpu has decreased on the action month\n",
    "data['decrease_arpu_action'] = np.where(data['diff_arpu'] < 0, 1, 0)"
   ]
  },
  {
   "cell_type": "code",
   "execution_count": 66,
   "metadata": {},
   "outputs": [
    {
     "data": {
      "text/html": [
       "<div>\n",
       "<style scoped>\n",
       "    .dataframe tbody tr th:only-of-type {\n",
       "        vertical-align: middle;\n",
       "    }\n",
       "\n",
       "    .dataframe tbody tr th {\n",
       "        vertical-align: top;\n",
       "    }\n",
       "\n",
       "    .dataframe thead th {\n",
       "        text-align: right;\n",
       "    }\n",
       "</style>\n",
       "<table border=\"1\" class=\"dataframe\">\n",
       "  <thead>\n",
       "    <tr style=\"text-align: right;\">\n",
       "      <th></th>\n",
       "      <th>mobile_number</th>\n",
       "      <th>loc_og_t2o_mou</th>\n",
       "      <th>std_og_t2o_mou</th>\n",
       "      <th>loc_ic_t2o_mou</th>\n",
       "      <th>arpu_6</th>\n",
       "      <th>arpu_7</th>\n",
       "      <th>arpu_8</th>\n",
       "      <th>onnet_mou_6</th>\n",
       "      <th>onnet_mou_7</th>\n",
       "      <th>onnet_mou_8</th>\n",
       "      <th>...</th>\n",
       "      <th>decrease_mou_action</th>\n",
       "      <th>avg_rech_num_action</th>\n",
       "      <th>diff_rech_num</th>\n",
       "      <th>decrease_rech_num_action</th>\n",
       "      <th>avg_rech_amt_action</th>\n",
       "      <th>diff_rech_amt</th>\n",
       "      <th>decrease_rech_amt_action</th>\n",
       "      <th>avg_arpu_action</th>\n",
       "      <th>diff_arpu</th>\n",
       "      <th>decrease_arpu_action</th>\n",
       "    </tr>\n",
       "  </thead>\n",
       "  <tbody>\n",
       "    <tr>\n",
       "      <th>8</th>\n",
       "      <td>7001524846</td>\n",
       "      <td>0.0</td>\n",
       "      <td>0.0</td>\n",
       "      <td>0.0</td>\n",
       "      <td>378.721</td>\n",
       "      <td>492.223</td>\n",
       "      <td>137.362</td>\n",
       "      <td>413.69</td>\n",
       "      <td>351.03</td>\n",
       "      <td>35.08</td>\n",
       "      <td>...</td>\n",
       "      <td>1</td>\n",
       "      <td>17.5</td>\n",
       "      <td>-1.5</td>\n",
       "      <td>1</td>\n",
       "      <td>360.5</td>\n",
       "      <td>-76.5</td>\n",
       "      <td>1</td>\n",
       "      <td>314.7925</td>\n",
       "      <td>-63.9285</td>\n",
       "      <td>1</td>\n",
       "    </tr>\n",
       "    <tr>\n",
       "      <th>13</th>\n",
       "      <td>7002191713</td>\n",
       "      <td>0.0</td>\n",
       "      <td>0.0</td>\n",
       "      <td>0.0</td>\n",
       "      <td>492.846</td>\n",
       "      <td>205.671</td>\n",
       "      <td>593.260</td>\n",
       "      <td>501.76</td>\n",
       "      <td>108.39</td>\n",
       "      <td>534.24</td>\n",
       "      <td>...</td>\n",
       "      <td>1</td>\n",
       "      <td>7.5</td>\n",
       "      <td>1.5</td>\n",
       "      <td>0</td>\n",
       "      <td>485.0</td>\n",
       "      <td>-22.0</td>\n",
       "      <td>1</td>\n",
       "      <td>399.4655</td>\n",
       "      <td>-93.3805</td>\n",
       "      <td>1</td>\n",
       "    </tr>\n",
       "    <tr>\n",
       "      <th>16</th>\n",
       "      <td>7000875565</td>\n",
       "      <td>0.0</td>\n",
       "      <td>0.0</td>\n",
       "      <td>0.0</td>\n",
       "      <td>430.975</td>\n",
       "      <td>299.869</td>\n",
       "      <td>187.894</td>\n",
       "      <td>50.51</td>\n",
       "      <td>74.01</td>\n",
       "      <td>70.61</td>\n",
       "      <td>...</td>\n",
       "      <td>1</td>\n",
       "      <td>4.0</td>\n",
       "      <td>-6.0</td>\n",
       "      <td>1</td>\n",
       "      <td>254.0</td>\n",
       "      <td>-316.0</td>\n",
       "      <td>1</td>\n",
       "      <td>243.8815</td>\n",
       "      <td>-187.0935</td>\n",
       "      <td>1</td>\n",
       "    </tr>\n",
       "    <tr>\n",
       "      <th>17</th>\n",
       "      <td>7000187447</td>\n",
       "      <td>0.0</td>\n",
       "      <td>0.0</td>\n",
       "      <td>0.0</td>\n",
       "      <td>690.008</td>\n",
       "      <td>18.980</td>\n",
       "      <td>25.499</td>\n",
       "      <td>1185.91</td>\n",
       "      <td>9.28</td>\n",
       "      <td>7.79</td>\n",
       "      <td>...</td>\n",
       "      <td>1</td>\n",
       "      <td>3.0</td>\n",
       "      <td>-16.0</td>\n",
       "      <td>1</td>\n",
       "      <td>15.0</td>\n",
       "      <td>-801.0</td>\n",
       "      <td>1</td>\n",
       "      <td>22.2395</td>\n",
       "      <td>-667.7685</td>\n",
       "      <td>1</td>\n",
       "    </tr>\n",
       "    <tr>\n",
       "      <th>21</th>\n",
       "      <td>7002124215</td>\n",
       "      <td>0.0</td>\n",
       "      <td>0.0</td>\n",
       "      <td>0.0</td>\n",
       "      <td>514.453</td>\n",
       "      <td>597.753</td>\n",
       "      <td>637.760</td>\n",
       "      <td>102.41</td>\n",
       "      <td>132.11</td>\n",
       "      <td>85.14</td>\n",
       "      <td>...</td>\n",
       "      <td>0</td>\n",
       "      <td>26.5</td>\n",
       "      <td>4.5</td>\n",
       "      <td>0</td>\n",
       "      <td>699.0</td>\n",
       "      <td>99.0</td>\n",
       "      <td>0</td>\n",
       "      <td>617.7565</td>\n",
       "      <td>103.3035</td>\n",
       "      <td>0</td>\n",
       "    </tr>\n",
       "  </tbody>\n",
       "</table>\n",
       "<p>5 rows × 149 columns</p>\n",
       "</div>"
      ],
      "text/plain": [
       "   mobile_number  loc_og_t2o_mou  std_og_t2o_mou  loc_ic_t2o_mou   arpu_6  \\\n",
       "8     7001524846             0.0             0.0             0.0  378.721   \n",
       "13    7002191713             0.0             0.0             0.0  492.846   \n",
       "16    7000875565             0.0             0.0             0.0  430.975   \n",
       "17    7000187447             0.0             0.0             0.0  690.008   \n",
       "21    7002124215             0.0             0.0             0.0  514.453   \n",
       "\n",
       "     arpu_7   arpu_8  onnet_mou_6  onnet_mou_7  onnet_mou_8  ...  \\\n",
       "8   492.223  137.362       413.69       351.03        35.08  ...   \n",
       "13  205.671  593.260       501.76       108.39       534.24  ...   \n",
       "16  299.869  187.894        50.51        74.01        70.61  ...   \n",
       "17   18.980   25.499      1185.91         9.28         7.79  ...   \n",
       "21  597.753  637.760       102.41       132.11        85.14  ...   \n",
       "\n",
       "    decrease_mou_action  avg_rech_num_action  diff_rech_num  \\\n",
       "8                     1                 17.5           -1.5   \n",
       "13                    1                  7.5            1.5   \n",
       "16                    1                  4.0           -6.0   \n",
       "17                    1                  3.0          -16.0   \n",
       "21                    0                 26.5            4.5   \n",
       "\n",
       "    decrease_rech_num_action  avg_rech_amt_action  diff_rech_amt  \\\n",
       "8                          1                360.5          -76.5   \n",
       "13                         0                485.0          -22.0   \n",
       "16                         1                254.0         -316.0   \n",
       "17                         1                 15.0         -801.0   \n",
       "21                         0                699.0           99.0   \n",
       "\n",
       "    decrease_rech_amt_action  avg_arpu_action  diff_arpu  decrease_arpu_action  \n",
       "8                          1         314.7925   -63.9285                     1  \n",
       "13                         1         399.4655   -93.3805                     1  \n",
       "16                         1         243.8815  -187.0935                     1  \n",
       "17                         1          22.2395  -667.7685                     1  \n",
       "21                         0         617.7565   103.3035                     0  \n",
       "\n",
       "[5 rows x 149 columns]"
      ]
     },
     "execution_count": 66,
     "metadata": {},
     "output_type": "execute_result"
    }
   ],
   "source": [
    "data.head()"
   ]
  },
  {
   "cell_type": "code",
   "execution_count": 67,
   "metadata": {},
   "outputs": [],
   "source": [
    "# VBC in action phase\n",
    "data['avg_vbc_3g_action'] = (data['jul_vbc_3g'] + data['aug_vbc_3g'])/2"
   ]
  },
  {
   "cell_type": "code",
   "execution_count": 68,
   "metadata": {},
   "outputs": [],
   "source": [
    "# Difference of good and action phase VBC\n",
    "data['diff_vbc'] = data['avg_vbc_3g_action'] - data['jun_vbc_3g']"
   ]
  },
  {
   "cell_type": "code",
   "execution_count": 69,
   "metadata": {},
   "outputs": [],
   "source": [
    "# Checking whether the VBC has decreased on the action month\n",
    "data['decrease_vbc_action'] = np.where(data['diff_vbc'] < 0 , 1, 0)"
   ]
  },
  {
   "cell_type": "code",
   "execution_count": 70,
   "metadata": {},
   "outputs": [
    {
     "data": {
      "text/html": [
       "<div>\n",
       "<style scoped>\n",
       "    .dataframe tbody tr th:only-of-type {\n",
       "        vertical-align: middle;\n",
       "    }\n",
       "\n",
       "    .dataframe tbody tr th {\n",
       "        vertical-align: top;\n",
       "    }\n",
       "\n",
       "    .dataframe thead th {\n",
       "        text-align: right;\n",
       "    }\n",
       "</style>\n",
       "<table border=\"1\" class=\"dataframe\">\n",
       "  <thead>\n",
       "    <tr style=\"text-align: right;\">\n",
       "      <th></th>\n",
       "      <th>mobile_number</th>\n",
       "      <th>loc_og_t2o_mou</th>\n",
       "      <th>std_og_t2o_mou</th>\n",
       "      <th>loc_ic_t2o_mou</th>\n",
       "      <th>arpu_6</th>\n",
       "      <th>arpu_7</th>\n",
       "      <th>arpu_8</th>\n",
       "      <th>onnet_mou_6</th>\n",
       "      <th>onnet_mou_7</th>\n",
       "      <th>onnet_mou_8</th>\n",
       "      <th>...</th>\n",
       "      <th>decrease_rech_num_action</th>\n",
       "      <th>avg_rech_amt_action</th>\n",
       "      <th>diff_rech_amt</th>\n",
       "      <th>decrease_rech_amt_action</th>\n",
       "      <th>avg_arpu_action</th>\n",
       "      <th>diff_arpu</th>\n",
       "      <th>decrease_arpu_action</th>\n",
       "      <th>avg_vbc_3g_action</th>\n",
       "      <th>diff_vbc</th>\n",
       "      <th>decrease_vbc_action</th>\n",
       "    </tr>\n",
       "  </thead>\n",
       "  <tbody>\n",
       "    <tr>\n",
       "      <th>8</th>\n",
       "      <td>7001524846</td>\n",
       "      <td>0.0</td>\n",
       "      <td>0.0</td>\n",
       "      <td>0.0</td>\n",
       "      <td>378.721</td>\n",
       "      <td>492.223</td>\n",
       "      <td>137.362</td>\n",
       "      <td>413.69</td>\n",
       "      <td>351.03</td>\n",
       "      <td>35.08</td>\n",
       "      <td>...</td>\n",
       "      <td>1</td>\n",
       "      <td>360.5</td>\n",
       "      <td>-76.5</td>\n",
       "      <td>1</td>\n",
       "      <td>314.7925</td>\n",
       "      <td>-63.9285</td>\n",
       "      <td>1</td>\n",
       "      <td>465.840</td>\n",
       "      <td>343.680</td>\n",
       "      <td>0</td>\n",
       "    </tr>\n",
       "    <tr>\n",
       "      <th>13</th>\n",
       "      <td>7002191713</td>\n",
       "      <td>0.0</td>\n",
       "      <td>0.0</td>\n",
       "      <td>0.0</td>\n",
       "      <td>492.846</td>\n",
       "      <td>205.671</td>\n",
       "      <td>593.260</td>\n",
       "      <td>501.76</td>\n",
       "      <td>108.39</td>\n",
       "      <td>534.24</td>\n",
       "      <td>...</td>\n",
       "      <td>0</td>\n",
       "      <td>485.0</td>\n",
       "      <td>-22.0</td>\n",
       "      <td>1</td>\n",
       "      <td>399.4655</td>\n",
       "      <td>-93.3805</td>\n",
       "      <td>1</td>\n",
       "      <td>0.000</td>\n",
       "      <td>0.000</td>\n",
       "      <td>0</td>\n",
       "    </tr>\n",
       "    <tr>\n",
       "      <th>16</th>\n",
       "      <td>7000875565</td>\n",
       "      <td>0.0</td>\n",
       "      <td>0.0</td>\n",
       "      <td>0.0</td>\n",
       "      <td>430.975</td>\n",
       "      <td>299.869</td>\n",
       "      <td>187.894</td>\n",
       "      <td>50.51</td>\n",
       "      <td>74.01</td>\n",
       "      <td>70.61</td>\n",
       "      <td>...</td>\n",
       "      <td>1</td>\n",
       "      <td>254.0</td>\n",
       "      <td>-316.0</td>\n",
       "      <td>1</td>\n",
       "      <td>243.8815</td>\n",
       "      <td>-187.0935</td>\n",
       "      <td>1</td>\n",
       "      <td>1.225</td>\n",
       "      <td>-20.665</td>\n",
       "      <td>1</td>\n",
       "    </tr>\n",
       "    <tr>\n",
       "      <th>17</th>\n",
       "      <td>7000187447</td>\n",
       "      <td>0.0</td>\n",
       "      <td>0.0</td>\n",
       "      <td>0.0</td>\n",
       "      <td>690.008</td>\n",
       "      <td>18.980</td>\n",
       "      <td>25.499</td>\n",
       "      <td>1185.91</td>\n",
       "      <td>9.28</td>\n",
       "      <td>7.79</td>\n",
       "      <td>...</td>\n",
       "      <td>1</td>\n",
       "      <td>15.0</td>\n",
       "      <td>-801.0</td>\n",
       "      <td>1</td>\n",
       "      <td>22.2395</td>\n",
       "      <td>-667.7685</td>\n",
       "      <td>1</td>\n",
       "      <td>0.000</td>\n",
       "      <td>0.000</td>\n",
       "      <td>0</td>\n",
       "    </tr>\n",
       "    <tr>\n",
       "      <th>21</th>\n",
       "      <td>7002124215</td>\n",
       "      <td>0.0</td>\n",
       "      <td>0.0</td>\n",
       "      <td>0.0</td>\n",
       "      <td>514.453</td>\n",
       "      <td>597.753</td>\n",
       "      <td>637.760</td>\n",
       "      <td>102.41</td>\n",
       "      <td>132.11</td>\n",
       "      <td>85.14</td>\n",
       "      <td>...</td>\n",
       "      <td>0</td>\n",
       "      <td>699.0</td>\n",
       "      <td>99.0</td>\n",
       "      <td>0</td>\n",
       "      <td>617.7565</td>\n",
       "      <td>103.3035</td>\n",
       "      <td>0</td>\n",
       "      <td>0.000</td>\n",
       "      <td>0.000</td>\n",
       "      <td>0</td>\n",
       "    </tr>\n",
       "  </tbody>\n",
       "</table>\n",
       "<p>5 rows × 152 columns</p>\n",
       "</div>"
      ],
      "text/plain": [
       "   mobile_number  loc_og_t2o_mou  std_og_t2o_mou  loc_ic_t2o_mou   arpu_6  \\\n",
       "8     7001524846             0.0             0.0             0.0  378.721   \n",
       "13    7002191713             0.0             0.0             0.0  492.846   \n",
       "16    7000875565             0.0             0.0             0.0  430.975   \n",
       "17    7000187447             0.0             0.0             0.0  690.008   \n",
       "21    7002124215             0.0             0.0             0.0  514.453   \n",
       "\n",
       "     arpu_7   arpu_8  onnet_mou_6  onnet_mou_7  onnet_mou_8  ...  \\\n",
       "8   492.223  137.362       413.69       351.03        35.08  ...   \n",
       "13  205.671  593.260       501.76       108.39       534.24  ...   \n",
       "16  299.869  187.894        50.51        74.01        70.61  ...   \n",
       "17   18.980   25.499      1185.91         9.28         7.79  ...   \n",
       "21  597.753  637.760       102.41       132.11        85.14  ...   \n",
       "\n",
       "    decrease_rech_num_action  avg_rech_amt_action  diff_rech_amt  \\\n",
       "8                          1                360.5          -76.5   \n",
       "13                         0                485.0          -22.0   \n",
       "16                         1                254.0         -316.0   \n",
       "17                         1                 15.0         -801.0   \n",
       "21                         0                699.0           99.0   \n",
       "\n",
       "    decrease_rech_amt_action  avg_arpu_action  diff_arpu  \\\n",
       "8                          1         314.7925   -63.9285   \n",
       "13                         1         399.4655   -93.3805   \n",
       "16                         1         243.8815  -187.0935   \n",
       "17                         1          22.2395  -667.7685   \n",
       "21                         0         617.7565   103.3035   \n",
       "\n",
       "    decrease_arpu_action  avg_vbc_3g_action  diff_vbc  decrease_vbc_action  \n",
       "8                      1            465.840   343.680                    0  \n",
       "13                     1              0.000     0.000                    0  \n",
       "16                     1              1.225   -20.665                    1  \n",
       "17                     1              0.000     0.000                    0  \n",
       "21                     0              0.000     0.000                    0  \n",
       "\n",
       "[5 rows x 152 columns]"
      ]
     },
     "execution_count": 70,
     "metadata": {},
     "output_type": "execute_result"
    }
   ],
   "source": [
    "data.head()"
   ]
  },
  {
   "cell_type": "markdown",
   "metadata": {},
   "source": [
    "## EDA"
   ]
  },
  {
   "cell_type": "markdown",
   "metadata": {},
   "source": [
    "### Univariate analysis"
   ]
  },
  {
   "cell_type": "code",
   "execution_count": 71,
   "metadata": {},
   "outputs": [],
   "source": [
    "# Converting churn column to int in order to do aggfunc in the pivot table\n",
    "data['churn'] = data['churn'].astype('int64')"
   ]
  },
  {
   "cell_type": "code",
   "execution_count": 72,
   "metadata": {
    "scrolled": true
   },
   "outputs": [
    {
     "data": {
      "image/png": "[encoded data removed]",
      "text/plain": [
       "<Figure size 432x288 with 1 Axes>"
      ]
     },
     "metadata": {
      "needs_background": "light"
     },
     "output_type": "display_data"
    }
   ],
   "source": [
    "churn_rate_by_action = data.groupby('decrease_mou_action')['churn'].mean()\n",
    "\n",
    "churn_rate_by_action.plot(kind='bar')\n",
    "plt.ylabel('Churn Rate')\n",
    "plt.xlabel('Decrease MOU Action')\n",
    "plt.title('Churn Rate by Decrease MOU Action')\n",
    "plt.show()"
   ]
  },
  {
   "cell_type": "code",
   "execution_count": 73,
   "metadata": {
    "scrolled": true
   },
   "outputs": [
    {
     "data": {
      "image/png": "[encoded data removed]",
      "text/plain": [
       "<Figure size 432x288 with 1 Axes>"
      ]
     },
     "metadata": {
      "needs_background": "light"
     },
     "output_type": "display_data"
    }
   ],
   "source": [
    "churn_rate_by_rech_num_action = data.groupby('decrease_rech_num_action')['churn'].mean()\n",
    "\n",
    "churn_rate_by_rech_num_action.plot(kind='bar')\n",
    "plt.ylabel('Churn Rate')\n",
    "plt.xlabel('Decrease Recharge Number Action')\n",
    "plt.title('Churn Rate by Decrease Recharge Number Action')\n",
    "plt.show()"
   ]
  },
  {
   "cell_type": "code",
   "execution_count": 74,
   "metadata": {},
   "outputs": [
    {
     "data": {
      "image/png": "[encoded data removed]",
      "text/plain": [
       "<Figure size 432x288 with 1 Axes>"
      ]
     },
     "metadata": {
      "needs_background": "light"
     },
     "output_type": "display_data"
    }
   ],
   "source": [
    "churn_rate_by_rech_amt_action = data.groupby('decrease_rech_amt_action')['churn'].mean()\n",
    "\n",
    "churn_rate_by_rech_amt_action.plot(kind='bar')\n",
    "plt.ylabel('Churn Rate')\n",
    "plt.xlabel('Decrease Recharge Amount Action')\n",
    "plt.title('Churn Rate by Decrease Recharge Amount Action')\n",
    "plt.show()\n"
   ]
  },
  {
   "cell_type": "code",
   "execution_count": 75,
   "metadata": {
    "scrolled": true
   },
   "outputs": [
    {
     "data": {
      "image/png": "[encoded data removed]",
      "text/plain": [
       "<Figure size 432x288 with 1 Axes>"
      ]
     },
     "metadata": {
      "needs_background": "light"
     },
     "output_type": "display_data"
    }
   ],
   "source": [
    "churn_rate_by_vbc_action = data.groupby('decrease_vbc_action')['churn'].mean()\n",
    "\n",
    "churn_rate_by_vbc_action.plot(kind='bar')\n",
    "plt.ylabel('Churn Rate')\n",
    "plt.xlabel('Decrease VBC Action')\n",
    "plt.title('Churn Rate by Decrease VBC Action')\n",
    "plt.show()"
   ]
  },
  {
   "cell_type": "code",
   "execution_count": 76,
   "metadata": {},
   "outputs": [],
   "source": [
    "data_churn = data.loc[data['churn'] == 1].copy()\n",
    "data_non_churn = data.loc[data['churn'] == 0].copy()"
   ]
  },
  {
   "cell_type": "code",
   "execution_count": 77,
   "metadata": {
    "scrolled": true
   },
   "outputs": [
    {
     "data": {
      "image/png": "[encoded data removed]",
      "text/plain": [
       "<Figure size 648x360 with 1 Axes>"
      ]
     },
     "metadata": {
      "needs_background": "light"
     },
     "output_type": "display_data"
    }
   ],
   "source": [
    "plt.figure(figsize=(9, 5))\n",
    "sns.distplot(data_churn['avg_arpu_action'], label='churn', hist=False)\n",
    "sns.distplot(data_non_churn['avg_arpu_action'], label='not churn', hist=False)\n",
    "plt.xlabel('Action phase ARPU')\n",
    "plt.ylabel('Density')\n",
    "plt.legend()\n",
    "plt.show()"
   ]
  },
  {
   "cell_type": "code",
   "execution_count": 78,
   "metadata": {
    "scrolled": true
   },
   "outputs": [
    {
     "data": {
      "image/png": "[encoded data removed]",
      "text/plain": [
       "<Figure size 720x360 with 1 Axes>"
      ]
     },
     "metadata": {
      "needs_background": "light"
     },
     "output_type": "display_data"
    }
   ],
   "source": [
    "plt.figure(figsize=(10, 5))\n",
    "sns.distplot(data_churn['total_mou_good'], label='churn', hist=False)\n",
    "sns.distplot(data_non_churn['total_mou_good'], label='non churn', hist=False)\n",
    "plt.xlabel('Action phase MOU')\n",
    "plt.ylabel('Density')\n",
    "plt.legend()\n",
    "plt.show()\n"
   ]
  },
  {
   "cell_type": "markdown",
   "metadata": {},
   "source": [
    "### Bivariate analysis"
   ]
  },
  {
   "cell_type": "code",
   "execution_count": 79,
   "metadata": {
    "scrolled": false
   },
   "outputs": [
    {
     "data": {
      "image/png": "[encoded data removed]",
      "text/plain": [
       "<Figure size 432x288 with 1 Axes>"
      ]
     },
     "metadata": {
      "needs_background": "light"
     },
     "output_type": "display_data"
    }
   ],
   "source": [
    "pivot_table = data.pivot_table(values='churn', index='decrease_rech_amt_action', columns='decrease_rech_num_action', aggfunc='mean')\n",
    "pivot_table.plot(kind='bar')\n",
    "plt.ylabel('Churn Rate')\n",
    "plt.show()"
   ]
  },
  {
   "cell_type": "markdown",
   "metadata": {},
   "source": [
    "##### Analysis of churn rate by the decreasing recharge amount and volume based cost in the action phase"
   ]
  },
  {
   "cell_type": "code",
   "execution_count": 80,
   "metadata": {
    "scrolled": false
   },
   "outputs": [
    {
     "data": {
      "image/png": "[encoded data removed]",
      "text/plain": [
       "<Figure size 432x288 with 1 Axes>"
      ]
     },
     "metadata": {
      "needs_background": "light"
     },
     "output_type": "display_data"
    }
   ],
   "source": [
    "pivot_table = data.pivot_table(values='churn', index='decrease_rech_amt_action', columns='decrease_vbc_action', aggfunc='mean')\n",
    "pivot_table.plot(kind='bar')\n",
    "plt.ylabel('Churn Rate')\n",
    "plt.show()"
   ]
  },
  {
   "cell_type": "code",
   "execution_count": 81,
   "metadata": {
    "scrolled": false
   },
   "outputs": [
    {
     "data": {
      "image/png": "[encoded data removed]",
      "text/plain": [
       "<Figure size 720x432 with 1 Axes>"
      ]
     },
     "metadata": {
      "needs_background": "light"
     },
     "output_type": "display_data"
    }
   ],
   "source": [
    "plt.figure(figsize=(10, 6))\n",
    "ax = sns.scatterplot(x='avg_rech_num_action', y='avg_rech_amt_action', hue='churn', data=data)\n",
    "plt.show()\n"
   ]
  },
  {
   "cell_type": "code",
   "execution_count": 82,
   "metadata": {},
   "outputs": [],
   "source": [
    "columns_to_drop = ['total_mou_good', 'avg_mou_action', 'diff_mou', 'avg_rech_num_action', 'diff_rech_num',\n",
    "                   'avg_rech_amt_action', 'diff_rech_amt', 'avg_arpu_action', 'diff_arpu', 'avg_vbc_3g_action',\n",
    "                   'diff_vbc', 'avg_rech_amt_6_7']\n",
    "data = data.drop(columns_to_drop, axis=1)"
   ]
  },
  {
   "cell_type": "markdown",
   "metadata": {},
   "source": [
    "## Train-Test Split"
   ]
  },
  {
   "cell_type": "code",
   "execution_count": 83,
   "metadata": {},
   "outputs": [],
   "source": [
    "# Import library\n",
    "from sklearn.model_selection import train_test_split"
   ]
  },
  {
   "cell_type": "code",
   "execution_count": 84,
   "metadata": {},
   "outputs": [],
   "source": [
    "# Putting feature variables into X\n",
    "X = data.drop(['mobile_number','churn'], axis=1)"
   ]
  },
  {
   "cell_type": "code",
   "execution_count": 85,
   "metadata": {},
   "outputs": [],
   "source": [
    "# Putting target variable to y\n",
    "y = data['churn']"
   ]
  },
  {
   "cell_type": "code",
   "execution_count": 86,
   "metadata": {},
   "outputs": [],
   "source": [
    "# Splitting data into train and test set 80:20\n",
    "X_train, X_test, y_train, y_test = train_test_split(X, y, train_size=0.8, test_size=0.2, random_state=100)"
   ]
  },
  {
   "cell_type": "markdown",
   "metadata": {},
   "source": [
    "### Dealing with data imbalance"
   ]
  },
  {
   "cell_type": "code",
   "execution_count": 87,
   "metadata": {},
   "outputs": [],
   "source": [
    "# Imporing SMOTE\n",
    "from imblearn.over_sampling import SMOTE"
   ]
  },
  {
   "cell_type": "code",
   "execution_count": 88,
   "metadata": {},
   "outputs": [],
   "source": [
    "from sklearn.impute import SimpleImputer\n",
    "\n",
    "# Create an instance of SMOTE\n",
    "smote = SMOTE(random_state=27)\n",
    "\n",
    "# Handle missing values\n",
    "imputer = SimpleImputer(strategy='mean')\n",
    "X_train_imputed = imputer.fit_transform(X_train)\n",
    "\n",
    "# Fit and resample the training set\n",
    "X_train_resampled, y_train_resampled = smote.fit_resample(X_train_imputed, y_train)"
   ]
  },
  {
   "cell_type": "markdown",
   "metadata": {},
   "source": [
    "### Feature Scaling"
   ]
  },
  {
   "cell_type": "code",
   "execution_count": 89,
   "metadata": {},
   "outputs": [],
   "source": [
    "# Standardization method\n",
    "from sklearn.preprocessing import StandardScaler"
   ]
  },
  {
   "cell_type": "code",
   "execution_count": 90,
   "metadata": {},
   "outputs": [],
   "source": [
    "# Instantiate the Scaler\n",
    "scaler = StandardScaler()"
   ]
  },
  {
   "cell_type": "code",
   "execution_count": 91,
   "metadata": {},
   "outputs": [],
   "source": [
    "# List of the numeric columns\n",
    "cols_scale = [col for col in X_train.columns if col not in ['decrease_mou_action', 'decrease_rech_num_action', 'decrease_rech_amt_action', 'decrease_arpu_action', 'decrease_vbc_action']]\n",
    "# cols_scale"
   ]
  },
  {
   "cell_type": "code",
   "execution_count": 92,
   "metadata": {},
   "outputs": [],
   "source": [
    "# Fit the data into scaler and transform\n",
    "X_train[cols_scale] = scaler.fit_transform(X_train[cols_scale])"
   ]
  },
  {
   "cell_type": "code",
   "execution_count": 93,
   "metadata": {},
   "outputs": [
    {
     "data": {
      "text/html": [
       "<div>\n",
       "<style scoped>\n",
       "    .dataframe tbody tr th:only-of-type {\n",
       "        vertical-align: middle;\n",
       "    }\n",
       "\n",
       "    .dataframe tbody tr th {\n",
       "        vertical-align: top;\n",
       "    }\n",
       "\n",
       "    .dataframe thead th {\n",
       "        text-align: right;\n",
       "    }\n",
       "</style>\n",
       "<table border=\"1\" class=\"dataframe\">\n",
       "  <thead>\n",
       "    <tr style=\"text-align: right;\">\n",
       "      <th></th>\n",
       "      <th>loc_og_t2o_mou</th>\n",
       "      <th>std_og_t2o_mou</th>\n",
       "      <th>loc_ic_t2o_mou</th>\n",
       "      <th>arpu_6</th>\n",
       "      <th>arpu_7</th>\n",
       "      <th>arpu_8</th>\n",
       "      <th>onnet_mou_6</th>\n",
       "      <th>onnet_mou_7</th>\n",
       "      <th>onnet_mou_8</th>\n",
       "      <th>offnet_mou_6</th>\n",
       "      <th>...</th>\n",
       "      <th>sachet_3g_8</th>\n",
       "      <th>aon</th>\n",
       "      <th>aug_vbc_3g</th>\n",
       "      <th>jul_vbc_3g</th>\n",
       "      <th>jun_vbc_3g</th>\n",
       "      <th>decrease_mou_action</th>\n",
       "      <th>decrease_rech_num_action</th>\n",
       "      <th>decrease_rech_amt_action</th>\n",
       "      <th>decrease_arpu_action</th>\n",
       "      <th>decrease_vbc_action</th>\n",
       "    </tr>\n",
       "  </thead>\n",
       "  <tbody>\n",
       "    <tr>\n",
       "      <th>76637</th>\n",
       "      <td>0.0</td>\n",
       "      <td>0.0</td>\n",
       "      <td>0.0</td>\n",
       "      <td>0.177042</td>\n",
       "      <td>-0.565237</td>\n",
       "      <td>-0.615403</td>\n",
       "      <td>0.342004</td>\n",
       "      <td>-0.607254</td>\n",
       "      <td>-0.528515</td>\n",
       "      <td>-0.153098</td>\n",
       "      <td>...</td>\n",
       "      <td>-0.146661</td>\n",
       "      <td>-0.509556</td>\n",
       "      <td>-0.324997</td>\n",
       "      <td>-0.338332</td>\n",
       "      <td>-0.032583</td>\n",
       "      <td>1</td>\n",
       "      <td>1</td>\n",
       "      <td>1</td>\n",
       "      <td>1</td>\n",
       "      <td>1</td>\n",
       "    </tr>\n",
       "    <tr>\n",
       "      <th>44417</th>\n",
       "      <td>0.0</td>\n",
       "      <td>0.0</td>\n",
       "      <td>0.0</td>\n",
       "      <td>-1.385359</td>\n",
       "      <td>4.245131</td>\n",
       "      <td>2.814453</td>\n",
       "      <td>-0.542001</td>\n",
       "      <td>-0.146232</td>\n",
       "      <td>-0.118059</td>\n",
       "      <td>-0.772620</td>\n",
       "      <td>...</td>\n",
       "      <td>-0.146661</td>\n",
       "      <td>-0.884874</td>\n",
       "      <td>-0.339808</td>\n",
       "      <td>-0.338332</td>\n",
       "      <td>-0.317058</td>\n",
       "      <td>0</td>\n",
       "      <td>0</td>\n",
       "      <td>0</td>\n",
       "      <td>0</td>\n",
       "      <td>0</td>\n",
       "    </tr>\n",
       "    <tr>\n",
       "      <th>77582</th>\n",
       "      <td>0.0</td>\n",
       "      <td>0.0</td>\n",
       "      <td>0.0</td>\n",
       "      <td>-0.185183</td>\n",
       "      <td>0.470514</td>\n",
       "      <td>0.439043</td>\n",
       "      <td>-0.475845</td>\n",
       "      <td>-0.539126</td>\n",
       "      <td>-0.408638</td>\n",
       "      <td>-0.320016</td>\n",
       "      <td>...</td>\n",
       "      <td>1.820414</td>\n",
       "      <td>1.181411</td>\n",
       "      <td>2.342626</td>\n",
       "      <td>1.965731</td>\n",
       "      <td>1.189782</td>\n",
       "      <td>1</td>\n",
       "      <td>0</td>\n",
       "      <td>0</td>\n",
       "      <td>0</td>\n",
       "      <td>0</td>\n",
       "    </tr>\n",
       "    <tr>\n",
       "      <th>48224</th>\n",
       "      <td>0.0</td>\n",
       "      <td>0.0</td>\n",
       "      <td>0.0</td>\n",
       "      <td>-0.871138</td>\n",
       "      <td>0.761096</td>\n",
       "      <td>0.363448</td>\n",
       "      <td>-0.592545</td>\n",
       "      <td>-0.594671</td>\n",
       "      <td>-0.522008</td>\n",
       "      <td>-0.787657</td>\n",
       "      <td>...</td>\n",
       "      <td>-0.146661</td>\n",
       "      <td>-1.025617</td>\n",
       "      <td>-0.339808</td>\n",
       "      <td>-0.338332</td>\n",
       "      <td>-0.317058</td>\n",
       "      <td>0</td>\n",
       "      <td>0</td>\n",
       "      <td>0</td>\n",
       "      <td>0</td>\n",
       "      <td>0</td>\n",
       "    </tr>\n",
       "    <tr>\n",
       "      <th>76321</th>\n",
       "      <td>0.0</td>\n",
       "      <td>0.0</td>\n",
       "      <td>0.0</td>\n",
       "      <td>0.307153</td>\n",
       "      <td>0.183378</td>\n",
       "      <td>0.873588</td>\n",
       "      <td>-0.192921</td>\n",
       "      <td>-0.085344</td>\n",
       "      <td>-0.012023</td>\n",
       "      <td>1.064736</td>\n",
       "      <td>...</td>\n",
       "      <td>-0.146661</td>\n",
       "      <td>-0.648260</td>\n",
       "      <td>-0.339808</td>\n",
       "      <td>-0.338332</td>\n",
       "      <td>-0.317058</td>\n",
       "      <td>0</td>\n",
       "      <td>0</td>\n",
       "      <td>0</td>\n",
       "      <td>0</td>\n",
       "      <td>0</td>\n",
       "    </tr>\n",
       "  </tbody>\n",
       "</table>\n",
       "<p>5 rows × 138 columns</p>\n",
       "</div>"
      ],
      "text/plain": [
       "       loc_og_t2o_mou  std_og_t2o_mou  loc_ic_t2o_mou    arpu_6    arpu_7  \\\n",
       "76637             0.0             0.0             0.0  0.177042 -0.565237   \n",
       "44417             0.0             0.0             0.0 -1.385359  4.245131   \n",
       "77582             0.0             0.0             0.0 -0.185183  0.470514   \n",
       "48224             0.0             0.0             0.0 -0.871138  0.761096   \n",
       "76321             0.0             0.0             0.0  0.307153  0.183378   \n",
       "\n",
       "         arpu_8  onnet_mou_6  onnet_mou_7  onnet_mou_8  offnet_mou_6  ...  \\\n",
       "76637 -0.615403     0.342004    -0.607254    -0.528515     -0.153098  ...   \n",
       "44417  2.814453    -0.542001    -0.146232    -0.118059     -0.772620  ...   \n",
       "77582  0.439043    -0.475845    -0.539126    -0.408638     -0.320016  ...   \n",
       "48224  0.363448    -0.592545    -0.594671    -0.522008     -0.787657  ...   \n",
       "76321  0.873588    -0.192921    -0.085344    -0.012023      1.064736  ...   \n",
       "\n",
       "       sachet_3g_8       aon  aug_vbc_3g  jul_vbc_3g  jun_vbc_3g  \\\n",
       "76637    -0.146661 -0.509556   -0.324997   -0.338332   -0.032583   \n",
       "44417    -0.146661 -0.884874   -0.339808   -0.338332   -0.317058   \n",
       "77582     1.820414  1.181411    2.342626    1.965731    1.189782   \n",
       "48224    -0.146661 -1.025617   -0.339808   -0.338332   -0.317058   \n",
       "76321    -0.146661 -0.648260   -0.339808   -0.338332   -0.317058   \n",
       "\n",
       "       decrease_mou_action  decrease_rech_num_action  \\\n",
       "76637                    1                         1   \n",
       "44417                    0                         0   \n",
       "77582                    1                         0   \n",
       "48224                    0                         0   \n",
       "76321                    0                         0   \n",
       "\n",
       "       decrease_rech_amt_action  decrease_arpu_action  decrease_vbc_action  \n",
       "76637                         1                     1                    1  \n",
       "44417                         0                     0                    0  \n",
       "77582                         0                     0                    0  \n",
       "48224                         0                     0                    0  \n",
       "76321                         0                     0                    0  \n",
       "\n",
       "[5 rows x 138 columns]"
      ]
     },
     "execution_count": 93,
     "metadata": {},
     "output_type": "execute_result"
    }
   ],
   "source": [
    "X_train.head()"
   ]
  },
  {
   "cell_type": "code",
   "execution_count": 94,
   "metadata": {},
   "outputs": [
    {
     "data": {
      "text/html": [
       "<div>\n",
       "<style scoped>\n",
       "    .dataframe tbody tr th:only-of-type {\n",
       "        vertical-align: middle;\n",
       "    }\n",
       "\n",
       "    .dataframe tbody tr th {\n",
       "        vertical-align: top;\n",
       "    }\n",
       "\n",
       "    .dataframe thead th {\n",
       "        text-align: right;\n",
       "    }\n",
       "</style>\n",
       "<table border=\"1\" class=\"dataframe\">\n",
       "  <thead>\n",
       "    <tr style=\"text-align: right;\">\n",
       "      <th></th>\n",
       "      <th>loc_og_t2o_mou</th>\n",
       "      <th>std_og_t2o_mou</th>\n",
       "      <th>loc_ic_t2o_mou</th>\n",
       "      <th>arpu_6</th>\n",
       "      <th>arpu_7</th>\n",
       "      <th>arpu_8</th>\n",
       "      <th>onnet_mou_6</th>\n",
       "      <th>onnet_mou_7</th>\n",
       "      <th>onnet_mou_8</th>\n",
       "      <th>offnet_mou_6</th>\n",
       "      <th>...</th>\n",
       "      <th>sachet_3g_8</th>\n",
       "      <th>aon</th>\n",
       "      <th>aug_vbc_3g</th>\n",
       "      <th>jul_vbc_3g</th>\n",
       "      <th>jun_vbc_3g</th>\n",
       "      <th>decrease_mou_action</th>\n",
       "      <th>decrease_rech_num_action</th>\n",
       "      <th>decrease_rech_amt_action</th>\n",
       "      <th>decrease_arpu_action</th>\n",
       "      <th>decrease_vbc_action</th>\n",
       "    </tr>\n",
       "  </thead>\n",
       "  <tbody>\n",
       "    <tr>\n",
       "      <th>5704</th>\n",
       "      <td>0.0</td>\n",
       "      <td>0.0</td>\n",
       "      <td>0.0</td>\n",
       "      <td>0.280204</td>\n",
       "      <td>-0.318483</td>\n",
       "      <td>0.630203</td>\n",
       "      <td>-0.619183</td>\n",
       "      <td>-0.637742</td>\n",
       "      <td>-0.538175</td>\n",
       "      <td>0.608858</td>\n",
       "      <td>...</td>\n",
       "      <td>1.820414</td>\n",
       "      <td>0.003445</td>\n",
       "      <td>-0.133609</td>\n",
       "      <td>0.020306</td>\n",
       "      <td>-0.317058</td>\n",
       "      <td>0</td>\n",
       "      <td>0</td>\n",
       "      <td>1</td>\n",
       "      <td>1</td>\n",
       "      <td>0</td>\n",
       "    </tr>\n",
       "    <tr>\n",
       "      <th>64892</th>\n",
       "      <td>0.0</td>\n",
       "      <td>0.0</td>\n",
       "      <td>0.0</td>\n",
       "      <td>0.084955</td>\n",
       "      <td>-0.814767</td>\n",
       "      <td>-0.500458</td>\n",
       "      <td>-0.629329</td>\n",
       "      <td>-0.646247</td>\n",
       "      <td>-0.560938</td>\n",
       "      <td>-0.314708</td>\n",
       "      <td>...</td>\n",
       "      <td>-0.146661</td>\n",
       "      <td>0.351226</td>\n",
       "      <td>1.677391</td>\n",
       "      <td>1.705824</td>\n",
       "      <td>4.389368</td>\n",
       "      <td>1</td>\n",
       "      <td>1</td>\n",
       "      <td>1</td>\n",
       "      <td>1</td>\n",
       "      <td>1</td>\n",
       "    </tr>\n",
       "    <tr>\n",
       "      <th>39613</th>\n",
       "      <td>0.0</td>\n",
       "      <td>0.0</td>\n",
       "      <td>0.0</td>\n",
       "      <td>0.580284</td>\n",
       "      <td>0.121878</td>\n",
       "      <td>1.016326</td>\n",
       "      <td>-0.401743</td>\n",
       "      <td>-0.455056</td>\n",
       "      <td>-0.298176</td>\n",
       "      <td>0.840667</td>\n",
       "      <td>...</td>\n",
       "      <td>-0.146661</td>\n",
       "      <td>2.402212</td>\n",
       "      <td>-0.339808</td>\n",
       "      <td>-0.338332</td>\n",
       "      <td>-0.317058</td>\n",
       "      <td>1</td>\n",
       "      <td>1</td>\n",
       "      <td>1</td>\n",
       "      <td>0</td>\n",
       "      <td>0</td>\n",
       "    </tr>\n",
       "    <tr>\n",
       "      <th>93118</th>\n",
       "      <td>0.0</td>\n",
       "      <td>0.0</td>\n",
       "      <td>0.0</td>\n",
       "      <td>0.675978</td>\n",
       "      <td>0.736183</td>\n",
       "      <td>-0.551999</td>\n",
       "      <td>0.150901</td>\n",
       "      <td>0.142507</td>\n",
       "      <td>-0.252783</td>\n",
       "      <td>-0.083998</td>\n",
       "      <td>...</td>\n",
       "      <td>-0.146661</td>\n",
       "      <td>1.331334</td>\n",
       "      <td>-0.339808</td>\n",
       "      <td>-0.338332</td>\n",
       "      <td>-0.317058</td>\n",
       "      <td>1</td>\n",
       "      <td>0</td>\n",
       "      <td>1</td>\n",
       "      <td>1</td>\n",
       "      <td>0</td>\n",
       "    </tr>\n",
       "    <tr>\n",
       "      <th>81235</th>\n",
       "      <td>0.0</td>\n",
       "      <td>0.0</td>\n",
       "      <td>0.0</td>\n",
       "      <td>3.901497</td>\n",
       "      <td>0.828475</td>\n",
       "      <td>2.319996</td>\n",
       "      <td>4.977103</td>\n",
       "      <td>1.683836</td>\n",
       "      <td>2.385666</td>\n",
       "      <td>0.075648</td>\n",
       "      <td>...</td>\n",
       "      <td>0.836877</td>\n",
       "      <td>-0.407568</td>\n",
       "      <td>-0.339808</td>\n",
       "      <td>-0.338332</td>\n",
       "      <td>-0.317058</td>\n",
       "      <td>1</td>\n",
       "      <td>1</td>\n",
       "      <td>1</td>\n",
       "      <td>1</td>\n",
       "      <td>0</td>\n",
       "    </tr>\n",
       "  </tbody>\n",
       "</table>\n",
       "<p>5 rows × 138 columns</p>\n",
       "</div>"
      ],
      "text/plain": [
       "       loc_og_t2o_mou  std_og_t2o_mou  loc_ic_t2o_mou    arpu_6    arpu_7  \\\n",
       "5704              0.0             0.0             0.0  0.280204 -0.318483   \n",
       "64892             0.0             0.0             0.0  0.084955 -0.814767   \n",
       "39613             0.0             0.0             0.0  0.580284  0.121878   \n",
       "93118             0.0             0.0             0.0  0.675978  0.736183   \n",
       "81235             0.0             0.0             0.0  3.901497  0.828475   \n",
       "\n",
       "         arpu_8  onnet_mou_6  onnet_mou_7  onnet_mou_8  offnet_mou_6  ...  \\\n",
       "5704   0.630203    -0.619183    -0.637742    -0.538175      0.608858  ...   \n",
       "64892 -0.500458    -0.629329    -0.646247    -0.560938     -0.314708  ...   \n",
       "39613  1.016326    -0.401743    -0.455056    -0.298176      0.840667  ...   \n",
       "93118 -0.551999     0.150901     0.142507    -0.252783     -0.083998  ...   \n",
       "81235  2.319996     4.977103     1.683836     2.385666      0.075648  ...   \n",
       "\n",
       "       sachet_3g_8       aon  aug_vbc_3g  jul_vbc_3g  jun_vbc_3g  \\\n",
       "5704      1.820414  0.003445   -0.133609    0.020306   -0.317058   \n",
       "64892    -0.146661  0.351226    1.677391    1.705824    4.389368   \n",
       "39613    -0.146661  2.402212   -0.339808   -0.338332   -0.317058   \n",
       "93118    -0.146661  1.331334   -0.339808   -0.338332   -0.317058   \n",
       "81235     0.836877 -0.407568   -0.339808   -0.338332   -0.317058   \n",
       "\n",
       "       decrease_mou_action  decrease_rech_num_action  \\\n",
       "5704                     0                         0   \n",
       "64892                    1                         1   \n",
       "39613                    1                         1   \n",
       "93118                    1                         0   \n",
       "81235                    1                         1   \n",
       "\n",
       "       decrease_rech_amt_action  decrease_arpu_action  decrease_vbc_action  \n",
       "5704                          1                     1                    0  \n",
       "64892                         1                     1                    1  \n",
       "39613                         1                     0                    0  \n",
       "93118                         1                     1                    0  \n",
       "81235                         1                     1                    0  \n",
       "\n",
       "[5 rows x 138 columns]"
      ]
     },
     "execution_count": 94,
     "metadata": {},
     "output_type": "execute_result"
    }
   ],
   "source": [
    "# Transform the test set\n",
    "X_test[cols_scale] = scaler.transform(X_test[cols_scale])\n",
    "X_test.head()"
   ]
  },
  {
   "cell_type": "markdown",
   "metadata": {},
   "source": [
    "# Model with PCA"
   ]
  },
  {
   "cell_type": "code",
   "execution_count": 95,
   "metadata": {},
   "outputs": [],
   "source": [
    "#Import PCA\n",
    "from sklearn.decomposition import PCA"
   ]
  },
  {
   "cell_type": "code",
   "execution_count": 96,
   "metadata": {},
   "outputs": [],
   "source": [
    "# Instantiate PCA\n",
    "pca = PCA(random_state=42)"
   ]
  },
  {
   "cell_type": "code",
   "execution_count": 97,
   "metadata": {},
   "outputs": [
    {
     "data": {
      "text/plain": [
       "PCA(random_state=42)"
      ]
     },
     "execution_count": 97,
     "metadata": {},
     "output_type": "execute_result"
    }
   ],
   "source": [
    "# Fit train set on PCA\n",
    "pca.fit(X_train)"
   ]
  },
  {
   "cell_type": "code",
   "execution_count": 98,
   "metadata": {},
   "outputs": [
    {
     "data": {
      "text/plain": [
       "array([[-3.20564485e-19,  1.11022302e-16, -1.11022302e-16, ...,\n",
       "        -1.07346345e-02, -9.68482451e-03,  9.99904011e-03],\n",
       "       [-1.60714422e-19,  0.00000000e+00, -5.55111512e-17, ...,\n",
       "        -1.37579722e-02, -1.22852355e-02, -1.69648792e-02],\n",
       "       [ 7.02496386e-20,  3.46944695e-17,  1.45716772e-16, ...,\n",
       "        -1.95381254e-02, -1.87159439e-02,  3.51135542e-02],\n",
       "       ...,\n",
       "       [ 0.00000000e+00, -4.57116658e-01, -7.72981451e-02, ...,\n",
       "         1.42247325e-16, -1.70002901e-16,  6.24500451e-17],\n",
       "       [ 1.00000000e+00, -1.43299438e-23, -2.00970192e-23, ...,\n",
       "         7.80669069e-20,  2.57674078e-19, -1.48279224e-17],\n",
       "       [ 0.00000000e+00, -6.90060373e-01, -2.99753837e-01, ...,\n",
       "         9.36750677e-17, -7.28583860e-17,  2.35922393e-16]])"
      ]
     },
     "execution_count": 98,
     "metadata": {},
     "output_type": "execute_result"
    }
   ],
   "source": [
    "# Principal components\n",
    "pca.components_"
   ]
  },
  {
   "cell_type": "code",
   "execution_count": 99,
   "metadata": {},
   "outputs": [
    {
     "name": "stdout",
     "output_type": "stream",
     "text": [
      "[0.09825349 0.18709261 0.24088761 0.2883275  0.32798442 0.36609355\n",
      " 0.39444897 0.42237794 0.44850192 0.47371472 0.49752572 0.52059546\n",
      " 0.54229743 0.56350921 0.58315905 0.6016858  0.61813022 0.63293898\n",
      " 0.64736378 0.66156044 0.67520537 0.68765645 0.69984057 0.71093521\n",
      " 0.72160536 0.73180318 0.74173576 0.75139276 0.76048501 0.76889371\n",
      " 0.7768848  0.78462758 0.79205887 0.79918754 0.80590777 0.81247571\n",
      " 0.81896067 0.82534164 0.83161288 0.83770289 0.84376501 0.84959825\n",
      " 0.85517748 0.86061454 0.86584275 0.87089985 0.8757824  0.88025793\n",
      " 0.88457894 0.88878312 0.89283235 0.89670077 0.9005251  0.90424925\n",
      " 0.90796057 0.91152051 0.91494825 0.91825106 0.92144558 0.92451668\n",
      " 0.92747602 0.93038039 0.93322992 0.93604145 0.93880554 0.94154835\n",
      " 0.94425275 0.94692886 0.94944619 0.95193451 0.95436333 0.95672582\n",
      " 0.95904642 0.961167   0.96322525 0.96522079 0.96717096 0.96910572\n",
      " 0.97096924 0.97282327 0.97464388 0.97641079 0.97813494 0.97981207\n",
      " 0.9814719  0.98307596 0.98466282 0.98615641 0.98753979 0.98880201\n",
      " 0.99000818 0.9911786  0.99222098 0.99325441 0.99416242 0.99502649\n",
      " 0.99585783 0.99657595 0.99725427 0.99786984 0.99846736 0.99895847\n",
      " 0.99937265 0.99969781 0.99991637 0.99996401 0.99998599 0.99999758\n",
      " 0.99999938 0.99999979 1.         1.         1.         1.\n",
      " 1.         1.         1.         1.         1.         1.\n",
      " 1.         1.         1.         1.         1.         1.\n",
      " 1.         1.         1.         1.         1.         1.\n",
      " 1.         1.         1.         1.         1.         1.        ]\n"
     ]
    }
   ],
   "source": [
    "# Cumuliative varinace of the PCs\n",
    "variance_cumu = np.cumsum(pca.explained_variance_ratio_)\n",
    "print(variance_cumu)"
   ]
  },
  {
   "cell_type": "code",
   "execution_count": 100,
   "metadata": {},
   "outputs": [
    {
     "data": {
      "image/png": "[encoded data removed]",
      "text/plain": [
       "<Figure size 720x432 with 1 Axes>"
      ]
     },
     "metadata": {},
     "output_type": "display_data"
    }
   ],
   "source": [
    "fig = plt.figure(figsize=(10, 6))\n",
    "fig.patch.set_facecolor('lightgray')\n",
    "\n",
    "plt.plot(variance_cumu)\n",
    "plt.xlabel('Number of Components')\n",
    "plt.ylabel('Cumulative Variance')\n",
    "\n",
    "plt.show()"
   ]
  },
  {
   "cell_type": "markdown",
   "metadata": {},
   "source": [
    "##### Performing PCA with 60 components"
   ]
  },
  {
   "cell_type": "code",
   "execution_count": 101,
   "metadata": {},
   "outputs": [],
   "source": [
    "# Importing incremental PCA\n",
    "from sklearn.decomposition import IncrementalPCA"
   ]
  },
  {
   "cell_type": "code",
   "execution_count": 102,
   "metadata": {},
   "outputs": [],
   "source": [
    "# Instantiate PCA with 60 components\n",
    "pca_final = IncrementalPCA(n_components=60)"
   ]
  },
  {
   "cell_type": "code",
   "execution_count": 103,
   "metadata": {},
   "outputs": [],
   "source": [
    "# Fit and transform the X_train\n",
    "X_train_pca = pca_final.fit_transform(X_train)"
   ]
  },
  {
   "cell_type": "code",
   "execution_count": 104,
   "metadata": {},
   "outputs": [],
   "source": [
    "X_test_pca = pca_final.transform(X_test)"
   ]
  },
  {
   "cell_type": "markdown",
   "metadata": {},
   "source": [
    "## Logistic regression with PCA"
   ]
  },
  {
   "cell_type": "code",
   "execution_count": 105,
   "metadata": {},
   "outputs": [],
   "source": [
    "# Importing scikit logistic regression module\n",
    "from sklearn.linear_model import LogisticRegression"
   ]
  },
  {
   "cell_type": "code",
   "execution_count": 106,
   "metadata": {},
   "outputs": [],
   "source": [
    "# Impoting metrics\n",
    "from sklearn import metrics\n",
    "from sklearn.metrics import confusion_matrix"
   ]
  },
  {
   "cell_type": "code",
   "execution_count": 107,
   "metadata": {},
   "outputs": [],
   "source": [
    "# Importing libraries for cross validation\n",
    "from sklearn.model_selection import KFold\n",
    "from sklearn.model_selection import cross_val_score\n",
    "from sklearn.model_selection import GridSearchCV"
   ]
  },
  {
   "cell_type": "code",
   "execution_count": 108,
   "metadata": {},
   "outputs": [
    {
     "name": "stdout",
     "output_type": "stream",
     "text": [
      "Fitting 5 folds for each of 6 candidates, totalling 30 fits\n"
     ]
    },
    {
     "data": {
      "text/plain": [
       "GridSearchCV(cv=KFold(n_splits=5, random_state=4, shuffle=True),\n",
       "             estimator=LogisticRegression(),\n",
       "             param_grid={'C': [0.01, 0.1, 1, 10, 100, 1000]},\n",
       "             return_train_score=True, scoring='recall', verbose=1)"
      ]
     },
     "execution_count": 108,
     "metadata": {},
     "output_type": "execute_result"
    }
   ],
   "source": [
    "# Creating KFold object with 5 splits\n",
    "folds = KFold(n_splits=5, shuffle=True, random_state=4)\n",
    "\n",
    "# Specify params\n",
    "params = {\"C\": [0.01, 0.1, 1, 10, 100, 1000]}\n",
    "\n",
    "# Specifing score as recall as we are more focused on acheiving the higher sensitivity than the accuracy\n",
    "model_cv = GridSearchCV(estimator = LogisticRegression(),\n",
    "                        param_grid = params, \n",
    "                        scoring= 'recall', \n",
    "                        cv = folds, \n",
    "                        verbose = 1,\n",
    "                        return_train_score=True) \n",
    "\n",
    "# Fit the model\n",
    "model_cv.fit(X_train_pca, y_train)"
   ]
  },
  {
   "cell_type": "code",
   "execution_count": 109,
   "metadata": {},
   "outputs": [
    {
     "data": {
      "text/html": [
       "<div>\n",
       "<style scoped>\n",
       "    .dataframe tbody tr th:only-of-type {\n",
       "        vertical-align: middle;\n",
       "    }\n",
       "\n",
       "    .dataframe tbody tr th {\n",
       "        vertical-align: top;\n",
       "    }\n",
       "\n",
       "    .dataframe thead th {\n",
       "        text-align: right;\n",
       "    }\n",
       "</style>\n",
       "<table border=\"1\" class=\"dataframe\">\n",
       "  <thead>\n",
       "    <tr style=\"text-align: right;\">\n",
       "      <th></th>\n",
       "      <th>mean_fit_time</th>\n",
       "      <th>std_fit_time</th>\n",
       "      <th>mean_score_time</th>\n",
       "      <th>std_score_time</th>\n",
       "      <th>param_C</th>\n",
       "      <th>params</th>\n",
       "      <th>split0_test_score</th>\n",
       "      <th>split1_test_score</th>\n",
       "      <th>split2_test_score</th>\n",
       "      <th>split3_test_score</th>\n",
       "      <th>...</th>\n",
       "      <th>mean_test_score</th>\n",
       "      <th>std_test_score</th>\n",
       "      <th>rank_test_score</th>\n",
       "      <th>split0_train_score</th>\n",
       "      <th>split1_train_score</th>\n",
       "      <th>split2_train_score</th>\n",
       "      <th>split3_train_score</th>\n",
       "      <th>split4_train_score</th>\n",
       "      <th>mean_train_score</th>\n",
       "      <th>std_train_score</th>\n",
       "    </tr>\n",
       "  </thead>\n",
       "  <tbody>\n",
       "    <tr>\n",
       "      <th>0</th>\n",
       "      <td>0.143184</td>\n",
       "      <td>0.020481</td>\n",
       "      <td>0.004139</td>\n",
       "      <td>0.000878</td>\n",
       "      <td>0.01</td>\n",
       "      <td>{'C': 0.01}</td>\n",
       "      <td>0.035971</td>\n",
       "      <td>0.048780</td>\n",
       "      <td>0.055172</td>\n",
       "      <td>0.020690</td>\n",
       "      <td>...</td>\n",
       "      <td>0.037602</td>\n",
       "      <td>0.012857</td>\n",
       "      <td>6</td>\n",
       "      <td>0.043333</td>\n",
       "      <td>0.043478</td>\n",
       "      <td>0.043771</td>\n",
       "      <td>0.042088</td>\n",
       "      <td>0.038786</td>\n",
       "      <td>0.042291</td>\n",
       "      <td>0.001845</td>\n",
       "    </tr>\n",
       "    <tr>\n",
       "      <th>1</th>\n",
       "      <td>0.296749</td>\n",
       "      <td>0.035919</td>\n",
       "      <td>0.005055</td>\n",
       "      <td>0.000902</td>\n",
       "      <td>0.1</td>\n",
       "      <td>{'C': 0.1}</td>\n",
       "      <td>0.064748</td>\n",
       "      <td>0.060976</td>\n",
       "      <td>0.062069</td>\n",
       "      <td>0.048276</td>\n",
       "      <td>...</td>\n",
       "      <td>0.054063</td>\n",
       "      <td>0.011421</td>\n",
       "      <td>5</td>\n",
       "      <td>0.070000</td>\n",
       "      <td>0.069565</td>\n",
       "      <td>0.079125</td>\n",
       "      <td>0.060606</td>\n",
       "      <td>0.060708</td>\n",
       "      <td>0.068001</td>\n",
       "      <td>0.006900</td>\n",
       "    </tr>\n",
       "    <tr>\n",
       "      <th>2</th>\n",
       "      <td>0.388268</td>\n",
       "      <td>0.020807</td>\n",
       "      <td>0.004721</td>\n",
       "      <td>0.000516</td>\n",
       "      <td>1</td>\n",
       "      <td>{'C': 1}</td>\n",
       "      <td>0.064748</td>\n",
       "      <td>0.060976</td>\n",
       "      <td>0.068966</td>\n",
       "      <td>0.068966</td>\n",
       "      <td>...</td>\n",
       "      <td>0.060950</td>\n",
       "      <td>0.010364</td>\n",
       "      <td>4</td>\n",
       "      <td>0.083333</td>\n",
       "      <td>0.078261</td>\n",
       "      <td>0.085859</td>\n",
       "      <td>0.067340</td>\n",
       "      <td>0.069140</td>\n",
       "      <td>0.076787</td>\n",
       "      <td>0.007417</td>\n",
       "    </tr>\n",
       "    <tr>\n",
       "      <th>3</th>\n",
       "      <td>0.348801</td>\n",
       "      <td>0.054309</td>\n",
       "      <td>0.004500</td>\n",
       "      <td>0.000830</td>\n",
       "      <td>10</td>\n",
       "      <td>{'C': 10}</td>\n",
       "      <td>0.064748</td>\n",
       "      <td>0.067073</td>\n",
       "      <td>0.068966</td>\n",
       "      <td>0.068966</td>\n",
       "      <td>...</td>\n",
       "      <td>0.063540</td>\n",
       "      <td>0.007950</td>\n",
       "      <td>1</td>\n",
       "      <td>0.083333</td>\n",
       "      <td>0.080000</td>\n",
       "      <td>0.087542</td>\n",
       "      <td>0.067340</td>\n",
       "      <td>0.070826</td>\n",
       "      <td>0.077808</td>\n",
       "      <td>0.007595</td>\n",
       "    </tr>\n",
       "    <tr>\n",
       "      <th>4</th>\n",
       "      <td>0.411433</td>\n",
       "      <td>0.063938</td>\n",
       "      <td>0.004202</td>\n",
       "      <td>0.000758</td>\n",
       "      <td>100</td>\n",
       "      <td>{'C': 100}</td>\n",
       "      <td>0.064748</td>\n",
       "      <td>0.067073</td>\n",
       "      <td>0.068966</td>\n",
       "      <td>0.068966</td>\n",
       "      <td>...</td>\n",
       "      <td>0.063540</td>\n",
       "      <td>0.007950</td>\n",
       "      <td>1</td>\n",
       "      <td>0.083333</td>\n",
       "      <td>0.080000</td>\n",
       "      <td>0.087542</td>\n",
       "      <td>0.067340</td>\n",
       "      <td>0.070826</td>\n",
       "      <td>0.077808</td>\n",
       "      <td>0.007595</td>\n",
       "    </tr>\n",
       "    <tr>\n",
       "      <th>5</th>\n",
       "      <td>0.457269</td>\n",
       "      <td>0.047260</td>\n",
       "      <td>0.005413</td>\n",
       "      <td>0.001358</td>\n",
       "      <td>1000</td>\n",
       "      <td>{'C': 1000}</td>\n",
       "      <td>0.064748</td>\n",
       "      <td>0.067073</td>\n",
       "      <td>0.068966</td>\n",
       "      <td>0.068966</td>\n",
       "      <td>...</td>\n",
       "      <td>0.063540</td>\n",
       "      <td>0.007950</td>\n",
       "      <td>1</td>\n",
       "      <td>0.083333</td>\n",
       "      <td>0.080000</td>\n",
       "      <td>0.087542</td>\n",
       "      <td>0.067340</td>\n",
       "      <td>0.070826</td>\n",
       "      <td>0.077808</td>\n",
       "      <td>0.007595</td>\n",
       "    </tr>\n",
       "  </tbody>\n",
       "</table>\n",
       "<p>6 rows × 21 columns</p>\n",
       "</div>"
      ],
      "text/plain": [
       "   mean_fit_time  std_fit_time  mean_score_time  std_score_time param_C  \\\n",
       "0       0.143184      0.020481         0.004139        0.000878    0.01   \n",
       "1       0.296749      0.035919         0.005055        0.000902     0.1   \n",
       "2       0.388268      0.020807         0.004721        0.000516       1   \n",
       "3       0.348801      0.054309         0.004500        0.000830      10   \n",
       "4       0.411433      0.063938         0.004202        0.000758     100   \n",
       "5       0.457269      0.047260         0.005413        0.001358    1000   \n",
       "\n",
       "        params  split0_test_score  split1_test_score  split2_test_score  \\\n",
       "0  {'C': 0.01}           0.035971           0.048780           0.055172   \n",
       "1   {'C': 0.1}           0.064748           0.060976           0.062069   \n",
       "2     {'C': 1}           0.064748           0.060976           0.068966   \n",
       "3    {'C': 10}           0.064748           0.067073           0.068966   \n",
       "4   {'C': 100}           0.064748           0.067073           0.068966   \n",
       "5  {'C': 1000}           0.064748           0.067073           0.068966   \n",
       "\n",
       "   split3_test_score  ...  mean_test_score  std_test_score  rank_test_score  \\\n",
       "0           0.020690  ...         0.037602        0.012857                6   \n",
       "1           0.048276  ...         0.054063        0.011421                5   \n",
       "2           0.068966  ...         0.060950        0.010364                4   \n",
       "3           0.068966  ...         0.063540        0.007950                1   \n",
       "4           0.068966  ...         0.063540        0.007950                1   \n",
       "5           0.068966  ...         0.063540        0.007950                1   \n",
       "\n",
       "   split0_train_score  split1_train_score  split2_train_score  \\\n",
       "0            0.043333            0.043478            0.043771   \n",
       "1            0.070000            0.069565            0.079125   \n",
       "2            0.083333            0.078261            0.085859   \n",
       "3            0.083333            0.080000            0.087542   \n",
       "4            0.083333            0.080000            0.087542   \n",
       "5            0.083333            0.080000            0.087542   \n",
       "\n",
       "   split3_train_score  split4_train_score  mean_train_score  std_train_score  \n",
       "0            0.042088            0.038786          0.042291         0.001845  \n",
       "1            0.060606            0.060708          0.068001         0.006900  \n",
       "2            0.067340            0.069140          0.076787         0.007417  \n",
       "3            0.067340            0.070826          0.077808         0.007595  \n",
       "4            0.067340            0.070826          0.077808         0.007595  \n",
       "5            0.067340            0.070826          0.077808         0.007595  \n",
       "\n",
       "[6 rows x 21 columns]"
      ]
     },
     "execution_count": 109,
     "metadata": {},
     "output_type": "execute_result"
    }
   ],
   "source": [
    "# results of grid search CV\n",
    "cv_results = pd.DataFrame(model_cv.cv_results_)\n",
    "cv_results"
   ]
  },
  {
   "cell_type": "code",
   "execution_count": 110,
   "metadata": {},
   "outputs": [
    {
     "data": {
      "image/png": "[encoded data removed]",
      "text/plain": [
       "<Figure size 576x432 with 1 Axes>"
      ]
     },
     "metadata": {
      "needs_background": "light"
     },
     "output_type": "display_data"
    }
   ],
   "source": [
    "# plot of C versus train and validation scores\n",
    "\n",
    "plt.figure(figsize=(8, 6))\n",
    "plt.plot(cv_results['param_C'], cv_results['mean_test_score'])\n",
    "plt.plot(cv_results['param_C'], cv_results['mean_train_score'])\n",
    "plt.xlabel('C')\n",
    "plt.ylabel('sensitivity')\n",
    "plt.legend(['test result', 'train result'], loc='upper left')\n",
    "plt.xscale('log')\n",
    "plt.style.use('seaborn-whitegrid')\n",
    "# plt.gca().set_facecolor('dark')"
   ]
  },
  {
   "cell_type": "code",
   "execution_count": 111,
   "metadata": {},
   "outputs": [
    {
     "name": "stdout",
     "output_type": "stream",
     "text": [
      " The highest test sensitivity is 0.06353952242655339 at C = 10\n"
     ]
    }
   ],
   "source": [
    "# Best score with best C\n",
    "best_score = model_cv.best_score_\n",
    "best_C = model_cv.best_params_['C']\n",
    "\n",
    "print(\" The highest test sensitivity is {0} at C = {1}\".format(best_score, best_C))"
   ]
  },
  {
   "cell_type": "markdown",
   "metadata": {},
   "source": [
    "#### Logistic regression with optimal C"
   ]
  },
  {
   "cell_type": "code",
   "execution_count": 112,
   "metadata": {},
   "outputs": [],
   "source": [
    "# Instantiate the model with best C\n",
    "logistic_pca = LogisticRegression(C=best_C)"
   ]
  },
  {
   "cell_type": "code",
   "execution_count": 113,
   "metadata": {},
   "outputs": [],
   "source": [
    "# Fit the model on the train set\n",
    "log_pca_model = logistic_pca.fit(X_train_pca, y_train)"
   ]
  },
  {
   "cell_type": "markdown",
   "metadata": {},
   "source": [
    "##### Prediction on the train set"
   ]
  },
  {
   "cell_type": "code",
   "execution_count": 114,
   "metadata": {},
   "outputs": [],
   "source": [
    "# Predictions on the train set\n",
    "y_train_pred = log_pca_model.predict(X_train_pca)"
   ]
  },
  {
   "cell_type": "code",
   "execution_count": 115,
   "metadata": {},
   "outputs": [
    {
     "name": "stdout",
     "output_type": "stream",
     "text": [
      "[[21374    51]\n",
      " [  686    53]]\n"
     ]
    }
   ],
   "source": [
    "# Confusion matrix\n",
    "confusion = metrics.confusion_matrix(y_train, y_train_pred)\n",
    "print(confusion)"
   ]
  },
  {
   "cell_type": "code",
   "execution_count": 116,
   "metadata": {},
   "outputs": [],
   "source": [
    "TP = confusion[1,1] # true positive \n",
    "TN = confusion[0,0] # true negatives\n",
    "FP = confusion[0,1] # false positives\n",
    "FN = confusion[1,0] # false negatives"
   ]
  },
  {
   "cell_type": "code",
   "execution_count": 117,
   "metadata": {},
   "outputs": [
    {
     "name": "stdout",
     "output_type": "stream",
     "text": [
      "Accuracy:- 0.9667478794441436\n",
      "Sensitivity:- 0.07171853856562922\n",
      "Specificity:- 0.9976196032672112\n"
     ]
    }
   ],
   "source": [
    "# Accuracy\n",
    "print(\"Accuracy:-\",metrics.accuracy_score(y_train, y_train_pred))\n",
    "\n",
    "# Sensitivity\n",
    "print(\"Sensitivity:-\",TP / float(TP+FN))\n",
    "\n",
    "# Specificity\n",
    "print(\"Specificity:-\", TN / float(TN+FP))"
   ]
  },
  {
   "cell_type": "markdown",
   "metadata": {},
   "source": [
    "##### Prediction on the test set"
   ]
  },
  {
   "cell_type": "code",
   "execution_count": 118,
   "metadata": {},
   "outputs": [],
   "source": [
    "# Prediction on the test set\n",
    "y_test_pred = log_pca_model.predict(X_test_pca)"
   ]
  },
  {
   "cell_type": "code",
   "execution_count": 119,
   "metadata": {},
   "outputs": [
    {
     "name": "stdout",
     "output_type": "stream",
     "text": [
      "[[5335   13]\n",
      " [ 176   17]]\n"
     ]
    }
   ],
   "source": [
    "# Confusion matrix\n",
    "confusion = metrics.confusion_matrix(y_test, y_test_pred)\n",
    "print(confusion)"
   ]
  },
  {
   "cell_type": "code",
   "execution_count": 120,
   "metadata": {},
   "outputs": [],
   "source": [
    "TP = confusion[1,1] # true positive \n",
    "TN = confusion[0,0] # true negatives\n",
    "FP = confusion[0,1] # false positives\n",
    "FN = confusion[1,0] # false negatives"
   ]
  },
  {
   "cell_type": "code",
   "execution_count": 121,
   "metadata": {
    "scrolled": true
   },
   "outputs": [
    {
     "name": "stdout",
     "output_type": "stream",
     "text": [
      "Accuracy:- 0.9658906334596643\n",
      "Sensitivity:- 0.08808290155440414\n",
      "Specificity:- 0.9975691847419597\n"
     ]
    }
   ],
   "source": [
    "# Accuracy\n",
    "print(\"Accuracy:-\",metrics.accuracy_score(y_test, y_test_pred))\n",
    "\n",
    "# Sensitivity\n",
    "print(\"Sensitivity:-\",TP / float(TP+FN))\n",
    "\n",
    "# Specificity\n",
    "print(\"Specificity:-\", TN / float(TN+FP))"
   ]
  },
  {
   "cell_type": "markdown",
   "metadata": {},
   "source": [
    "***Model summary***\n",
    "\n",
    "- Train set\n",
    "    - Accuracy = 0.86\n",
    "    - Sensitivity = 0.89\n",
    "    - Specificity = 0.83\n",
    "- Test set\n",
    "    - Accuracy = 0.83\n",
    "    - Sensitivity = 0.81\n",
    "    - Specificity = 0.83\n",
    "    \n",
    "Overall, the model is performing well in the test set, what it had learnt from the train set."
   ]
  },
  {
   "cell_type": "markdown",
   "metadata": {},
   "source": [
    "## Support Vector Machine(SVM) with PCA"
   ]
  },
  {
   "cell_type": "code",
   "execution_count": 122,
   "metadata": {},
   "outputs": [],
   "source": [
    "# Importing SVC\n",
    "from sklearn.svm import SVC"
   ]
  },
  {
   "cell_type": "code",
   "execution_count": 123,
   "metadata": {},
   "outputs": [
    {
     "name": "stdout",
     "output_type": "stream",
     "text": [
      "Fitting 3 folds for each of 12 candidates, totalling 36 fits\n"
     ]
    },
    {
     "data": {
      "text/plain": [
       "GridSearchCV(cv=3, estimator=SVC(),\n",
       "             param_grid=[{'C': [1, 10, 100, 1000],\n",
       "                          'gamma': [0.01, 0.001, 0.0001]}],\n",
       "             return_train_score=True, scoring='accuracy', verbose=1)"
      ]
     },
     "execution_count": 123,
     "metadata": {},
     "output_type": "execute_result"
    }
   ],
   "source": [
    "# specify range of hyperparameters\n",
    "\n",
    "hyper_params = [ {'gamma': [1e-2, 1e-3, 1e-4],\n",
    "                     'C': [1, 10, 100, 1000]}]\n",
    "\n",
    "\n",
    "# specify model with RBF kernel\n",
    "model = SVC(kernel=\"rbf\")\n",
    "\n",
    "# set up GridSearchCV()\n",
    "model_cv = GridSearchCV(estimator = model, \n",
    "                        param_grid = hyper_params, \n",
    "                        scoring= 'accuracy', \n",
    "                        cv = 3, \n",
    "                        verbose = 1,\n",
    "                        return_train_score=True)      \n",
    "\n",
    "# fit the model\n",
    "model_cv.fit(X_train_pca, y_train)                  \n"
   ]
  },
  {
   "cell_type": "code",
   "execution_count": 124,
   "metadata": {},
   "outputs": [
    {
     "data": {
      "text/html": [
       "<div>\n",
       "<style scoped>\n",
       "    .dataframe tbody tr th:only-of-type {\n",
       "        vertical-align: middle;\n",
       "    }\n",
       "\n",
       "    .dataframe tbody tr th {\n",
       "        vertical-align: top;\n",
       "    }\n",
       "\n",
       "    .dataframe thead th {\n",
       "        text-align: right;\n",
       "    }\n",
       "</style>\n",
       "<table border=\"1\" class=\"dataframe\">\n",
       "  <thead>\n",
       "    <tr style=\"text-align: right;\">\n",
       "      <th></th>\n",
       "      <th>mean_fit_time</th>\n",
       "      <th>std_fit_time</th>\n",
       "      <th>mean_score_time</th>\n",
       "      <th>std_score_time</th>\n",
       "      <th>param_C</th>\n",
       "      <th>param_gamma</th>\n",
       "      <th>params</th>\n",
       "      <th>split0_test_score</th>\n",
       "      <th>split1_test_score</th>\n",
       "      <th>split2_test_score</th>\n",
       "      <th>mean_test_score</th>\n",
       "      <th>std_test_score</th>\n",
       "      <th>rank_test_score</th>\n",
       "      <th>split0_train_score</th>\n",
       "      <th>split1_train_score</th>\n",
       "      <th>split2_train_score</th>\n",
       "      <th>mean_train_score</th>\n",
       "      <th>std_train_score</th>\n",
       "    </tr>\n",
       "  </thead>\n",
       "  <tbody>\n",
       "    <tr>\n",
       "      <th>0</th>\n",
       "      <td>4.177656</td>\n",
       "      <td>0.473806</td>\n",
       "      <td>3.160112</td>\n",
       "      <td>0.152323</td>\n",
       "      <td>1</td>\n",
       "      <td>0.01</td>\n",
       "      <td>{'C': 1, 'gamma': 0.01}</td>\n",
       "      <td>0.966838</td>\n",
       "      <td>0.966838</td>\n",
       "      <td>0.966838</td>\n",
       "      <td>0.966838</td>\n",
       "      <td>0.000000</td>\n",
       "      <td>1</td>\n",
       "      <td>0.967380</td>\n",
       "      <td>0.967989</td>\n",
       "      <td>0.967989</td>\n",
       "      <td>0.967786</td>\n",
       "      <td>0.000287</td>\n",
       "    </tr>\n",
       "    <tr>\n",
       "      <th>1</th>\n",
       "      <td>3.151069</td>\n",
       "      <td>0.162706</td>\n",
       "      <td>2.031826</td>\n",
       "      <td>0.160696</td>\n",
       "      <td>1</td>\n",
       "      <td>0.001</td>\n",
       "      <td>{'C': 1, 'gamma': 0.001}</td>\n",
       "      <td>0.966703</td>\n",
       "      <td>0.966703</td>\n",
       "      <td>0.966567</td>\n",
       "      <td>0.966658</td>\n",
       "      <td>0.000064</td>\n",
       "      <td>2</td>\n",
       "      <td>0.966635</td>\n",
       "      <td>0.966635</td>\n",
       "      <td>0.966703</td>\n",
       "      <td>0.966658</td>\n",
       "      <td>0.000032</td>\n",
       "    </tr>\n",
       "    <tr>\n",
       "      <th>2</th>\n",
       "      <td>1.982255</td>\n",
       "      <td>0.126811</td>\n",
       "      <td>1.768217</td>\n",
       "      <td>0.155205</td>\n",
       "      <td>1</td>\n",
       "      <td>0.0001</td>\n",
       "      <td>{'C': 1, 'gamma': 0.0001}</td>\n",
       "      <td>0.966703</td>\n",
       "      <td>0.966703</td>\n",
       "      <td>0.966567</td>\n",
       "      <td>0.966658</td>\n",
       "      <td>0.000064</td>\n",
       "      <td>2</td>\n",
       "      <td>0.966635</td>\n",
       "      <td>0.966635</td>\n",
       "      <td>0.966703</td>\n",
       "      <td>0.966658</td>\n",
       "      <td>0.000032</td>\n",
       "    </tr>\n",
       "    <tr>\n",
       "      <th>3</th>\n",
       "      <td>4.060564</td>\n",
       "      <td>0.197078</td>\n",
       "      <td>3.010014</td>\n",
       "      <td>0.239454</td>\n",
       "      <td>10</td>\n",
       "      <td>0.01</td>\n",
       "      <td>{'C': 10, 'gamma': 0.01}</td>\n",
       "      <td>0.966567</td>\n",
       "      <td>0.965620</td>\n",
       "      <td>0.965620</td>\n",
       "      <td>0.965936</td>\n",
       "      <td>0.000447</td>\n",
       "      <td>9</td>\n",
       "      <td>0.977260</td>\n",
       "      <td>0.977599</td>\n",
       "      <td>0.977599</td>\n",
       "      <td>0.977486</td>\n",
       "      <td>0.000160</td>\n",
       "    </tr>\n",
       "    <tr>\n",
       "      <th>4</th>\n",
       "      <td>3.865306</td>\n",
       "      <td>0.227004</td>\n",
       "      <td>2.261501</td>\n",
       "      <td>0.347386</td>\n",
       "      <td>10</td>\n",
       "      <td>0.001</td>\n",
       "      <td>{'C': 10, 'gamma': 0.001}</td>\n",
       "      <td>0.966567</td>\n",
       "      <td>0.966838</td>\n",
       "      <td>0.966432</td>\n",
       "      <td>0.966613</td>\n",
       "      <td>0.000169</td>\n",
       "      <td>4</td>\n",
       "      <td>0.967244</td>\n",
       "      <td>0.967244</td>\n",
       "      <td>0.967447</td>\n",
       "      <td>0.967312</td>\n",
       "      <td>0.000096</td>\n",
       "    </tr>\n",
       "    <tr>\n",
       "      <th>5</th>\n",
       "      <td>4.697539</td>\n",
       "      <td>0.201943</td>\n",
       "      <td>2.097396</td>\n",
       "      <td>0.336153</td>\n",
       "      <td>10</td>\n",
       "      <td>0.0001</td>\n",
       "      <td>{'C': 10, 'gamma': 0.0001}</td>\n",
       "      <td>0.966703</td>\n",
       "      <td>0.966703</td>\n",
       "      <td>0.966432</td>\n",
       "      <td>0.966613</td>\n",
       "      <td>0.000128</td>\n",
       "      <td>4</td>\n",
       "      <td>0.966635</td>\n",
       "      <td>0.966635</td>\n",
       "      <td>0.966770</td>\n",
       "      <td>0.966680</td>\n",
       "      <td>0.000064</td>\n",
       "    </tr>\n",
       "    <tr>\n",
       "      <th>6</th>\n",
       "      <td>5.148927</td>\n",
       "      <td>0.525274</td>\n",
       "      <td>2.596135</td>\n",
       "      <td>0.314102</td>\n",
       "      <td>100</td>\n",
       "      <td>0.01</td>\n",
       "      <td>{'C': 100, 'gamma': 0.01}</td>\n",
       "      <td>0.959800</td>\n",
       "      <td>0.957228</td>\n",
       "      <td>0.958311</td>\n",
       "      <td>0.958446</td>\n",
       "      <td>0.001054</td>\n",
       "      <td>11</td>\n",
       "      <td>0.990187</td>\n",
       "      <td>0.990322</td>\n",
       "      <td>0.990525</td>\n",
       "      <td>0.990345</td>\n",
       "      <td>0.000139</td>\n",
       "    </tr>\n",
       "    <tr>\n",
       "      <th>7</th>\n",
       "      <td>4.704584</td>\n",
       "      <td>0.330786</td>\n",
       "      <td>1.974756</td>\n",
       "      <td>0.036484</td>\n",
       "      <td>100</td>\n",
       "      <td>0.001</td>\n",
       "      <td>{'C': 100, 'gamma': 0.001}</td>\n",
       "      <td>0.966161</td>\n",
       "      <td>0.967109</td>\n",
       "      <td>0.965620</td>\n",
       "      <td>0.966297</td>\n",
       "      <td>0.000615</td>\n",
       "      <td>8</td>\n",
       "      <td>0.969545</td>\n",
       "      <td>0.970425</td>\n",
       "      <td>0.970357</td>\n",
       "      <td>0.970109</td>\n",
       "      <td>0.000400</td>\n",
       "    </tr>\n",
       "    <tr>\n",
       "      <th>8</th>\n",
       "      <td>6.388609</td>\n",
       "      <td>0.672428</td>\n",
       "      <td>1.739154</td>\n",
       "      <td>0.036642</td>\n",
       "      <td>100</td>\n",
       "      <td>0.0001</td>\n",
       "      <td>{'C': 100, 'gamma': 0.0001}</td>\n",
       "      <td>0.966703</td>\n",
       "      <td>0.966703</td>\n",
       "      <td>0.965891</td>\n",
       "      <td>0.966432</td>\n",
       "      <td>0.000383</td>\n",
       "      <td>6</td>\n",
       "      <td>0.966635</td>\n",
       "      <td>0.966770</td>\n",
       "      <td>0.966906</td>\n",
       "      <td>0.966770</td>\n",
       "      <td>0.000111</td>\n",
       "    </tr>\n",
       "    <tr>\n",
       "      <th>9</th>\n",
       "      <td>6.485757</td>\n",
       "      <td>0.195046</td>\n",
       "      <td>2.101852</td>\n",
       "      <td>0.037187</td>\n",
       "      <td>1000</td>\n",
       "      <td>0.01</td>\n",
       "      <td>{'C': 1000, 'gamma': 0.01}</td>\n",
       "      <td>0.946400</td>\n",
       "      <td>0.947618</td>\n",
       "      <td>0.948836</td>\n",
       "      <td>0.947618</td>\n",
       "      <td>0.000995</td>\n",
       "      <td>12</td>\n",
       "      <td>0.999053</td>\n",
       "      <td>0.998308</td>\n",
       "      <td>0.998646</td>\n",
       "      <td>0.998669</td>\n",
       "      <td>0.000304</td>\n",
       "    </tr>\n",
       "    <tr>\n",
       "      <th>10</th>\n",
       "      <td>10.029259</td>\n",
       "      <td>0.381550</td>\n",
       "      <td>2.200520</td>\n",
       "      <td>0.206136</td>\n",
       "      <td>1000</td>\n",
       "      <td>0.001</td>\n",
       "      <td>{'C': 1000, 'gamma': 0.001}</td>\n",
       "      <td>0.964537</td>\n",
       "      <td>0.961018</td>\n",
       "      <td>0.962777</td>\n",
       "      <td>0.962777</td>\n",
       "      <td>0.001437</td>\n",
       "      <td>10</td>\n",
       "      <td>0.976381</td>\n",
       "      <td>0.976787</td>\n",
       "      <td>0.976651</td>\n",
       "      <td>0.976606</td>\n",
       "      <td>0.000169</td>\n",
       "    </tr>\n",
       "    <tr>\n",
       "      <th>11</th>\n",
       "      <td>9.546153</td>\n",
       "      <td>1.468215</td>\n",
       "      <td>1.768302</td>\n",
       "      <td>0.103975</td>\n",
       "      <td>1000</td>\n",
       "      <td>0.0001</td>\n",
       "      <td>{'C': 1000, 'gamma': 0.0001}</td>\n",
       "      <td>0.966432</td>\n",
       "      <td>0.966838</td>\n",
       "      <td>0.966026</td>\n",
       "      <td>0.966432</td>\n",
       "      <td>0.000332</td>\n",
       "      <td>6</td>\n",
       "      <td>0.967244</td>\n",
       "      <td>0.967447</td>\n",
       "      <td>0.967650</td>\n",
       "      <td>0.967447</td>\n",
       "      <td>0.000166</td>\n",
       "    </tr>\n",
       "  </tbody>\n",
       "</table>\n",
       "</div>"
      ],
      "text/plain": [
       "    mean_fit_time  std_fit_time  mean_score_time  std_score_time param_C  \\\n",
       "0        4.177656      0.473806         3.160112        0.152323       1   \n",
       "1        3.151069      0.162706         2.031826        0.160696       1   \n",
       "2        1.982255      0.126811         1.768217        0.155205       1   \n",
       "3        4.060564      0.197078         3.010014        0.239454      10   \n",
       "4        3.865306      0.227004         2.261501        0.347386      10   \n",
       "5        4.697539      0.201943         2.097396        0.336153      10   \n",
       "6        5.148927      0.525274         2.596135        0.314102     100   \n",
       "7        4.704584      0.330786         1.974756        0.036484     100   \n",
       "8        6.388609      0.672428         1.739154        0.036642     100   \n",
       "9        6.485757      0.195046         2.101852        0.037187    1000   \n",
       "10      10.029259      0.381550         2.200520        0.206136    1000   \n",
       "11       9.546153      1.468215         1.768302        0.103975    1000   \n",
       "\n",
       "   param_gamma                        params  split0_test_score  \\\n",
       "0         0.01       {'C': 1, 'gamma': 0.01}           0.966838   \n",
       "1        0.001      {'C': 1, 'gamma': 0.001}           0.966703   \n",
       "2       0.0001     {'C': 1, 'gamma': 0.0001}           0.966703   \n",
       "3         0.01      {'C': 10, 'gamma': 0.01}           0.966567   \n",
       "4        0.001     {'C': 10, 'gamma': 0.001}           0.966567   \n",
       "5       0.0001    {'C': 10, 'gamma': 0.0001}           0.966703   \n",
       "6         0.01     {'C': 100, 'gamma': 0.01}           0.959800   \n",
       "7        0.001    {'C': 100, 'gamma': 0.001}           0.966161   \n",
       "8       0.0001   {'C': 100, 'gamma': 0.0001}           0.966703   \n",
       "9         0.01    {'C': 1000, 'gamma': 0.01}           0.946400   \n",
       "10       0.001   {'C': 1000, 'gamma': 0.001}           0.964537   \n",
       "11      0.0001  {'C': 1000, 'gamma': 0.0001}           0.966432   \n",
       "\n",
       "    split1_test_score  split2_test_score  mean_test_score  std_test_score  \\\n",
       "0            0.966838           0.966838         0.966838        0.000000   \n",
       "1            0.966703           0.966567         0.966658        0.000064   \n",
       "2            0.966703           0.966567         0.966658        0.000064   \n",
       "3            0.965620           0.965620         0.965936        0.000447   \n",
       "4            0.966838           0.966432         0.966613        0.000169   \n",
       "5            0.966703           0.966432         0.966613        0.000128   \n",
       "6            0.957228           0.958311         0.958446        0.001054   \n",
       "7            0.967109           0.965620         0.966297        0.000615   \n",
       "8            0.966703           0.965891         0.966432        0.000383   \n",
       "9            0.947618           0.948836         0.947618        0.000995   \n",
       "10           0.961018           0.962777         0.962777        0.001437   \n",
       "11           0.966838           0.966026         0.966432        0.000332   \n",
       "\n",
       "    rank_test_score  split0_train_score  split1_train_score  \\\n",
       "0                 1            0.967380            0.967989   \n",
       "1                 2            0.966635            0.966635   \n",
       "2                 2            0.966635            0.966635   \n",
       "3                 9            0.977260            0.977599   \n",
       "4                 4            0.967244            0.967244   \n",
       "5                 4            0.966635            0.966635   \n",
       "6                11            0.990187            0.990322   \n",
       "7                 8            0.969545            0.970425   \n",
       "8                 6            0.966635            0.966770   \n",
       "9                12            0.999053            0.998308   \n",
       "10               10            0.976381            0.976787   \n",
       "11                6            0.967244            0.967447   \n",
       "\n",
       "    split2_train_score  mean_train_score  std_train_score  \n",
       "0             0.967989          0.967786         0.000287  \n",
       "1             0.966703          0.966658         0.000032  \n",
       "2             0.966703          0.966658         0.000032  \n",
       "3             0.977599          0.977486         0.000160  \n",
       "4             0.967447          0.967312         0.000096  \n",
       "5             0.966770          0.966680         0.000064  \n",
       "6             0.990525          0.990345         0.000139  \n",
       "7             0.970357          0.970109         0.000400  \n",
       "8             0.966906          0.966770         0.000111  \n",
       "9             0.998646          0.998669         0.000304  \n",
       "10            0.976651          0.976606         0.000169  \n",
       "11            0.967650          0.967447         0.000166  "
      ]
     },
     "execution_count": 124,
     "metadata": {},
     "output_type": "execute_result"
    }
   ],
   "source": [
    "# cv results\n",
    "cv_results = pd.DataFrame(model_cv.cv_results_)\n",
    "cv_results"
   ]
  },
  {
   "cell_type": "markdown",
   "metadata": {},
   "source": [
    "##### Plotting the accuracy with various C and gamma values"
   ]
  },
  {
   "cell_type": "code",
   "execution_count": 125,
   "metadata": {},
   "outputs": [
    {
     "data": {
      "image/png": "[encoded data removed]",
      "text/plain": [
       "<Figure size 1152x432 with 3 Axes>"
      ]
     },
     "metadata": {},
     "output_type": "display_data"
    }
   ],
   "source": [
    "# converting C to numeric type for plotting on x-axis\n",
    "cv_results['param_C'] = cv_results['param_C'].astype('int')\n",
    "\n",
    "# # plotting\n",
    "plt.figure(figsize=(16,6))\n",
    "\n",
    "# subplot 1/3\n",
    "plt.subplot(131)\n",
    "gamma_01 = cv_results[cv_results['param_gamma']==0.01]\n",
    "\n",
    "plt.plot(gamma_01[\"param_C\"], gamma_01[\"mean_test_score\"])\n",
    "plt.plot(gamma_01[\"param_C\"], gamma_01[\"mean_train_score\"])\n",
    "plt.xlabel('C')\n",
    "plt.ylabel('Accuracy')\n",
    "plt.title(\"Gamma=0.01\")\n",
    "plt.ylim([0.80, 1])\n",
    "plt.legend(['test accuracy', 'train accuracy'], loc='upper left')\n",
    "plt.xscale('log')\n",
    "\n",
    "# subplot 2/3\n",
    "plt.subplot(132)\n",
    "gamma_001 = cv_results[cv_results['param_gamma']==0.001]\n",
    "\n",
    "plt.plot(gamma_001[\"param_C\"], gamma_001[\"mean_test_score\"])\n",
    "plt.plot(gamma_001[\"param_C\"], gamma_001[\"mean_train_score\"])\n",
    "plt.xlabel('C')\n",
    "plt.ylabel('Accuracy')\n",
    "plt.title(\"Gamma=0.001\")\n",
    "plt.ylim([0.80, 1])\n",
    "plt.legend(['test accuracy', 'train accuracy'], loc='upper left')\n",
    "plt.xscale('log')\n",
    "\n",
    "\n",
    "# subplot 3/3\n",
    "plt.subplot(133)\n",
    "gamma_0001 = cv_results[cv_results['param_gamma']==0.0001]\n",
    "\n",
    "plt.plot(gamma_0001[\"param_C\"], gamma_0001[\"mean_test_score\"])\n",
    "plt.plot(gamma_0001[\"param_C\"], gamma_0001[\"mean_train_score\"])\n",
    "plt.xlabel('C')\n",
    "plt.ylabel('Accuracy')\n",
    "plt.title(\"Gamma=0.0001\")\n",
    "plt.ylim([0.80, 1])\n",
    "plt.legend(['test accuracy', 'train accuracy'], loc='upper left')\n",
    "plt.xscale('log')\n",
    "\n"
   ]
  },
  {
   "cell_type": "code",
   "execution_count": 126,
   "metadata": {},
   "outputs": [
    {
     "name": "stdout",
     "output_type": "stream",
     "text": [
      "The best test score is 0.9668381158635625 corresponding to hyperparameters {'C': 1, 'gamma': 0.01}\n"
     ]
    }
   ],
   "source": [
    "# Printing the best score \n",
    "best_score = model_cv.best_score_\n",
    "best_hyperparams = model_cv.best_params_\n",
    "\n",
    "print(\"The best test score is {0} corresponding to hyperparameters {1}\".format(best_score, best_hyperparams))"
   ]
  },
  {
   "cell_type": "markdown",
   "metadata": {},
   "source": [
    "##### Build the model with optimal hyperparameters"
   ]
  },
  {
   "cell_type": "code",
   "execution_count": 127,
   "metadata": {},
   "outputs": [
    {
     "data": {
      "text/plain": [
       "SVC(C=100, gamma=0.0001)"
      ]
     },
     "execution_count": 127,
     "metadata": {},
     "output_type": "execute_result"
    }
   ],
   "source": [
    "# Building the model with optimal hyperparameters\n",
    "svm_pca_model = SVC(C=100, gamma=0.0001, kernel=\"rbf\")\n",
    "\n",
    "svm_pca_model.fit(X_train_pca, y_train)"
   ]
  },
  {
   "cell_type": "markdown",
   "metadata": {},
   "source": [
    "##### Prediction on the train set"
   ]
  },
  {
   "cell_type": "code",
   "execution_count": 128,
   "metadata": {},
   "outputs": [],
   "source": [
    "# Predictions on the train set\n",
    "y_train_pred = svm_pca_model.predict(X_train_pca)"
   ]
  },
  {
   "cell_type": "code",
   "execution_count": 129,
   "metadata": {},
   "outputs": [
    {
     "name": "stdout",
     "output_type": "stream",
     "text": [
      "[[21425     0]\n",
      " [  737     2]]\n"
     ]
    }
   ],
   "source": [
    "# Confusion matrix\n",
    "confusion = metrics.confusion_matrix(y_train, y_train_pred)\n",
    "print(confusion)"
   ]
  },
  {
   "cell_type": "code",
   "execution_count": 130,
   "metadata": {},
   "outputs": [],
   "source": [
    "TP = confusion[1,1] # true positive \n",
    "TN = confusion[0,0] # true negatives\n",
    "FP = confusion[0,1] # false positives\n",
    "FN = confusion[1,0] # false negatives"
   ]
  },
  {
   "cell_type": "code",
   "execution_count": 131,
   "metadata": {},
   "outputs": [
    {
     "name": "stdout",
     "output_type": "stream",
     "text": [
      "Accuracy:- 0.9667478794441436\n",
      "Sensitivity:- 0.0027063599458728013\n",
      "Specificity:- 1.0\n"
     ]
    }
   ],
   "source": [
    "# Accuracy\n",
    "print(\"Accuracy:-\",metrics.accuracy_score(y_train, y_train_pred))\n",
    "\n",
    "# Sensitivity\n",
    "print(\"Sensitivity:-\",TP / float(TP+FN))\n",
    "\n",
    "# Specificity\n",
    "print(\"Specificity:-\", TN / float(TN+FP))"
   ]
  },
  {
   "cell_type": "markdown",
   "metadata": {},
   "source": [
    "##### Prediction on the test set"
   ]
  },
  {
   "cell_type": "code",
   "execution_count": 132,
   "metadata": {},
   "outputs": [],
   "source": [
    "# Prediction on the test set\n",
    "y_test_pred = svm_pca_model.predict(X_test_pca)"
   ]
  },
  {
   "cell_type": "code",
   "execution_count": 133,
   "metadata": {},
   "outputs": [
    {
     "name": "stdout",
     "output_type": "stream",
     "text": [
      "[[5348    0]\n",
      " [ 193    0]]\n"
     ]
    }
   ],
   "source": [
    "# Confusion matrix\n",
    "confusion = metrics.confusion_matrix(y_test, y_test_pred)\n",
    "print(confusion)"
   ]
  },
  {
   "cell_type": "code",
   "execution_count": 134,
   "metadata": {},
   "outputs": [],
   "source": [
    "TP = confusion[1,1] # true positive \n",
    "TN = confusion[0,0] # true negatives\n",
    "FP = confusion[0,1] # false positives\n",
    "FN = confusion[1,0] # false negatives"
   ]
  },
  {
   "cell_type": "code",
   "execution_count": 135,
   "metadata": {},
   "outputs": [
    {
     "name": "stdout",
     "output_type": "stream",
     "text": [
      "Accuracy:- 0.9651687421043132\n",
      "Sensitivity:- 0.0\n",
      "Specificity:- 1.0\n"
     ]
    }
   ],
   "source": [
    "# Accuracy\n",
    "print(\"Accuracy:-\",metrics.accuracy_score(y_test, y_test_pred))\n",
    "\n",
    "# Sensitivity\n",
    "print(\"Sensitivity:-\",TP / float(TP+FN))\n",
    "\n",
    "# Specificity\n",
    "print(\"Specificity:-\", TN / float(TN+FP))"
   ]
  },
  {
   "cell_type": "markdown",
   "metadata": {},
   "source": [
    "***Model summary***\n",
    "\n",
    "- Train set\n",
    "    - Accuracy = 0.89\n",
    "    - Sensitivity = 0.92\n",
    "    - Specificity = 0.85\n",
    "- Test set\n",
    "    - Accuracy = 0.85\n",
    "    - Sensitivity = 0.81\n",
    "    - Specificity = 0.85"
   ]
  },
  {
   "cell_type": "markdown",
   "metadata": {},
   "source": [
    "## Decision tree with PCA"
   ]
  },
  {
   "cell_type": "code",
   "execution_count": 136,
   "metadata": {},
   "outputs": [],
   "source": [
    "# Importing decision tree classifier\n",
    "from sklearn.tree import DecisionTreeClassifier"
   ]
  },
  {
   "cell_type": "markdown",
   "metadata": {},
   "source": [
    "##### Hyperparameter tuning"
   ]
  },
  {
   "cell_type": "code",
   "execution_count": 137,
   "metadata": {},
   "outputs": [
    {
     "name": "stdout",
     "output_type": "stream",
     "text": [
      "Fitting 5 folds for each of 8 candidates, totalling 40 fits\n"
     ]
    },
    {
     "data": {
      "text/plain": [
       "GridSearchCV(cv=5, estimator=DecisionTreeClassifier(),\n",
       "             param_grid={'max_depth': range(5, 15, 5),\n",
       "                         'min_samples_leaf': range(50, 150, 50),\n",
       "                         'min_samples_split': range(50, 150, 50)},\n",
       "             scoring='recall', verbose=1)"
      ]
     },
     "execution_count": 137,
     "metadata": {},
     "output_type": "execute_result"
    }
   ],
   "source": [
    "# Create the parameter grid \n",
    "param_grid = {\n",
    "    'max_depth': range(5, 15, 5),\n",
    "    'min_samples_leaf': range(50, 150, 50),\n",
    "    'min_samples_split': range(50, 150, 50),\n",
    "}\n",
    "\n",
    "\n",
    "# Instantiate the grid search model\n",
    "dtree = DecisionTreeClassifier()\n",
    "\n",
    "grid_search = GridSearchCV(estimator = dtree, \n",
    "                           param_grid = param_grid, \n",
    "                           scoring= 'recall',\n",
    "                           cv = 5, \n",
    "                           verbose = 1)\n",
    "\n",
    "# Fit the grid search to the data\n",
    "grid_search.fit(X_train_pca,y_train)"
   ]
  },
  {
   "cell_type": "code",
   "execution_count": 138,
   "metadata": {},
   "outputs": [
    {
     "data": {
      "text/html": [
       "<div>\n",
       "<style scoped>\n",
       "    .dataframe tbody tr th:only-of-type {\n",
       "        vertical-align: middle;\n",
       "    }\n",
       "\n",
       "    .dataframe tbody tr th {\n",
       "        vertical-align: top;\n",
       "    }\n",
       "\n",
       "    .dataframe thead th {\n",
       "        text-align: right;\n",
       "    }\n",
       "</style>\n",
       "<table border=\"1\" class=\"dataframe\">\n",
       "  <thead>\n",
       "    <tr style=\"text-align: right;\">\n",
       "      <th></th>\n",
       "      <th>mean_fit_time</th>\n",
       "      <th>std_fit_time</th>\n",
       "      <th>mean_score_time</th>\n",
       "      <th>std_score_time</th>\n",
       "      <th>param_max_depth</th>\n",
       "      <th>param_min_samples_leaf</th>\n",
       "      <th>param_min_samples_split</th>\n",
       "      <th>params</th>\n",
       "      <th>split0_test_score</th>\n",
       "      <th>split1_test_score</th>\n",
       "      <th>split2_test_score</th>\n",
       "      <th>split3_test_score</th>\n",
       "      <th>split4_test_score</th>\n",
       "      <th>mean_test_score</th>\n",
       "      <th>std_test_score</th>\n",
       "      <th>rank_test_score</th>\n",
       "    </tr>\n",
       "  </thead>\n",
       "  <tbody>\n",
       "    <tr>\n",
       "      <th>0</th>\n",
       "      <td>1.935183</td>\n",
       "      <td>0.792875</td>\n",
       "      <td>0.005953</td>\n",
       "      <td>0.000736</td>\n",
       "      <td>5</td>\n",
       "      <td>50</td>\n",
       "      <td>50</td>\n",
       "      <td>{'max_depth': 5, 'min_samples_leaf': 50, 'min_...</td>\n",
       "      <td>0.054054</td>\n",
       "      <td>0.000000</td>\n",
       "      <td>0.141892</td>\n",
       "      <td>0.033784</td>\n",
       "      <td>0.061224</td>\n",
       "      <td>0.058191</td>\n",
       "      <td>0.046934</td>\n",
       "      <td>3</td>\n",
       "    </tr>\n",
       "    <tr>\n",
       "      <th>1</th>\n",
       "      <td>1.304337</td>\n",
       "      <td>0.031475</td>\n",
       "      <td>0.005970</td>\n",
       "      <td>0.000427</td>\n",
       "      <td>5</td>\n",
       "      <td>50</td>\n",
       "      <td>100</td>\n",
       "      <td>{'max_depth': 5, 'min_samples_leaf': 50, 'min_...</td>\n",
       "      <td>0.054054</td>\n",
       "      <td>0.000000</td>\n",
       "      <td>0.141892</td>\n",
       "      <td>0.033784</td>\n",
       "      <td>0.061224</td>\n",
       "      <td>0.058191</td>\n",
       "      <td>0.046934</td>\n",
       "      <td>3</td>\n",
       "    </tr>\n",
       "    <tr>\n",
       "      <th>2</th>\n",
       "      <td>1.205258</td>\n",
       "      <td>0.025773</td>\n",
       "      <td>0.005569</td>\n",
       "      <td>0.000882</td>\n",
       "      <td>5</td>\n",
       "      <td>100</td>\n",
       "      <td>50</td>\n",
       "      <td>{'max_depth': 5, 'min_samples_leaf': 100, 'min...</td>\n",
       "      <td>0.060811</td>\n",
       "      <td>0.000000</td>\n",
       "      <td>0.000000</td>\n",
       "      <td>0.000000</td>\n",
       "      <td>0.047619</td>\n",
       "      <td>0.021686</td>\n",
       "      <td>0.026885</td>\n",
       "      <td>5</td>\n",
       "    </tr>\n",
       "    <tr>\n",
       "      <th>3</th>\n",
       "      <td>1.223488</td>\n",
       "      <td>0.028808</td>\n",
       "      <td>0.005457</td>\n",
       "      <td>0.000447</td>\n",
       "      <td>5</td>\n",
       "      <td>100</td>\n",
       "      <td>100</td>\n",
       "      <td>{'max_depth': 5, 'min_samples_leaf': 100, 'min...</td>\n",
       "      <td>0.060811</td>\n",
       "      <td>0.000000</td>\n",
       "      <td>0.000000</td>\n",
       "      <td>0.000000</td>\n",
       "      <td>0.047619</td>\n",
       "      <td>0.021686</td>\n",
       "      <td>0.026885</td>\n",
       "      <td>5</td>\n",
       "    </tr>\n",
       "    <tr>\n",
       "      <th>4</th>\n",
       "      <td>2.138696</td>\n",
       "      <td>0.031638</td>\n",
       "      <td>0.005543</td>\n",
       "      <td>0.000552</td>\n",
       "      <td>10</td>\n",
       "      <td>50</td>\n",
       "      <td>50</td>\n",
       "      <td>{'max_depth': 10, 'min_samples_leaf': 50, 'min...</td>\n",
       "      <td>0.054054</td>\n",
       "      <td>0.081081</td>\n",
       "      <td>0.155405</td>\n",
       "      <td>0.047297</td>\n",
       "      <td>0.061224</td>\n",
       "      <td>0.079812</td>\n",
       "      <td>0.039452</td>\n",
       "      <td>1</td>\n",
       "    </tr>\n",
       "    <tr>\n",
       "      <th>5</th>\n",
       "      <td>2.133873</td>\n",
       "      <td>0.015019</td>\n",
       "      <td>0.005640</td>\n",
       "      <td>0.000843</td>\n",
       "      <td>10</td>\n",
       "      <td>50</td>\n",
       "      <td>100</td>\n",
       "      <td>{'max_depth': 10, 'min_samples_leaf': 50, 'min...</td>\n",
       "      <td>0.054054</td>\n",
       "      <td>0.081081</td>\n",
       "      <td>0.155405</td>\n",
       "      <td>0.047297</td>\n",
       "      <td>0.061224</td>\n",
       "      <td>0.079812</td>\n",
       "      <td>0.039452</td>\n",
       "      <td>1</td>\n",
       "    </tr>\n",
       "    <tr>\n",
       "      <th>6</th>\n",
       "      <td>2.042011</td>\n",
       "      <td>0.025282</td>\n",
       "      <td>0.005200</td>\n",
       "      <td>0.000683</td>\n",
       "      <td>10</td>\n",
       "      <td>100</td>\n",
       "      <td>50</td>\n",
       "      <td>{'max_depth': 10, 'min_samples_leaf': 100, 'mi...</td>\n",
       "      <td>0.060811</td>\n",
       "      <td>0.000000</td>\n",
       "      <td>0.000000</td>\n",
       "      <td>0.000000</td>\n",
       "      <td>0.047619</td>\n",
       "      <td>0.021686</td>\n",
       "      <td>0.026885</td>\n",
       "      <td>5</td>\n",
       "    </tr>\n",
       "    <tr>\n",
       "      <th>7</th>\n",
       "      <td>2.073380</td>\n",
       "      <td>0.045023</td>\n",
       "      <td>0.005206</td>\n",
       "      <td>0.000378</td>\n",
       "      <td>10</td>\n",
       "      <td>100</td>\n",
       "      <td>100</td>\n",
       "      <td>{'max_depth': 10, 'min_samples_leaf': 100, 'mi...</td>\n",
       "      <td>0.060811</td>\n",
       "      <td>0.000000</td>\n",
       "      <td>0.000000</td>\n",
       "      <td>0.000000</td>\n",
       "      <td>0.047619</td>\n",
       "      <td>0.021686</td>\n",
       "      <td>0.026885</td>\n",
       "      <td>5</td>\n",
       "    </tr>\n",
       "  </tbody>\n",
       "</table>\n",
       "</div>"
      ],
      "text/plain": [
       "   mean_fit_time  std_fit_time  mean_score_time  std_score_time  \\\n",
       "0       1.935183      0.792875         0.005953        0.000736   \n",
       "1       1.304337      0.031475         0.005970        0.000427   \n",
       "2       1.205258      0.025773         0.005569        0.000882   \n",
       "3       1.223488      0.028808         0.005457        0.000447   \n",
       "4       2.138696      0.031638         0.005543        0.000552   \n",
       "5       2.133873      0.015019         0.005640        0.000843   \n",
       "6       2.042011      0.025282         0.005200        0.000683   \n",
       "7       2.073380      0.045023         0.005206        0.000378   \n",
       "\n",
       "  param_max_depth param_min_samples_leaf param_min_samples_split  \\\n",
       "0               5                     50                      50   \n",
       "1               5                     50                     100   \n",
       "2               5                    100                      50   \n",
       "3               5                    100                     100   \n",
       "4              10                     50                      50   \n",
       "5              10                     50                     100   \n",
       "6              10                    100                      50   \n",
       "7              10                    100                     100   \n",
       "\n",
       "                                              params  split0_test_score  \\\n",
       "0  {'max_depth': 5, 'min_samples_leaf': 50, 'min_...           0.054054   \n",
       "1  {'max_depth': 5, 'min_samples_leaf': 50, 'min_...           0.054054   \n",
       "2  {'max_depth': 5, 'min_samples_leaf': 100, 'min...           0.060811   \n",
       "3  {'max_depth': 5, 'min_samples_leaf': 100, 'min...           0.060811   \n",
       "4  {'max_depth': 10, 'min_samples_leaf': 50, 'min...           0.054054   \n",
       "5  {'max_depth': 10, 'min_samples_leaf': 50, 'min...           0.054054   \n",
       "6  {'max_depth': 10, 'min_samples_leaf': 100, 'mi...           0.060811   \n",
       "7  {'max_depth': 10, 'min_samples_leaf': 100, 'mi...           0.060811   \n",
       "\n",
       "   split1_test_score  split2_test_score  split3_test_score  split4_test_score  \\\n",
       "0           0.000000           0.141892           0.033784           0.061224   \n",
       "1           0.000000           0.141892           0.033784           0.061224   \n",
       "2           0.000000           0.000000           0.000000           0.047619   \n",
       "3           0.000000           0.000000           0.000000           0.047619   \n",
       "4           0.081081           0.155405           0.047297           0.061224   \n",
       "5           0.081081           0.155405           0.047297           0.061224   \n",
       "6           0.000000           0.000000           0.000000           0.047619   \n",
       "7           0.000000           0.000000           0.000000           0.047619   \n",
       "\n",
       "   mean_test_score  std_test_score  rank_test_score  \n",
       "0         0.058191        0.046934                3  \n",
       "1         0.058191        0.046934                3  \n",
       "2         0.021686        0.026885                5  \n",
       "3         0.021686        0.026885                5  \n",
       "4         0.079812        0.039452                1  \n",
       "5         0.079812        0.039452                1  \n",
       "6         0.021686        0.026885                5  \n",
       "7         0.021686        0.026885                5  "
      ]
     },
     "execution_count": 138,
     "metadata": {},
     "output_type": "execute_result"
    }
   ],
   "source": [
    "# cv results\n",
    "cv_results = pd.DataFrame(grid_search.cv_results_)\n",
    "cv_results"
   ]
  },
  {
   "cell_type": "code",
   "execution_count": 139,
   "metadata": {},
   "outputs": [
    {
     "name": "stdout",
     "output_type": "stream",
     "text": [
      "Best sensitivity:- 0.07981246552675125\n",
      "DecisionTreeClassifier(max_depth=10, min_samples_leaf=50, min_samples_split=50)\n"
     ]
    }
   ],
   "source": [
    "# Printing the optimal sensitivity score and hyperparameters\n",
    "print(\"Best sensitivity:-\", grid_search.best_score_)\n",
    "print(grid_search.best_estimator_)"
   ]
  },
  {
   "cell_type": "markdown",
   "metadata": {},
   "source": [
    "##### Model with optimal hyperparameters"
   ]
  },
  {
   "cell_type": "code",
   "execution_count": 140,
   "metadata": {},
   "outputs": [
    {
     "data": {
      "text/plain": [
       "DecisionTreeClassifier(max_depth=10, min_samples_leaf=50, min_samples_split=50,\n",
       "                       random_state=100)"
      ]
     },
     "execution_count": 140,
     "metadata": {},
     "output_type": "execute_result"
    }
   ],
   "source": [
    "# Model with optimal hyperparameters\n",
    "dt_pca_model = DecisionTreeClassifier(criterion = \"gini\", \n",
    "                                  random_state = 100,\n",
    "                                  max_depth=10, \n",
    "                                  min_samples_leaf=50,\n",
    "                                  min_samples_split=50)\n",
    "\n",
    "dt_pca_model.fit(X_train_pca, y_train)"
   ]
  },
  {
   "cell_type": "markdown",
   "metadata": {},
   "source": [
    "##### Prediction on the train set"
   ]
  },
  {
   "cell_type": "code",
   "execution_count": 141,
   "metadata": {},
   "outputs": [],
   "source": [
    "# Predictions on the train set\n",
    "y_train_pred = dt_pca_model.predict(X_train_pca)"
   ]
  },
  {
   "cell_type": "code",
   "execution_count": 142,
   "metadata": {},
   "outputs": [
    {
     "name": "stdout",
     "output_type": "stream",
     "text": [
      "[[21324   101]\n",
      " [  606   133]]\n"
     ]
    }
   ],
   "source": [
    "# Confusion matrix\n",
    "confusion = metrics.confusion_matrix(y_train, y_train_pred)\n",
    "print(confusion)"
   ]
  },
  {
   "cell_type": "code",
   "execution_count": 143,
   "metadata": {},
   "outputs": [],
   "source": [
    "TP = confusion[1,1] # true positive \n",
    "TN = confusion[0,0] # true negatives\n",
    "FP = confusion[0,1] # false positives\n",
    "FN = confusion[1,0] # false negatives"
   ]
  },
  {
   "cell_type": "code",
   "execution_count": 144,
   "metadata": {},
   "outputs": [
    {
     "name": "stdout",
     "output_type": "stream",
     "text": [
      "Accuracy:- 0.9681014257354268\n",
      "Sensitivity:- 0.17997293640054127\n",
      "Specificity:- 0.9952858809801634\n"
     ]
    }
   ],
   "source": [
    "# Accuracy\n",
    "print(\"Accuracy:-\",metrics.accuracy_score(y_train, y_train_pred))\n",
    "\n",
    "# Sensitivity\n",
    "print(\"Sensitivity:-\",TP / float(TP+FN))\n",
    "\n",
    "# Specificity\n",
    "print(\"Specificity:-\", TN / float(TN+FP))"
   ]
  },
  {
   "cell_type": "markdown",
   "metadata": {},
   "source": [
    "##### Prediction on the test set"
   ]
  },
  {
   "cell_type": "code",
   "execution_count": 145,
   "metadata": {},
   "outputs": [],
   "source": [
    "# Prediction on the test set\n",
    "y_test_pred = dt_pca_model.predict(X_test_pca)"
   ]
  },
  {
   "cell_type": "code",
   "execution_count": 146,
   "metadata": {},
   "outputs": [
    {
     "name": "stdout",
     "output_type": "stream",
     "text": [
      "[[5314   34]\n",
      " [ 175   18]]\n"
     ]
    }
   ],
   "source": [
    "# Confusion matrix\n",
    "confusion = metrics.confusion_matrix(y_test, y_test_pred)\n",
    "print(confusion)"
   ]
  },
  {
   "cell_type": "code",
   "execution_count": 147,
   "metadata": {},
   "outputs": [],
   "source": [
    "TP = confusion[1,1] # true positive \n",
    "TN = confusion[0,0] # true negatives\n",
    "FP = confusion[0,1] # false positives\n",
    "FN = confusion[1,0] # false negatives"
   ]
  },
  {
   "cell_type": "code",
   "execution_count": 148,
   "metadata": {},
   "outputs": [
    {
     "name": "stdout",
     "output_type": "stream",
     "text": [
      "Accuracy:- 0.9622811766829092\n",
      "Sensitivity:- 0.09326424870466321\n",
      "Specificity:- 0.993642483171279\n"
     ]
    }
   ],
   "source": [
    "# Accuracy\n",
    "print(\"Accuracy:-\",metrics.accuracy_score(y_test, y_test_pred))\n",
    "\n",
    "# Sensitivity\n",
    "print(\"Sensitivity:-\",TP / float(TP+FN))\n",
    "\n",
    "# Specificity\n",
    "print(\"Specificity:-\", TN / float(TN+FP))"
   ]
  },
  {
   "cell_type": "markdown",
   "metadata": {},
   "source": [
    "***Model summary***\n",
    "\n",
    "- Train set\n",
    "    - Accuracy = 0.90\n",
    "    - Sensitivity = 0.91\n",
    "    - Specificity = 0.88\n",
    "- Test set\n",
    "    - Accuracy = 0.86\n",
    "    - Sensitivity = 0.70\n",
    "    - Specificity = 0.87\n",
    "    \n",
    "    \n",
    "We can see from the model performance that the Sesitivity has been decreased while evaluating the model on the test set. However, the accuracy and specificity is quite good in the test set."
   ]
  },
  {
   "cell_type": "markdown",
   "metadata": {},
   "source": [
    "## Random forest with PCA"
   ]
  },
  {
   "cell_type": "code",
   "execution_count": 149,
   "metadata": {},
   "outputs": [],
   "source": [
    "# Importing random forest classifier\n",
    "from sklearn.ensemble import RandomForestClassifier"
   ]
  },
  {
   "cell_type": "markdown",
   "metadata": {},
   "source": [
    "##### Hyperparameter tuning"
   ]
  },
  {
   "cell_type": "code",
   "execution_count": 150,
   "metadata": {},
   "outputs": [
    {
     "name": "stdout",
     "output_type": "stream",
     "text": [
      "Fitting 3 folds for each of 24 candidates, totalling 72 fits\n"
     ]
    },
    {
     "data": {
      "text/plain": [
       "GridSearchCV(cv=3, estimator=RandomForestClassifier(), n_jobs=-1,\n",
       "             param_grid={'max_depth': range(5, 10, 5), 'max_features': [10, 20],\n",
       "                         'min_samples_leaf': range(50, 150, 50),\n",
       "                         'min_samples_split': range(50, 150, 50),\n",
       "                         'n_estimators': [100, 200, 300]},\n",
       "             return_train_score=True, verbose=1)"
      ]
     },
     "execution_count": 150,
     "metadata": {},
     "output_type": "execute_result"
    }
   ],
   "source": [
    "param_grid = {\n",
    "    'max_depth': range(5,10,5),\n",
    "    'min_samples_leaf': range(50, 150, 50),\n",
    "    'min_samples_split': range(50, 150, 50),\n",
    "    'n_estimators': [100,200,300], \n",
    "    'max_features': [10, 20]\n",
    "}\n",
    "# Create a based model\n",
    "rf = RandomForestClassifier()\n",
    "# Instantiate the grid search model\n",
    "grid_search = GridSearchCV(estimator = rf, \n",
    "                           param_grid = param_grid, \n",
    "                           cv = 3,\n",
    "                           n_jobs = -1,\n",
    "                           verbose = 1, \n",
    "                           return_train_score=True)\n",
    "\n",
    "# Fit the model\n",
    "grid_search.fit(X_train_pca, y_train)\n"
   ]
  },
  {
   "cell_type": "code",
   "execution_count": 151,
   "metadata": {},
   "outputs": [
    {
     "name": "stdout",
     "output_type": "stream",
     "text": [
      "We can get accuracy of 0.9666576430247248 using {'max_depth': 5, 'max_features': 10, 'min_samples_leaf': 50, 'min_samples_split': 50, 'n_estimators': 100}\n"
     ]
    }
   ],
   "source": [
    "# printing the optimal accuracy score and hyperparameters\n",
    "print('We can get accuracy of',grid_search.best_score_,'using',grid_search.best_params_)"
   ]
  },
  {
   "cell_type": "markdown",
   "metadata": {},
   "source": [
    "##### Model with optimal hyperparameters"
   ]
  },
  {
   "cell_type": "code",
   "execution_count": 152,
   "metadata": {},
   "outputs": [],
   "source": [
    "# model with the best hyperparameters\n",
    "\n",
    "rfc_model = RandomForestClassifier(bootstrap=True,\n",
    "                             max_depth=5,\n",
    "                             min_samples_leaf=50, \n",
    "                             min_samples_split=100,\n",
    "                             max_features=20,\n",
    "                             n_estimators=300)"
   ]
  },
  {
   "cell_type": "code",
   "execution_count": 153,
   "metadata": {},
   "outputs": [
    {
     "data": {
      "text/plain": [
       "RandomForestClassifier(max_depth=5, max_features=20, min_samples_leaf=50,\n",
       "                       min_samples_split=100, n_estimators=300)"
      ]
     },
     "execution_count": 153,
     "metadata": {},
     "output_type": "execute_result"
    }
   ],
   "source": [
    "# Fit the model\n",
    "rfc_model.fit(X_train_pca, y_train)"
   ]
  },
  {
   "cell_type": "markdown",
   "metadata": {},
   "source": [
    "##### Prediction on the train set"
   ]
  },
  {
   "cell_type": "code",
   "execution_count": 154,
   "metadata": {},
   "outputs": [],
   "source": [
    "# Predictions on the train set\n",
    "y_train_pred = rfc_model.predict(X_train_pca)"
   ]
  },
  {
   "cell_type": "code",
   "execution_count": 155,
   "metadata": {},
   "outputs": [
    {
     "name": "stdout",
     "output_type": "stream",
     "text": [
      "[[21425     0]\n",
      " [  739     0]]\n"
     ]
    }
   ],
   "source": [
    "# Confusion matrix\n",
    "confusion = metrics.confusion_matrix(y_train, y_train_pred)\n",
    "print(confusion)"
   ]
  },
  {
   "cell_type": "code",
   "execution_count": 156,
   "metadata": {},
   "outputs": [],
   "source": [
    "TP = confusion[1,1] # true positive \n",
    "TN = confusion[0,0] # true negatives\n",
    "FP = confusion[0,1] # false positives\n",
    "FN = confusion[1,0] # false negatives"
   ]
  },
  {
   "cell_type": "code",
   "execution_count": 157,
   "metadata": {},
   "outputs": [
    {
     "name": "stdout",
     "output_type": "stream",
     "text": [
      "Accuracy:- 0.9666576430247248\n",
      "Sensitivity:- 0.0\n",
      "Specificity:- 1.0\n"
     ]
    }
   ],
   "source": [
    "# Accuracy\n",
    "print(\"Accuracy:-\",metrics.accuracy_score(y_train, y_train_pred))\n",
    "\n",
    "# Sensitivity\n",
    "print(\"Sensitivity:-\",TP / float(TP+FN))\n",
    "\n",
    "# Specificity\n",
    "print(\"Specificity:-\", TN / float(TN+FP))"
   ]
  },
  {
   "cell_type": "markdown",
   "metadata": {},
   "source": [
    "##### Prediction on the test set"
   ]
  },
  {
   "cell_type": "code",
   "execution_count": 158,
   "metadata": {},
   "outputs": [],
   "source": [
    "# Prediction on the test set\n",
    "y_test_pred = rfc_model.predict(X_test_pca)"
   ]
  },
  {
   "cell_type": "code",
   "execution_count": 159,
   "metadata": {},
   "outputs": [
    {
     "name": "stdout",
     "output_type": "stream",
     "text": [
      "[[5348    0]\n",
      " [ 193    0]]\n"
     ]
    }
   ],
   "source": [
    "# Confusion matrix\n",
    "confusion = metrics.confusion_matrix(y_test, y_test_pred)\n",
    "print(confusion)"
   ]
  },
  {
   "cell_type": "code",
   "execution_count": 160,
   "metadata": {},
   "outputs": [],
   "source": [
    "TP = confusion[1,1] # true positive \n",
    "TN = confusion[0,0] # true negatives\n",
    "FP = confusion[0,1] # false positives\n",
    "FN = confusion[1,0] # false negatives"
   ]
  },
  {
   "cell_type": "code",
   "execution_count": 161,
   "metadata": {},
   "outputs": [
    {
     "name": "stdout",
     "output_type": "stream",
     "text": [
      "Accuracy:- 0.9651687421043132\n",
      "Sensitivity:- 0.0\n",
      "Specificity:- 1.0\n"
     ]
    }
   ],
   "source": [
    "# Accuracy\n",
    "print(\"Accuracy:-\",metrics.accuracy_score(y_test, y_test_pred))\n",
    "\n",
    "# Sensitivity\n",
    "print(\"Sensitivity:-\",TP / float(TP+FN))\n",
    "\n",
    "# Specificity\n",
    "print(\"Specificity:-\", TN / float(TN+FP))"
   ]
  },
  {
   "cell_type": "markdown",
   "metadata": {},
   "source": [
    "***Model summary***\n",
    "\n",
    "- Train set\n",
    "    - Accuracy = 0.84\n",
    "    - Sensitivity = 0.88\n",
    "    - Specificity = 0.80\n",
    "- Test set\n",
    "    - Accuracy = 0.80\n",
    "    - Sensitivity = 0.75\n",
    "    - Specificity = 0.80\n",
    "    \n",
    "    \n",
    "We can see from the model performance that the Sesitivity has been decreased while evaluating the model on the test set. However, the accuracy and specificity is quite good in the test set."
   ]
  },
  {
   "cell_type": "markdown",
   "metadata": {},
   "source": [
    "# Without PCA"
   ]
  },
  {
   "cell_type": "markdown",
   "metadata": {},
   "source": [
    "## Logistic regression with No PCA"
   ]
  },
  {
   "cell_type": "code",
   "execution_count": 162,
   "metadata": {},
   "outputs": [],
   "source": [
    "##### Importing stats model\n",
    "import statsmodels.api as sm"
   ]
  },
  {
   "cell_type": "code",
   "execution_count": 163,
   "metadata": {},
   "outputs": [],
   "source": [
    "# Instantiate the model\n",
    "# Adding the constant to X_train\n",
    "log_no_pca = sm.GLM(y_train,(sm.add_constant(X_train)), family=sm.families.Binomial())"
   ]
  },
  {
   "cell_type": "code",
   "execution_count": 165,
   "metadata": {},
   "outputs": [],
   "source": [
    "# Fit the model\n",
    "log_no_pca = log_no_pca.fit().summary()"
   ]
  },
  {
   "cell_type": "code",
   "execution_count": 166,
   "metadata": {},
   "outputs": [
    {
     "data": {
      "text/html": [
       "<table class=\"simpletable\">\n",
       "<caption>Generalized Linear Model Regression Results</caption>\n",
       "<tr>\n",
       "  <th>Dep. Variable:</th>         <td>churn</td>      <th>  No. Observations:  </th>  <td> 22164</td> \n",
       "</tr>\n",
       "<tr>\n",
       "  <th>Model:</th>                  <td>GLM</td>       <th>  Df Residuals:      </th>  <td> 22034</td> \n",
       "</tr>\n",
       "<tr>\n",
       "  <th>Model Family:</th>        <td>Binomial</td>     <th>  Df Model:          </th>  <td>   129</td> \n",
       "</tr>\n",
       "<tr>\n",
       "  <th>Link Function:</th>         <td>Logit</td>      <th>  Scale:             </th> <td>  1.0000</td>\n",
       "</tr>\n",
       "<tr>\n",
       "  <th>Method:</th>                <td>IRLS</td>       <th>  Log-Likelihood:    </th> <td>     nan</td>\n",
       "</tr>\n",
       "<tr>\n",
       "  <th>Date:</th>            <td>Tue, 20 Jun 2023</td> <th>  Deviance:          </th> <td>  4067.2</td>\n",
       "</tr>\n",
       "<tr>\n",
       "  <th>Time:</th>                <td>22:43:55</td>     <th>  Pearson chi2:      </th> <td>2.41e+05</td>\n",
       "</tr>\n",
       "<tr>\n",
       "  <th>No. Iterations:</th>         <td>100</td>       <th>  Pseudo R-squ. (CS):</th>  <td>   nan</td> \n",
       "</tr>\n",
       "<tr>\n",
       "  <th>Covariance Type:</th>     <td>nonrobust</td>    <th>                     </th>     <td> </td>   \n",
       "</tr>\n",
       "</table>\n",
       "<table class=\"simpletable\">\n",
       "<tr>\n",
       "              <td></td>                <th>coef</th>     <th>std err</th>      <th>z</th>      <th>P>|z|</th>  <th>[0.025</th>    <th>0.975]</th>  \n",
       "</tr>\n",
       "<tr>\n",
       "  <th>const</th>                    <td>  -98.4867</td> <td> 8546.461</td> <td>   -0.012</td> <td> 0.991</td> <td>-1.68e+04</td> <td> 1.67e+04</td>\n",
       "</tr>\n",
       "<tr>\n",
       "  <th>loc_og_t2o_mou</th>           <td>-6.719e-07</td> <td> 4.35e-05</td> <td>   -0.015</td> <td> 0.988</td> <td> -8.6e-05</td> <td> 8.47e-05</td>\n",
       "</tr>\n",
       "<tr>\n",
       "  <th>std_og_t2o_mou</th>           <td>-7.878e-07</td> <td>    0.000</td> <td>   -0.006</td> <td> 0.995</td> <td>   -0.000</td> <td>    0.000</td>\n",
       "</tr>\n",
       "<tr>\n",
       "  <th>loc_ic_t2o_mou</th>           <td>  1.44e-06</td> <td> 5.35e-05</td> <td>    0.027</td> <td> 0.979</td> <td>   -0.000</td> <td>    0.000</td>\n",
       "</tr>\n",
       "<tr>\n",
       "  <th>arpu_6</th>                   <td>   -0.1052</td> <td>    0.160</td> <td>   -0.657</td> <td> 0.511</td> <td>   -0.419</td> <td>    0.209</td>\n",
       "</tr>\n",
       "<tr>\n",
       "  <th>arpu_7</th>                   <td>    0.0732</td> <td>    0.175</td> <td>    0.418</td> <td> 0.676</td> <td>   -0.270</td> <td>    0.416</td>\n",
       "</tr>\n",
       "<tr>\n",
       "  <th>arpu_8</th>                   <td>    0.1075</td> <td>    0.232</td> <td>    0.463</td> <td> 0.643</td> <td>   -0.347</td> <td>    0.562</td>\n",
       "</tr>\n",
       "<tr>\n",
       "  <th>onnet_mou_6</th>              <td>    5.6444</td> <td>    6.289</td> <td>    0.897</td> <td> 0.369</td> <td>   -6.682</td> <td>   17.971</td>\n",
       "</tr>\n",
       "<tr>\n",
       "  <th>onnet_mou_7</th>              <td>    2.2477</td> <td>    3.805</td> <td>    0.591</td> <td> 0.555</td> <td>   -5.209</td> <td>    9.705</td>\n",
       "</tr>\n",
       "<tr>\n",
       "  <th>onnet_mou_8</th>              <td>   -4.0264</td> <td>    4.542</td> <td>   -0.886</td> <td> 0.375</td> <td>  -12.929</td> <td>    4.876</td>\n",
       "</tr>\n",
       "<tr>\n",
       "  <th>offnet_mou_6</th>             <td>    5.9591</td> <td>    6.224</td> <td>    0.957</td> <td> 0.338</td> <td>   -6.241</td> <td>   18.159</td>\n",
       "</tr>\n",
       "<tr>\n",
       "  <th>offnet_mou_7</th>             <td>    2.8728</td> <td>    3.710</td> <td>    0.774</td> <td> 0.439</td> <td>   -4.398</td> <td>   10.143</td>\n",
       "</tr>\n",
       "<tr>\n",
       "  <th>offnet_mou_8</th>             <td>   -5.1068</td> <td>    4.651</td> <td>   -1.098</td> <td> 0.272</td> <td>  -14.223</td> <td>    4.009</td>\n",
       "</tr>\n",
       "<tr>\n",
       "  <th>roam_ic_mou_6</th>            <td>    0.0753</td> <td>    0.041</td> <td>    1.821</td> <td> 0.069</td> <td>   -0.006</td> <td>    0.156</td>\n",
       "</tr>\n",
       "<tr>\n",
       "  <th>roam_ic_mou_7</th>            <td>   -0.0277</td> <td>    0.047</td> <td>   -0.594</td> <td> 0.552</td> <td>   -0.119</td> <td>    0.064</td>\n",
       "</tr>\n",
       "<tr>\n",
       "  <th>roam_ic_mou_8</th>            <td>    0.0377</td> <td>    0.039</td> <td>    0.971</td> <td> 0.331</td> <td>   -0.038</td> <td>    0.114</td>\n",
       "</tr>\n",
       "<tr>\n",
       "  <th>roam_og_mou_6</th>            <td>   -1.3477</td> <td>    1.516</td> <td>   -0.889</td> <td> 0.374</td> <td>   -4.319</td> <td>    1.624</td>\n",
       "</tr>\n",
       "<tr>\n",
       "  <th>roam_og_mou_7</th>            <td>   -0.3995</td> <td>    0.717</td> <td>   -0.557</td> <td> 0.578</td> <td>   -1.806</td> <td>    1.006</td>\n",
       "</tr>\n",
       "<tr>\n",
       "  <th>roam_og_mou_8</th>            <td>    0.9551</td> <td>    0.943</td> <td>    1.013</td> <td> 0.311</td> <td>   -0.893</td> <td>    2.803</td>\n",
       "</tr>\n",
       "<tr>\n",
       "  <th>loc_og_t2t_mou_6</th>         <td>-1931.5265</td> <td> 1904.722</td> <td>   -1.014</td> <td> 0.311</td> <td>-5664.713</td> <td> 1801.660</td>\n",
       "</tr>\n",
       "<tr>\n",
       "  <th>loc_og_t2t_mou_7</th>         <td> -314.9182</td> <td> 2037.068</td> <td>   -0.155</td> <td> 0.877</td> <td>-4307.497</td> <td> 3677.661</td>\n",
       "</tr>\n",
       "<tr>\n",
       "  <th>loc_og_t2t_mou_8</th>         <td> 4897.3251</td> <td> 2219.795</td> <td>    2.206</td> <td> 0.027</td> <td>  546.608</td> <td> 9248.043</td>\n",
       "</tr>\n",
       "<tr>\n",
       "  <th>loc_og_t2m_mou_6</th>         <td>-1961.3570</td> <td> 1933.547</td> <td>   -1.014</td> <td> 0.310</td> <td>-5751.039</td> <td> 1828.325</td>\n",
       "</tr>\n",
       "<tr>\n",
       "  <th>loc_og_t2m_mou_7</th>         <td> -290.5772</td> <td> 1876.220</td> <td>   -0.155</td> <td> 0.877</td> <td>-3967.902</td> <td> 3386.747</td>\n",
       "</tr>\n",
       "<tr>\n",
       "  <th>loc_og_t2m_mou_8</th>         <td> 4890.8946</td> <td> 2216.775</td> <td>    2.206</td> <td> 0.027</td> <td>  546.095</td> <td> 9235.694</td>\n",
       "</tr>\n",
       "<tr>\n",
       "  <th>loc_og_t2f_mou_6</th>         <td> -174.2879</td> <td>  171.859</td> <td>   -1.014</td> <td> 0.311</td> <td> -511.126</td> <td>  162.551</td>\n",
       "</tr>\n",
       "<tr>\n",
       "  <th>loc_og_t2f_mou_7</th>         <td>  -27.0511</td> <td>  174.427</td> <td>   -0.155</td> <td> 0.877</td> <td> -368.922</td> <td>  314.820</td>\n",
       "</tr>\n",
       "<tr>\n",
       "  <th>loc_og_t2f_mou_8</th>         <td>  436.0597</td> <td>  197.838</td> <td>    2.204</td> <td> 0.028</td> <td>   48.304</td> <td>  823.816</td>\n",
       "</tr>\n",
       "<tr>\n",
       "  <th>loc_og_t2c_mou_6</th>         <td>    0.0254</td> <td>    0.042</td> <td>    0.607</td> <td> 0.544</td> <td>   -0.057</td> <td>    0.107</td>\n",
       "</tr>\n",
       "<tr>\n",
       "  <th>loc_og_t2c_mou_7</th>         <td>    0.0229</td> <td>    0.048</td> <td>    0.480</td> <td> 0.631</td> <td>   -0.071</td> <td>    0.116</td>\n",
       "</tr>\n",
       "<tr>\n",
       "  <th>loc_og_t2c_mou_8</th>         <td>    0.0365</td> <td>    0.064</td> <td>    0.570</td> <td> 0.569</td> <td>   -0.089</td> <td>    0.162</td>\n",
       "</tr>\n",
       "<tr>\n",
       "  <th>loc_og_mou_6</th>             <td> 1540.0253</td> <td> 3642.670</td> <td>    0.423</td> <td> 0.672</td> <td>-5599.476</td> <td> 8679.527</td>\n",
       "</tr>\n",
       "<tr>\n",
       "  <th>loc_og_mou_7</th>             <td> 4742.3192</td> <td> 3855.840</td> <td>    1.230</td> <td> 0.219</td> <td>-2814.989</td> <td> 1.23e+04</td>\n",
       "</tr>\n",
       "<tr>\n",
       "  <th>loc_og_mou_8</th>             <td> 3772.5107</td> <td> 4392.521</td> <td>    0.859</td> <td> 0.390</td> <td>-4836.672</td> <td> 1.24e+04</td>\n",
       "</tr>\n",
       "<tr>\n",
       "  <th>std_og_t2t_mou_6</th>         <td>-4244.7715</td> <td> 3434.459</td> <td>   -1.236</td> <td> 0.216</td> <td> -1.1e+04</td> <td> 2486.645</td>\n",
       "</tr>\n",
       "<tr>\n",
       "  <th>std_og_t2t_mou_7</th>         <td>-5051.0257</td> <td> 3684.235</td> <td>   -1.371</td> <td> 0.170</td> <td>-1.23e+04</td> <td> 2169.942</td>\n",
       "</tr>\n",
       "<tr>\n",
       "  <th>std_og_t2t_mou_8</th>         <td> 9102.2654</td> <td> 4284.961</td> <td>    2.124</td> <td> 0.034</td> <td>  703.897</td> <td> 1.75e+04</td>\n",
       "</tr>\n",
       "<tr>\n",
       "  <th>std_og_t2m_mou_6</th>         <td>-4228.7063</td> <td> 3421.155</td> <td>   -1.236</td> <td> 0.216</td> <td>-1.09e+04</td> <td> 2476.634</td>\n",
       "</tr>\n",
       "<tr>\n",
       "  <th>std_og_t2m_mou_7</th>         <td>-5174.1888</td> <td> 3773.708</td> <td>   -1.371</td> <td> 0.170</td> <td>-1.26e+04</td> <td> 2222.143</td>\n",
       "</tr>\n",
       "<tr>\n",
       "  <th>std_og_t2m_mou_8</th>         <td> 9401.4722</td> <td> 4425.398</td> <td>    2.124</td> <td> 0.034</td> <td>  727.851</td> <td> 1.81e+04</td>\n",
       "</tr>\n",
       "<tr>\n",
       "  <th>std_og_t2f_mou_6</th>         <td> -138.2871</td> <td>  111.706</td> <td>   -1.238</td> <td> 0.216</td> <td> -357.228</td> <td>   80.654</td>\n",
       "</tr>\n",
       "<tr>\n",
       "  <th>std_og_t2f_mou_7</th>         <td> -160.4486</td> <td>  117.150</td> <td>   -1.370</td> <td> 0.171</td> <td> -390.058</td> <td>   69.161</td>\n",
       "</tr>\n",
       "<tr>\n",
       "  <th>std_og_t2f_mou_8</th>         <td>  266.7578</td> <td>  125.588</td> <td>    2.124</td> <td> 0.034</td> <td>   20.610</td> <td>  512.905</td>\n",
       "</tr>\n",
       "<tr>\n",
       "  <th>std_og_t2c_mou_6</th>         <td>  8.38e-07</td> <td>  8.2e-05</td> <td>    0.010</td> <td> 0.992</td> <td>   -0.000</td> <td>    0.000</td>\n",
       "</tr>\n",
       "<tr>\n",
       "  <th>std_og_t2c_mou_7</th>         <td> 2.343e-06</td> <td>    0.000</td> <td>    0.012</td> <td> 0.991</td> <td>   -0.000</td> <td>    0.000</td>\n",
       "</tr>\n",
       "<tr>\n",
       "  <th>std_og_t2c_mou_8</th>         <td> 2.308e-06</td> <td>    0.000</td> <td>    0.009</td> <td> 0.993</td> <td>   -0.001</td> <td>    0.001</td>\n",
       "</tr>\n",
       "<tr>\n",
       "  <th>std_og_mou_6</th>             <td> 3946.8294</td> <td> 5874.025</td> <td>    0.672</td> <td> 0.502</td> <td>-7566.048</td> <td> 1.55e+04</td>\n",
       "</tr>\n",
       "<tr>\n",
       "  <th>std_og_mou_7</th>             <td> 1.439e+04</td> <td> 6644.002</td> <td>    2.166</td> <td> 0.030</td> <td> 1369.076</td> <td> 2.74e+04</td>\n",
       "</tr>\n",
       "<tr>\n",
       "  <th>std_og_mou_8</th>             <td> 5230.6860</td> <td> 8003.091</td> <td>    0.654</td> <td> 0.513</td> <td>-1.05e+04</td> <td> 2.09e+04</td>\n",
       "</tr>\n",
       "<tr>\n",
       "  <th>isd_og_mou_6</th>             <td>  -48.7830</td> <td>   82.568</td> <td>   -0.591</td> <td> 0.555</td> <td> -210.613</td> <td>  113.046</td>\n",
       "</tr>\n",
       "<tr>\n",
       "  <th>isd_og_mou_7</th>             <td>  126.6873</td> <td>   83.859</td> <td>    1.511</td> <td> 0.131</td> <td>  -37.673</td> <td>  291.047</td>\n",
       "</tr>\n",
       "<tr>\n",
       "  <th>isd_og_mou_8</th>             <td>  456.3715</td> <td>  120.143</td> <td>    3.799</td> <td> 0.000</td> <td>  220.896</td> <td>  691.847</td>\n",
       "</tr>\n",
       "<tr>\n",
       "  <th>spl_og_mou_6</th>             <td>  -71.4053</td> <td>  120.516</td> <td>   -0.592</td> <td> 0.554</td> <td> -307.613</td> <td>  164.803</td>\n",
       "</tr>\n",
       "<tr>\n",
       "  <th>spl_og_mou_7</th>             <td>  254.7509</td> <td>  168.575</td> <td>    1.511</td> <td> 0.131</td> <td>  -75.650</td> <td>  585.152</td>\n",
       "</tr>\n",
       "<tr>\n",
       "  <th>spl_og_mou_8</th>             <td>  690.9467</td> <td>  181.484</td> <td>    3.807</td> <td> 0.000</td> <td>  335.245</td> <td> 1046.648</td>\n",
       "</tr>\n",
       "<tr>\n",
       "  <th>og_others_6</th>              <td>   -9.1050</td> <td>   15.322</td> <td>   -0.594</td> <td> 0.552</td> <td>  -39.135</td> <td>   20.925</td>\n",
       "</tr>\n",
       "<tr>\n",
       "  <th>og_others_7</th>              <td>   21.0976</td> <td>   15.874</td> <td>    1.329</td> <td> 0.184</td> <td>  -10.015</td> <td>   52.210</td>\n",
       "</tr>\n",
       "<tr>\n",
       "  <th>og_others_8</th>              <td>-4737.8433</td> <td> 4.47e+05</td> <td>   -0.011</td> <td> 0.992</td> <td>-8.82e+05</td> <td> 8.72e+05</td>\n",
       "</tr>\n",
       "<tr>\n",
       "  <th>total_og_mou_6</th>           <td> 2451.6974</td> <td> 4155.118</td> <td>    0.590</td> <td> 0.555</td> <td>-5692.184</td> <td> 1.06e+04</td>\n",
       "</tr>\n",
       "<tr>\n",
       "  <th>total_og_mou_7</th>           <td>-7367.7469</td> <td> 4874.223</td> <td>   -1.512</td> <td> 0.131</td> <td>-1.69e+04</td> <td> 2185.555</td>\n",
       "</tr>\n",
       "<tr>\n",
       "  <th>total_og_mou_8</th>           <td>-2.082e+04</td> <td> 5469.764</td> <td>   -3.807</td> <td> 0.000</td> <td>-3.15e+04</td> <td>-1.01e+04</td>\n",
       "</tr>\n",
       "<tr>\n",
       "  <th>loc_ic_t2t_mou_6</th>         <td> -139.3442</td> <td> 1252.216</td> <td>   -0.111</td> <td> 0.911</td> <td>-2593.643</td> <td> 2314.955</td>\n",
       "</tr>\n",
       "<tr>\n",
       "  <th>loc_ic_t2t_mou_7</th>         <td> 3312.4077</td> <td> 1345.720</td> <td>    2.461</td> <td> 0.014</td> <td>  674.845</td> <td> 5949.971</td>\n",
       "</tr>\n",
       "<tr>\n",
       "  <th>loc_ic_t2t_mou_8</th>         <td> 8630.1441</td> <td> 1479.021</td> <td>    5.835</td> <td> 0.000</td> <td> 5731.317</td> <td> 1.15e+04</td>\n",
       "</tr>\n",
       "<tr>\n",
       "  <th>loc_ic_t2m_mou_6</th>         <td> -185.2684</td> <td> 1665.194</td> <td>   -0.111</td> <td> 0.911</td> <td>-3448.989</td> <td> 3078.452</td>\n",
       "</tr>\n",
       "<tr>\n",
       "  <th>loc_ic_t2m_mou_7</th>         <td> 4214.8811</td> <td> 1712.231</td> <td>    2.462</td> <td> 0.014</td> <td>  858.970</td> <td> 7570.792</td>\n",
       "</tr>\n",
       "<tr>\n",
       "  <th>loc_ic_t2m_mou_8</th>         <td> 1.167e+04</td> <td> 2000.037</td> <td>    5.835</td> <td> 0.000</td> <td> 7749.943</td> <td> 1.56e+04</td>\n",
       "</tr>\n",
       "<tr>\n",
       "  <th>loc_ic_t2f_mou_6</th>         <td>  -38.8029</td> <td>  348.786</td> <td>   -0.111</td> <td> 0.911</td> <td> -722.412</td> <td>  644.806</td>\n",
       "</tr>\n",
       "<tr>\n",
       "  <th>loc_ic_t2f_mou_7</th>         <td>  966.3082</td> <td>  392.610</td> <td>    2.461</td> <td> 0.014</td> <td>  196.808</td> <td> 1735.809</td>\n",
       "</tr>\n",
       "<tr>\n",
       "  <th>loc_ic_t2f_mou_8</th>         <td> 2385.1088</td> <td>  408.846</td> <td>    5.834</td> <td> 0.000</td> <td> 1583.785</td> <td> 3186.432</td>\n",
       "</tr>\n",
       "<tr>\n",
       "  <th>loc_ic_mou_6</th>             <td>-3348.7989</td> <td> 3129.060</td> <td>   -1.070</td> <td> 0.285</td> <td>-9481.644</td> <td> 2784.046</td>\n",
       "</tr>\n",
       "<tr>\n",
       "  <th>loc_ic_mou_7</th>             <td>-3341.2915</td> <td> 3259.496</td> <td>   -1.025</td> <td> 0.305</td> <td>-9729.785</td> <td> 3047.202</td>\n",
       "</tr>\n",
       "<tr>\n",
       "  <th>loc_ic_mou_8</th>             <td>  792.4704</td> <td> 3816.414</td> <td>    0.208</td> <td> 0.836</td> <td>-6687.564</td> <td> 8272.505</td>\n",
       "</tr>\n",
       "<tr>\n",
       "  <th>std_ic_t2t_mou_6</th>         <td>-2083.1860</td> <td>  703.257</td> <td>   -2.962</td> <td> 0.003</td> <td>-3461.545</td> <td> -704.827</td>\n",
       "</tr>\n",
       "<tr>\n",
       "  <th>std_ic_t2t_mou_7</th>         <td> -760.3385</td> <td>  816.145</td> <td>   -0.932</td> <td> 0.352</td> <td>-2359.953</td> <td>  839.276</td>\n",
       "</tr>\n",
       "<tr>\n",
       "  <th>std_ic_t2t_mou_8</th>         <td>  -80.8131</td> <td>  819.347</td> <td>   -0.099</td> <td> 0.921</td> <td>-1686.703</td> <td> 1525.077</td>\n",
       "</tr>\n",
       "<tr>\n",
       "  <th>std_ic_t2m_mou_6</th>         <td>-2634.3582</td> <td>  889.294</td> <td>   -2.962</td> <td> 0.003</td> <td>-4377.342</td> <td> -891.375</td>\n",
       "</tr>\n",
       "<tr>\n",
       "  <th>std_ic_t2m_mou_7</th>         <td> -866.0588</td> <td>  929.481</td> <td>   -0.932</td> <td> 0.351</td> <td>-2687.809</td> <td>  955.691</td>\n",
       "</tr>\n",
       "<tr>\n",
       "  <th>std_ic_t2m_mou_8</th>         <td> -113.8243</td> <td> 1158.771</td> <td>   -0.098</td> <td> 0.922</td> <td>-2384.975</td> <td> 2157.326</td>\n",
       "</tr>\n",
       "<tr>\n",
       "  <th>std_ic_t2f_mou_6</th>         <td> -505.4691</td> <td>  170.669</td> <td>   -2.962</td> <td> 0.003</td> <td> -839.975</td> <td> -170.963</td>\n",
       "</tr>\n",
       "<tr>\n",
       "  <th>std_ic_t2f_mou_7</th>         <td> -166.1283</td> <td>  178.445</td> <td>   -0.931</td> <td> 0.352</td> <td> -515.874</td> <td>  183.617</td>\n",
       "</tr>\n",
       "<tr>\n",
       "  <th>std_ic_t2f_mou_8</th>         <td>  -21.1749</td> <td>  208.650</td> <td>   -0.101</td> <td> 0.919</td> <td> -430.121</td> <td>  387.771</td>\n",
       "</tr>\n",
       "<tr>\n",
       "  <th>std_ic_t2o_mou_6</th>         <td> 5.866e-07</td> <td> 6.36e-05</td> <td>    0.009</td> <td> 0.993</td> <td>   -0.000</td> <td>    0.000</td>\n",
       "</tr>\n",
       "<tr>\n",
       "  <th>std_ic_t2o_mou_7</th>         <td> 6.264e-07</td> <td> 6.37e-05</td> <td>    0.010</td> <td> 0.992</td> <td>   -0.000</td> <td>    0.000</td>\n",
       "</tr>\n",
       "<tr>\n",
       "  <th>std_ic_t2o_mou_8</th>         <td>  1.38e-06</td> <td>    0.000</td> <td>    0.010</td> <td> 0.992</td> <td>   -0.000</td> <td>    0.000</td>\n",
       "</tr>\n",
       "<tr>\n",
       "  <th>std_ic_mou_6</th>             <td> 2045.1605</td> <td> 1513.605</td> <td>    1.351</td> <td> 0.177</td> <td> -921.450</td> <td> 5011.771</td>\n",
       "</tr>\n",
       "<tr>\n",
       "  <th>std_ic_mou_7</th>             <td> 2562.6857</td> <td> 1727.080</td> <td>    1.484</td> <td> 0.138</td> <td> -822.328</td> <td> 5947.699</td>\n",
       "</tr>\n",
       "<tr>\n",
       "  <th>std_ic_mou_8</th>             <td> 7919.6807</td> <td> 1976.385</td> <td>    4.007</td> <td> 0.000</td> <td> 4046.036</td> <td> 1.18e+04</td>\n",
       "</tr>\n",
       "<tr>\n",
       "  <th>total_ic_mou_6</th>           <td> 4160.8878</td> <td> 2679.317</td> <td>    1.553</td> <td> 0.120</td> <td>-1090.478</td> <td> 9412.253</td>\n",
       "</tr>\n",
       "<tr>\n",
       "  <th>total_ic_mou_7</th>           <td>-3212.1678</td> <td> 2925.612</td> <td>   -1.098</td> <td> 0.272</td> <td>-8946.261</td> <td> 2521.925</td>\n",
       "</tr>\n",
       "<tr>\n",
       "  <th>total_ic_mou_8</th>           <td>-2.017e+04</td> <td> 3370.118</td> <td>   -5.985</td> <td> 0.000</td> <td>-2.68e+04</td> <td>-1.36e+04</td>\n",
       "</tr>\n",
       "<tr>\n",
       "  <th>spl_ic_mou_6</th>             <td>   -2.3684</td> <td>    1.563</td> <td>   -1.515</td> <td> 0.130</td> <td>   -5.431</td> <td>    0.695</td>\n",
       "</tr>\n",
       "<tr>\n",
       "  <th>spl_ic_mou_7</th>             <td>    1.5572</td> <td>    1.645</td> <td>    0.947</td> <td> 0.344</td> <td>   -1.666</td> <td>    4.781</td>\n",
       "</tr>\n",
       "<tr>\n",
       "  <th>spl_ic_mou_8</th>             <td>    5.8202</td> <td>    1.066</td> <td>    5.458</td> <td> 0.000</td> <td>    3.730</td> <td>    7.910</td>\n",
       "</tr>\n",
       "<tr>\n",
       "  <th>isd_ic_mou_6</th>             <td> -779.4596</td> <td>  501.875</td> <td>   -1.553</td> <td> 0.120</td> <td>-1763.117</td> <td>  204.197</td>\n",
       "</tr>\n",
       "<tr>\n",
       "  <th>isd_ic_mou_7</th>             <td>  627.8409</td> <td>  571.805</td> <td>    1.098</td> <td> 0.272</td> <td> -492.875</td> <td> 1748.557</td>\n",
       "</tr>\n",
       "<tr>\n",
       "  <th>isd_ic_mou_8</th>             <td> 4035.3364</td> <td>  674.263</td> <td>    5.985</td> <td> 0.000</td> <td> 2713.805</td> <td> 5356.868</td>\n",
       "</tr>\n",
       "<tr>\n",
       "  <th>ic_others_6</th>              <td> -131.1232</td> <td>   84.446</td> <td>   -1.553</td> <td> 0.120</td> <td> -296.635</td> <td>   34.389</td>\n",
       "</tr>\n",
       "<tr>\n",
       "  <th>ic_others_7</th>              <td>   96.7740</td> <td>   88.193</td> <td>    1.097</td> <td> 0.273</td> <td>  -76.081</td> <td>  269.629</td>\n",
       "</tr>\n",
       "<tr>\n",
       "  <th>ic_others_8</th>              <td>  638.3383</td> <td>  106.803</td> <td>    5.977</td> <td> 0.000</td> <td>  429.009</td> <td>  847.667</td>\n",
       "</tr>\n",
       "<tr>\n",
       "  <th>total_rech_num_6</th>         <td>   -0.1653</td> <td>    0.085</td> <td>   -1.939</td> <td> 0.053</td> <td>   -0.332</td> <td>    0.002</td>\n",
       "</tr>\n",
       "<tr>\n",
       "  <th>total_rech_num_7</th>         <td>    0.1122</td> <td>    0.100</td> <td>    1.120</td> <td> 0.263</td> <td>   -0.084</td> <td>    0.309</td>\n",
       "</tr>\n",
       "<tr>\n",
       "  <th>total_rech_num_8</th>         <td>   -0.2695</td> <td>    0.113</td> <td>   -2.384</td> <td> 0.017</td> <td>   -0.491</td> <td>   -0.048</td>\n",
       "</tr>\n",
       "<tr>\n",
       "  <th>total_rech_amt_6</th>         <td>    0.0586</td> <td>    0.162</td> <td>    0.362</td> <td> 0.717</td> <td>   -0.258</td> <td>    0.376</td>\n",
       "</tr>\n",
       "<tr>\n",
       "  <th>total_rech_amt_7</th>         <td>    0.0295</td> <td>    0.172</td> <td>    0.171</td> <td> 0.864</td> <td>   -0.308</td> <td>    0.367</td>\n",
       "</tr>\n",
       "<tr>\n",
       "  <th>total_rech_amt_8</th>         <td>    0.1660</td> <td>    0.252</td> <td>    0.659</td> <td> 0.510</td> <td>   -0.328</td> <td>    0.660</td>\n",
       "</tr>\n",
       "<tr>\n",
       "  <th>max_rech_amt_6</th>           <td>   -0.0085</td> <td>    0.089</td> <td>   -0.095</td> <td> 0.924</td> <td>   -0.183</td> <td>    0.166</td>\n",
       "</tr>\n",
       "<tr>\n",
       "  <th>max_rech_amt_7</th>           <td>   -0.0132</td> <td>    0.084</td> <td>   -0.156</td> <td> 0.876</td> <td>   -0.178</td> <td>    0.152</td>\n",
       "</tr>\n",
       "<tr>\n",
       "  <th>max_rech_amt_8</th>           <td>    0.0583</td> <td>    0.103</td> <td>    0.566</td> <td> 0.572</td> <td>   -0.144</td> <td>    0.260</td>\n",
       "</tr>\n",
       "<tr>\n",
       "  <th>last_day_rch_amt_6</th>       <td>   -0.0744</td> <td>    0.074</td> <td>   -1.002</td> <td> 0.317</td> <td>   -0.220</td> <td>    0.071</td>\n",
       "</tr>\n",
       "<tr>\n",
       "  <th>last_day_rch_amt_7</th>       <td>   -0.0158</td> <td>    0.070</td> <td>   -0.224</td> <td> 0.823</td> <td>   -0.154</td> <td>    0.122</td>\n",
       "</tr>\n",
       "<tr>\n",
       "  <th>last_day_rch_amt_8</th>       <td>   -0.4239</td> <td>    0.100</td> <td>   -4.258</td> <td> 0.000</td> <td>   -0.619</td> <td>   -0.229</td>\n",
       "</tr>\n",
       "<tr>\n",
       "  <th>vol_2g_mb_6</th>              <td>    0.0575</td> <td>    0.077</td> <td>    0.744</td> <td> 0.457</td> <td>   -0.094</td> <td>    0.209</td>\n",
       "</tr>\n",
       "<tr>\n",
       "  <th>vol_2g_mb_7</th>              <td>   -0.0392</td> <td>    0.095</td> <td>   -0.413</td> <td> 0.679</td> <td>   -0.225</td> <td>    0.147</td>\n",
       "</tr>\n",
       "<tr>\n",
       "  <th>vol_2g_mb_8</th>              <td>   -0.1538</td> <td>    0.121</td> <td>   -1.273</td> <td> 0.203</td> <td>   -0.391</td> <td>    0.083</td>\n",
       "</tr>\n",
       "<tr>\n",
       "  <th>vol_3g_mb_6</th>              <td>    0.2000</td> <td>    0.110</td> <td>    1.810</td> <td> 0.070</td> <td>   -0.017</td> <td>    0.417</td>\n",
       "</tr>\n",
       "<tr>\n",
       "  <th>vol_3g_mb_7</th>              <td>    0.0678</td> <td>    0.154</td> <td>    0.440</td> <td> 0.660</td> <td>   -0.234</td> <td>    0.370</td>\n",
       "</tr>\n",
       "<tr>\n",
       "  <th>vol_3g_mb_8</th>              <td>   -0.3203</td> <td>    0.227</td> <td>   -1.412</td> <td> 0.158</td> <td>   -0.765</td> <td>    0.124</td>\n",
       "</tr>\n",
       "<tr>\n",
       "  <th>monthly_2g_6</th>             <td>   -0.1320</td> <td>    0.092</td> <td>   -1.439</td> <td> 0.150</td> <td>   -0.312</td> <td>    0.048</td>\n",
       "</tr>\n",
       "<tr>\n",
       "  <th>monthly_2g_7</th>             <td>   -0.1085</td> <td>    0.097</td> <td>   -1.123</td> <td> 0.262</td> <td>   -0.298</td> <td>    0.081</td>\n",
       "</tr>\n",
       "<tr>\n",
       "  <th>monthly_2g_8</th>             <td>   -0.2237</td> <td>    0.125</td> <td>   -1.794</td> <td> 0.073</td> <td>   -0.468</td> <td>    0.021</td>\n",
       "</tr>\n",
       "<tr>\n",
       "  <th>sachet_2g_6</th>              <td>    0.0390</td> <td>    0.084</td> <td>    0.464</td> <td> 0.643</td> <td>   -0.126</td> <td>    0.204</td>\n",
       "</tr>\n",
       "<tr>\n",
       "  <th>sachet_2g_7</th>              <td>   -0.0800</td> <td>    0.101</td> <td>   -0.796</td> <td> 0.426</td> <td>   -0.277</td> <td>    0.117</td>\n",
       "</tr>\n",
       "<tr>\n",
       "  <th>sachet_2g_8</th>              <td>   -0.0857</td> <td>    0.101</td> <td>   -0.845</td> <td> 0.398</td> <td>   -0.284</td> <td>    0.113</td>\n",
       "</tr>\n",
       "<tr>\n",
       "  <th>monthly_3g_6</th>             <td>   -0.0456</td> <td>    0.105</td> <td>   -0.436</td> <td> 0.663</td> <td>   -0.251</td> <td>    0.160</td>\n",
       "</tr>\n",
       "<tr>\n",
       "  <th>monthly_3g_7</th>             <td>   -0.2227</td> <td>    0.139</td> <td>   -1.600</td> <td> 0.110</td> <td>   -0.496</td> <td>    0.050</td>\n",
       "</tr>\n",
       "<tr>\n",
       "  <th>monthly_3g_8</th>             <td>   -0.5028</td> <td>    0.209</td> <td>   -2.409</td> <td> 0.016</td> <td>   -0.912</td> <td>   -0.094</td>\n",
       "</tr>\n",
       "<tr>\n",
       "  <th>sachet_3g_6</th>              <td>   -0.0845</td> <td>    0.088</td> <td>   -0.956</td> <td> 0.339</td> <td>   -0.258</td> <td>    0.089</td>\n",
       "</tr>\n",
       "<tr>\n",
       "  <th>sachet_3g_7</th>              <td>    0.1711</td> <td>    0.102</td> <td>    1.685</td> <td> 0.092</td> <td>   -0.028</td> <td>    0.370</td>\n",
       "</tr>\n",
       "<tr>\n",
       "  <th>sachet_3g_8</th>              <td>   -0.1320</td> <td>    0.142</td> <td>   -0.927</td> <td> 0.354</td> <td>   -0.411</td> <td>    0.147</td>\n",
       "</tr>\n",
       "<tr>\n",
       "  <th>aon</th>                      <td>   -0.0527</td> <td>    0.060</td> <td>   -0.874</td> <td> 0.382</td> <td>   -0.171</td> <td>    0.065</td>\n",
       "</tr>\n",
       "<tr>\n",
       "  <th>aug_vbc_3g</th>               <td>   -0.3803</td> <td>    0.210</td> <td>   -1.811</td> <td> 0.070</td> <td>   -0.792</td> <td>    0.031</td>\n",
       "</tr>\n",
       "<tr>\n",
       "  <th>jul_vbc_3g</th>               <td>   -0.0015</td> <td>    0.135</td> <td>   -0.011</td> <td> 0.991</td> <td>   -0.265</td> <td>    0.262</td>\n",
       "</tr>\n",
       "<tr>\n",
       "  <th>jun_vbc_3g</th>               <td>   -0.0682</td> <td>    0.140</td> <td>   -0.488</td> <td> 0.625</td> <td>   -0.342</td> <td>    0.205</td>\n",
       "</tr>\n",
       "<tr>\n",
       "  <th>decrease_mou_action</th>      <td>    0.1642</td> <td>    0.143</td> <td>    1.149</td> <td> 0.251</td> <td>   -0.116</td> <td>    0.444</td>\n",
       "</tr>\n",
       "<tr>\n",
       "  <th>decrease_rech_num_action</th> <td>    0.0356</td> <td>    0.132</td> <td>    0.269</td> <td> 0.788</td> <td>   -0.224</td> <td>    0.295</td>\n",
       "</tr>\n",
       "<tr>\n",
       "  <th>decrease_rech_amt_action</th> <td>   -0.0175</td> <td>    0.180</td> <td>   -0.098</td> <td> 0.922</td> <td>   -0.369</td> <td>    0.334</td>\n",
       "</tr>\n",
       "<tr>\n",
       "  <th>decrease_arpu_action</th>     <td>    0.0347</td> <td>    0.183</td> <td>    0.190</td> <td> 0.849</td> <td>   -0.323</td> <td>    0.393</td>\n",
       "</tr>\n",
       "<tr>\n",
       "  <th>decrease_vbc_action</th>      <td>   -0.1412</td> <td>    0.229</td> <td>   -0.615</td> <td> 0.539</td> <td>   -0.591</td> <td>    0.309</td>\n",
       "</tr>\n",
       "</table>"
      ],
      "text/plain": [
       "<class 'statsmodels.iolib.summary.Summary'>\n",
       "\"\"\"\n",
       "                 Generalized Linear Model Regression Results                  \n",
       "==============================================================================\n",
       "Dep. Variable:                  churn   No. Observations:                22164\n",
       "Model:                            GLM   Df Residuals:                    22034\n",
       "Model Family:                Binomial   Df Model:                          129\n",
       "Link Function:                  Logit   Scale:                          1.0000\n",
       "Method:                          IRLS   Log-Likelihood:                    nan\n",
       "Date:                Tue, 20 Jun 2023   Deviance:                       4067.2\n",
       "Time:                        22:43:55   Pearson chi2:                 2.41e+05\n",
       "No. Iterations:                   100   Pseudo R-squ. (CS):                nan\n",
       "Covariance Type:            nonrobust                                         \n",
       "============================================================================================\n",
       "                               coef    std err          z      P>|z|      [0.025      0.975]\n",
       "--------------------------------------------------------------------------------------------\n",
       "const                      -98.4867   8546.461     -0.012      0.991   -1.68e+04    1.67e+04\n",
       "loc_og_t2o_mou           -6.719e-07   4.35e-05     -0.015      0.988    -8.6e-05    8.47e-05\n",
       "std_og_t2o_mou           -7.878e-07      0.000     -0.006      0.995      -0.000       0.000\n",
       "loc_ic_t2o_mou             1.44e-06   5.35e-05      0.027      0.979      -0.000       0.000\n",
       "arpu_6                      -0.1052      0.160     -0.657      0.511      -0.419       0.209\n",
       "arpu_7                       0.0732      0.175      0.418      0.676      -0.270       0.416\n",
       "arpu_8                       0.1075      0.232      0.463      0.643      -0.347       0.562\n",
       "onnet_mou_6                  5.6444      6.289      0.897      0.369      -6.682      17.971\n",
       "onnet_mou_7                  2.2477      3.805      0.591      0.555      -5.209       9.705\n",
       "onnet_mou_8                 -4.0264      4.542     -0.886      0.375     -12.929       4.876\n",
       "offnet_mou_6                 5.9591      6.224      0.957      0.338      -6.241      18.159\n",
       "offnet_mou_7                 2.8728      3.710      0.774      0.439      -4.398      10.143\n",
       "offnet_mou_8                -5.1068      4.651     -1.098      0.272     -14.223       4.009\n",
       "roam_ic_mou_6                0.0753      0.041      1.821      0.069      -0.006       0.156\n",
       "roam_ic_mou_7               -0.0277      0.047     -0.594      0.552      -0.119       0.064\n",
       "roam_ic_mou_8                0.0377      0.039      0.971      0.331      -0.038       0.114\n",
       "roam_og_mou_6               -1.3477      1.516     -0.889      0.374      -4.319       1.624\n",
       "roam_og_mou_7               -0.3995      0.717     -0.557      0.578      -1.806       1.006\n",
       "roam_og_mou_8                0.9551      0.943      1.013      0.311      -0.893       2.803\n",
       "loc_og_t2t_mou_6         -1931.5265   1904.722     -1.014      0.311   -5664.713    1801.660\n",
       "loc_og_t2t_mou_7          -314.9182   2037.068     -0.155      0.877   -4307.497    3677.661\n",
       "loc_og_t2t_mou_8          4897.3251   2219.795      2.206      0.027     546.608    9248.043\n",
       "loc_og_t2m_mou_6         -1961.3570   1933.547     -1.014      0.310   -5751.039    1828.325\n",
       "loc_og_t2m_mou_7          -290.5772   1876.220     -0.155      0.877   -3967.902    3386.747\n",
       "loc_og_t2m_mou_8          4890.8946   2216.775      2.206      0.027     546.095    9235.694\n",
       "loc_og_t2f_mou_6          -174.2879    171.859     -1.014      0.311    -511.126     162.551\n",
       "loc_og_t2f_mou_7           -27.0511    174.427     -0.155      0.877    -368.922     314.820\n",
       "loc_og_t2f_mou_8           436.0597    197.838      2.204      0.028      48.304     823.816\n",
       "loc_og_t2c_mou_6             0.0254      0.042      0.607      0.544      -0.057       0.107\n",
       "loc_og_t2c_mou_7             0.0229      0.048      0.480      0.631      -0.071       0.116\n",
       "loc_og_t2c_mou_8             0.0365      0.064      0.570      0.569      -0.089       0.162\n",
       "loc_og_mou_6              1540.0253   3642.670      0.423      0.672   -5599.476    8679.527\n",
       "loc_og_mou_7              4742.3192   3855.840      1.230      0.219   -2814.989    1.23e+04\n",
       "loc_og_mou_8              3772.5107   4392.521      0.859      0.390   -4836.672    1.24e+04\n",
       "std_og_t2t_mou_6         -4244.7715   3434.459     -1.236      0.216    -1.1e+04    2486.645\n",
       "std_og_t2t_mou_7         -5051.0257   3684.235     -1.371      0.170   -1.23e+04    2169.942\n",
       "std_og_t2t_mou_8          9102.2654   4284.961      2.124      0.034     703.897    1.75e+04\n",
       "std_og_t2m_mou_6         -4228.7063   3421.155     -1.236      0.216   -1.09e+04    2476.634\n",
       "std_og_t2m_mou_7         -5174.1888   3773.708     -1.371      0.170   -1.26e+04    2222.143\n",
       "std_og_t2m_mou_8          9401.4722   4425.398      2.124      0.034     727.851    1.81e+04\n",
       "std_og_t2f_mou_6          -138.2871    111.706     -1.238      0.216    -357.228      80.654\n",
       "std_og_t2f_mou_7          -160.4486    117.150     -1.370      0.171    -390.058      69.161\n",
       "std_og_t2f_mou_8           266.7578    125.588      2.124      0.034      20.610     512.905\n",
       "std_og_t2c_mou_6           8.38e-07    8.2e-05      0.010      0.992      -0.000       0.000\n",
       "std_og_t2c_mou_7          2.343e-06      0.000      0.012      0.991      -0.000       0.000\n",
       "std_og_t2c_mou_8          2.308e-06      0.000      0.009      0.993      -0.001       0.001\n",
       "std_og_mou_6              3946.8294   5874.025      0.672      0.502   -7566.048    1.55e+04\n",
       "std_og_mou_7              1.439e+04   6644.002      2.166      0.030    1369.076    2.74e+04\n",
       "std_og_mou_8              5230.6860   8003.091      0.654      0.513   -1.05e+04    2.09e+04\n",
       "isd_og_mou_6               -48.7830     82.568     -0.591      0.555    -210.613     113.046\n",
       "isd_og_mou_7               126.6873     83.859      1.511      0.131     -37.673     291.047\n",
       "isd_og_mou_8               456.3715    120.143      3.799      0.000     220.896     691.847\n",
       "spl_og_mou_6               -71.4053    120.516     -0.592      0.554    -307.613     164.803\n",
       "spl_og_mou_7               254.7509    168.575      1.511      0.131     -75.650     585.152\n",
       "spl_og_mou_8               690.9467    181.484      3.807      0.000     335.245    1046.648\n",
       "og_others_6                 -9.1050     15.322     -0.594      0.552     -39.135      20.925\n",
       "og_others_7                 21.0976     15.874      1.329      0.184     -10.015      52.210\n",
       "og_others_8              -4737.8433   4.47e+05     -0.011      0.992   -8.82e+05    8.72e+05\n",
       "total_og_mou_6            2451.6974   4155.118      0.590      0.555   -5692.184    1.06e+04\n",
       "total_og_mou_7           -7367.7469   4874.223     -1.512      0.131   -1.69e+04    2185.555\n",
       "total_og_mou_8           -2.082e+04   5469.764     -3.807      0.000   -3.15e+04   -1.01e+04\n",
       "loc_ic_t2t_mou_6          -139.3442   1252.216     -0.111      0.911   -2593.643    2314.955\n",
       "loc_ic_t2t_mou_7          3312.4077   1345.720      2.461      0.014     674.845    5949.971\n",
       "loc_ic_t2t_mou_8          8630.1441   1479.021      5.835      0.000    5731.317    1.15e+04\n",
       "loc_ic_t2m_mou_6          -185.2684   1665.194     -0.111      0.911   -3448.989    3078.452\n",
       "loc_ic_t2m_mou_7          4214.8811   1712.231      2.462      0.014     858.970    7570.792\n",
       "loc_ic_t2m_mou_8          1.167e+04   2000.037      5.835      0.000    7749.943    1.56e+04\n",
       "loc_ic_t2f_mou_6           -38.8029    348.786     -0.111      0.911    -722.412     644.806\n",
       "loc_ic_t2f_mou_7           966.3082    392.610      2.461      0.014     196.808    1735.809\n",
       "loc_ic_t2f_mou_8          2385.1088    408.846      5.834      0.000    1583.785    3186.432\n",
       "loc_ic_mou_6             -3348.7989   3129.060     -1.070      0.285   -9481.644    2784.046\n",
       "loc_ic_mou_7             -3341.2915   3259.496     -1.025      0.305   -9729.785    3047.202\n",
       "loc_ic_mou_8               792.4704   3816.414      0.208      0.836   -6687.564    8272.505\n",
       "std_ic_t2t_mou_6         -2083.1860    703.257     -2.962      0.003   -3461.545    -704.827\n",
       "std_ic_t2t_mou_7          -760.3385    816.145     -0.932      0.352   -2359.953     839.276\n",
       "std_ic_t2t_mou_8           -80.8131    819.347     -0.099      0.921   -1686.703    1525.077\n",
       "std_ic_t2m_mou_6         -2634.3582    889.294     -2.962      0.003   -4377.342    -891.375\n",
       "std_ic_t2m_mou_7          -866.0588    929.481     -0.932      0.351   -2687.809     955.691\n",
       "std_ic_t2m_mou_8          -113.8243   1158.771     -0.098      0.922   -2384.975    2157.326\n",
       "std_ic_t2f_mou_6          -505.4691    170.669     -2.962      0.003    -839.975    -170.963\n",
       "std_ic_t2f_mou_7          -166.1283    178.445     -0.931      0.352    -515.874     183.617\n",
       "std_ic_t2f_mou_8           -21.1749    208.650     -0.101      0.919    -430.121     387.771\n",
       "std_ic_t2o_mou_6          5.866e-07   6.36e-05      0.009      0.993      -0.000       0.000\n",
       "std_ic_t2o_mou_7          6.264e-07   6.37e-05      0.010      0.992      -0.000       0.000\n",
       "std_ic_t2o_mou_8           1.38e-06      0.000      0.010      0.992      -0.000       0.000\n",
       "std_ic_mou_6              2045.1605   1513.605      1.351      0.177    -921.450    5011.771\n",
       "std_ic_mou_7              2562.6857   1727.080      1.484      0.138    -822.328    5947.699\n",
       "std_ic_mou_8              7919.6807   1976.385      4.007      0.000    4046.036    1.18e+04\n",
       "total_ic_mou_6            4160.8878   2679.317      1.553      0.120   -1090.478    9412.253\n",
       "total_ic_mou_7           -3212.1678   2925.612     -1.098      0.272   -8946.261    2521.925\n",
       "total_ic_mou_8           -2.017e+04   3370.118     -5.985      0.000   -2.68e+04   -1.36e+04\n",
       "spl_ic_mou_6                -2.3684      1.563     -1.515      0.130      -5.431       0.695\n",
       "spl_ic_mou_7                 1.5572      1.645      0.947      0.344      -1.666       4.781\n",
       "spl_ic_mou_8                 5.8202      1.066      5.458      0.000       3.730       7.910\n",
       "isd_ic_mou_6              -779.4596    501.875     -1.553      0.120   -1763.117     204.197\n",
       "isd_ic_mou_7               627.8409    571.805      1.098      0.272    -492.875    1748.557\n",
       "isd_ic_mou_8              4035.3364    674.263      5.985      0.000    2713.805    5356.868\n",
       "ic_others_6               -131.1232     84.446     -1.553      0.120    -296.635      34.389\n",
       "ic_others_7                 96.7740     88.193      1.097      0.273     -76.081     269.629\n",
       "ic_others_8                638.3383    106.803      5.977      0.000     429.009     847.667\n",
       "total_rech_num_6            -0.1653      0.085     -1.939      0.053      -0.332       0.002\n",
       "total_rech_num_7             0.1122      0.100      1.120      0.263      -0.084       0.309\n",
       "total_rech_num_8            -0.2695      0.113     -2.384      0.017      -0.491      -0.048\n",
       "total_rech_amt_6             0.0586      0.162      0.362      0.717      -0.258       0.376\n",
       "total_rech_amt_7             0.0295      0.172      0.171      0.864      -0.308       0.367\n",
       "total_rech_amt_8             0.1660      0.252      0.659      0.510      -0.328       0.660\n",
       "max_rech_amt_6              -0.0085      0.089     -0.095      0.924      -0.183       0.166\n",
       "max_rech_amt_7              -0.0132      0.084     -0.156      0.876      -0.178       0.152\n",
       "max_rech_amt_8               0.0583      0.103      0.566      0.572      -0.144       0.260\n",
       "last_day_rch_amt_6          -0.0744      0.074     -1.002      0.317      -0.220       0.071\n",
       "last_day_rch_amt_7          -0.0158      0.070     -0.224      0.823      -0.154       0.122\n",
       "last_day_rch_amt_8          -0.4239      0.100     -4.258      0.000      -0.619      -0.229\n",
       "vol_2g_mb_6                  0.0575      0.077      0.744      0.457      -0.094       0.209\n",
       "vol_2g_mb_7                 -0.0392      0.095     -0.413      0.679      -0.225       0.147\n",
       "vol_2g_mb_8                 -0.1538      0.121     -1.273      0.203      -0.391       0.083\n",
       "vol_3g_mb_6                  0.2000      0.110      1.810      0.070      -0.017       0.417\n",
       "vol_3g_mb_7                  0.0678      0.154      0.440      0.660      -0.234       0.370\n",
       "vol_3g_mb_8                 -0.3203      0.227     -1.412      0.158      -0.765       0.124\n",
       "monthly_2g_6                -0.1320      0.092     -1.439      0.150      -0.312       0.048\n",
       "monthly_2g_7                -0.1085      0.097     -1.123      0.262      -0.298       0.081\n",
       "monthly_2g_8                -0.2237      0.125     -1.794      0.073      -0.468       0.021\n",
       "sachet_2g_6                  0.0390      0.084      0.464      0.643      -0.126       0.204\n",
       "sachet_2g_7                 -0.0800      0.101     -0.796      0.426      -0.277       0.117\n",
       "sachet_2g_8                 -0.0857      0.101     -0.845      0.398      -0.284       0.113\n",
       "monthly_3g_6                -0.0456      0.105     -0.436      0.663      -0.251       0.160\n",
       "monthly_3g_7                -0.2227      0.139     -1.600      0.110      -0.496       0.050\n",
       "monthly_3g_8                -0.5028      0.209     -2.409      0.016      -0.912      -0.094\n",
       "sachet_3g_6                 -0.0845      0.088     -0.956      0.339      -0.258       0.089\n",
       "sachet_3g_7                  0.1711      0.102      1.685      0.092      -0.028       0.370\n",
       "sachet_3g_8                 -0.1320      0.142     -0.927      0.354      -0.411       0.147\n",
       "aon                         -0.0527      0.060     -0.874      0.382      -0.171       0.065\n",
       "aug_vbc_3g                  -0.3803      0.210     -1.811      0.070      -0.792       0.031\n",
       "jul_vbc_3g                  -0.0015      0.135     -0.011      0.991      -0.265       0.262\n",
       "jun_vbc_3g                  -0.0682      0.140     -0.488      0.625      -0.342       0.205\n",
       "decrease_mou_action          0.1642      0.143      1.149      0.251      -0.116       0.444\n",
       "decrease_rech_num_action     0.0356      0.132      0.269      0.788      -0.224       0.295\n",
       "decrease_rech_amt_action    -0.0175      0.180     -0.098      0.922      -0.369       0.334\n",
       "decrease_arpu_action         0.0347      0.183      0.190      0.849      -0.323       0.393\n",
       "decrease_vbc_action         -0.1412      0.229     -0.615      0.539      -0.591       0.309\n",
       "============================================================================================\n",
       "\"\"\""
      ]
     },
     "execution_count": 166,
     "metadata": {},
     "output_type": "execute_result"
    }
   ],
   "source": [
    "# Summary\n",
    "log_no_pca"
   ]
  },
  {
   "cell_type": "markdown",
   "metadata": {},
   "source": [
    "### Feature Selection Using RFE"
   ]
  },
  {
   "cell_type": "code",
   "execution_count": 167,
   "metadata": {},
   "outputs": [],
   "source": [
    "# Importing logistic regression from sklearn\n",
    "from sklearn.linear_model import LogisticRegression\n",
    "# Intantiate the logistic regression\n",
    "logreg = LogisticRegression()"
   ]
  },
  {
   "cell_type": "markdown",
   "metadata": {},
   "source": [
    "#### RFE with 15 columns"
   ]
  },
  {
   "cell_type": "code",
   "execution_count": 169,
   "metadata": {},
   "outputs": [],
   "source": [
    "# Importing RFE\n",
    "from sklearn.feature_selection import RFE\n",
    "\n",
    "# Intantiate RFE with 15 columns\n",
    "rfe = RFE(estimator=logreg,n_features_to_select= 15)\n",
    "\n",
    "# Fit the rfe model with train set\n",
    "rfe = rfe.fit(X_train, y_train)"
   ]
  },
  {
   "cell_type": "code",
   "execution_count": 170,
   "metadata": {},
   "outputs": [
    {
     "name": "stdout",
     "output_type": "stream",
     "text": [
      "Index(['offnet_mou_7', 'loc_og_t2m_mou_7', 'loc_og_t2f_mou_8', 'loc_og_mou_8',\n",
      "       'std_og_t2m_mou_7', 'isd_og_mou_8', 'og_others_8', 'total_og_mou_8',\n",
      "       'loc_ic_t2m_mou_8', 'loc_ic_t2f_mou_8', 'loc_ic_mou_8',\n",
      "       'total_ic_mou_8', 'spl_ic_mou_8', 'ic_others_8', 'vol_3g_mb_8'],\n",
      "      dtype='object')\n"
     ]
    }
   ],
   "source": [
    "# RFE selected columns\n",
    "rfe_cols = X_train.columns[rfe.support_]\n",
    "print(rfe_cols)"
   ]
  },
  {
   "cell_type": "markdown",
   "metadata": {},
   "source": [
    "### Model-1 with RFE selected columns"
   ]
  },
  {
   "cell_type": "code",
   "execution_count": 171,
   "metadata": {},
   "outputs": [
    {
     "data": {
      "text/html": [
       "<table class=\"simpletable\">\n",
       "<caption>Generalized Linear Model Regression Results</caption>\n",
       "<tr>\n",
       "  <th>Dep. Variable:</th>         <td>churn</td>      <th>  No. Observations:  </th>  <td> 22164</td> \n",
       "</tr>\n",
       "<tr>\n",
       "  <th>Model:</th>                  <td>GLM</td>       <th>  Df Residuals:      </th>  <td> 22148</td> \n",
       "</tr>\n",
       "<tr>\n",
       "  <th>Model Family:</th>        <td>Binomial</td>     <th>  Df Model:          </th>  <td>    15</td> \n",
       "</tr>\n",
       "<tr>\n",
       "  <th>Link Function:</th>         <td>Logit</td>      <th>  Scale:             </th> <td>  1.0000</td>\n",
       "</tr>\n",
       "<tr>\n",
       "  <th>Method:</th>                <td>IRLS</td>       <th>  Log-Likelihood:    </th> <td>     nan</td>\n",
       "</tr>\n",
       "<tr>\n",
       "  <th>Date:</th>            <td>Tue, 20 Jun 2023</td> <th>  Deviance:          </th> <td>  4548.5</td>\n",
       "</tr>\n",
       "<tr>\n",
       "  <th>Time:</th>                <td>22:49:51</td>     <th>  Pearson chi2:      </th> <td>2.25e+06</td>\n",
       "</tr>\n",
       "<tr>\n",
       "  <th>No. Iterations:</th>         <td>40</td>        <th>  Pseudo R-squ. (CS):</th>  <td>   nan</td> \n",
       "</tr>\n",
       "<tr>\n",
       "  <th>Covariance Type:</th>     <td>nonrobust</td>    <th>                     </th>     <td> </td>   \n",
       "</tr>\n",
       "</table>\n",
       "<table class=\"simpletable\">\n",
       "<tr>\n",
       "          <td></td>            <th>coef</th>     <th>std err</th>      <th>z</th>      <th>P>|z|</th>  <th>[0.025</th>    <th>0.975]</th>  \n",
       "</tr>\n",
       "<tr>\n",
       "  <th>const</th>            <td>  -89.8874</td> <td> 8158.421</td> <td>   -0.011</td> <td> 0.991</td> <td>-1.61e+04</td> <td> 1.59e+04</td>\n",
       "</tr>\n",
       "<tr>\n",
       "  <th>offnet_mou_7</th>     <td>    1.2601</td> <td>    0.173</td> <td>    7.277</td> <td> 0.000</td> <td>    0.921</td> <td>    1.599</td>\n",
       "</tr>\n",
       "<tr>\n",
       "  <th>loc_og_t2m_mou_7</th> <td>   -0.7593</td> <td>    0.142</td> <td>   -5.342</td> <td> 0.000</td> <td>   -1.038</td> <td>   -0.481</td>\n",
       "</tr>\n",
       "<tr>\n",
       "  <th>loc_og_t2f_mou_8</th> <td>   -1.0922</td> <td>    0.363</td> <td>   -3.011</td> <td> 0.003</td> <td>   -1.803</td> <td>   -0.381</td>\n",
       "</tr>\n",
       "<tr>\n",
       "  <th>loc_og_mou_8</th>     <td>   -0.9819</td> <td>    0.281</td> <td>   -3.499</td> <td> 0.000</td> <td>   -1.532</td> <td>   -0.432</td>\n",
       "</tr>\n",
       "<tr>\n",
       "  <th>std_og_t2m_mou_7</th> <td>   -0.9070</td> <td>    0.161</td> <td>   -5.630</td> <td> 0.000</td> <td>   -1.223</td> <td>   -0.591</td>\n",
       "</tr>\n",
       "<tr>\n",
       "  <th>isd_og_mou_8</th>     <td>   -1.6307</td> <td>    1.082</td> <td>   -1.507</td> <td> 0.132</td> <td>   -3.752</td> <td>    0.491</td>\n",
       "</tr>\n",
       "<tr>\n",
       "  <th>og_others_8</th>      <td>-4345.7126</td> <td> 4.27e+05</td> <td>   -0.010</td> <td> 0.992</td> <td>-8.42e+05</td> <td> 8.33e+05</td>\n",
       "</tr>\n",
       "<tr>\n",
       "  <th>total_og_mou_8</th>   <td>   -0.6784</td> <td>    0.073</td> <td>   -9.354</td> <td> 0.000</td> <td>   -0.821</td> <td>   -0.536</td>\n",
       "</tr>\n",
       "<tr>\n",
       "  <th>loc_ic_t2m_mou_8</th> <td>   -0.9032</td> <td>    0.607</td> <td>   -1.487</td> <td> 0.137</td> <td>   -2.094</td> <td>    0.287</td>\n",
       "</tr>\n",
       "<tr>\n",
       "  <th>loc_ic_t2f_mou_8</th> <td>   -0.9618</td> <td>    0.426</td> <td>   -2.256</td> <td> 0.024</td> <td>   -1.797</td> <td>   -0.126</td>\n",
       "</tr>\n",
       "<tr>\n",
       "  <th>loc_ic_mou_8</th>     <td>   -1.3289</td> <td>    0.737</td> <td>   -1.803</td> <td> 0.071</td> <td>   -2.773</td> <td>    0.116</td>\n",
       "</tr>\n",
       "<tr>\n",
       "  <th>total_ic_mou_8</th>   <td>   -1.1255</td> <td>    0.338</td> <td>   -3.334</td> <td> 0.001</td> <td>   -1.787</td> <td>   -0.464</td>\n",
       "</tr>\n",
       "<tr>\n",
       "  <th>spl_ic_mou_8</th>     <td>   -0.6606</td> <td>    0.134</td> <td>   -4.925</td> <td> 0.000</td> <td>   -0.923</td> <td>   -0.398</td>\n",
       "</tr>\n",
       "<tr>\n",
       "  <th>ic_others_8</th>      <td>   -1.4216</td> <td>    0.602</td> <td>   -2.363</td> <td> 0.018</td> <td>   -2.601</td> <td>   -0.242</td>\n",
       "</tr>\n",
       "<tr>\n",
       "  <th>vol_3g_mb_8</th>      <td>   -1.3204</td> <td>    0.188</td> <td>   -7.011</td> <td> 0.000</td> <td>   -1.690</td> <td>   -0.951</td>\n",
       "</tr>\n",
       "</table>"
      ],
      "text/plain": [
       "<class 'statsmodels.iolib.summary.Summary'>\n",
       "\"\"\"\n",
       "                 Generalized Linear Model Regression Results                  \n",
       "==============================================================================\n",
       "Dep. Variable:                  churn   No. Observations:                22164\n",
       "Model:                            GLM   Df Residuals:                    22148\n",
       "Model Family:                Binomial   Df Model:                           15\n",
       "Link Function:                  Logit   Scale:                          1.0000\n",
       "Method:                          IRLS   Log-Likelihood:                    nan\n",
       "Date:                Tue, 20 Jun 2023   Deviance:                       4548.5\n",
       "Time:                        22:49:51   Pearson chi2:                 2.25e+06\n",
       "No. Iterations:                    40   Pseudo R-squ. (CS):                nan\n",
       "Covariance Type:            nonrobust                                         \n",
       "====================================================================================\n",
       "                       coef    std err          z      P>|z|      [0.025      0.975]\n",
       "------------------------------------------------------------------------------------\n",
       "const              -89.8874   8158.421     -0.011      0.991   -1.61e+04    1.59e+04\n",
       "offnet_mou_7         1.2601      0.173      7.277      0.000       0.921       1.599\n",
       "loc_og_t2m_mou_7    -0.7593      0.142     -5.342      0.000      -1.038      -0.481\n",
       "loc_og_t2f_mou_8    -1.0922      0.363     -3.011      0.003      -1.803      -0.381\n",
       "loc_og_mou_8        -0.9819      0.281     -3.499      0.000      -1.532      -0.432\n",
       "std_og_t2m_mou_7    -0.9070      0.161     -5.630      0.000      -1.223      -0.591\n",
       "isd_og_mou_8        -1.6307      1.082     -1.507      0.132      -3.752       0.491\n",
       "og_others_8      -4345.7126   4.27e+05     -0.010      0.992   -8.42e+05    8.33e+05\n",
       "total_og_mou_8      -0.6784      0.073     -9.354      0.000      -0.821      -0.536\n",
       "loc_ic_t2m_mou_8    -0.9032      0.607     -1.487      0.137      -2.094       0.287\n",
       "loc_ic_t2f_mou_8    -0.9618      0.426     -2.256      0.024      -1.797      -0.126\n",
       "loc_ic_mou_8        -1.3289      0.737     -1.803      0.071      -2.773       0.116\n",
       "total_ic_mou_8      -1.1255      0.338     -3.334      0.001      -1.787      -0.464\n",
       "spl_ic_mou_8        -0.6606      0.134     -4.925      0.000      -0.923      -0.398\n",
       "ic_others_8         -1.4216      0.602     -2.363      0.018      -2.601      -0.242\n",
       "vol_3g_mb_8         -1.3204      0.188     -7.011      0.000      -1.690      -0.951\n",
       "====================================================================================\n",
       "\"\"\""
      ]
     },
     "execution_count": 171,
     "metadata": {},
     "output_type": "execute_result"
    }
   ],
   "source": [
    "# Adding constant to X_train\n",
    "X_train_sm_1 = sm.add_constant(X_train[rfe_cols])\n",
    "\n",
    "#Instantiate the model\n",
    "log_no_pca_1 = sm.GLM(y_train, X_train_sm_1, family=sm.families.Binomial())\n",
    "\n",
    "# Fit the model\n",
    "log_no_pca_1 = log_no_pca_1.fit()\n",
    "\n",
    "log_no_pca_1.summary()"
   ]
  },
  {
   "cell_type": "markdown",
   "metadata": {},
   "source": [
    "#### Checking VIFs"
   ]
  },
  {
   "cell_type": "code",
   "execution_count": 172,
   "metadata": {},
   "outputs": [],
   "source": [
    "# Check for the VIF values of the feature variables. \n",
    "from statsmodels.stats.outliers_influence import variance_inflation_factor"
   ]
  },
  {
   "cell_type": "code",
   "execution_count": 173,
   "metadata": {},
   "outputs": [
    {
     "data": {
      "text/html": [
       "<div>\n",
       "<style scoped>\n",
       "    .dataframe tbody tr th:only-of-type {\n",
       "        vertical-align: middle;\n",
       "    }\n",
       "\n",
       "    .dataframe tbody tr th {\n",
       "        vertical-align: top;\n",
       "    }\n",
       "\n",
       "    .dataframe thead th {\n",
       "        text-align: right;\n",
       "    }\n",
       "</style>\n",
       "<table border=\"1\" class=\"dataframe\">\n",
       "  <thead>\n",
       "    <tr style=\"text-align: right;\">\n",
       "      <th></th>\n",
       "      <th>Features</th>\n",
       "      <th>VIF</th>\n",
       "    </tr>\n",
       "  </thead>\n",
       "  <tbody>\n",
       "    <tr>\n",
       "      <th>0</th>\n",
       "      <td>offnet_mou_7</td>\n",
       "      <td>51.29</td>\n",
       "    </tr>\n",
       "    <tr>\n",
       "      <th>4</th>\n",
       "      <td>std_og_t2m_mou_7</td>\n",
       "      <td>44.39</td>\n",
       "    </tr>\n",
       "    <tr>\n",
       "      <th>1</th>\n",
       "      <td>loc_og_t2m_mou_7</td>\n",
       "      <td>15.15</td>\n",
       "    </tr>\n",
       "    <tr>\n",
       "      <th>10</th>\n",
       "      <td>loc_ic_mou_8</td>\n",
       "      <td>8.21</td>\n",
       "    </tr>\n",
       "    <tr>\n",
       "      <th>11</th>\n",
       "      <td>total_ic_mou_8</td>\n",
       "      <td>5.29</td>\n",
       "    </tr>\n",
       "    <tr>\n",
       "      <th>8</th>\n",
       "      <td>loc_ic_t2m_mou_8</td>\n",
       "      <td>3.82</td>\n",
       "    </tr>\n",
       "    <tr>\n",
       "      <th>3</th>\n",
       "      <td>loc_og_mou_8</td>\n",
       "      <td>2.49</td>\n",
       "    </tr>\n",
       "    <tr>\n",
       "      <th>7</th>\n",
       "      <td>total_og_mou_8</td>\n",
       "      <td>1.86</td>\n",
       "    </tr>\n",
       "    <tr>\n",
       "      <th>9</th>\n",
       "      <td>loc_ic_t2f_mou_8</td>\n",
       "      <td>1.28</td>\n",
       "    </tr>\n",
       "    <tr>\n",
       "      <th>2</th>\n",
       "      <td>loc_og_t2f_mou_8</td>\n",
       "      <td>1.25</td>\n",
       "    </tr>\n",
       "    <tr>\n",
       "      <th>13</th>\n",
       "      <td>ic_others_8</td>\n",
       "      <td>1.04</td>\n",
       "    </tr>\n",
       "    <tr>\n",
       "      <th>5</th>\n",
       "      <td>isd_og_mou_8</td>\n",
       "      <td>1.02</td>\n",
       "    </tr>\n",
       "    <tr>\n",
       "      <th>12</th>\n",
       "      <td>spl_ic_mou_8</td>\n",
       "      <td>1.02</td>\n",
       "    </tr>\n",
       "    <tr>\n",
       "      <th>6</th>\n",
       "      <td>og_others_8</td>\n",
       "      <td>1.01</td>\n",
       "    </tr>\n",
       "    <tr>\n",
       "      <th>14</th>\n",
       "      <td>vol_3g_mb_8</td>\n",
       "      <td>1.01</td>\n",
       "    </tr>\n",
       "  </tbody>\n",
       "</table>\n",
       "</div>"
      ],
      "text/plain": [
       "            Features    VIF\n",
       "0       offnet_mou_7  51.29\n",
       "4   std_og_t2m_mou_7  44.39\n",
       "1   loc_og_t2m_mou_7  15.15\n",
       "10      loc_ic_mou_8   8.21\n",
       "11    total_ic_mou_8   5.29\n",
       "8   loc_ic_t2m_mou_8   3.82\n",
       "3       loc_og_mou_8   2.49\n",
       "7     total_og_mou_8   1.86\n",
       "9   loc_ic_t2f_mou_8   1.28\n",
       "2   loc_og_t2f_mou_8   1.25\n",
       "13       ic_others_8   1.04\n",
       "5       isd_og_mou_8   1.02\n",
       "12      spl_ic_mou_8   1.02\n",
       "6        og_others_8   1.01\n",
       "14       vol_3g_mb_8   1.01"
      ]
     },
     "execution_count": 173,
     "metadata": {},
     "output_type": "execute_result"
    }
   ],
   "source": [
    "# Create a dataframe that will contain the names of all the feature variables and their respective VIFs\n",
    "vif = pd.DataFrame()\n",
    "vif['Features'] = X_train[rfe_cols].columns\n",
    "vif['VIF'] = [variance_inflation_factor(X_train[rfe_cols].values, i) for i in range(X_train[rfe_cols].shape[1])]\n",
    "vif['VIF'] = round(vif['VIF'], 2)\n",
    "vif = vif.sort_values(by = \"VIF\", ascending = False)\n",
    "vif"
   ]
  },
  {
   "cell_type": "markdown",
   "metadata": {},
   "source": [
    "##### Removing column og_others_8, which is insignificatnt as it has the highest p-value 0.99"
   ]
  },
  {
   "cell_type": "code",
   "execution_count": 174,
   "metadata": {},
   "outputs": [
    {
     "name": "stdout",
     "output_type": "stream",
     "text": [
      "['offnet_mou_7', 'loc_og_t2m_mou_7', 'loc_og_t2f_mou_8', 'loc_og_mou_8', 'std_og_t2m_mou_7', 'isd_og_mou_8', 'total_og_mou_8', 'loc_ic_t2m_mou_8', 'loc_ic_t2f_mou_8', 'loc_ic_mou_8', 'total_ic_mou_8', 'spl_ic_mou_8', 'ic_others_8', 'vol_3g_mb_8']\n"
     ]
    }
   ],
   "source": [
    "# Removing og_others_8 column \n",
    "log_cols = rfe_cols.to_list()\n",
    "log_cols.remove('og_others_8')\n",
    "print(log_cols)"
   ]
  },
  {
   "cell_type": "markdown",
   "metadata": {},
   "source": [
    "### Model-2\n",
    "Building the model after removing og_others_8 variable."
   ]
  },
  {
   "cell_type": "code",
   "execution_count": 175,
   "metadata": {},
   "outputs": [
    {
     "data": {
      "text/html": [
       "<table class=\"simpletable\">\n",
       "<caption>Generalized Linear Model Regression Results</caption>\n",
       "<tr>\n",
       "  <th>Dep. Variable:</th>         <td>churn</td>      <th>  No. Observations:  </th>  <td> 22164</td> \n",
       "</tr>\n",
       "<tr>\n",
       "  <th>Model:</th>                  <td>GLM</td>       <th>  Df Residuals:      </th>  <td> 22149</td> \n",
       "</tr>\n",
       "<tr>\n",
       "  <th>Model Family:</th>        <td>Binomial</td>     <th>  Df Model:          </th>  <td>    14</td> \n",
       "</tr>\n",
       "<tr>\n",
       "  <th>Link Function:</th>         <td>Logit</td>      <th>  Scale:             </th> <td>  1.0000</td>\n",
       "</tr>\n",
       "<tr>\n",
       "  <th>Method:</th>                <td>IRLS</td>       <th>  Log-Likelihood:    </th> <td> -2277.4</td>\n",
       "</tr>\n",
       "<tr>\n",
       "  <th>Date:</th>            <td>Tue, 20 Jun 2023</td> <th>  Deviance:          </th> <td>  4554.7</td>\n",
       "</tr>\n",
       "<tr>\n",
       "  <th>Time:</th>                <td>22:49:56</td>     <th>  Pearson chi2:      </th> <td>2.28e+06</td>\n",
       "</tr>\n",
       "<tr>\n",
       "  <th>No. Iterations:</th>         <td>12</td>        <th>  Pseudo R-squ. (CS):</th>  <td>0.08319</td>\n",
       "</tr>\n",
       "<tr>\n",
       "  <th>Covariance Type:</th>     <td>nonrobust</td>    <th>                     </th>     <td> </td>   \n",
       "</tr>\n",
       "</table>\n",
       "<table class=\"simpletable\">\n",
       "<tr>\n",
       "          <td></td>            <th>coef</th>     <th>std err</th>      <th>z</th>      <th>P>|z|</th>  <th>[0.025</th>    <th>0.975]</th>  \n",
       "</tr>\n",
       "<tr>\n",
       "  <th>const</th>            <td>   -6.8995</td> <td>    0.216</td> <td>  -32.008</td> <td> 0.000</td> <td>   -7.322</td> <td>   -6.477</td>\n",
       "</tr>\n",
       "<tr>\n",
       "  <th>offnet_mou_7</th>     <td>    1.2641</td> <td>    0.173</td> <td>    7.300</td> <td> 0.000</td> <td>    0.925</td> <td>    1.603</td>\n",
       "</tr>\n",
       "<tr>\n",
       "  <th>loc_og_t2m_mou_7</th> <td>   -0.7583</td> <td>    0.142</td> <td>   -5.338</td> <td> 0.000</td> <td>   -1.037</td> <td>   -0.480</td>\n",
       "</tr>\n",
       "<tr>\n",
       "  <th>loc_og_t2f_mou_8</th> <td>   -1.0918</td> <td>    0.363</td> <td>   -3.007</td> <td> 0.003</td> <td>   -1.803</td> <td>   -0.380</td>\n",
       "</tr>\n",
       "<tr>\n",
       "  <th>loc_og_mou_8</th>     <td>   -0.9855</td> <td>    0.281</td> <td>   -3.508</td> <td> 0.000</td> <td>   -1.536</td> <td>   -0.435</td>\n",
       "</tr>\n",
       "<tr>\n",
       "  <th>std_og_t2m_mou_7</th> <td>   -0.9110</td> <td>    0.161</td> <td>   -5.655</td> <td> 0.000</td> <td>   -1.227</td> <td>   -0.595</td>\n",
       "</tr>\n",
       "<tr>\n",
       "  <th>isd_og_mou_8</th>     <td>   -1.6705</td> <td>    1.073</td> <td>   -1.557</td> <td> 0.119</td> <td>   -3.773</td> <td>    0.432</td>\n",
       "</tr>\n",
       "<tr>\n",
       "  <th>total_og_mou_8</th>   <td>   -0.6796</td> <td>    0.073</td> <td>   -9.365</td> <td> 0.000</td> <td>   -0.822</td> <td>   -0.537</td>\n",
       "</tr>\n",
       "<tr>\n",
       "  <th>loc_ic_t2m_mou_8</th> <td>   -0.9015</td> <td>    0.608</td> <td>   -1.484</td> <td> 0.138</td> <td>   -2.092</td> <td>    0.289</td>\n",
       "</tr>\n",
       "<tr>\n",
       "  <th>loc_ic_t2f_mou_8</th> <td>   -0.9665</td> <td>    0.427</td> <td>   -2.264</td> <td> 0.024</td> <td>   -1.803</td> <td>   -0.130</td>\n",
       "</tr>\n",
       "<tr>\n",
       "  <th>loc_ic_mou_8</th>     <td>   -1.3297</td> <td>    0.738</td> <td>   -1.803</td> <td> 0.071</td> <td>   -2.775</td> <td>    0.116</td>\n",
       "</tr>\n",
       "<tr>\n",
       "  <th>total_ic_mou_8</th>   <td>   -1.1259</td> <td>    0.338</td> <td>   -3.331</td> <td> 0.001</td> <td>   -1.788</td> <td>   -0.463</td>\n",
       "</tr>\n",
       "<tr>\n",
       "  <th>spl_ic_mou_8</th>     <td>   -0.6613</td> <td>    0.134</td> <td>   -4.939</td> <td> 0.000</td> <td>   -0.924</td> <td>   -0.399</td>\n",
       "</tr>\n",
       "<tr>\n",
       "  <th>ic_others_8</th>      <td>   -1.4190</td> <td>    0.602</td> <td>   -2.358</td> <td> 0.018</td> <td>   -2.598</td> <td>   -0.240</td>\n",
       "</tr>\n",
       "<tr>\n",
       "  <th>vol_3g_mb_8</th>      <td>   -1.3187</td> <td>    0.188</td> <td>   -7.003</td> <td> 0.000</td> <td>   -1.688</td> <td>   -0.950</td>\n",
       "</tr>\n",
       "</table>"
      ],
      "text/plain": [
       "<class 'statsmodels.iolib.summary.Summary'>\n",
       "\"\"\"\n",
       "                 Generalized Linear Model Regression Results                  \n",
       "==============================================================================\n",
       "Dep. Variable:                  churn   No. Observations:                22164\n",
       "Model:                            GLM   Df Residuals:                    22149\n",
       "Model Family:                Binomial   Df Model:                           14\n",
       "Link Function:                  Logit   Scale:                          1.0000\n",
       "Method:                          IRLS   Log-Likelihood:                -2277.4\n",
       "Date:                Tue, 20 Jun 2023   Deviance:                       4554.7\n",
       "Time:                        22:49:56   Pearson chi2:                 2.28e+06\n",
       "No. Iterations:                    12   Pseudo R-squ. (CS):            0.08319\n",
       "Covariance Type:            nonrobust                                         \n",
       "====================================================================================\n",
       "                       coef    std err          z      P>|z|      [0.025      0.975]\n",
       "------------------------------------------------------------------------------------\n",
       "const               -6.8995      0.216    -32.008      0.000      -7.322      -6.477\n",
       "offnet_mou_7         1.2641      0.173      7.300      0.000       0.925       1.603\n",
       "loc_og_t2m_mou_7    -0.7583      0.142     -5.338      0.000      -1.037      -0.480\n",
       "loc_og_t2f_mou_8    -1.0918      0.363     -3.007      0.003      -1.803      -0.380\n",
       "loc_og_mou_8        -0.9855      0.281     -3.508      0.000      -1.536      -0.435\n",
       "std_og_t2m_mou_7    -0.9110      0.161     -5.655      0.000      -1.227      -0.595\n",
       "isd_og_mou_8        -1.6705      1.073     -1.557      0.119      -3.773       0.432\n",
       "total_og_mou_8      -0.6796      0.073     -9.365      0.000      -0.822      -0.537\n",
       "loc_ic_t2m_mou_8    -0.9015      0.608     -1.484      0.138      -2.092       0.289\n",
       "loc_ic_t2f_mou_8    -0.9665      0.427     -2.264      0.024      -1.803      -0.130\n",
       "loc_ic_mou_8        -1.3297      0.738     -1.803      0.071      -2.775       0.116\n",
       "total_ic_mou_8      -1.1259      0.338     -3.331      0.001      -1.788      -0.463\n",
       "spl_ic_mou_8        -0.6613      0.134     -4.939      0.000      -0.924      -0.399\n",
       "ic_others_8         -1.4190      0.602     -2.358      0.018      -2.598      -0.240\n",
       "vol_3g_mb_8         -1.3187      0.188     -7.003      0.000      -1.688      -0.950\n",
       "====================================================================================\n",
       "\"\"\""
      ]
     },
     "execution_count": 175,
     "metadata": {},
     "output_type": "execute_result"
    }
   ],
   "source": [
    "# Adding constant to X_train\n",
    "X_train_sm_2 = sm.add_constant(X_train[log_cols])\n",
    "\n",
    "#Instantiate the model\n",
    "log_no_pca_2 = sm.GLM(y_train, X_train_sm_2, family=sm.families.Binomial())\n",
    "\n",
    "# Fit the model\n",
    "log_no_pca_2 = log_no_pca_2.fit()\n",
    "\n",
    "log_no_pca_2.summary()"
   ]
  },
  {
   "cell_type": "markdown",
   "metadata": {},
   "source": [
    "#### Checking VIF for Model-2"
   ]
  },
  {
   "cell_type": "code",
   "execution_count": 176,
   "metadata": {},
   "outputs": [
    {
     "data": {
      "text/html": [
       "<div>\n",
       "<style scoped>\n",
       "    .dataframe tbody tr th:only-of-type {\n",
       "        vertical-align: middle;\n",
       "    }\n",
       "\n",
       "    .dataframe tbody tr th {\n",
       "        vertical-align: top;\n",
       "    }\n",
       "\n",
       "    .dataframe thead th {\n",
       "        text-align: right;\n",
       "    }\n",
       "</style>\n",
       "<table border=\"1\" class=\"dataframe\">\n",
       "  <thead>\n",
       "    <tr style=\"text-align: right;\">\n",
       "      <th></th>\n",
       "      <th>Features</th>\n",
       "      <th>VIF</th>\n",
       "    </tr>\n",
       "  </thead>\n",
       "  <tbody>\n",
       "    <tr>\n",
       "      <th>0</th>\n",
       "      <td>offnet_mou_7</td>\n",
       "      <td>51.29</td>\n",
       "    </tr>\n",
       "    <tr>\n",
       "      <th>4</th>\n",
       "      <td>std_og_t2m_mou_7</td>\n",
       "      <td>44.39</td>\n",
       "    </tr>\n",
       "    <tr>\n",
       "      <th>1</th>\n",
       "      <td>loc_og_t2m_mou_7</td>\n",
       "      <td>15.15</td>\n",
       "    </tr>\n",
       "    <tr>\n",
       "      <th>9</th>\n",
       "      <td>loc_ic_mou_8</td>\n",
       "      <td>8.20</td>\n",
       "    </tr>\n",
       "    <tr>\n",
       "      <th>10</th>\n",
       "      <td>total_ic_mou_8</td>\n",
       "      <td>5.29</td>\n",
       "    </tr>\n",
       "    <tr>\n",
       "      <th>7</th>\n",
       "      <td>loc_ic_t2m_mou_8</td>\n",
       "      <td>3.81</td>\n",
       "    </tr>\n",
       "    <tr>\n",
       "      <th>3</th>\n",
       "      <td>loc_og_mou_8</td>\n",
       "      <td>2.49</td>\n",
       "    </tr>\n",
       "    <tr>\n",
       "      <th>6</th>\n",
       "      <td>total_og_mou_8</td>\n",
       "      <td>1.86</td>\n",
       "    </tr>\n",
       "    <tr>\n",
       "      <th>8</th>\n",
       "      <td>loc_ic_t2f_mou_8</td>\n",
       "      <td>1.28</td>\n",
       "    </tr>\n",
       "    <tr>\n",
       "      <th>2</th>\n",
       "      <td>loc_og_t2f_mou_8</td>\n",
       "      <td>1.25</td>\n",
       "    </tr>\n",
       "    <tr>\n",
       "      <th>12</th>\n",
       "      <td>ic_others_8</td>\n",
       "      <td>1.04</td>\n",
       "    </tr>\n",
       "    <tr>\n",
       "      <th>5</th>\n",
       "      <td>isd_og_mou_8</td>\n",
       "      <td>1.02</td>\n",
       "    </tr>\n",
       "    <tr>\n",
       "      <th>11</th>\n",
       "      <td>spl_ic_mou_8</td>\n",
       "      <td>1.02</td>\n",
       "    </tr>\n",
       "    <tr>\n",
       "      <th>13</th>\n",
       "      <td>vol_3g_mb_8</td>\n",
       "      <td>1.01</td>\n",
       "    </tr>\n",
       "  </tbody>\n",
       "</table>\n",
       "</div>"
      ],
      "text/plain": [
       "            Features    VIF\n",
       "0       offnet_mou_7  51.29\n",
       "4   std_og_t2m_mou_7  44.39\n",
       "1   loc_og_t2m_mou_7  15.15\n",
       "9       loc_ic_mou_8   8.20\n",
       "10    total_ic_mou_8   5.29\n",
       "7   loc_ic_t2m_mou_8   3.81\n",
       "3       loc_og_mou_8   2.49\n",
       "6     total_og_mou_8   1.86\n",
       "8   loc_ic_t2f_mou_8   1.28\n",
       "2   loc_og_t2f_mou_8   1.25\n",
       "12       ic_others_8   1.04\n",
       "5       isd_og_mou_8   1.02\n",
       "11      spl_ic_mou_8   1.02\n",
       "13       vol_3g_mb_8   1.01"
      ]
     },
     "execution_count": 176,
     "metadata": {},
     "output_type": "execute_result"
    }
   ],
   "source": [
    "# Create a dataframe that will contain the names of all the feature variables and their respective VIFs\n",
    "vif = pd.DataFrame()\n",
    "vif['Features'] = X_train[log_cols].columns\n",
    "vif['VIF'] = [variance_inflation_factor(X_train[log_cols].values, i) for i in range(X_train[log_cols].shape[1])]\n",
    "vif['VIF'] = round(vif['VIF'], 2)\n",
    "vif = vif.sort_values(by = \"VIF\", ascending = False)\n",
    "vif"
   ]
  },
  {
   "cell_type": "markdown",
   "metadata": {},
   "source": [
    "As we can see from the model summary that all the variables p-values are significant and offnet_mou_8 column has the highest VIF 7.45. Hence, deleting offnet_mou_8 column."
   ]
  },
  {
   "cell_type": "code",
   "execution_count": 183,
   "metadata": {},
   "outputs": [
    {
     "data": {
      "text/html": [
       "<table class=\"simpletable\">\n",
       "<caption>Generalized Linear Model Regression Results</caption>\n",
       "<tr>\n",
       "  <th>Dep. Variable:</th>         <td>churn</td>      <th>  No. Observations:  </th>  <td> 22164</td> \n",
       "</tr>\n",
       "<tr>\n",
       "  <th>Model:</th>                  <td>GLM</td>       <th>  Df Residuals:      </th>  <td> 22149</td> \n",
       "</tr>\n",
       "<tr>\n",
       "  <th>Model Family:</th>        <td>Binomial</td>     <th>  Df Model:          </th>  <td>    14</td> \n",
       "</tr>\n",
       "<tr>\n",
       "  <th>Link Function:</th>         <td>Logit</td>      <th>  Scale:             </th> <td>  1.0000</td>\n",
       "</tr>\n",
       "<tr>\n",
       "  <th>Method:</th>                <td>IRLS</td>       <th>  Log-Likelihood:    </th> <td> -2277.4</td>\n",
       "</tr>\n",
       "<tr>\n",
       "  <th>Date:</th>            <td>Tue, 20 Jun 2023</td> <th>  Deviance:          </th> <td>  4554.7</td>\n",
       "</tr>\n",
       "<tr>\n",
       "  <th>Time:</th>                <td>22:55:23</td>     <th>  Pearson chi2:      </th> <td>2.28e+06</td>\n",
       "</tr>\n",
       "<tr>\n",
       "  <th>No. Iterations:</th>         <td>12</td>        <th>  Pseudo R-squ. (CS):</th>  <td>0.08319</td>\n",
       "</tr>\n",
       "<tr>\n",
       "  <th>Covariance Type:</th>     <td>nonrobust</td>    <th>                     </th>     <td> </td>   \n",
       "</tr>\n",
       "</table>\n",
       "<table class=\"simpletable\">\n",
       "<tr>\n",
       "          <td></td>            <th>coef</th>     <th>std err</th>      <th>z</th>      <th>P>|z|</th>  <th>[0.025</th>    <th>0.975]</th>  \n",
       "</tr>\n",
       "<tr>\n",
       "  <th>const</th>            <td>   -6.8995</td> <td>    0.216</td> <td>  -32.008</td> <td> 0.000</td> <td>   -7.322</td> <td>   -6.477</td>\n",
       "</tr>\n",
       "<tr>\n",
       "  <th>offnet_mou_7</th>     <td>    1.2641</td> <td>    0.173</td> <td>    7.300</td> <td> 0.000</td> <td>    0.925</td> <td>    1.603</td>\n",
       "</tr>\n",
       "<tr>\n",
       "  <th>loc_og_t2m_mou_7</th> <td>   -0.7583</td> <td>    0.142</td> <td>   -5.338</td> <td> 0.000</td> <td>   -1.037</td> <td>   -0.480</td>\n",
       "</tr>\n",
       "<tr>\n",
       "  <th>loc_og_t2f_mou_8</th> <td>   -1.0918</td> <td>    0.363</td> <td>   -3.007</td> <td> 0.003</td> <td>   -1.803</td> <td>   -0.380</td>\n",
       "</tr>\n",
       "<tr>\n",
       "  <th>loc_og_mou_8</th>     <td>   -0.9855</td> <td>    0.281</td> <td>   -3.508</td> <td> 0.000</td> <td>   -1.536</td> <td>   -0.435</td>\n",
       "</tr>\n",
       "<tr>\n",
       "  <th>std_og_t2m_mou_7</th> <td>   -0.9110</td> <td>    0.161</td> <td>   -5.655</td> <td> 0.000</td> <td>   -1.227</td> <td>   -0.595</td>\n",
       "</tr>\n",
       "<tr>\n",
       "  <th>isd_og_mou_8</th>     <td>   -1.6705</td> <td>    1.073</td> <td>   -1.557</td> <td> 0.119</td> <td>   -3.773</td> <td>    0.432</td>\n",
       "</tr>\n",
       "<tr>\n",
       "  <th>total_og_mou_8</th>   <td>   -0.6796</td> <td>    0.073</td> <td>   -9.365</td> <td> 0.000</td> <td>   -0.822</td> <td>   -0.537</td>\n",
       "</tr>\n",
       "<tr>\n",
       "  <th>loc_ic_t2m_mou_8</th> <td>   -0.9015</td> <td>    0.608</td> <td>   -1.484</td> <td> 0.138</td> <td>   -2.092</td> <td>    0.289</td>\n",
       "</tr>\n",
       "<tr>\n",
       "  <th>loc_ic_t2f_mou_8</th> <td>   -0.9665</td> <td>    0.427</td> <td>   -2.264</td> <td> 0.024</td> <td>   -1.803</td> <td>   -0.130</td>\n",
       "</tr>\n",
       "<tr>\n",
       "  <th>loc_ic_mou_8</th>     <td>   -1.3297</td> <td>    0.738</td> <td>   -1.803</td> <td> 0.071</td> <td>   -2.775</td> <td>    0.116</td>\n",
       "</tr>\n",
       "<tr>\n",
       "  <th>total_ic_mou_8</th>   <td>   -1.1259</td> <td>    0.338</td> <td>   -3.331</td> <td> 0.001</td> <td>   -1.788</td> <td>   -0.463</td>\n",
       "</tr>\n",
       "<tr>\n",
       "  <th>spl_ic_mou_8</th>     <td>   -0.6613</td> <td>    0.134</td> <td>   -4.939</td> <td> 0.000</td> <td>   -0.924</td> <td>   -0.399</td>\n",
       "</tr>\n",
       "<tr>\n",
       "  <th>ic_others_8</th>      <td>   -1.4190</td> <td>    0.602</td> <td>   -2.358</td> <td> 0.018</td> <td>   -2.598</td> <td>   -0.240</td>\n",
       "</tr>\n",
       "<tr>\n",
       "  <th>vol_3g_mb_8</th>      <td>   -1.3187</td> <td>    0.188</td> <td>   -7.003</td> <td> 0.000</td> <td>   -1.688</td> <td>   -0.950</td>\n",
       "</tr>\n",
       "</table>"
      ],
      "text/plain": [
       "<class 'statsmodels.iolib.summary.Summary'>\n",
       "\"\"\"\n",
       "                 Generalized Linear Model Regression Results                  \n",
       "==============================================================================\n",
       "Dep. Variable:                  churn   No. Observations:                22164\n",
       "Model:                            GLM   Df Residuals:                    22149\n",
       "Model Family:                Binomial   Df Model:                           14\n",
       "Link Function:                  Logit   Scale:                          1.0000\n",
       "Method:                          IRLS   Log-Likelihood:                -2277.4\n",
       "Date:                Tue, 20 Jun 2023   Deviance:                       4554.7\n",
       "Time:                        22:55:23   Pearson chi2:                 2.28e+06\n",
       "No. Iterations:                    12   Pseudo R-squ. (CS):            0.08319\n",
       "Covariance Type:            nonrobust                                         \n",
       "====================================================================================\n",
       "                       coef    std err          z      P>|z|      [0.025      0.975]\n",
       "------------------------------------------------------------------------------------\n",
       "const               -6.8995      0.216    -32.008      0.000      -7.322      -6.477\n",
       "offnet_mou_7         1.2641      0.173      7.300      0.000       0.925       1.603\n",
       "loc_og_t2m_mou_7    -0.7583      0.142     -5.338      0.000      -1.037      -0.480\n",
       "loc_og_t2f_mou_8    -1.0918      0.363     -3.007      0.003      -1.803      -0.380\n",
       "loc_og_mou_8        -0.9855      0.281     -3.508      0.000      -1.536      -0.435\n",
       "std_og_t2m_mou_7    -0.9110      0.161     -5.655      0.000      -1.227      -0.595\n",
       "isd_og_mou_8        -1.6705      1.073     -1.557      0.119      -3.773       0.432\n",
       "total_og_mou_8      -0.6796      0.073     -9.365      0.000      -0.822      -0.537\n",
       "loc_ic_t2m_mou_8    -0.9015      0.608     -1.484      0.138      -2.092       0.289\n",
       "loc_ic_t2f_mou_8    -0.9665      0.427     -2.264      0.024      -1.803      -0.130\n",
       "loc_ic_mou_8        -1.3297      0.738     -1.803      0.071      -2.775       0.116\n",
       "total_ic_mou_8      -1.1259      0.338     -3.331      0.001      -1.788      -0.463\n",
       "spl_ic_mou_8        -0.6613      0.134     -4.939      0.000      -0.924      -0.399\n",
       "ic_others_8         -1.4190      0.602     -2.358      0.018      -2.598      -0.240\n",
       "vol_3g_mb_8         -1.3187      0.188     -7.003      0.000      -1.688      -0.950\n",
       "====================================================================================\n",
       "\"\"\""
      ]
     },
     "execution_count": 183,
     "metadata": {},
     "output_type": "execute_result"
    }
   ],
   "source": [
    "# Adding constant to X_train\n",
    "X_train_sm_3 = sm.add_constant(X_train[log_cols])\n",
    "\n",
    "#Instantiate the model\n",
    "log_no_pca_3 = sm.GLM(y_train, X_train_sm_3, family=sm.families.Binomial())\n",
    "\n",
    "# Fit the model\n",
    "log_no_pca_3 = log_no_pca_3.fit()\n",
    "\n",
    "log_no_pca_3.summary()"
   ]
  },
  {
   "cell_type": "markdown",
   "metadata": {},
   "source": [
    "#### VIF Model-3"
   ]
  },
  {
   "cell_type": "code",
   "execution_count": 184,
   "metadata": {},
   "outputs": [
    {
     "data": {
      "text/html": [
       "<div>\n",
       "<style scoped>\n",
       "    .dataframe tbody tr th:only-of-type {\n",
       "        vertical-align: middle;\n",
       "    }\n",
       "\n",
       "    .dataframe tbody tr th {\n",
       "        vertical-align: top;\n",
       "    }\n",
       "\n",
       "    .dataframe thead th {\n",
       "        text-align: right;\n",
       "    }\n",
       "</style>\n",
       "<table border=\"1\" class=\"dataframe\">\n",
       "  <thead>\n",
       "    <tr style=\"text-align: right;\">\n",
       "      <th></th>\n",
       "      <th>Features</th>\n",
       "      <th>VIF</th>\n",
       "    </tr>\n",
       "  </thead>\n",
       "  <tbody>\n",
       "    <tr>\n",
       "      <th>0</th>\n",
       "      <td>offnet_mou_7</td>\n",
       "      <td>51.29</td>\n",
       "    </tr>\n",
       "    <tr>\n",
       "      <th>4</th>\n",
       "      <td>std_og_t2m_mou_7</td>\n",
       "      <td>44.39</td>\n",
       "    </tr>\n",
       "    <tr>\n",
       "      <th>1</th>\n",
       "      <td>loc_og_t2m_mou_7</td>\n",
       "      <td>15.15</td>\n",
       "    </tr>\n",
       "    <tr>\n",
       "      <th>9</th>\n",
       "      <td>loc_ic_mou_8</td>\n",
       "      <td>8.20</td>\n",
       "    </tr>\n",
       "    <tr>\n",
       "      <th>10</th>\n",
       "      <td>total_ic_mou_8</td>\n",
       "      <td>5.29</td>\n",
       "    </tr>\n",
       "    <tr>\n",
       "      <th>7</th>\n",
       "      <td>loc_ic_t2m_mou_8</td>\n",
       "      <td>3.81</td>\n",
       "    </tr>\n",
       "    <tr>\n",
       "      <th>3</th>\n",
       "      <td>loc_og_mou_8</td>\n",
       "      <td>2.49</td>\n",
       "    </tr>\n",
       "    <tr>\n",
       "      <th>6</th>\n",
       "      <td>total_og_mou_8</td>\n",
       "      <td>1.86</td>\n",
       "    </tr>\n",
       "    <tr>\n",
       "      <th>8</th>\n",
       "      <td>loc_ic_t2f_mou_8</td>\n",
       "      <td>1.28</td>\n",
       "    </tr>\n",
       "    <tr>\n",
       "      <th>2</th>\n",
       "      <td>loc_og_t2f_mou_8</td>\n",
       "      <td>1.25</td>\n",
       "    </tr>\n",
       "    <tr>\n",
       "      <th>12</th>\n",
       "      <td>ic_others_8</td>\n",
       "      <td>1.04</td>\n",
       "    </tr>\n",
       "    <tr>\n",
       "      <th>5</th>\n",
       "      <td>isd_og_mou_8</td>\n",
       "      <td>1.02</td>\n",
       "    </tr>\n",
       "    <tr>\n",
       "      <th>11</th>\n",
       "      <td>spl_ic_mou_8</td>\n",
       "      <td>1.02</td>\n",
       "    </tr>\n",
       "    <tr>\n",
       "      <th>13</th>\n",
       "      <td>vol_3g_mb_8</td>\n",
       "      <td>1.01</td>\n",
       "    </tr>\n",
       "  </tbody>\n",
       "</table>\n",
       "</div>"
      ],
      "text/plain": [
       "            Features    VIF\n",
       "0       offnet_mou_7  51.29\n",
       "4   std_og_t2m_mou_7  44.39\n",
       "1   loc_og_t2m_mou_7  15.15\n",
       "9       loc_ic_mou_8   8.20\n",
       "10    total_ic_mou_8   5.29\n",
       "7   loc_ic_t2m_mou_8   3.81\n",
       "3       loc_og_mou_8   2.49\n",
       "6     total_og_mou_8   1.86\n",
       "8   loc_ic_t2f_mou_8   1.28\n",
       "2   loc_og_t2f_mou_8   1.25\n",
       "12       ic_others_8   1.04\n",
       "5       isd_og_mou_8   1.02\n",
       "11      spl_ic_mou_8   1.02\n",
       "13       vol_3g_mb_8   1.01"
      ]
     },
     "execution_count": 184,
     "metadata": {},
     "output_type": "execute_result"
    }
   ],
   "source": [
    "vif = pd.DataFrame()\n",
    "vif['Features'] = X_train[log_cols].columns\n",
    "vif['VIF'] = [variance_inflation_factor(X_train[log_cols].values, i) for i in range(X_train[log_cols].shape[1])]\n",
    "vif['VIF'] = round(vif['VIF'], 2)\n",
    "vif = vif.sort_values(by = \"VIF\", ascending = False)\n",
    "vif"
   ]
  },
  {
   "cell_type": "markdown",
   "metadata": {},
   "source": [
    "###  Model performance on the train set"
   ]
  },
  {
   "cell_type": "code",
   "execution_count": 185,
   "metadata": {},
   "outputs": [
    {
     "data": {
      "text/plain": [
       "76637    8.432154e-02\n",
       "44417    5.659132e-03\n",
       "77582    4.125094e-04\n",
       "48224    9.458843e-04\n",
       "76321    2.485673e-16\n",
       "dtype: float64"
      ]
     },
     "execution_count": 185,
     "metadata": {},
     "output_type": "execute_result"
    }
   ],
   "source": [
    "# Getting the predicted value on the train set\n",
    "y_train_pred_no_pca = log_no_pca_3.predict(X_train_sm_3)\n",
    "y_train_pred_no_pca.head()"
   ]
  },
  {
   "cell_type": "markdown",
   "metadata": {},
   "source": [
    "##### Creating a dataframe with the actual churn and the predicted probabilities"
   ]
  },
  {
   "cell_type": "code",
   "execution_count": 186,
   "metadata": {},
   "outputs": [
    {
     "data": {
      "text/html": [
       "<div>\n",
       "<style scoped>\n",
       "    .dataframe tbody tr th:only-of-type {\n",
       "        vertical-align: middle;\n",
       "    }\n",
       "\n",
       "    .dataframe tbody tr th {\n",
       "        vertical-align: top;\n",
       "    }\n",
       "\n",
       "    .dataframe thead th {\n",
       "        text-align: right;\n",
       "    }\n",
       "</style>\n",
       "<table border=\"1\" class=\"dataframe\">\n",
       "  <thead>\n",
       "    <tr style=\"text-align: right;\">\n",
       "      <th></th>\n",
       "      <th>churn</th>\n",
       "      <th>churn_prob</th>\n",
       "      <th>CustID</th>\n",
       "    </tr>\n",
       "  </thead>\n",
       "  <tbody>\n",
       "    <tr>\n",
       "      <th>0</th>\n",
       "      <td>0</td>\n",
       "      <td>8.432154e-02</td>\n",
       "      <td>0</td>\n",
       "    </tr>\n",
       "    <tr>\n",
       "      <th>1</th>\n",
       "      <td>0</td>\n",
       "      <td>5.659132e-03</td>\n",
       "      <td>1</td>\n",
       "    </tr>\n",
       "    <tr>\n",
       "      <th>2</th>\n",
       "      <td>0</td>\n",
       "      <td>4.125094e-04</td>\n",
       "      <td>2</td>\n",
       "    </tr>\n",
       "    <tr>\n",
       "      <th>3</th>\n",
       "      <td>0</td>\n",
       "      <td>9.458843e-04</td>\n",
       "      <td>3</td>\n",
       "    </tr>\n",
       "    <tr>\n",
       "      <th>4</th>\n",
       "      <td>0</td>\n",
       "      <td>2.485673e-16</td>\n",
       "      <td>4</td>\n",
       "    </tr>\n",
       "  </tbody>\n",
       "</table>\n",
       "</div>"
      ],
      "text/plain": [
       "   churn    churn_prob  CustID\n",
       "0      0  8.432154e-02       0\n",
       "1      0  5.659132e-03       1\n",
       "2      0  4.125094e-04       2\n",
       "3      0  9.458843e-04       3\n",
       "4      0  2.485673e-16       4"
      ]
     },
     "execution_count": 186,
     "metadata": {},
     "output_type": "execute_result"
    }
   ],
   "source": [
    "y_train_pred_final = pd.DataFrame({'churn':y_train.values, 'churn_prob':y_train_pred_no_pca.values})\n",
    "\n",
    "#Assigning Customer ID for each record for better readblity\n",
    "#CustID is the index of each record.\n",
    "y_train_pred_final['CustID'] = y_train_pred_final.index\n",
    "\n",
    "y_train_pred_final.head()"
   ]
  },
  {
   "cell_type": "markdown",
   "metadata": {},
   "source": [
    "##### Finding Optimal Probablity Cutoff Point"
   ]
  },
  {
   "cell_type": "code",
   "execution_count": 187,
   "metadata": {
    "scrolled": true
   },
   "outputs": [
    {
     "data": {
      "text/html": [
       "<div>\n",
       "<style scoped>\n",
       "    .dataframe tbody tr th:only-of-type {\n",
       "        vertical-align: middle;\n",
       "    }\n",
       "\n",
       "    .dataframe tbody tr th {\n",
       "        vertical-align: top;\n",
       "    }\n",
       "\n",
       "    .dataframe thead th {\n",
       "        text-align: right;\n",
       "    }\n",
       "</style>\n",
       "<table border=\"1\" class=\"dataframe\">\n",
       "  <thead>\n",
       "    <tr style=\"text-align: right;\">\n",
       "      <th></th>\n",
       "      <th>churn</th>\n",
       "      <th>churn_prob</th>\n",
       "      <th>CustID</th>\n",
       "      <th>0.0</th>\n",
       "      <th>0.1</th>\n",
       "      <th>0.2</th>\n",
       "      <th>0.3</th>\n",
       "      <th>0.4</th>\n",
       "      <th>0.5</th>\n",
       "      <th>0.6</th>\n",
       "      <th>0.7</th>\n",
       "      <th>0.8</th>\n",
       "      <th>0.9</th>\n",
       "    </tr>\n",
       "  </thead>\n",
       "  <tbody>\n",
       "    <tr>\n",
       "      <th>0</th>\n",
       "      <td>0</td>\n",
       "      <td>8.432154e-02</td>\n",
       "      <td>0</td>\n",
       "      <td>1</td>\n",
       "      <td>0</td>\n",
       "      <td>0</td>\n",
       "      <td>0</td>\n",
       "      <td>0</td>\n",
       "      <td>0</td>\n",
       "      <td>0</td>\n",
       "      <td>0</td>\n",
       "      <td>0</td>\n",
       "      <td>0</td>\n",
       "    </tr>\n",
       "    <tr>\n",
       "      <th>1</th>\n",
       "      <td>0</td>\n",
       "      <td>5.659132e-03</td>\n",
       "      <td>1</td>\n",
       "      <td>1</td>\n",
       "      <td>0</td>\n",
       "      <td>0</td>\n",
       "      <td>0</td>\n",
       "      <td>0</td>\n",
       "      <td>0</td>\n",
       "      <td>0</td>\n",
       "      <td>0</td>\n",
       "      <td>0</td>\n",
       "      <td>0</td>\n",
       "    </tr>\n",
       "    <tr>\n",
       "      <th>2</th>\n",
       "      <td>0</td>\n",
       "      <td>4.125094e-04</td>\n",
       "      <td>2</td>\n",
       "      <td>1</td>\n",
       "      <td>0</td>\n",
       "      <td>0</td>\n",
       "      <td>0</td>\n",
       "      <td>0</td>\n",
       "      <td>0</td>\n",
       "      <td>0</td>\n",
       "      <td>0</td>\n",
       "      <td>0</td>\n",
       "      <td>0</td>\n",
       "    </tr>\n",
       "    <tr>\n",
       "      <th>3</th>\n",
       "      <td>0</td>\n",
       "      <td>9.458843e-04</td>\n",
       "      <td>3</td>\n",
       "      <td>1</td>\n",
       "      <td>0</td>\n",
       "      <td>0</td>\n",
       "      <td>0</td>\n",
       "      <td>0</td>\n",
       "      <td>0</td>\n",
       "      <td>0</td>\n",
       "      <td>0</td>\n",
       "      <td>0</td>\n",
       "      <td>0</td>\n",
       "    </tr>\n",
       "    <tr>\n",
       "      <th>4</th>\n",
       "      <td>0</td>\n",
       "      <td>2.485673e-16</td>\n",
       "      <td>4</td>\n",
       "      <td>1</td>\n",
       "      <td>0</td>\n",
       "      <td>0</td>\n",
       "      <td>0</td>\n",
       "      <td>0</td>\n",
       "      <td>0</td>\n",
       "      <td>0</td>\n",
       "      <td>0</td>\n",
       "      <td>0</td>\n",
       "      <td>0</td>\n",
       "    </tr>\n",
       "  </tbody>\n",
       "</table>\n",
       "</div>"
      ],
      "text/plain": [
       "   churn    churn_prob  CustID  0.0  0.1  0.2  0.3  0.4  0.5  0.6  0.7  0.8  \\\n",
       "0      0  8.432154e-02       0    1    0    0    0    0    0    0    0    0   \n",
       "1      0  5.659132e-03       1    1    0    0    0    0    0    0    0    0   \n",
       "2      0  4.125094e-04       2    1    0    0    0    0    0    0    0    0   \n",
       "3      0  9.458843e-04       3    1    0    0    0    0    0    0    0    0   \n",
       "4      0  2.485673e-16       4    1    0    0    0    0    0    0    0    0   \n",
       "\n",
       "   0.9  \n",
       "0    0  \n",
       "1    0  \n",
       "2    0  \n",
       "3    0  \n",
       "4    0  "
      ]
     },
     "execution_count": 187,
     "metadata": {},
     "output_type": "execute_result"
    }
   ],
   "source": [
    "# Creating columns for different probablity cutoffs\n",
    "prob_cutoff = [float(p/10) for p in range(10)]\n",
    "\n",
    "for i in prob_cutoff:\n",
    "    y_train_pred_final[i] = y_train_pred_final['churn_prob'].map(lambda x : 1 if x > i else 0)\n",
    "    \n",
    "y_train_pred_final.head()"
   ]
  },
  {
   "cell_type": "markdown",
   "metadata": {},
   "source": [
    "##### Now let's calculate the accuracy sensitivity and specificity for various probability cutoffs."
   ]
  },
  {
   "cell_type": "code",
   "execution_count": 188,
   "metadata": {},
   "outputs": [
    {
     "name": "stdout",
     "output_type": "stream",
     "text": [
      "     probability  accuracy  sensitivity  specificity\n",
      "0.0          0.0  0.033342     1.000000     0.000000\n",
      "0.1          0.1  0.907508     0.713126     0.914212\n",
      "0.2          0.2  0.957905     0.557510     0.971715\n",
      "0.3          0.3  0.965846     0.124493     0.994866\n",
      "0.4          0.4  0.966613     0.043302     0.998460\n",
      "0.5          0.5  0.966748     0.021651     0.999347\n",
      "0.6          0.6  0.966613     0.012179     0.999533\n",
      "0.7          0.7  0.966567     0.004060     0.999767\n",
      "0.8          0.8  0.966522     0.001353     0.999813\n",
      "0.9          0.9  0.966613     0.001353     0.999907\n"
     ]
    }
   ],
   "source": [
    "# Creating a dataframe\n",
    "cutoff_df = pd.DataFrame(columns=['probability', 'accuracy', 'sensitivity', 'specificity'])\n",
    "\n",
    "for i in prob_cutoff:\n",
    "    cm1 = metrics.confusion_matrix(y_train_pred_final['churn'], y_train_pred_final[i] )\n",
    "    total1=sum(sum(cm1))\n",
    "    accuracy = (cm1[0,0]+cm1[1,1])/total1\n",
    "    \n",
    "    speci = cm1[0,0]/(cm1[0,0]+cm1[0,1])\n",
    "    sensi = cm1[1,1]/(cm1[1,0]+cm1[1,1])\n",
    "    cutoff_df.loc[i] =[ i ,accuracy,sensi,speci]\n",
    "print(cutoff_df)\n",
    "    "
   ]
  },
  {
   "cell_type": "code",
   "execution_count": 189,
   "metadata": {},
   "outputs": [
    {
     "data": {
      "image/png": "[encoded data removed]",
      "text/plain": [
       "<Figure size 432x288 with 1 Axes>"
      ]
     },
     "metadata": {},
     "output_type": "display_data"
    }
   ],
   "source": [
    "# Plotting accuracy, sensitivity and specificity for different probabilities.\n",
    "cutoff_df.plot('probability', ['accuracy','sensitivity','specificity'])\n",
    "plt.show()"
   ]
  },
  {
   "cell_type": "markdown",
   "metadata": {},
   "source": [
    "##### Analysis of the above curve\n",
    "Accuracy - Becomes stable around 0.6\n",
    "\n",
    "Sensitivity - Decreases with the increased probablity.\n",
    "\n",
    "Specificity - Increases with the increasing probablity.\n",
    "\n",
    "`At point 0.6` where the three parameters cut each other, we can see that there is a balance bethween sensitivity and specificity with a good accuracy.\n",
    "\n",
    "Here we are intended to acheive better sensitivity than accuracy and specificity. Though as per the above curve, we should take 0.6 as the optimum probability cutoff, we are taking ***0.5*** for acheiving higher sensitivity, which is our main goal."
   ]
  },
  {
   "cell_type": "code",
   "execution_count": 190,
   "metadata": {},
   "outputs": [
    {
     "data": {
      "text/html": [
       "<div>\n",
       "<style scoped>\n",
       "    .dataframe tbody tr th:only-of-type {\n",
       "        vertical-align: middle;\n",
       "    }\n",
       "\n",
       "    .dataframe tbody tr th {\n",
       "        vertical-align: top;\n",
       "    }\n",
       "\n",
       "    .dataframe thead th {\n",
       "        text-align: right;\n",
       "    }\n",
       "</style>\n",
       "<table border=\"1\" class=\"dataframe\">\n",
       "  <thead>\n",
       "    <tr style=\"text-align: right;\">\n",
       "      <th></th>\n",
       "      <th>churn</th>\n",
       "      <th>churn_prob</th>\n",
       "      <th>CustID</th>\n",
       "      <th>0.0</th>\n",
       "      <th>0.1</th>\n",
       "      <th>0.2</th>\n",
       "      <th>0.3</th>\n",
       "      <th>0.4</th>\n",
       "      <th>0.5</th>\n",
       "      <th>0.6</th>\n",
       "      <th>0.7</th>\n",
       "      <th>0.8</th>\n",
       "      <th>0.9</th>\n",
       "      <th>predicted</th>\n",
       "    </tr>\n",
       "  </thead>\n",
       "  <tbody>\n",
       "    <tr>\n",
       "      <th>0</th>\n",
       "      <td>0</td>\n",
       "      <td>8.432154e-02</td>\n",
       "      <td>0</td>\n",
       "      <td>1</td>\n",
       "      <td>0</td>\n",
       "      <td>0</td>\n",
       "      <td>0</td>\n",
       "      <td>0</td>\n",
       "      <td>0</td>\n",
       "      <td>0</td>\n",
       "      <td>0</td>\n",
       "      <td>0</td>\n",
       "      <td>0</td>\n",
       "      <td>0</td>\n",
       "    </tr>\n",
       "    <tr>\n",
       "      <th>1</th>\n",
       "      <td>0</td>\n",
       "      <td>5.659132e-03</td>\n",
       "      <td>1</td>\n",
       "      <td>1</td>\n",
       "      <td>0</td>\n",
       "      <td>0</td>\n",
       "      <td>0</td>\n",
       "      <td>0</td>\n",
       "      <td>0</td>\n",
       "      <td>0</td>\n",
       "      <td>0</td>\n",
       "      <td>0</td>\n",
       "      <td>0</td>\n",
       "      <td>0</td>\n",
       "    </tr>\n",
       "    <tr>\n",
       "      <th>2</th>\n",
       "      <td>0</td>\n",
       "      <td>4.125094e-04</td>\n",
       "      <td>2</td>\n",
       "      <td>1</td>\n",
       "      <td>0</td>\n",
       "      <td>0</td>\n",
       "      <td>0</td>\n",
       "      <td>0</td>\n",
       "      <td>0</td>\n",
       "      <td>0</td>\n",
       "      <td>0</td>\n",
       "      <td>0</td>\n",
       "      <td>0</td>\n",
       "      <td>0</td>\n",
       "    </tr>\n",
       "    <tr>\n",
       "      <th>3</th>\n",
       "      <td>0</td>\n",
       "      <td>9.458843e-04</td>\n",
       "      <td>3</td>\n",
       "      <td>1</td>\n",
       "      <td>0</td>\n",
       "      <td>0</td>\n",
       "      <td>0</td>\n",
       "      <td>0</td>\n",
       "      <td>0</td>\n",
       "      <td>0</td>\n",
       "      <td>0</td>\n",
       "      <td>0</td>\n",
       "      <td>0</td>\n",
       "      <td>0</td>\n",
       "    </tr>\n",
       "    <tr>\n",
       "      <th>4</th>\n",
       "      <td>0</td>\n",
       "      <td>2.485673e-16</td>\n",
       "      <td>4</td>\n",
       "      <td>1</td>\n",
       "      <td>0</td>\n",
       "      <td>0</td>\n",
       "      <td>0</td>\n",
       "      <td>0</td>\n",
       "      <td>0</td>\n",
       "      <td>0</td>\n",
       "      <td>0</td>\n",
       "      <td>0</td>\n",
       "      <td>0</td>\n",
       "      <td>0</td>\n",
       "    </tr>\n",
       "  </tbody>\n",
       "</table>\n",
       "</div>"
      ],
      "text/plain": [
       "   churn    churn_prob  CustID  0.0  0.1  0.2  0.3  0.4  0.5  0.6  0.7  0.8  \\\n",
       "0      0  8.432154e-02       0    1    0    0    0    0    0    0    0    0   \n",
       "1      0  5.659132e-03       1    1    0    0    0    0    0    0    0    0   \n",
       "2      0  4.125094e-04       2    1    0    0    0    0    0    0    0    0   \n",
       "3      0  9.458843e-04       3    1    0    0    0    0    0    0    0    0   \n",
       "4      0  2.485673e-16       4    1    0    0    0    0    0    0    0    0   \n",
       "\n",
       "   0.9  predicted  \n",
       "0    0          0  \n",
       "1    0          0  \n",
       "2    0          0  \n",
       "3    0          0  \n",
       "4    0          0  "
      ]
     },
     "execution_count": 190,
     "metadata": {},
     "output_type": "execute_result"
    }
   ],
   "source": [
    "# Creating a column with name \"predicted\", which is the predicted value for 0.5 cutoff \n",
    "y_train_pred_final['predicted'] = y_train_pred_final['churn_prob'].map(lambda x: 1 if x > 0.5 else 0)\n",
    "y_train_pred_final.head()"
   ]
  },
  {
   "cell_type": "markdown",
   "metadata": {},
   "source": [
    "##### Metrics"
   ]
  },
  {
   "cell_type": "code",
   "execution_count": 191,
   "metadata": {},
   "outputs": [
    {
     "name": "stdout",
     "output_type": "stream",
     "text": [
      "[[21411    14]\n",
      " [  723    16]]\n"
     ]
    }
   ],
   "source": [
    "# Confusion metrics\n",
    "confusion = metrics.confusion_matrix(y_train_pred_final['churn'], y_train_pred_final['predicted'])\n",
    "print(confusion)"
   ]
  },
  {
   "cell_type": "code",
   "execution_count": 192,
   "metadata": {},
   "outputs": [],
   "source": [
    "TP = confusion[1,1] # true positive \n",
    "TN = confusion[0,0] # true negatives\n",
    "FP = confusion[0,1] # false positives\n",
    "FN = confusion[1,0] # false negatives"
   ]
  },
  {
   "cell_type": "code",
   "execution_count": 193,
   "metadata": {},
   "outputs": [
    {
     "name": "stdout",
     "output_type": "stream",
     "text": [
      "Accuracy:- 0.9667478794441436\n",
      "Sensitivity:- 0.02165087956698241\n",
      "Specificity:- 0.9993465577596266\n"
     ]
    }
   ],
   "source": [
    "# Accuracy\n",
    "print(\"Accuracy:-\",metrics.accuracy_score(y_train_pred_final['churn'], y_train_pred_final['predicted']))\n",
    "\n",
    "# Sensitivity\n",
    "print(\"Sensitivity:-\",TP / float(TP+FN))\n",
    "\n",
    "# Specificity\n",
    "print(\"Specificity:-\", TN / float(TN+FP))\n"
   ]
  },
  {
   "cell_type": "markdown",
   "metadata": {},
   "source": [
    "We have got good accuracy, sensitivity and specificity on the train set prediction."
   ]
  },
  {
   "cell_type": "markdown",
   "metadata": {},
   "source": [
    "\n",
    "\n",
    "##### Plotting the ROC Curve (Trade off between sensitivity & specificity)"
   ]
  },
  {
   "cell_type": "code",
   "execution_count": 194,
   "metadata": {},
   "outputs": [],
   "source": [
    "# ROC Curve function\n",
    "\n",
    "def draw_roc( actual, probs ):\n",
    "    fpr, tpr, thresholds = metrics.roc_curve( actual, probs,\n",
    "                                              drop_intermediate = False )\n",
    "    auc_score = metrics.roc_auc_score( actual, probs )\n",
    "    plt.figure(figsize=(5, 5))\n",
    "    plt.plot( fpr, tpr, label='ROC curve (area = %0.2f)' % auc_score )\n",
    "    plt.plot([0, 1], [0, 1], 'k--')\n",
    "    plt.xlim([0.0, 1.0])\n",
    "    plt.ylim([0.0, 1.05])\n",
    "    plt.xlabel('False Positive Rate or [1 - True Negative Rate]')\n",
    "    plt.ylabel('True Positive Rate')\n",
    "    plt.title('Receiver operating characteristic example')\n",
    "    plt.legend(loc=\"lower right\")\n",
    "    plt.show()\n",
    "\n",
    "    return None"
   ]
  },
  {
   "cell_type": "code",
   "execution_count": 195,
   "metadata": {},
   "outputs": [
    {
     "data": {
      "image/png": "[encoded data removed]",
      "text/plain": [
       "<Figure size 360x360 with 1 Axes>"
      ]
     },
     "metadata": {},
     "output_type": "display_data"
    }
   ],
   "source": [
    "draw_roc(y_train_pred_final['churn'], y_train_pred_final['churn_prob'])"
   ]
  },
  {
   "cell_type": "markdown",
   "metadata": {},
   "source": [
    "We can see the area of the ROC curve is closer to 1, whic is the Gini of the model."
   ]
  },
  {
   "cell_type": "markdown",
   "metadata": {},
   "source": [
    "### Testing the model on the test set"
   ]
  },
  {
   "cell_type": "code",
   "execution_count": 196,
   "metadata": {},
   "outputs": [],
   "source": [
    "# Taking a copy of the test set\n",
    "X_test_log = X_test.copy()"
   ]
  },
  {
   "cell_type": "code",
   "execution_count": 197,
   "metadata": {},
   "outputs": [],
   "source": [
    "# Taking only the columns, which are selected in the train set after removing insignificant and multicollinear variables\n",
    "X_test_log = X_test_log[log_cols]"
   ]
  },
  {
   "cell_type": "code",
   "execution_count": 198,
   "metadata": {},
   "outputs": [],
   "source": [
    "# Adding constant on the test set\n",
    "X_test_sm = sm.add_constant(X_test_log)"
   ]
  },
  {
   "cell_type": "markdown",
   "metadata": {},
   "source": [
    "##### Predictions on the test set with final model"
   ]
  },
  {
   "cell_type": "code",
   "execution_count": 199,
   "metadata": {},
   "outputs": [],
   "source": [
    "# Predict on the test set\n",
    "y_test_pred = log_no_pca_3.predict(X_test_sm)"
   ]
  },
  {
   "cell_type": "code",
   "execution_count": 200,
   "metadata": {},
   "outputs": [
    {
     "data": {
      "text/plain": [
       "5704     0.001833\n",
       "64892    0.005579\n",
       "39613    0.000389\n",
       "93118    0.001055\n",
       "81235    0.000500\n",
       "dtype: float64"
      ]
     },
     "execution_count": 200,
     "metadata": {},
     "output_type": "execute_result"
    }
   ],
   "source": [
    "y_test_pred.head()"
   ]
  },
  {
   "cell_type": "code",
   "execution_count": 201,
   "metadata": {},
   "outputs": [
    {
     "data": {
      "text/html": [
       "<div>\n",
       "<style scoped>\n",
       "    .dataframe tbody tr th:only-of-type {\n",
       "        vertical-align: middle;\n",
       "    }\n",
       "\n",
       "    .dataframe tbody tr th {\n",
       "        vertical-align: top;\n",
       "    }\n",
       "\n",
       "    .dataframe thead th {\n",
       "        text-align: right;\n",
       "    }\n",
       "</style>\n",
       "<table border=\"1\" class=\"dataframe\">\n",
       "  <thead>\n",
       "    <tr style=\"text-align: right;\">\n",
       "      <th></th>\n",
       "      <th>0</th>\n",
       "    </tr>\n",
       "  </thead>\n",
       "  <tbody>\n",
       "    <tr>\n",
       "      <th>5704</th>\n",
       "      <td>0.001833</td>\n",
       "    </tr>\n",
       "    <tr>\n",
       "      <th>64892</th>\n",
       "      <td>0.005579</td>\n",
       "    </tr>\n",
       "    <tr>\n",
       "      <th>39613</th>\n",
       "      <td>0.000389</td>\n",
       "    </tr>\n",
       "    <tr>\n",
       "      <th>93118</th>\n",
       "      <td>0.001055</td>\n",
       "    </tr>\n",
       "    <tr>\n",
       "      <th>81235</th>\n",
       "      <td>0.000500</td>\n",
       "    </tr>\n",
       "  </tbody>\n",
       "</table>\n",
       "</div>"
      ],
      "text/plain": [
       "              0\n",
       "5704   0.001833\n",
       "64892  0.005579\n",
       "39613  0.000389\n",
       "93118  0.001055\n",
       "81235  0.000500"
      ]
     },
     "execution_count": 201,
     "metadata": {},
     "output_type": "execute_result"
    }
   ],
   "source": [
    "# Converting y_test_pred to a dataframe because y_test_pred is an array\n",
    "y_pred_1 = pd.DataFrame(y_test_pred)\n",
    "y_pred_1.head()"
   ]
  },
  {
   "cell_type": "code",
   "execution_count": 202,
   "metadata": {},
   "outputs": [
    {
     "data": {
      "text/html": [
       "<div>\n",
       "<style scoped>\n",
       "    .dataframe tbody tr th:only-of-type {\n",
       "        vertical-align: middle;\n",
       "    }\n",
       "\n",
       "    .dataframe tbody tr th {\n",
       "        vertical-align: top;\n",
       "    }\n",
       "\n",
       "    .dataframe thead th {\n",
       "        text-align: right;\n",
       "    }\n",
       "</style>\n",
       "<table border=\"1\" class=\"dataframe\">\n",
       "  <thead>\n",
       "    <tr style=\"text-align: right;\">\n",
       "      <th></th>\n",
       "      <th>churn</th>\n",
       "    </tr>\n",
       "  </thead>\n",
       "  <tbody>\n",
       "    <tr>\n",
       "      <th>5704</th>\n",
       "      <td>0</td>\n",
       "    </tr>\n",
       "    <tr>\n",
       "      <th>64892</th>\n",
       "      <td>0</td>\n",
       "    </tr>\n",
       "    <tr>\n",
       "      <th>39613</th>\n",
       "      <td>0</td>\n",
       "    </tr>\n",
       "    <tr>\n",
       "      <th>93118</th>\n",
       "      <td>0</td>\n",
       "    </tr>\n",
       "    <tr>\n",
       "      <th>81235</th>\n",
       "      <td>0</td>\n",
       "    </tr>\n",
       "  </tbody>\n",
       "</table>\n",
       "</div>"
      ],
      "text/plain": [
       "       churn\n",
       "5704       0\n",
       "64892      0\n",
       "39613      0\n",
       "93118      0\n",
       "81235      0"
      ]
     },
     "execution_count": 202,
     "metadata": {},
     "output_type": "execute_result"
    }
   ],
   "source": [
    "# Convetting y_test to a dataframe\n",
    "y_test_df = pd.DataFrame(y_test)\n",
    "y_test_df.head()"
   ]
  },
  {
   "cell_type": "code",
   "execution_count": 203,
   "metadata": {},
   "outputs": [],
   "source": [
    "# Putting index to Customer ID \n",
    "y_test_df['CustID'] = y_test_df.index"
   ]
  },
  {
   "cell_type": "code",
   "execution_count": 204,
   "metadata": {},
   "outputs": [],
   "source": [
    "# Removing index form the both dataframes for merging them side by side\n",
    "y_pred_1.reset_index(drop=True, inplace=True)\n",
    "y_test_df.reset_index(drop=True, inplace=True)"
   ]
  },
  {
   "cell_type": "code",
   "execution_count": 205,
   "metadata": {},
   "outputs": [],
   "source": [
    "# Appending y_pred_1 and y_test_df\n",
    "y_test_pred_final = pd.concat([y_test_df, y_pred_1], axis=1)"
   ]
  },
  {
   "cell_type": "code",
   "execution_count": 206,
   "metadata": {},
   "outputs": [
    {
     "data": {
      "text/html": [
       "<div>\n",
       "<style scoped>\n",
       "    .dataframe tbody tr th:only-of-type {\n",
       "        vertical-align: middle;\n",
       "    }\n",
       "\n",
       "    .dataframe tbody tr th {\n",
       "        vertical-align: top;\n",
       "    }\n",
       "\n",
       "    .dataframe thead th {\n",
       "        text-align: right;\n",
       "    }\n",
       "</style>\n",
       "<table border=\"1\" class=\"dataframe\">\n",
       "  <thead>\n",
       "    <tr style=\"text-align: right;\">\n",
       "      <th></th>\n",
       "      <th>churn</th>\n",
       "      <th>CustID</th>\n",
       "      <th>0</th>\n",
       "    </tr>\n",
       "  </thead>\n",
       "  <tbody>\n",
       "    <tr>\n",
       "      <th>0</th>\n",
       "      <td>0</td>\n",
       "      <td>5704</td>\n",
       "      <td>0.001833</td>\n",
       "    </tr>\n",
       "    <tr>\n",
       "      <th>1</th>\n",
       "      <td>0</td>\n",
       "      <td>64892</td>\n",
       "      <td>0.005579</td>\n",
       "    </tr>\n",
       "    <tr>\n",
       "      <th>2</th>\n",
       "      <td>0</td>\n",
       "      <td>39613</td>\n",
       "      <td>0.000389</td>\n",
       "    </tr>\n",
       "    <tr>\n",
       "      <th>3</th>\n",
       "      <td>0</td>\n",
       "      <td>93118</td>\n",
       "      <td>0.001055</td>\n",
       "    </tr>\n",
       "    <tr>\n",
       "      <th>4</th>\n",
       "      <td>0</td>\n",
       "      <td>81235</td>\n",
       "      <td>0.000500</td>\n",
       "    </tr>\n",
       "  </tbody>\n",
       "</table>\n",
       "</div>"
      ],
      "text/plain": [
       "   churn  CustID         0\n",
       "0      0    5704  0.001833\n",
       "1      0   64892  0.005579\n",
       "2      0   39613  0.000389\n",
       "3      0   93118  0.001055\n",
       "4      0   81235  0.000500"
      ]
     },
     "execution_count": 206,
     "metadata": {},
     "output_type": "execute_result"
    }
   ],
   "source": [
    "y_test_pred_final.head()"
   ]
  },
  {
   "cell_type": "code",
   "execution_count": 207,
   "metadata": {},
   "outputs": [],
   "source": [
    "# Renaming the '0' column as churn probablity\n",
    "y_test_pred_final = y_test_pred_final.rename(columns={0:'churn_prob'})"
   ]
  },
  {
   "cell_type": "code",
   "execution_count": 212,
   "metadata": {},
   "outputs": [],
   "source": [
    "# Rearranging the columns\n",
    "# y_test_pred_final = y_test_pred_final.reindex_axis(['CustID','churn','churn_prob'], axis=1)"
   ]
  },
  {
   "cell_type": "code",
   "execution_count": 215,
   "metadata": {},
   "outputs": [
    {
     "data": {
      "text/html": [
       "<div>\n",
       "<style scoped>\n",
       "    .dataframe tbody tr th:only-of-type {\n",
       "        vertical-align: middle;\n",
       "    }\n",
       "\n",
       "    .dataframe tbody tr th {\n",
       "        vertical-align: top;\n",
       "    }\n",
       "\n",
       "    .dataframe thead th {\n",
       "        text-align: right;\n",
       "    }\n",
       "</style>\n",
       "<table border=\"1\" class=\"dataframe\">\n",
       "  <thead>\n",
       "    <tr style=\"text-align: right;\">\n",
       "      <th></th>\n",
       "      <th>churn</th>\n",
       "      <th>CustID</th>\n",
       "      <th>churn_prob</th>\n",
       "      <th>test_predicted</th>\n",
       "    </tr>\n",
       "  </thead>\n",
       "  <tbody>\n",
       "    <tr>\n",
       "      <th>0</th>\n",
       "      <td>0</td>\n",
       "      <td>5704</td>\n",
       "      <td>0.001833</td>\n",
       "      <td>0</td>\n",
       "    </tr>\n",
       "    <tr>\n",
       "      <th>1</th>\n",
       "      <td>0</td>\n",
       "      <td>64892</td>\n",
       "      <td>0.005579</td>\n",
       "      <td>0</td>\n",
       "    </tr>\n",
       "    <tr>\n",
       "      <th>2</th>\n",
       "      <td>0</td>\n",
       "      <td>39613</td>\n",
       "      <td>0.000389</td>\n",
       "      <td>0</td>\n",
       "    </tr>\n",
       "    <tr>\n",
       "      <th>3</th>\n",
       "      <td>0</td>\n",
       "      <td>93118</td>\n",
       "      <td>0.001055</td>\n",
       "      <td>0</td>\n",
       "    </tr>\n",
       "    <tr>\n",
       "      <th>4</th>\n",
       "      <td>0</td>\n",
       "      <td>81235</td>\n",
       "      <td>0.000500</td>\n",
       "      <td>0</td>\n",
       "    </tr>\n",
       "  </tbody>\n",
       "</table>\n",
       "</div>"
      ],
      "text/plain": [
       "   churn  CustID  churn_prob  test_predicted\n",
       "0      0    5704    0.001833               0\n",
       "1      0   64892    0.005579               0\n",
       "2      0   39613    0.000389               0\n",
       "3      0   93118    0.001055               0\n",
       "4      0   81235    0.000500               0"
      ]
     },
     "execution_count": 215,
     "metadata": {},
     "output_type": "execute_result"
    }
   ],
   "source": [
    "y_test_pred_final.head()"
   ]
  },
  {
   "cell_type": "code",
   "execution_count": 216,
   "metadata": {},
   "outputs": [],
   "source": [
    "# In the test set using probablity cutoff 0.5, what we got in the train set \n",
    "y_test_pred_final['test_predicted'] = y_test_pred_final['churn_prob'].map(lambda x: 1 if x > 0.5 else 0)"
   ]
  },
  {
   "cell_type": "code",
   "execution_count": 217,
   "metadata": {},
   "outputs": [
    {
     "data": {
      "text/html": [
       "<div>\n",
       "<style scoped>\n",
       "    .dataframe tbody tr th:only-of-type {\n",
       "        vertical-align: middle;\n",
       "    }\n",
       "\n",
       "    .dataframe tbody tr th {\n",
       "        vertical-align: top;\n",
       "    }\n",
       "\n",
       "    .dataframe thead th {\n",
       "        text-align: right;\n",
       "    }\n",
       "</style>\n",
       "<table border=\"1\" class=\"dataframe\">\n",
       "  <thead>\n",
       "    <tr style=\"text-align: right;\">\n",
       "      <th></th>\n",
       "      <th>churn</th>\n",
       "      <th>CustID</th>\n",
       "      <th>churn_prob</th>\n",
       "      <th>test_predicted</th>\n",
       "    </tr>\n",
       "  </thead>\n",
       "  <tbody>\n",
       "    <tr>\n",
       "      <th>0</th>\n",
       "      <td>0</td>\n",
       "      <td>5704</td>\n",
       "      <td>0.001833</td>\n",
       "      <td>0</td>\n",
       "    </tr>\n",
       "    <tr>\n",
       "      <th>1</th>\n",
       "      <td>0</td>\n",
       "      <td>64892</td>\n",
       "      <td>0.005579</td>\n",
       "      <td>0</td>\n",
       "    </tr>\n",
       "    <tr>\n",
       "      <th>2</th>\n",
       "      <td>0</td>\n",
       "      <td>39613</td>\n",
       "      <td>0.000389</td>\n",
       "      <td>0</td>\n",
       "    </tr>\n",
       "    <tr>\n",
       "      <th>3</th>\n",
       "      <td>0</td>\n",
       "      <td>93118</td>\n",
       "      <td>0.001055</td>\n",
       "      <td>0</td>\n",
       "    </tr>\n",
       "    <tr>\n",
       "      <th>4</th>\n",
       "      <td>0</td>\n",
       "      <td>81235</td>\n",
       "      <td>0.000500</td>\n",
       "      <td>0</td>\n",
       "    </tr>\n",
       "  </tbody>\n",
       "</table>\n",
       "</div>"
      ],
      "text/plain": [
       "   churn  CustID  churn_prob  test_predicted\n",
       "0      0    5704    0.001833               0\n",
       "1      0   64892    0.005579               0\n",
       "2      0   39613    0.000389               0\n",
       "3      0   93118    0.001055               0\n",
       "4      0   81235    0.000500               0"
      ]
     },
     "execution_count": 217,
     "metadata": {},
     "output_type": "execute_result"
    }
   ],
   "source": [
    "y_test_pred_final.head()"
   ]
  },
  {
   "cell_type": "markdown",
   "metadata": {},
   "source": [
    "##### Metrics"
   ]
  },
  {
   "cell_type": "code",
   "execution_count": 218,
   "metadata": {},
   "outputs": [
    {
     "name": "stdout",
     "output_type": "stream",
     "text": [
      "[[5345    3]\n",
      " [ 186    7]]\n"
     ]
    }
   ],
   "source": [
    "# Confusion matrix\n",
    "confusion = metrics.confusion_matrix(y_test_pred_final['churn'], y_test_pred_final['test_predicted'])\n",
    "print(confusion)"
   ]
  },
  {
   "cell_type": "code",
   "execution_count": 219,
   "metadata": {},
   "outputs": [],
   "source": [
    "TP = confusion[1,1] # true positive \n",
    "TN = confusion[0,0] # true negatives\n",
    "FP = confusion[0,1] # false positives\n",
    "FN = confusion[1,0] # false negatives"
   ]
  },
  {
   "cell_type": "code",
   "execution_count": 220,
   "metadata": {},
   "outputs": [
    {
     "name": "stdout",
     "output_type": "stream",
     "text": [
      "Accuracy:- 0.9658906334596643\n",
      "Sensitivity:- 0.03626943005181347\n",
      "Specificity:- 0.99943904263276\n"
     ]
    }
   ],
   "source": [
    "# Accuracy\n",
    "print(\"Accuracy:-\",metrics.accuracy_score(y_test_pred_final['churn'], y_test_pred_final['test_predicted']))\n",
    "\n",
    "# Sensitivity\n",
    "print(\"Sensitivity:-\",TP / float(TP+FN))\n",
    "\n",
    "# Specificity\n",
    "print(\"Specificity:-\", TN / float(TN+FP))\n"
   ]
  },
  {
   "cell_type": "markdown",
   "metadata": {},
   "source": [
    "***Model summary***\n",
    "\n",
    "- Train set\n",
    "    - Accuracy = 0.84\n",
    "    - Sensitivity = 0.81\n",
    "    - Specificity = 0.83\n",
    "- Test set\n",
    "    - Accuracy = 0.78\n",
    "    - Sensitivity = 0.82\n",
    "    - Specificity = 0.78\n",
    "    \n",
    "Overall, the model is performing well in the test set, what it had learnt from the train set."
   ]
  },
  {
   "cell_type": "markdown",
   "metadata": {},
   "source": [
    "#### Final conclusion with no PCA\n",
    "\n",
    "We can see that the logistic model with no PCA has good sensitivity and accuracy, which are comparable to the models with PCA. So, we can go for the more simplistic model such as logistic regression with PCA as it expliains the important predictor variables as well as the significance of each variable. The model also hels us to identify the variables which should be act upon for making the decision of the to be churned customers. Hence, the model is more relevant in terms of explaining to the business."
   ]
  },
  {
   "cell_type": "markdown",
   "metadata": {},
   "source": [
    "## Business recomendation"
   ]
  },
  {
   "cell_type": "markdown",
   "metadata": {},
   "source": [
    "#### Top predictors\n",
    "\n",
    "Below are few top variables selected in the logistic regression model.\n",
    "\n",
    "| Variables   | Coefficients |\n",
    "|---------------------|--------------|\n",
    "|loc_ic_mou_8|-3.3287|\n",
    "|og_others_7|-2.4711|\n",
    "|ic_others_8|-1.5131|\n",
    "|isd_og_mou_8|-1.3811|\n",
    "|decrease_vbc_action|-1.3293|\n",
    "|monthly_3g_8|-1.0943|\n",
    "|std_ic_t2f_mou_8|-0.9503|\n",
    "|monthly_2g_8|-0.9279|\n",
    "|loc_ic_t2f_mou_8|-0.7102|\n",
    "|roam_og_mou_8|0.7135|\n",
    "\n",
    "We can see most of the top variables have negative coefficients. That means, the variables are inversely correlated with the churn probablity.\n",
    "\n",
    "E.g.:- \n",
    "\n",
    "If the local incoming minutes of usage (loc_ic_mou_8) is lesser in the month of August than any other month, then there is a higher chance that the customer is likely to churn.\n",
    "\n",
    "***Recomendations***\n",
    "\n",
    "1. Target the customers, whose minutes of usage of the incoming local calls and outgoing ISD calls are less in the action phase (mostly in the month of August).\n",
    "2. Target the customers, whose outgoing others charge in July and incoming others on August are less.\n",
    "3. Also, the customers having value based cost in the action phase increased are more likely to churn than the other customers. Hence, these customers may be a good target to provide offer.\n",
    "4. Cutomers, whose monthly 3G recharge in August is more, are likely to be churned. \n",
    "5. Customers having decreasing STD incoming minutes of usage for operators T to fixed lines of T for the month of August are more likely to churn.\n",
    "6. Cutomers decreasing monthly 2g usage for August are most probable to churn.\n",
    "7. Customers having decreasing incoming minutes of usage for operators T to fixed lines of T for August are more likely to churn.\n",
    "8. roam_og_mou_8 variables have positive coefficients (0.7135). That means for the customers, whose roaming outgoing minutes of usage is increasing are more likely to churn.\n"
   ]
  },
  {
   "cell_type": "markdown",
   "metadata": {},
   "source": [
    "#### Plots of important predictors for churn and non churn customers"
   ]
  },
  {
   "cell_type": "code",
   "execution_count": 221,
   "metadata": {},
   "outputs": [
    {
     "data": {
      "image/png": "[encoded data removed]",
      "text/plain": [
       "<Figure size 720x432 with 1 Axes>"
      ]
     },
     "metadata": {},
     "output_type": "display_data"
    }
   ],
   "source": [
    "# Plotting loc_ic_mou_8 predictor for churn and not churn customers\n",
    "fig = plt.figure(figsize=(10,6))\n",
    "sns.distplot(data_churn['loc_ic_mou_8'],label='churn',hist=False)\n",
    "sns.distplot(data_non_churn['loc_ic_mou_8'],label='not churn',hist=False)\n",
    "plt.show()"
   ]
  },
  {
   "cell_type": "markdown",
   "metadata": {},
   "source": [
    "We can see that for the churn customers the minutes of usage for the month of August is mostly populated on the lower side than the non churn customers."
   ]
  },
  {
   "cell_type": "code",
   "execution_count": 222,
   "metadata": {},
   "outputs": [
    {
     "data": {
      "image/png": "[encoded data removed]",
      "text/plain": [
       "<Figure size 720x432 with 1 Axes>"
      ]
     },
     "metadata": {},
     "output_type": "display_data"
    }
   ],
   "source": [
    "# Plotting isd_og_mou_8 predictor for churn and not churn customers\n",
    "fig = plt.figure(figsize=(10,6))\n",
    "sns.distplot(data_churn['isd_og_mou_8'],label='churn',hist=False)\n",
    "sns.distplot(data_non_churn['isd_og_mou_8'],label='not churn',hist=False)\n",
    "plt.show()"
   ]
  },
  {
   "cell_type": "markdown",
   "metadata": {},
   "source": [
    "We can see that the ISD outgoing minutes of usage for the month of August for churn customers is densed approximately to zero. On the onther hand for the non churn customers it is little more than the churn customers."
   ]
  },
  {
   "cell_type": "code",
   "execution_count": 223,
   "metadata": {
    "scrolled": false
   },
   "outputs": [
    {
     "data": {
      "image/png": "[encoded data removed]",
      "text/plain": [
       "<Figure size 720x432 with 1 Axes>"
      ]
     },
     "metadata": {},
     "output_type": "display_data"
    }
   ],
   "source": [
    "# Plotting monthly_3g_8 predictor for churn and not churn customers\n",
    "fig = plt.figure(figsize=(10,6))\n",
    "sns.distplot(data_churn['monthly_3g_8'],label='churn',hist=False)\n",
    "sns.distplot(data_non_churn['monthly_3g_8'],label='not churn',hist=False)\n",
    "plt.show()"
   ]
  },
  {
   "cell_type": "markdown",
   "metadata": {},
   "source": [
    "The number of mothly 3g data for August for the churn customers are very much populated aroud 1, whereas of non churn customers it spreaded accross various numbers.\n",
    "\n",
    "Similarly we can plot each variables, which have higher coefficients, churn distribution."
   ]
  },
  {
   "cell_type": "code",
   "execution_count": null,
   "metadata": {},
   "outputs": [],
   "source": []
  }
 ],
 "metadata": {
  "hide_input": false,
  "kernelspec": {
   "display_name": "Python 3 (ipykernel)",
   "language": "python",
   "name": "python3"
  },
  "language_info": {
   "codemirror_mode": {
    "name": "ipython",
    "version": 3
   },
   "file_extension": ".py",
   "mimetype": "text/x-python",
   "name": "python",
   "nbconvert_exporter": "python",
   "pygments_lexer": "ipython3",
   "version": "3.9.12"
  }
 },
 "nbformat": 4,
 "nbformat_minor": 2
}
